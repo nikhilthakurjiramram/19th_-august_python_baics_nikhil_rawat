{
 "cells": [
  {
   "cell_type": "code",
   "execution_count": null,
   "id": "67631102-1591-4745-a6f2-90c22a265a0f",
   "metadata": {},
   "outputs": [],
   "source": [
    "                                   ****oops assignment1****"
   ]
  },
  {
   "cell_type": "code",
   "execution_count": 1,
   "id": "6998e9cc-dc00-4260-a0a1-924b609d12c2",
   "metadata": {},
   "outputs": [],
   "source": [
    "# Problem 1: Bank Account Create a class representing a bank account with attributes like account number, account holder name, and balance. Implement methods to deposit and withdraw money from the account."
   ]
  },
  {
   "cell_type": "code",
   "execution_count": 2,
   "id": "f77ceaef-86c3-4e69-b687-2b077bd611e4",
   "metadata": {},
   "outputs": [
    {
     "name": "stdout",
     "output_type": "stream",
     "text": [
      "Account Holder: John Mathew\n",
      "Account Number: 23411\n",
      "Current Balance: $1000\n",
      "Deposited $500. New balance: $1500\n",
      "Withdrew $200. New balance: $1300\n",
      "Insufficient funds. Withdrawal failed.\n"
     ]
    }
   ],
   "source": [
    "class BankAccount:\n",
    "    def __init__(self, account_number , account_holder , balance = 0):\n",
    "        self.account_number = account_number\n",
    "        self.account_holder = account_holder\n",
    "        self.balance = balance\n",
    "        \n",
    "    def deposit(self, amount):\n",
    "        if amount > 0:\n",
    "            self.balance += amount\n",
    "            print(f\"Deposited ${amount}. New balance: ${self.balance}\")\n",
    "        else :\n",
    "            print(\"Invalid deposit amount. Please deposit a positive amount.\")\n",
    "            \n",
    "    def withdraw(self, amount):\n",
    "        if 0 < amount <= self.balance :\n",
    "            self.balance -= amount\n",
    "            print(f\"Withdrew ${amount}. New balance: ${self.balance}\")\n",
    "            \n",
    "        elif amount > self.balance :\n",
    "            print(\"Insufficient funds. Withdrawal failed.\")\n",
    "        \n",
    "        else :\n",
    "            print(\"Invalid withdrawal amount. Please withdraw a positive amount.\")\n",
    "            \n",
    "    def get_balance(self):\n",
    "        return self.balance\n",
    "        \n",
    "    def display_info(self):\n",
    "        print(f\"Account Holder: {self.account_holder}\")\n",
    "        print(f\"Account Number: {self.account_number}\")\n",
    "        print(f\"Current Balance: ${self.balance}\")\n",
    "        \n",
    "\n",
    "account1 = BankAccount(\"23411\" , \"John Mathew\" , 1000)\n",
    "\n",
    "account1.display_info()\n",
    "account1.deposit(500)\n",
    "account1.withdraw(200)\n",
    "account1.withdraw(1500) "
   ]
  },
  {
   "cell_type": "code",
   "execution_count": 3,
   "id": "4f605898-d26d-4d3b-92dc-a069c1e7064a",
   "metadata": {},
   "outputs": [],
   "source": [
    "# Problem 2: Employee Management Create a class representing an employee with attributes like employee ID, name, and salary. Implement methods to calculate the yearly bonus and display employee details."
   ]
  },
  {
   "cell_type": "code",
   "execution_count": 4,
   "id": "4efe04e9-bf94-49e3-921c-582645d87051",
   "metadata": {},
   "outputs": [
    {
     "name": "stdout",
     "output_type": "stream",
     "text": [
      "Employee ID: P451\n",
      "Name: Komal\n",
      "Salary: $50000\n",
      "Yearly Bonus: $5000.0\n"
     ]
    }
   ],
   "source": [
    "class Employee:\n",
    "    def __init__(self , employee_id , name , salary):\n",
    "        self.employee_id = employee_id\n",
    "        self.name = name\n",
    "        self.salary = salary\n",
    "        \n",
    "    def calculate_yearly_bonus(self, bonus_percentage):\n",
    "        if 0 <= bonus_percentage <= 100:\n",
    "            bonus_amount = (bonus_percentage / 100) * self.salary\n",
    "            print(f\"Yearly Bonus: ${bonus_amount}\")\n",
    "            return bonus_amount\n",
    "        else:\n",
    "            print(\"Invalid bonus percentage. Please provide a percentage between 0 and 100.\")\n",
    "            return 0\n",
    "\n",
    "    def display_details(self):\n",
    "        print(f\"Employee ID: {self.employee_id}\")\n",
    "        print(f\"Name: {self.name}\")\n",
    "        print(f\"Salary: ${self.salary}\")\n",
    "\n",
    "employee1 = Employee(\"P451\", \"Komal\", 50000)\n",
    "\n",
    "employee1.display_details()\n",
    "bonus_amount = employee1.calculate_yearly_bonus(10)"
   ]
  },
  {
   "cell_type": "code",
   "execution_count": 5,
   "id": "16a9078e-5968-4051-a11f-1048f31a7994",
   "metadata": {},
   "outputs": [],
   "source": [
    "# Problem 3: Vehicle Rental Create a class representing a vehicle rental system. Implement methods to rent a vehicle, return a vehicle, and display available vehicles."
   ]
  },
  {
   "cell_type": "code",
   "execution_count": 6,
   "id": "27dec7a6-4038-4d7c-b79f-5a351ee41be3",
   "metadata": {},
   "outputs": [
    {
     "name": "stdout",
     "output_type": "stream",
     "text": [
      "Available Vehicles:\n",
      "  V001 - Sedan\n",
      "  V002 - SUV\n",
      "  V101 - Sport Bike\n",
      "Vehicle V001 - Sedan rented successfully.\n",
      "Vehicle V002 - SUV rented successfully.\n",
      "Available Vehicles:\n",
      "  V101 - Sport Bike\n",
      "Vehicle V001 - Sedan returned successfully.\n",
      "Available Vehicles:\n",
      "  V001 - Sedan\n",
      "  V101 - Sport Bike\n"
     ]
    }
   ],
   "source": [
    "class Vehicle:\n",
    "    def __init__(self, vehicle_id, model, is_available=True):\n",
    "        self.vehicle_id = vehicle_id\n",
    "        self.model = model\n",
    "        self.is_available = is_available\n",
    "\n",
    "    def rent(self):\n",
    "        if self.is_available:\n",
    "            self.is_available = False\n",
    "            print(f\"Vehicle {self.vehicle_id} - {self.model} rented successfully.\")\n",
    "        else:\n",
    "            print(f\"Vehicle {self.vehicle_id} - {self.model} is not available for rent.\")\n",
    "\n",
    "    def return_vehicle(self):\n",
    "        if not self.is_available:\n",
    "            self.is_available = True\n",
    "            print(f\"Vehicle {self.vehicle_id} - {self.model} returned successfully.\")\n",
    "        else:\n",
    "            print(f\"This vehicle is already available. Cannot return again.\")\n",
    "\n",
    "    def display_info(self):\n",
    "        availability_status = \"Available\" if self.is_available else \"Not Available\"\n",
    "        print(f\"Vehicle ID: {self.vehicle_id}\")\n",
    "        print(f\"Model: {self.model}\")\n",
    "        print(f\"Availability: {availability_status}\")\n",
    "        \n",
    "class VehicleRentalSystem:\n",
    "    def __init__(self):\n",
    "        self.vehicles = {}\n",
    "\n",
    "    def add_vehicle(self, vehicle):\n",
    "        self.vehicles[vehicle.vehicle_id] = vehicle\n",
    "\n",
    "    def rent_vehicle(self, vehicle_id):\n",
    "        if vehicle_id in self.vehicles:\n",
    "            self.vehicles[vehicle_id].rent()\n",
    "        else:\n",
    "            print(\"Vehicle not found.\")\n",
    "\n",
    "    def return_vehicle(self, vehicle_id):\n",
    "        if vehicle_id in self.vehicles:\n",
    "            self.vehicles[vehicle_id].return_vehicle()\n",
    "        else:\n",
    "            print(\"Vehicle not found.\")\n",
    "\n",
    "    def display_available_vehicles(self):\n",
    "        print(\"Available Vehicles:\")\n",
    "        for vehicle_id, vehicle in self.vehicles.items():\n",
    "            if vehicle.is_available:\n",
    "                print(f\"  {vehicle_id} - {vehicle.model}\")\n",
    "        \n",
    "\n",
    "system = VehicleRentalSystem()\n",
    "\n",
    "car1 = Vehicle(\"V001\", \"Sedan\")\n",
    "car2 = Vehicle(\"V002\", \"SUV\")\n",
    "bike1 = Vehicle(\"V101\", \"Sport Bike\")\n",
    "\n",
    "system.add_vehicle(car1)\n",
    "system.add_vehicle(car2)\n",
    "system.add_vehicle(bike1)\n",
    "\n",
    "system.display_available_vehicles()\n",
    "\n",
    "system.rent_vehicle(\"V001\")\n",
    "system.rent_vehicle(\"V002\")\n",
    "system.display_available_vehicles()\n",
    "\n",
    "system.return_vehicle(\"V001\")\n",
    "system.display_available_vehicles()"
   ]
  },
  {
   "cell_type": "code",
   "execution_count": 7,
   "id": "0e1c40ad-9a5a-412c-a465-b8fb2a9d4052",
   "metadata": {},
   "outputs": [],
   "source": [
    "# Problem 4: Library Catalog Create classes representing a library and a book. Implement methods to add books to the library, borrow books, and display available books."
   ]
  },
  {
   "cell_type": "code",
   "execution_count": 8,
   "id": "1e2385ea-3ff3-4698-9ccb-040a4bf79b3e",
   "metadata": {},
   "outputs": [
    {
     "name": "stdout",
     "output_type": "stream",
     "text": [
      "Available Books:\n",
      "  B001 - 'The Catcher in the Rye' by J.D. Salinger\n",
      "  B002 - 'To Kill a Mockingbird' by Harper Lee\n",
      "  B003 - '1984' by George Orwell\n",
      "Book 'The Catcher in the Rye' by J.D. Salinger has been borrowed.\n",
      "Book 'To Kill a Mockingbird' by Harper Lee has been borrowed.\n",
      "Available Books:\n",
      "  B003 - '1984' by George Orwell\n",
      "Book 'The Catcher in the Rye' by J.D. Salinger has been returned.\n",
      "Available Books:\n",
      "  B001 - 'The Catcher in the Rye' by J.D. Salinger\n",
      "  B003 - '1984' by George Orwell\n"
     ]
    }
   ],
   "source": [
    "class Book:\n",
    "    def __init__(self, book_id, title, author, is_available=True):\n",
    "        self.book_id = book_id\n",
    "        self.title = title\n",
    "        self.author = author\n",
    "        self.is_available = is_available\n",
    "\n",
    "    def borrow(self):\n",
    "        if self.is_available:\n",
    "            self.is_available = False\n",
    "            print(f\"Book '{self.title}' by {self.author} has been borrowed.\")\n",
    "        else:\n",
    "            print(f\"Book '{self.title}' by {self.author} is not available for borrowing.\")\n",
    "\n",
    "            \n",
    "    def return_book(self):\n",
    "        if not self.is_available:\n",
    "            self.is_available = True\n",
    "            print(f\"Book '{self.title}' by {self.author} has been returned.\")\n",
    "        else:\n",
    "            print(f\"This book is already available. Cannot be returned again.\")\n",
    "\n",
    "    def display_info(self):\n",
    "        availability_status = \"Available\" if self.is_available else \"Not Available\"\n",
    "        print(f\"Book ID: {self.book_id}\")\n",
    "        print(f\"Title: {self.title}\")\n",
    "        print(f\"Author: {self.author}\")\n",
    "        print(f\"Availability: {availability_status}\")\n",
    "\n",
    "        \n",
    "class Library:\n",
    "    def __init__(self):\n",
    "        self.books = {}\n",
    "\n",
    "    def add_book(self, book):\n",
    "        self.books[book.book_id] = book\n",
    "\n",
    "    def borrow_book(self, book_id):\n",
    "        if book_id in self.books:\n",
    "            self.books[book_id].borrow()\n",
    "        else:\n",
    "            print(\"Book not found.\")\n",
    "\n",
    "    def return_book(self, book_id):\n",
    "        if book_id in self.books:\n",
    "            self.books[book_id].return_book()\n",
    "        else:\n",
    "            print(\"Book not found.\")\n",
    "\n",
    "    def display_available_books(self):\n",
    "        print(\"Available Books:\")\n",
    "        for book_id, book in self.books.items():\n",
    "            if book.is_available:\n",
    "                print(f\"  {book_id} - '{book.title}' by {book.author}\")\n",
    "                \n",
    "library = Library()\n",
    "\n",
    "book1 = Book(\"B001\", \"The Catcher in the Rye\", \"J.D. Salinger\")\n",
    "book2 = Book(\"B002\", \"To Kill a Mockingbird\", \"Harper Lee\")\n",
    "book3 = Book(\"B003\", \"1984\", \"George Orwell\")\n",
    "\n",
    "library.add_book(book1)\n",
    "library.add_book(book2)\n",
    "library.add_book(book3)\n",
    "\n",
    "library.display_available_books()\n",
    "\n",
    "library.borrow_book(\"B001\")\n",
    "library.borrow_book(\"B002\")\n",
    "library.display_available_books()\n",
    "\n",
    "library.return_book(\"B001\")\n",
    "library.display_available_books() "
   ]
  },
  {
   "cell_type": "code",
   "execution_count": 9,
   "id": "ad8da4dd-7f56-463d-9ffc-6ea8e8875cfb",
   "metadata": {},
   "outputs": [],
   "source": [
    "# Problem 5: Product Inventory Create classes representing a product and an inventory system. Implement methods to add products to the inventory, update product quantity, and display available products."
   ]
  },
  {
   "cell_type": "code",
   "execution_count": 10,
   "id": "457716cf-2ba8-41d3-bac2-c505a2395f64",
   "metadata": {},
   "outputs": [
    {
     "name": "stdout",
     "output_type": "stream",
     "text": [
      "Available Products:\n",
      "  P001 - Laptop ($800): 10 available\n",
      "  P002 - Smartphone ($500): 15 available\n",
      "  P003 - Headphones ($50): 30 available\n",
      "Quantity for Laptop updated to 5.\n",
      "Quantity for Smartphone updated to 20.\n",
      "Available Products:\n",
      "  P001 - Laptop ($800): 5 available\n",
      "  P002 - Smartphone ($500): 20 available\n",
      "  P003 - Headphones ($50): 30 available\n"
     ]
    }
   ],
   "source": [
    "class Product:\n",
    "    def __init__(self, product_id, name, price, quantity):\n",
    "        self.product_id = product_id\n",
    "        self.name = name\n",
    "        self.price = price\n",
    "        self.quantity = quantity\n",
    "\n",
    "    def update_quantity(self, new_quantity):\n",
    "        if new_quantity >= 0:\n",
    "            self.quantity = new_quantity\n",
    "            print(f\"Quantity for {self.name} updated to {new_quantity}.\")\n",
    "        else:\n",
    "            print(\"Invalid quantity. Please provide a non-negative value.\")\n",
    "\n",
    "    def display_info(self):\n",
    "        print(f\"Product ID: {self.product_id}\")\n",
    "        print(f\"Name: {self.name}\")\n",
    "        print(f\"Price: ${self.price}\")\n",
    "        print(f\"Quantity: {self.quantity}\")\n",
    "\n",
    "class Inventory:\n",
    "    def __init__(self):\n",
    "        self.products = {}\n",
    "\n",
    "    def add_product(self, product):\n",
    "        self.products[product.product_id] = product\n",
    "\n",
    "    def update_product_quantity(self, product_id, new_quantity):\n",
    "        if product_id in self.products:\n",
    "            self.products[product_id].update_quantity(new_quantity)\n",
    "        else:\n",
    "            print(\"Product not found.\")\n",
    "\n",
    "    def display_available_products(self):\n",
    "        print(\"Available Products:\")\n",
    "        for product_id, product in self.products.items():\n",
    "            print(f\"  {product_id} - {product.name} (${product.price}): {product.quantity} available\")\n",
    "inventory_system = Inventory()\n",
    "\n",
    "product1 = Product(\"P001\", \"Laptop\", 800, 10)\n",
    "product2 = Product(\"P002\", \"Smartphone\", 500, 15)\n",
    "product3 = Product(\"P003\", \"Headphones\", 50, 30)\n",
    "\n",
    "inventory_system.add_product(product1)\n",
    "inventory_system.add_product(product2)\n",
    "inventory_system.add_product(product3)\n",
    "\n",
    "inventory_system.display_available_products()\n",
    "\n",
    "inventory_system.update_product_quantity(\"P001\", 5)\n",
    "inventory_system.update_product_quantity(\"P002\", 20)\n",
    "\n",
    "inventory_system.display_available_products()"
   ]
  },
  {
   "cell_type": "code",
   "execution_count": 11,
   "id": "0df2c8fb-a569-4ee3-afba-f793d9ce6518",
   "metadata": {},
   "outputs": [],
   "source": [
    "# Problem 6: Shape Calculation Create a class representing a shape with attributes like length, width, and height. Implement methods to calculate the area and perimeter of the shape."
   ]
  },
  {
   "cell_type": "code",
   "execution_count": 12,
   "id": "ccb0bfa4-34c7-476c-8de0-08b77451c7aa",
   "metadata": {},
   "outputs": [
    {
     "name": "stdout",
     "output_type": "stream",
     "text": [
      "Rectangle area : 120\n",
      "Rectangle perimeter : 44\n"
     ]
    }
   ],
   "source": [
    "class shape:\n",
    "    def __init__(self , length = 0 , width = 0 , height = 0):\n",
    "        self.length = length\n",
    "        self.width = width\n",
    "        self.height = height\n",
    "        \n",
    "    def calculate_area(self):\n",
    "        raise NotImplementedError(\" Subclasses must implement the calculate_area method \")\n",
    "        \n",
    "    def calculate_perimeter(self):\n",
    "        raise NotImplementedError(\" Subclasses must implement the calculate_perimeter method \")\n",
    "        \n",
    "class Rectangle(shape):\n",
    "    def calculate_area(self):\n",
    "        return self.length *self.width\n",
    "    \n",
    "    def calculate_perimeter(self):\n",
    "        return 2 * (self.length + self.width)\n",
    "        \n",
    "rectangle = Rectangle( length = 10, width = 12)\n",
    "\n",
    "area = rectangle.calculate_area()\n",
    "perimeter = rectangle.calculate_perimeter()\n",
    "\n",
    "print(f\"Rectangle area : {area}\")\n",
    "print(f\"Rectangle perimeter : {perimeter}\")"
   ]
  },
  {
   "cell_type": "code",
   "execution_count": 14,
   "id": "222e8cb0-26f0-4d53-960e-d1c246f91de4",
   "metadata": {},
   "outputs": [],
   "source": [
    "# Problem 7: Student Management Create a class representing a student with attributes like student ID, name, and grades. Implement methods to calculate the average grade and display student details."
   ]
  },
  {
   "cell_type": "code",
   "execution_count": 15,
   "id": "ee36acc3-479a-442c-b38d-586a04fe63b5",
   "metadata": {},
   "outputs": [
    {
     "name": "stdout",
     "output_type": "stream",
     "text": [
      "Student_ID : S123\n",
      "Name : Rishi Dua\n",
      "Grades : 45, 78, 89, 56\n",
      "Average grade :  67.00\n",
      "Grade 90 added for Rishi Dua.\n",
      "Grade 85 added for Rishi Dua.\n",
      "Student_ID : S123\n",
      "Name : Rishi Dua\n",
      "Grades : 45, 78, 89, 56, 90, 85\n",
      "Average grade :  73.83\n"
     ]
    }
   ],
   "source": [
    "class Student:\n",
    "    def __init__(self , student_id , name , grades = []):\n",
    "        self.student_id = student_id\n",
    "        self.name = name \n",
    "        self.grades = grades \n",
    "        \n",
    "    def add_grade(self , grade):\n",
    "        self.grades.append(grade)\n",
    "        print(f\"Grade {grade} added for {self.name}.\")\n",
    "        \n",
    "    def calculate_average_grade(self):\n",
    "        if not self.grades :\n",
    "            print(\"No grade available\")\n",
    "            return 0\n",
    "        average_grade = sum(self.grades) / len(self.grades)\n",
    "        return average_grade\n",
    "    \n",
    "    def display_details(self):\n",
    "        print(f\"Student_ID : {self.student_id}\")\n",
    "        print(f\"Name : {self.name}\")\n",
    "        print(f\"Grades : {', '.join(map(str,self.grades))}\")\n",
    "        average_grade = self.calculate_average_grade()\n",
    "        print(f\"Average grade : {average_grade : .2f}\")\n",
    "        \n",
    "student1 = Student( student_id = \"S123\" , name = \"Rishi Dua\" , grades= [45, 78, 89, 56])\n",
    "student1.display_details()\n",
    "student1.add_grade(90)\n",
    "student1.add_grade(85)\n",
    "\n",
    "student1.display_details()"
   ]
  },
  {
   "cell_type": "code",
   "execution_count": null,
   "id": "222dcb99-89b9-413c-8762-3839f9a9d2ed",
   "metadata": {},
   "outputs": [],
   "source": [
    "Problem 8: Email Management Create a class representing an email with attributes like sender, recipient, and subject. Implement methods to send an email and display email details."
   ]
  }
 ],
 "metadata": {
  "kernelspec": {
   "display_name": "Python 3 (ipykernel)",
   "language": "python",
   "name": "python3"
  },
  "language_info": {
   "codemirror_mode": {
    "name": "ipython",
    "version": 3
   },
   "file_extension": ".py",
   "mimetype": "text/x-python",
   "name": "python",
   "nbconvert_exporter": "python",
   "pygments_lexer": "ipython3",
   "version": "3.10.8"
  }
 },
 "nbformat": 4,
 "nbformat_minor": 5
}
