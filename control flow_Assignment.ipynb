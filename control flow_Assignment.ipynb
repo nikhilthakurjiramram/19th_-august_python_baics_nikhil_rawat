{
 "cells": [
  {
   "cell_type": "raw",
   "id": "2fdb4958-4020-4f4c-8007-49ebdbb69e5e",
   "metadata": {},
   "source": [
    "                                ****Control Flow****"
   ]
  },
  {
   "cell_type": "code",
   "execution_count": null,
   "id": "685709f6-6917-47c7-8369-b227bbba558c",
   "metadata": {},
   "outputs": [],
   "source": [
    "Basic If-Else Statements:"
   ]
  },
  {
   "cell_type": "code",
   "execution_count": 2,
   "id": "630ca253-58c3-40be-a3d0-1351701ff0d8",
   "metadata": {},
   "outputs": [],
   "source": [
    "# 1.Write a Python prgram to check if a given number is positive or negative ."
   ]
  },
  {
   "cell_type": "code",
   "execution_count": 3,
   "id": "bb26f11e-76e7-4179-bda4-f5239b6637ea",
   "metadata": {},
   "outputs": [
    {
     "name": "stdout",
     "output_type": "stream",
     "text": [
      "Given number a = 10  is positive\n",
      "Given number b = -7  is negative\n"
     ]
    }
   ],
   "source": [
    "a = 10\n",
    "b = -7\n",
    "if a>0:\n",
    "    print(f\"Given number a = {a}\",\" is positive\")\n",
    "else :\n",
    "    print(f\"Given number a = {a}\",\"is negative\")\n",
    "    \n",
    "if b<0:\n",
    "    print(f\"Given number b = {b}\",\" is negative\")\n",
    "else :\n",
    "    print(f\"Given number b = {b}\",\"is positive\")"
   ]
  },
  {
   "cell_type": "code",
   "execution_count": 4,
   "id": "ff242085-80cb-4bf9-9039-b915fc956092",
   "metadata": {},
   "outputs": [],
   "source": [
    "# 2. Create a program that determines if a person is eligible to vote based on their age."
   ]
  },
  {
   "cell_type": "code",
   "execution_count": 5,
   "id": "898ea653-0d32-4a29-87bd-cdc8d030625d",
   "metadata": {},
   "outputs": [
    {
     "name": "stdin",
     "output_type": "stream",
     "text": [
      "Enter the person's age : 18\n"
     ]
    },
    {
     "name": "stdout",
     "output_type": "stream",
     "text": [
      "The person is eligible to vote based on their 18years\n"
     ]
    }
   ],
   "source": [
    "person_age = int(input(\"Enter the person's age :\"))\n",
    "if person_age>=18 :\n",
    "    print(f\"The person is eligible to vote based on their {person_age}years\")\n",
    "else :\n",
    "    print(f\"The person is not eligible to vote based on their {person_age}years\")"
   ]
  },
  {
   "cell_type": "code",
   "execution_count": 6,
   "id": "e9e9bf82-9af9-47e7-9a4f-7b78135d98a0",
   "metadata": {},
   "outputs": [],
   "source": [
    "# 3.Develop a program to find the maximum of two numbers using if-else statements."
   ]
  },
  {
   "cell_type": "code",
   "execution_count": 7,
   "id": "a30539c0-ea51-4daf-a82b-634f09a4f0dc",
   "metadata": {},
   "outputs": [
    {
     "name": "stdout",
     "output_type": "stream",
     "text": [
      "The maximum of two numbers a = 20 and b = 30.  where, b is maximum\n"
     ]
    }
   ],
   "source": [
    "a = 20\n",
    "b = 30\n",
    "if a>b :\n",
    "    print(f\"The maximum of two numbers a = {a} and b = {b}. \" ,\"where, a is maximum\")\n",
    "else :\n",
    "    print(f\"The maximum of two numbers a = {a} and b = {b}. \" ,\"where, b is maximum\")"
   ]
  },
  {
   "cell_type": "code",
   "execution_count": 8,
   "id": "3428f461-b45b-498c-9910-13fd6770a2b8",
   "metadata": {},
   "outputs": [],
   "source": [
    "# 4.Write a Python script to classify a given year as a leap year or not."
   ]
  },
  {
   "cell_type": "code",
   "execution_count": 9,
   "id": "b28dcbf6-3a60-4255-88a7-217cc4b02d0c",
   "metadata": {},
   "outputs": [
    {
     "name": "stdin",
     "output_type": "stream",
     "text": [
      "Enter year you want to check 2022\n"
     ]
    },
    {
     "name": "stdout",
     "output_type": "stream",
     "text": [
      "2022 is not a leap year\n"
     ]
    }
   ],
   "source": [
    "year = int(input('Enter year you want to check'))\n",
    "if year%100 == 0:\n",
    "    if year %400 ==0:\n",
    "        print(f'{year} is a leap year')\n",
    "    else :\n",
    "        print(f'{year} is not a leap year ')\n",
    "else:\n",
    "    if year%4 == 0:\n",
    "        print(f'{year} is a leap year')\n",
    "    else :\n",
    "        print(f'{year} is not a leap year')"
   ]
  },
  {
   "cell_type": "code",
   "execution_count": 10,
   "id": "c19d492b-d2fc-4add-8261-4559cccf3e9e",
   "metadata": {},
   "outputs": [],
   "source": [
    "#5.Create a program that checks whether a character is a vowel or a consonant."
   ]
  },
  {
   "cell_type": "code",
   "execution_count": 11,
   "id": "6f105b31-8b1d-429f-9993-70e70835cb90",
   "metadata": {},
   "outputs": [
    {
     "name": "stdin",
     "output_type": "stream",
     "text": [
      "Enter a character : b\n"
     ]
    },
    {
     "name": "stdout",
     "output_type": "stream",
     "text": [
      "Yes, the charcter b is a consonant\n"
     ]
    }
   ],
   "source": [
    "str_char = input(\"Enter a character :\")\n",
    "char = str_char.lower()\n",
    "if char == 'a' or char == 'e' or char == 'i' or char == 'o' or char == 'u':\n",
    "    print(f\"Yes, the character {str_char} is vowel\")\n",
    "else :\n",
    "    print(f\"Yes, the charcter {str_char} is a consonant\")"
   ]
  },
  {
   "cell_type": "code",
   "execution_count": 12,
   "id": "548cab21-479f-47ff-bcae-8cab38ed78b7",
   "metadata": {},
   "outputs": [],
   "source": [
    "# 6.Implement a program to determine whether a given number is even or odd."
   ]
  },
  {
   "cell_type": "code",
   "execution_count": 13,
   "id": "3678ab09-405c-41bd-9c7b-2255c7a34a89",
   "metadata": {},
   "outputs": [
    {
     "name": "stdin",
     "output_type": "stream",
     "text": [
      "Enter a number : 24\n"
     ]
    },
    {
     "name": "stdout",
     "output_type": "stream",
     "text": [
      "The number 24 is even \n"
     ]
    }
   ],
   "source": [
    "number = int(input(\"Enter a number :\"))\n",
    "if number%2 == 0:\n",
    "    print(f\"The number {number} is even \")\n",
    "else :\n",
    "    print(f\"The number {number} is odd \")"
   ]
  },
  {
   "cell_type": "code",
   "execution_count": 14,
   "id": "696e62cc-0042-4ad7-a767-1a2ecd5c1e6a",
   "metadata": {},
   "outputs": [],
   "source": [
    "# 7.Write a Python function to calculate the absolute value of a number without using the 'abs()' function."
   ]
  },
  {
   "cell_type": "code",
   "execution_count": 15,
   "id": "06755e5e-2fb5-4d82-8701-b5972cd6e38e",
   "metadata": {},
   "outputs": [
    {
     "name": "stdout",
     "output_type": "stream",
     "text": [
      "The absolute value of a number n = -23  is  23\n",
      "The absolue value of a number p = 34  is  -34\n"
     ]
    }
   ],
   "source": [
    "n = -23\n",
    "p = 34\n",
    "if n<0:\n",
    "    abs_n = -(n)\n",
    "    print(f\"The absolute value of a number n = {n}  is \",abs_n)\n",
    "if p>0:\n",
    "    abs_p = -(p)\n",
    "    print(f\"The absolue value of a number p = {p}  is \",abs_p)"
   ]
  },
  {
   "cell_type": "code",
   "execution_count": 16,
   "id": "358e1643-2d04-45a6-8bd5-cc38b7ef96b1",
   "metadata": {},
   "outputs": [],
   "source": [
    "#8.Develop a program that determines the largest of three given numbers using if-else statements.\n"
   ]
  },
  {
   "cell_type": "code",
   "execution_count": 17,
   "id": "6ebee911-2d8e-4a4f-b84a-231b5101b225",
   "metadata": {},
   "outputs": [
    {
     "name": "stdout",
     "output_type": "stream",
     "text": [
      "The largest of three given numbers , first = 10  second = 30 and third = 20 is  second =  {30}\n"
     ]
    }
   ],
   "source": [
    "first = 10\n",
    "second = 30\n",
    "third = 20\n",
    "if first > second or first > third :\n",
    "    print(f\"The largest of three given numbers ,first ={first} second = {second} and third = {third} is \",\"first = \",{first})\n",
    "elif  second>first and second> third :\n",
    "    print(f\"The largest of three given numbers , first = {first}  second = {second} and third = {third} is \",\"second = \",{second})\n",
    "else :\n",
    "    print(f\"The largest of three given numbers ,first ={first} second = {second} and third = {third} is \",\"third = \",{third})"
   ]
  },
  {
   "cell_type": "code",
   "execution_count": 18,
   "id": "326efbad-7428-463b-ac30-f5586ddd80c6",
   "metadata": {},
   "outputs": [],
   "source": [
    "# 9.Create a program that checks if a given string is a palindrome."
   ]
  },
  {
   "cell_type": "code",
   "execution_count": 19,
   "id": "3b94e459-ef6b-4210-b471-f596c5dc5e36",
   "metadata": {},
   "outputs": [
    {
     "name": "stdin",
     "output_type": "stream",
     "text": [
      "Enter a given string : sos\n"
     ]
    },
    {
     "name": "stdout",
     "output_type": "stream",
     "text": [
      "Yes, given string is a palindrome\n"
     ]
    }
   ],
   "source": [
    "given_string = input(\"Enter a given string :\")\n",
    "cleaned_string = given_string.islower()\n",
    "reversed_str = given_string[::-1]\n",
    "if given_string == reversed_str :\n",
    "    print(\"Yes, given string is a palindrome\")\n",
    "else :\n",
    "    print(\"No, given string is not a palindrome\")"
   ]
  },
  {
   "cell_type": "code",
   "execution_count": 20,
   "id": "4c7cc766-fbd3-427d-8be3-609633bcd200",
   "metadata": {},
   "outputs": [],
   "source": [
    "# 10.Write a Python program to calculate the grade based on a \"student's score\"."
   ]
  },
  {
   "cell_type": "code",
   "execution_count": 21,
   "id": "d1c93519-f636-4ced-bc32-88c2bf1f20da",
   "metadata": {},
   "outputs": [
    {
     "name": "stdin",
     "output_type": "stream",
     "text": [
      "Enter the student's score : 85\n"
     ]
    },
    {
     "name": "stdout",
     "output_type": "stream",
     "text": [
      "The grade 'A' based on a student's score = 85\n"
     ]
    }
   ],
   "source": [
    "student_score = int(input(\"Enter the student's score :\"))\n",
    "if student_score >=85 :\n",
    "    print(f\"The grade 'A' based on a student's score = {student_score}\")\n",
    "elif student_score >=60 and student_score <85 :\n",
    "    print(f\"The grade 'B' based on a student's score = {student_score}\")\n",
    "elif student_score >=50 and student_score <60:\n",
    "    print(f\"The grade 'C' based on a student's score = {student_score}\")\n",
    "elif student_score >=40 and student_score <50 :\n",
    "    print(f\"The grade 'D' based on a student's score = {student_score}\")\n",
    "else :\n",
    "    print(f\"The grade 'E' based on a student's score = {student_score}\")"
   ]
  },
  {
   "cell_type": "code",
   "execution_count": null,
   "id": "bb42ba6f-5239-4e9f-8051-f9a0d2626f15",
   "metadata": {},
   "outputs": [],
   "source": [
    "Nested If-Else Statements:"
   ]
  },
  {
   "cell_type": "code",
   "execution_count": 22,
   "id": "eb4b62e0-b09d-4b97-878d-58425498bdde",
   "metadata": {},
   "outputs": [],
   "source": [
    "# 11.Write a program to find the largest among three numbers using nested if-else statements."
   ]
  },
  {
   "cell_type": "code",
   "execution_count": 23,
   "id": "5102178b-8f28-46ea-aac0-a825301ab6e6",
   "metadata": {},
   "outputs": [
    {
     "name": "stdout",
     "output_type": "stream",
     "text": [
      "The largest among three numbers first = 20 , second = 999 and third = 1000  where third =  {1000} is maximum\n"
     ]
    }
   ],
   "source": [
    "first = 20\n",
    "second = 999\n",
    "third = 1000\n",
    "if first>second :\n",
    "    if first>third:\n",
    "        print(f\"The largest among three numbers first = {first} , second = {second} and third = {third} \", \"where first = \",{first } ,\"is maximum\")\n",
    "elif second> third:\n",
    "    if second>first :\n",
    "        print(f\"The largest among three numbers first = {first} , second = {second} and third = {third} \", \"where second = \",{second } ,\"is maximum\")\n",
    "else :\n",
    "    print(f\"The largest among three numbers first = {first} , second = {second} and third = {third} \", \"where third = \",{third} ,\"is maximum\")\n",
    "    "
   ]
  },
  {
   "cell_type": "code",
   "execution_count": 24,
   "id": "fd7cfacb-36cb-45f8-a8e0-b5da329d2da0",
   "metadata": {},
   "outputs": [],
   "source": [
    "# 12.Implement a program to determine if a triangle is equilateral,isosceles, or scalene."
   ]
  },
  {
   "cell_type": "code",
   "execution_count": 25,
   "id": "80261633-0467-4090-8919-d6870bea23fb",
   "metadata": {},
   "outputs": [
    {
     "name": "stdout",
     "output_type": "stream",
     "text": [
      "A triangle is scalene\n"
     ]
    }
   ],
   "source": [
    "x = 8\n",
    "y = 7 \n",
    "z = 9\n",
    "if x == y :\n",
    "    if y == z :\n",
    "        print(\"A triange is equailateral\")\n",
    "elif x ==y or y == z or z == x :\n",
    "    print(\"A triangle is isosceles\")\n",
    "else :\n",
    "    print(\"A triangle is scalene\")"
   ]
  },
  {
   "cell_type": "code",
   "execution_count": 26,
   "id": "5100bdc8-18ff-41ed-a0da-69039fbf304b",
   "metadata": {},
   "outputs": [],
   "source": [
    "# 13.Develop a program that checks if a year is a leap year and also if it is a centuary year."
   ]
  },
  {
   "cell_type": "code",
   "execution_count": 27,
   "id": "30e9500c-3b03-4cb3-a390-2387a9e462ed",
   "metadata": {},
   "outputs": [
    {
     "name": "stdin",
     "output_type": "stream",
     "text": [
      "Enter year you want to check 2000\n"
     ]
    },
    {
     "name": "stdout",
     "output_type": "stream",
     "text": [
      "2000 is a century year\n",
      "2000 is a leap year\n"
     ]
    }
   ],
   "source": [
    "year = int (input('Enter year you want to check'))\n",
    "if year%100 == 0:\n",
    "    print(f'{year} is a century year')\n",
    "    if year%400 == 0:\n",
    "        print(f'{year} is a leap year')\n",
    "    else:\n",
    "        print(f'{year} is not a leap year')\n",
    "else:\n",
    "    print(f'{year} is not a century year')\n",
    "    if year%4 == 0:\n",
    "        print(f'{year} is a leap year')\n",
    "    else:\n",
    "        print(f'{year} is not a leap year')"
   ]
  },
  {
   "cell_type": "code",
   "execution_count": 28,
   "id": "26e1d1fb-6deb-4433-85f4-c751ad297b86",
   "metadata": {},
   "outputs": [],
   "source": [
    "# 14.Write a Python script to determine if a number is positive, negative, or zero."
   ]
  },
  {
   "cell_type": "code",
   "execution_count": 29,
   "id": "4f9cbb35-8cd0-4f21-a72a-dbbbcb81bf50",
   "metadata": {},
   "outputs": [
    {
     "name": "stdin",
     "output_type": "stream",
     "text": [
      "Enter the number  45\n"
     ]
    },
    {
     "name": "stdout",
     "output_type": "stream",
     "text": [
      "Number is positive\n"
     ]
    }
   ],
   "source": [
    "number = int(input('Enter the number '))\n",
    "if number>0:\n",
    "    print('Number is positive')\n",
    "elif number == 0:\n",
    "    print('Number is zero')\n",
    "else:\n",
    "    print('Number is negative')"
   ]
  },
  {
   "cell_type": "code",
   "execution_count": 31,
   "id": "9b79afde-91bf-48d9-a9c9-9ad96ac3067d",
   "metadata": {},
   "outputs": [],
   "source": [
    "# 15.Create a program to check if a person is a teenagar(between 13 and 19 years old)."
   ]
  },
  {
   "cell_type": "code",
   "execution_count": 32,
   "id": "8d921734-a14a-484e-adb7-d52f3998a024",
   "metadata": {},
   "outputs": [
    {
     "name": "stdin",
     "output_type": "stream",
     "text": [
      "Enter the age of a person 32\n"
     ]
    },
    {
     "name": "stdout",
     "output_type": "stream",
     "text": [
      "person is not a teenager\n"
     ]
    }
   ],
   "source": [
    "age = int(input(\"Enter the age of a person\"))\n",
    "\n",
    "if age >13 and age<19:\n",
    "    print('person is Teenager')\n",
    "else :\n",
    "    print(\"person is not a teenager\")"
   ]
  },
  {
   "cell_type": "code",
   "execution_count": 33,
   "id": "ddbe16e1-6dcd-4910-a6e1-fb97f70410d4",
   "metadata": {},
   "outputs": [],
   "source": [
    "# 16.Develop a program that determines the types of angle based on its measure (acute,obtuse, or right)."
   ]
  },
  {
   "cell_type": "code",
   "execution_count": 35,
   "id": "c9c01d8f-7339-475b-8e2d-614c8cb84f46",
   "metadata": {},
   "outputs": [
    {
     "name": "stdin",
     "output_type": "stream",
     "text": [
      "Enter the angle in degrees ( between 0 and 180) : 90\n"
     ]
    },
    {
     "name": "stdout",
     "output_type": "stream",
     "text": [
      "It is a right angle\n"
     ]
    }
   ],
   "source": [
    "angle = int(input('Enter the angle in degrees ( between 0 and 180) :'))\n",
    "\n",
    "if angle <90 :\n",
    "    print('It is an acute angle')\n",
    "elif angle>90 :\n",
    "    print('It is an obtuse angle')\n",
    "else :\n",
    "    print('It is a right angle')"
   ]
  },
  {
   "cell_type": "code",
   "execution_count": 37,
   "id": "121951f2-d1d9-4b3a-9069-cedef1271be6",
   "metadata": {},
   "outputs": [],
   "source": [
    "# 17.Write a Python program to calculate the roots of a quadratic equation."
   ]
  },
  {
   "cell_type": "code",
   "execution_count": 39,
   "id": "392e9bbc-760c-4bff-adb6-6381700744d0",
   "metadata": {},
   "outputs": [
    {
     "name": "stdin",
     "output_type": "stream",
     "text": [
      "Enter first coeff 2\n",
      "Enter second coeff 3\n",
      "Enter third coeff 5\n"
     ]
    },
    {
     "name": "stdout",
     "output_type": "stream",
     "text": [
      "The solution are (-0.75-1.3919410907075054j) and (-0.75+1.3919410907075054j)\n"
     ]
    }
   ],
   "source": [
    "# solve the quadratic equation ax**2 + bx + c = 0\n",
    "\n",
    "# import complex math module \n",
    "import cmath\n",
    "\n",
    "# input coefficients of standard quadratic \n",
    "# 1 -1 -6\n",
    "a = int(input('Enter first coeff'))\n",
    "b = int(input('Enter second coeff'))\n",
    "c = int(input('Enter third coeff'))\n",
    "\n",
    "# calculate the discriminant\n",
    "d = (b**2) - (4*a*c)\n",
    "\n",
    "# find two solutions\n",
    "solution_1 = (-b-cmath.sqrt(d))/(2*a)\n",
    "solution_2 = (-b+cmath.sqrt(d))/(2*a)\n",
    "\n",
    "print('The solution are {0} and {1}'.format(solution_1,solution_2))"
   ]
  },
  {
   "cell_type": "code",
   "execution_count": 41,
   "id": "03a26d3b-cebb-41c8-af5a-1ff802245956",
   "metadata": {},
   "outputs": [],
   "source": [
    "# 18.Implement a program to determine the day of the week based on a user-provided number(1 for Monday, 2 for Tuesday, etc.)."
   ]
  },
  {
   "cell_type": "code",
   "execution_count": 42,
   "id": "66f64cc1-9944-4954-8809-eda96a0ba873",
   "metadata": {},
   "outputs": [
    {
     "name": "stdin",
     "output_type": "stream",
     "text": [
      "Enter a number 6\n"
     ]
    },
    {
     "name": "stdout",
     "output_type": "stream",
     "text": [
      "The day of the week is saturday\n"
     ]
    }
   ],
   "source": [
    "number = int(input('Enter a number'))\n",
    "if number ==1:\n",
    "    print(\"The day of the week is Monday\")\n",
    "elif number ==2:\n",
    "    print(\"The day of the week is Tuesday\")\n",
    "elif number ==3:\n",
    "    print(\"The day of the week is Wednesday\")\n",
    "elif number ==4:\n",
    "    print(\"The day of the week is Thursday\")\n",
    "elif number ==5:\n",
    "    print(\"The day of the week is Friday\")\n",
    "elif number ==6:\n",
    "    print(\"The day of the week is saturday\")\n",
    "elif number ==7:\n",
    "    print(\"The day of the week is sunday\")\n",
    "else :\n",
    "    print(\"The day of the week is not exist\")"
   ]
  },
  {
   "cell_type": "code",
   "execution_count": 43,
   "id": "0dc79551-f161-4b5b-962c-a52dbf7c470b",
   "metadata": {},
   "outputs": [],
   "source": [
    "# 19.Create a program that determines if a year is a leap year and also if it is evenly divisible by 400."
   ]
  },
  {
   "cell_type": "code",
   "execution_count": 44,
   "id": "d99db7dc-28eb-4b4a-a173-39673f0e5fcd",
   "metadata": {},
   "outputs": [
    {
     "name": "stdin",
     "output_type": "stream",
     "text": [
      "Enter year you want to check 2023\n"
     ]
    },
    {
     "name": "stdout",
     "output_type": "stream",
     "text": [
      "2023 is not a leap year and not divisble by 400\n"
     ]
    }
   ],
   "source": [
    "year = int(input('Enter year you want to check'))\n",
    "if year%100 ==0:\n",
    "    if year%400 ==0:\n",
    "        print(f'{year} is a leap year and divisible by 400')\n",
    "    else:\n",
    "        print(f'{year} is not a leap year and not divisible by 400')\n",
    "else :\n",
    "    if year%4 ==0 :\n",
    "        print(f'{year} is a leap year and not divisible by 400')\n",
    "    else :\n",
    "        print(f'{year} is not a leap year and not divisble by 400')"
   ]
  },
  {
   "cell_type": "code",
   "execution_count": 45,
   "id": "1b86c11e-340e-4e7f-b2bd-4820ffd01b6e",
   "metadata": {},
   "outputs": [],
   "source": [
    "# 20.Develop a program that checks if a given number is prime or not using nested if-else statements."
   ]
  },
  {
   "cell_type": "code",
   "execution_count": 46,
   "id": "6c40278f-909b-45f9-9031-cf4ccc14f37d",
   "metadata": {},
   "outputs": [
    {
     "name": "stdin",
     "output_type": "stream",
     "text": [
      "Enter a number 43\n"
     ]
    },
    {
     "name": "stdout",
     "output_type": "stream",
     "text": [
      "43 is Prime\n"
     ]
    }
   ],
   "source": [
    "number = int(input('Enter a number'))\n",
    "a = 0\n",
    "if number!=1:\n",
    "    for i in range(1,number):\n",
    "        if number%i ==0:\n",
    "            a = a+1\n",
    "    if a>2:\n",
    "        print(f'{number} is not Prime')\n",
    "    else :\n",
    "        print(f'{number} is Prime')\n",
    "else :\n",
    "    print(f'{number} is not prime')"
   ]
  },
  {
   "cell_type": "code",
   "execution_count": null,
   "id": "8d864296-c2f9-43fe-9d27-0dc8d03609ce",
   "metadata": {},
   "outputs": [],
   "source": [
    "Elif statements:"
   ]
  },
  {
   "cell_type": "code",
   "execution_count": 48,
   "id": "0c62a753-525b-4b10-89ef-8383fae95068",
   "metadata": {},
   "outputs": [],
   "source": [
    "# 21.Write a Python program to assign grades based on different ranges of scores using elif statements."
   ]
  },
  {
   "cell_type": "code",
   "execution_count": 49,
   "id": "1e23bab7-a825-409e-8a9e-7e00f974b972",
   "metadata": {},
   "outputs": [
    {
     "name": "stdin",
     "output_type": "stream",
     "text": [
      "Enter the score of students (max 500) 50\n"
     ]
    },
    {
     "name": "stdout",
     "output_type": "stream",
     "text": [
      "Grade of student is F\n"
     ]
    }
   ],
   "source": [
    "#A for >90 percentage \n",
    "#B for >80 percentage \n",
    "#C for >70 percentage \n",
    "#D for >60 percentage\n",
    "#F for Fail \n",
    "#total score =500\n",
    "\n",
    "score = int(input('Enter the score of students (max 500)'))\n",
    "per_cent = (score/500)*100\n",
    "            \n",
    "if per_cent>90:\n",
    "            print('Grade of student is A')\n",
    "elif per_cent>80:\n",
    "            print('Grade of student is B')\n",
    "elif per_cent>70:\n",
    "            print('Grade of student is C')\n",
    "elif per_cent>60:\n",
    "            print('Grade of student is D')\n",
    "else :\n",
    "            print('Grade of student is F')"
   ]
  },
  {
   "cell_type": "code",
   "execution_count": 50,
   "id": "e93d066b-50d8-488f-8af6-fc230d88bf8e",
   "metadata": {},
   "outputs": [],
   "source": [
    "# 22.Implement a program to determine the type of a triangle based on its angles."
   ]
  },
  {
   "cell_type": "code",
   "execution_count": 51,
   "id": "578ca85e-93e4-4a23-886a-a29f05495987",
   "metadata": {},
   "outputs": [
    {
     "name": "stdin",
     "output_type": "stream",
     "text": [
      "Enter first angle in degrees (between 0 and 180) 85\n",
      "Enter second angle in degrees (between 0 and 180) 26\n",
      "Enter third angle in degrees (between 0 and 180) 150\n"
     ]
    },
    {
     "name": "stdout",
     "output_type": "stream",
     "text": [
      "It is obtuse angled triangle\n"
     ]
    }
   ],
   "source": [
    "angle_1 = int(input('Enter first angle in degrees (between 0 and 180)'))\n",
    "angle_2 = int(input('Enter second angle in degrees (between 0 and 180)'))\n",
    "angle_3 = int(input('Enter third angle in degrees (between 0 and 180)'))\n",
    "l = [angle_1,angle_2,angle_3]\n",
    "l.sort()\n",
    "angle = l[-1]\n",
    "if angle <90:\n",
    "    print('It is an acute angled triangle ')\n",
    "elif angle == 90:\n",
    "    print('It is right angled triangle')\n",
    "else :\n",
    "    print('It is obtuse angled triangle')"
   ]
  },
  {
   "cell_type": "code",
   "execution_count": 52,
   "id": "b6558f75-68a0-4324-8651-81965ad610a4",
   "metadata": {},
   "outputs": [],
   "source": [
    "# 23.Develop a program to categorize a given \"person's BMI\" into underweight, normal, overweight, or obese using elif statements."
   ]
  },
  {
   "cell_type": "code",
   "execution_count": 53,
   "id": "b1ce2ba4-82e6-4706-8242-7b6c4ef98366",
   "metadata": {},
   "outputs": [
    {
     "name": "stdin",
     "output_type": "stream",
     "text": [
      "Enter the person's BMI index 56\n"
     ]
    },
    {
     "name": "stdout",
     "output_type": "stream",
     "text": [
      "person has obesity\n"
     ]
    }
   ],
   "source": [
    "bmi = float(input(\"Enter the person's BMI index\"))\n",
    "if bmi <18.5:\n",
    "    print(\"person has underweight\")\n",
    "elif bmi>=18.5 and bmi <25:\n",
    "    print(\"person has normal weight\")\n",
    "elif bmi>=25 and bmi<30:\n",
    "    print(\"person has overweight\")\n",
    "else :\n",
    "    print(\"person has obesity\")"
   ]
  },
  {
   "cell_type": "code",
   "execution_count": 54,
   "id": "a30f0771-ae1b-4693-840c-9f954b2639c8",
   "metadata": {},
   "outputs": [],
   "source": [
    "# 24.Create a program that determines whether a given number is positive, negative, or zero using elif statements."
   ]
  },
  {
   "cell_type": "code",
   "execution_count": 55,
   "id": "cd50ed7e-0c38-45cb-aff2-ae9f391f89b1",
   "metadata": {},
   "outputs": [
    {
     "name": "stdin",
     "output_type": "stream",
     "text": [
      "enter a number  0\n"
     ]
    },
    {
     "name": "stdout",
     "output_type": "stream",
     "text": [
      "The number is zero\n"
     ]
    }
   ],
   "source": [
    "number = int(input(\"enter a number \"))\n",
    "if number >0 :\n",
    "    print(\"The number is positive\")\n",
    "elif number<0:\n",
    "    print(\"The number is negative\")\n",
    "else :\n",
    "    print(\"The number is zero\")"
   ]
  },
  {
   "cell_type": "code",
   "execution_count": 57,
   "id": "3469cdb2-ba87-40a3-96b3-d2114ef5b0dc",
   "metadata": {},
   "outputs": [],
   "source": [
    "# 25.Write a python script to determine the type of a character (uppercase, lowercase, or special) using elif statements."
   ]
  },
  {
   "cell_type": "code",
   "execution_count": 59,
   "id": "6ce74d10-a8ce-4267-944c-01e44e7e5895",
   "metadata": {},
   "outputs": [
    {
     "name": "stdin",
     "output_type": "stream",
     "text": [
      "enter the charcter nikhil\n"
     ]
    },
    {
     "name": "stdout",
     "output_type": "stream",
     "text": [
      "character is lowercase\n"
     ]
    }
   ],
   "source": [
    "char = input('enter the charcter')\n",
    "if char.isupper() == True:\n",
    "    print(\"charcter is uppercase\")\n",
    "elif char.islower() == True:\n",
    "          print(\"character is lowercase\")\n",
    "else :\n",
    "                print(\"It is special character\")"
   ]
  },
  {
   "cell_type": "code",
   "execution_count": 60,
   "id": "c2f28d46-c580-4d98-93b7-fabfd5f9d4bf",
   "metadata": {},
   "outputs": [],
   "source": [
    "# 26.Implement a program to calculate the discounted price based on different purchase amounts using elif statements."
   ]
  },
  {
   "cell_type": "code",
   "execution_count": 61,
   "id": "53055c14-db8a-4cc0-96f8-63110ca8b995",
   "metadata": {},
   "outputs": [
    {
     "name": "stdin",
     "output_type": "stream",
     "text": [
      "Enter the price 171\n"
     ]
    },
    {
     "name": "stdout",
     "output_type": "stream",
     "text": [
      "the discounted price is 162.45\n"
     ]
    }
   ],
   "source": [
    "# price<100 : no discount \n",
    "# 100<price<=200 : 5% discount\n",
    "#else  10% discount\n",
    "\n",
    "price = float(input('Enter the price'))\n",
    "if price <=100 :\n",
    "    print(f'The discounted price is {price}')\n",
    "elif price>100 and price<=200:\n",
    "    print(f'the discounted price is {0.95* price}')\n",
    "else :\n",
    "    print(f'The discounted price is {0.90*price}')"
   ]
  },
  {
   "cell_type": "code",
   "execution_count": 62,
   "id": "1f414ead-c358-46e9-9a8c-bd8d6a091ccd",
   "metadata": {},
   "outputs": [],
   "source": [
    "#27.Develop a program to calculate the electricity bill based on different consumption slabs using elif statements."
   ]
  },
  {
   "cell_type": "code",
   "execution_count": 63,
   "id": "ec5d6f6c-3396-4534-8afa-954c50d72fc1",
   "metadata": {},
   "outputs": [
    {
     "name": "stdin",
     "output_type": "stream",
     "text": [
      "enter kwh consumed 456\n"
     ]
    },
    {
     "name": "stdout",
     "output_type": "stream",
     "text": [
      "9170.0 is the total cost\n"
     ]
    }
   ],
   "source": [
    "kwh = float (input('enter kwh consumed'))\n",
    "\n",
    "f_c = 50\n",
    "if kwh<=100:                        #Rs 6/kwh upto 100kwh\n",
    "    print(f'{f_c + (6*kwh)} is the total cost')\n",
    "elif kwh >100 and kwh <200 :         #Rs 10/kwh \n",
    "    print(f'{f_c + (10*kwh)} is the total cost')\n",
    "else :                                 #Rs 20/kwh\n",
    "    print(f'{f_c + (20*kwh)} is the total cost')"
   ]
  },
  {
   "cell_type": "code",
   "execution_count": 64,
   "id": "3ba61ff6-24c2-459b-8a67-59a13d386f26",
   "metadata": {},
   "outputs": [],
   "source": [
    "# 28.Create a program to determine the type of quadrilateral based on its angles and sides using elif statements."
   ]
  },
  {
   "cell_type": "code",
   "execution_count": 66,
   "id": "538a06e4-b8f2-47be-945f-fbaea5c57487",
   "metadata": {},
   "outputs": [
    {
     "name": "stdin",
     "output_type": "stream",
     "text": [
      "Enter the length of side 1: 20\n",
      "Enter the length of side 2: 20\n",
      "Enter the length of side 3: 20\n",
      "Enter the length of side 4: 20\n",
      "Enter the angle 1 : 90\n",
      "Enter the angle 2 : 90\n",
      "Enter the angle 3 : 90\n",
      "Enter the angle 4 : 90\n"
     ]
    },
    {
     "name": "stdout",
     "output_type": "stream",
     "text": [
      "It is square\n"
     ]
    }
   ],
   "source": [
    "# Input the sides and angles of the quadrilateral \n",
    "s1 = float(input(\"Enter the length of side 1:\"))\n",
    "s2 = float(input(\"Enter the length of side 2:\"))\n",
    "s3 = float(input(\"Enter the length of side 3:\"))\n",
    "s4 = float(input(\"Enter the length of side 4:\"))\n",
    "\n",
    "a1 = float(input(\"Enter the angle 1 :\"))\n",
    "a2 = float(input(\"Enter the angle 2 :\"))\n",
    "a3 = float(input(\"Enter the angle 3 :\"))\n",
    "a4 = float(input(\"Enter the angle 4 :\"))\n",
    "\n",
    "# check if it is a quadrilateral\n",
    "if s1 + s2 + s3 > s4 and s2 + s3 + s4 > s1 and s3 + s4 + s1 > s2 :\n",
    "    # check for each type of quadrilateral\n",
    "    if s1 == s2 == s3 == s4 and a1 == a2 == a3== a4 == 90:\n",
    "        print(\"It is square\")\n",
    "    elif s1 == s3 and s2 == s4 and a1 == a3 and a2 == a4 == 90:\n",
    "        print(\"It is rectangle\")\n",
    "    elif s1 == s2 == s3 == s4 and a1 == a3 and a2 == a4 :\n",
    "        print(\"It is Rhombus\")\n",
    "    elif s1 == s3 and s2 == s4  and a1 == a3 or a2 == a4:\n",
    "        print(\"It is parallelogram\")\n",
    "    elif s1 == s3 or s2 ==s4 :\n",
    "        print(\"It is trapezoid\")\n",
    "    elif s1 == s2 and s3 == s4 or s1 == s3 and s2 == s4 or s1 == s4 and s2 == s3 :\n",
    "        print(\"It is kite\")\n",
    "    else :\n",
    "        print(\"Quadrilateral but not a specific type \")\n",
    "else :\n",
    "    print(\"Not a Quadrilateral\")"
   ]
  },
  {
   "cell_type": "code",
   "execution_count": 67,
   "id": "215df321-b44a-463b-85e9-31a8307affec",
   "metadata": {},
   "outputs": [],
   "source": [
    "# 29.Write a Python script to determine the season based on a user-provided month using elif statements."
   ]
  },
  {
   "cell_type": "code",
   "execution_count": 69,
   "id": "d92d620d-5d9d-4edf-a338-182a34bb0c1d",
   "metadata": {},
   "outputs": [
    {
     "name": "stdin",
     "output_type": "stream",
     "text": [
      "Enter the month number 6\n"
     ]
    },
    {
     "name": "stdout",
     "output_type": "stream",
     "text": [
      "season is summer\n"
     ]
    }
   ],
   "source": [
    "month = int(input(\"Enter the month number\"))  #take user input of month\n",
    "#month = month.lower()\n",
    "# month = ['january' ,'februrary','march','april','may','june','july','august','september','october','november','december']\n",
    "if month<3 or month>8:\n",
    "    print(\"season is winter\")\n",
    "elif month>2 and month<5:\n",
    "          print(\"season is spring\")\n",
    "else :\n",
    "    print(\"season is summer\")"
   ]
  },
  {
   "cell_type": "code",
   "execution_count": 70,
   "id": "f3b86b66-c21c-4253-b2a0-5588353c4c3f",
   "metadata": {},
   "outputs": [],
   "source": [
    "# 30.Implement a program to determine the type of a year (leap or common) and month (30 or 31 days) using elif statements."
   ]
  },
  {
   "cell_type": "code",
   "execution_count": 71,
   "id": "ea16deaf-83ee-4a7b-b8b0-4aa07166ca8f",
   "metadata": {},
   "outputs": [
    {
     "name": "stdin",
     "output_type": "stream",
     "text": [
      "Enter the year 30\n",
      "Enter month number 3\n"
     ]
    },
    {
     "name": "stdout",
     "output_type": "stream",
     "text": [
      "Month contains 31 days \n"
     ]
    }
   ],
   "source": [
    "year = int(input(\"Enter the year\"))\n",
    "month = int(input(\"Enter month number\"))\n",
    "\n",
    "if year%100 == 0:\n",
    "    if year%400 == 0:\n",
    "        print(f'{year} is a leap year')\n",
    "    else :\n",
    "        print(f'{year} is not a leap year')\n",
    "else :\n",
    "    if year%4 == 0:\n",
    "        print(f'{year} is a leap year')\n",
    "        \n",
    "if month<=7:\n",
    "    if month%2!=0:\n",
    "        print(\"Month contains 31 days \")\n",
    "    else :\n",
    "        print(\"Month contains 30 days \")\n",
    "else :\n",
    "    if month%2==0:\n",
    "        print(\"Month contains 31 days\")\n",
    "    else :\n",
    "        print(\"Month contains 30 days \")"
   ]
  },
  {
   "cell_type": "code",
   "execution_count": null,
   "id": "1421ef61-8304-4abd-b6cb-07a01d690cf5",
   "metadata": {},
   "outputs": [],
   "source": [
    "Basic level:"
   ]
  },
  {
   "cell_type": "code",
   "execution_count": 72,
   "id": "d84cacc9-e729-4e33-ab37-b6e4e604d7c1",
   "metadata": {},
   "outputs": [],
   "source": [
    "# 1.Write a Python program that checks if a given number is positive, negative, or zero."
   ]
  },
  {
   "cell_type": "code",
   "execution_count": 73,
   "id": "a6b8759e-9490-4ec3-97fc-a5f9a454c844",
   "metadata": {},
   "outputs": [
    {
     "name": "stdin",
     "output_type": "stream",
     "text": [
      "Enter the number 54\n"
     ]
    },
    {
     "name": "stdout",
     "output_type": "stream",
     "text": [
      "Number is positive\n"
     ]
    }
   ],
   "source": [
    "n = int(input(\"Enter the number\"))\n",
    "if n>0:\n",
    "    print(\"Number is positive\")\n",
    "elif n<0:\n",
    "    print(\"Number is negative\")\n",
    "else :\n",
    "    print(\"Number is zero\")"
   ]
  },
  {
   "cell_type": "code",
   "execution_count": 74,
   "id": "c6df169b-ab08-47d0-8371-00ac346c339a",
   "metadata": {},
   "outputs": [],
   "source": [
    "# 2.Create a program to determine if a person is eligible to vote based on their age."
   ]
  },
  {
   "cell_type": "code",
   "execution_count": 75,
   "id": "7ea5fc5a-9ef7-4296-b799-847ea2f4b920",
   "metadata": {},
   "outputs": [
    {
     "name": "stdin",
     "output_type": "stream",
     "text": [
      "Enter the age of person 75\n"
     ]
    },
    {
     "name": "stdout",
     "output_type": "stream",
     "text": [
      "The person is eligible to vote\n"
     ]
    }
   ],
   "source": [
    "age = int(input(\"Enter the age of person\"))\n",
    "if age > 18:\n",
    "    print(\"The person is eligible to vote\")\n",
    "else :\n",
    "    print(\"The person is not eligible to vote\")"
   ]
  },
  {
   "cell_type": "code",
   "execution_count": 76,
   "id": "2cd5bcd4-46c6-4359-af19-a3ce7635695f",
   "metadata": {},
   "outputs": [],
   "source": [
    "# 3.Write a program to find the maximum of two given numbers using conditional statements."
   ]
  },
  {
   "cell_type": "code",
   "execution_count": 77,
   "id": "7e3e6243-fa25-4084-9ee2-11ba43c43950",
   "metadata": {},
   "outputs": [
    {
     "name": "stdin",
     "output_type": "stream",
     "text": [
      "enter first number  74\n",
      "enter second number  35\n"
     ]
    },
    {
     "name": "stdout",
     "output_type": "stream",
     "text": [
      "74 is greater than 35\n"
     ]
    }
   ],
   "source": [
    "a1 = int(input(\"enter first number \"))\n",
    "a2 = int(input(\"enter second number \"))\n",
    "if a1>a2:\n",
    "    print(f'{a1} is greater than {a2}')\n",
    "else :\n",
    "    print('{} is greater than {}'.format(a1,a2))"
   ]
  },
  {
   "cell_type": "code",
   "execution_count": 78,
   "id": "eea2d65a-77b1-47f3-b162-fe1df1a7e49b",
   "metadata": {},
   "outputs": [],
   "source": [
    "# 4.Develop a program that calculates the grade of a student based on their exam score."
   ]
  },
  {
   "cell_type": "code",
   "execution_count": 79,
   "id": "2b6f3372-7e63-480e-8b37-b1f16f8e6364",
   "metadata": {},
   "outputs": [
    {
     "name": "stdin",
     "output_type": "stream",
     "text": [
      "Enter the score of students (max 500) 356\n"
     ]
    },
    {
     "name": "stdout",
     "output_type": "stream",
     "text": [
      "Grade of student is C\n"
     ]
    }
   ],
   "source": [
    "#A for >90 percentage \n",
    "#B for >80 percentage \n",
    "#C for >70 percentage \n",
    "#D for >60 percentage\n",
    "#F for other\n",
    "#total score =500\n",
    "\n",
    "score = int(input('Enter the score of students (max 500)'))\n",
    "per_cent = (score/500)*100\n",
    "            \n",
    "if per_cent>90:\n",
    "            print('Grade of student is A')\n",
    "elif per_cent>80:\n",
    "            print('Grade of student is B')\n",
    "elif per_cent>70:\n",
    "            print('Grade of student is C')\n",
    "elif per_cent>60:\n",
    "            print('Grade of student is D')\n",
    "else :\n",
    "            print('Grade of student is F')"
   ]
  },
  {
   "cell_type": "code",
   "execution_count": 82,
   "id": "076da5a9-bc13-4b7a-b235-106b689301bc",
   "metadata": {},
   "outputs": [],
   "source": [
    "#5.Create a program that checks if a year is a leap year or not."
   ]
  },
  {
   "cell_type": "code",
   "execution_count": 81,
   "id": "08a661b3-0b4d-4d34-ac65-6a04425bc74b",
   "metadata": {},
   "outputs": [
    {
     "name": "stdin",
     "output_type": "stream",
     "text": [
      "Enter the year 2018\n"
     ]
    },
    {
     "name": "stdout",
     "output_type": "stream",
     "text": [
      "2018 is not a leap year\n"
     ]
    }
   ],
   "source": [
    "year = int(input(\"Enter the year\"))\n",
    "\n",
    "if year%100 == 0:\n",
    "    if year%400 == 0:\n",
    "        print(f'{year} is a leap year')\n",
    "    else :\n",
    "        print(f'{year} is not a leap year')\n",
    "else :\n",
    "    if year%4 == 0:\n",
    "        print(f'{year} is a leap year')\n",
    "    else :\n",
    "        print(f'{year} is not a leap year')"
   ]
  },
  {
   "cell_type": "code",
   "execution_count": 83,
   "id": "e04d0bc7-41ff-41e2-9b00-2db9bbd3046c",
   "metadata": {},
   "outputs": [],
   "source": [
    "# 6.Write a program that classify a triangle based on its sides' lengths."
   ]
  },
  {
   "cell_type": "code",
   "execution_count": 84,
   "id": "e202140b-4601-45af-941f-205a62746141",
   "metadata": {},
   "outputs": [
    {
     "name": "stdin",
     "output_type": "stream",
     "text": [
      "Enter the first side of triangle : 35\n",
      "Enter the second side of triangle : 45\n",
      "Enter the third side of triangle : 35\n"
     ]
    },
    {
     "name": "stdout",
     "output_type": "stream",
     "text": [
      "it is isosceles triangle \n"
     ]
    }
   ],
   "source": [
    "s1 = int(input(\"Enter the first side of triangle :\"))\n",
    "s2 = int(input(\"Enter the second side of triangle :\"))\n",
    "s3 = int(input(\"Enter the third side of triangle :\"))\n",
    "\n",
    "if s1 == s2 and s2 == s3 :\n",
    "    print(\"it is equilateral triangle \")\n",
    "elif s1 == s2 or s2 == s3 or s3 == s1 :\n",
    "    print(\"it is isosceles triangle \")\n",
    "else :\n",
    "    print(\"it is scalene triangle \")"
   ]
  },
  {
   "cell_type": "code",
   "execution_count": 85,
   "id": "ea83749d-f4f6-48dc-a7f9-55beb58d248c",
   "metadata": {},
   "outputs": [],
   "source": [
    "# 7.Build a program that determines the largest of three given numbers."
   ]
  },
  {
   "cell_type": "code",
   "execution_count": 86,
   "id": "36c30618-834f-47e0-bcd3-3ccfdf95e53f",
   "metadata": {},
   "outputs": [
    {
     "name": "stdin",
     "output_type": "stream",
     "text": [
      "Enter first number  34\n",
      "Enter second number  26\n",
      "Enter third number  18\n"
     ]
    },
    {
     "name": "stdout",
     "output_type": "stream",
     "text": [
      "34 is largest number\n"
     ]
    }
   ],
   "source": [
    "n1 = int(input(\"Enter first number \"))\n",
    "n2 = int(input(\"Enter second number \"))\n",
    "n3 = int(input(\"Enter third number \"))\n",
    "\n",
    "if n1>n2 and n1>n3:\n",
    "    print(f'{n1} is largest number')\n",
    "    \n",
    "else :\n",
    "    if n2>n3:\n",
    "        print(f'{n2} is largest number ')\n",
    "    else :\n",
    "        print(f'{n3} is largest number ')"
   ]
  },
  {
   "cell_type": "code",
   "execution_count": 87,
   "id": "38ca2cd7-02b8-46fa-9efe-6085eb54878b",
   "metadata": {},
   "outputs": [],
   "source": [
    "# 8.Develop a program that checks whether a character is a vowel or a consonant."
   ]
  },
  {
   "cell_type": "code",
   "execution_count": 88,
   "id": "5417b3ab-9264-49e9-bad5-40cbe8a86401",
   "metadata": {},
   "outputs": [
    {
     "name": "stdin",
     "output_type": "stream",
     "text": [
      "Enter a character  r\n"
     ]
    },
    {
     "name": "stdout",
     "output_type": "stream",
     "text": [
      "r is a consonant\n"
     ]
    }
   ],
   "source": [
    "char = input(\"Enter a character \")\n",
    "if char == 'a' or char == 'e' or char == 'i' or char == 'o' or char == 'u' :\n",
    "    print(f'{char} is a vowel ')\n",
    "else :\n",
    "    print(f'{char} is a consonant')"
   ]
  },
  {
   "cell_type": "code",
   "execution_count": 89,
   "id": "7ed7ec60-8d0e-485f-9bef-77420650a0a8",
   "metadata": {},
   "outputs": [],
   "source": [
    "# 9.Create a program to calculate the total cost of a shopping cart based on discounts."
   ]
  },
  {
   "cell_type": "code",
   "execution_count": 90,
   "id": "eb819c74-edcc-4a6d-88bd-1adafe362b74",
   "metadata": {},
   "outputs": [
    {
     "name": "stdin",
     "output_type": "stream",
     "text": [
      "Enter the price 900\n"
     ]
    },
    {
     "name": "stdout",
     "output_type": "stream",
     "text": [
      "The discounted price is 810.0\n"
     ]
    }
   ],
   "source": [
    "# price<100 : no discount \n",
    "# 100<price<=200 : 5% discount\n",
    "#else  10% discount\n",
    "\n",
    "price = float(input('Enter the price'))\n",
    "if price <=100 :\n",
    "    print(f'The discounted price is {price}')\n",
    "elif price>100 and price<=200:\n",
    "    print(f'the discounted price is {0.95* price}')\n",
    "else :\n",
    "    print(f'The discounted price is {0.90*price}')"
   ]
  },
  {
   "cell_type": "code",
   "execution_count": 91,
   "id": "40734d09-806d-4cc8-afa4-aa61e2c443a2",
   "metadata": {},
   "outputs": [],
   "source": [
    "# 10.Write a program that checks if a given number is even or odd."
   ]
  },
  {
   "cell_type": "code",
   "execution_count": 92,
   "id": "0082fb7f-78eb-4359-8fb6-6e99794d74e8",
   "metadata": {},
   "outputs": [
    {
     "name": "stdin",
     "output_type": "stream",
     "text": [
      "Enter a number : 65\n"
     ]
    },
    {
     "name": "stdout",
     "output_type": "stream",
     "text": [
      "It is odd number \n"
     ]
    }
   ],
   "source": [
    "number = int(input(\"Enter a number :\"))\n",
    "\n",
    "if number%2 == 0:\n",
    "    print(\"It is even number \")\n",
    "else :\n",
    "    print(\"It is odd number \")"
   ]
  },
  {
   "cell_type": "code",
   "execution_count": null,
   "id": "f21ef2bf-13f9-41a6-91fb-ef93c01b59e0",
   "metadata": {},
   "outputs": [],
   "source": [
    "Intermediate level:"
   ]
  },
  {
   "cell_type": "code",
   "execution_count": 93,
   "id": "b231d7ff-8be2-4414-8979-07fb1a2796ea",
   "metadata": {},
   "outputs": [],
   "source": [
    "# 11.Write a program that calculates the roots of a quadratic equation."
   ]
  },
  {
   "cell_type": "code",
   "execution_count": 94,
   "id": "d328790b-5ef3-47af-a4f0-11573ba4efdd",
   "metadata": {},
   "outputs": [
    {
     "name": "stdin",
     "output_type": "stream",
     "text": [
      "Enter first coeff 78\n",
      "Enter second coeff 35\n",
      "Enter third coeff 65\n"
     ]
    },
    {
     "name": "stdout",
     "output_type": "stream",
     "text": [
      "The solution are (-0.22435897435897437-0.8848708289676649j) and (-0.22435897435897437+0.8848708289676649j)\n"
     ]
    }
   ],
   "source": [
    "# solve the quadratic equation ax**2 + bx + c = 0\n",
    "\n",
    "# import complex math module \n",
    "import cmath\n",
    "\n",
    "# input coefficients of standard quadratic \n",
    "# 1 -1 -6\n",
    "a = int(input('Enter first coeff'))\n",
    "b = int(input('Enter second coeff'))\n",
    "c = int(input('Enter third coeff'))\n",
    "\n",
    "# calculate the discriminant\n",
    "d = (b**2) - (4*a*c)\n",
    "\n",
    "# find two solutions\n",
    "solution_1 = (-b-cmath.sqrt(d))/(2*a)\n",
    "solution_2 = (-b+cmath.sqrt(d))/(2*a)\n",
    "\n",
    "print('The solution are {0} and {1}'.format(solution_1,solution_2))"
   ]
  },
  {
   "cell_type": "code",
   "execution_count": 96,
   "id": "09231d0e-a2d1-44bb-a81e-6d4f36996ed9",
   "metadata": {},
   "outputs": [],
   "source": [
    "# 12.Create a program that determines the day of the week based on the day number (1-7)."
   ]
  },
  {
   "cell_type": "code",
   "execution_count": 97,
   "id": "5a043c61-9fe3-44d8-afad-55572cefda87",
   "metadata": {},
   "outputs": [
    {
     "name": "stdin",
     "output_type": "stream",
     "text": [
      "Enter a number(1-7)  5\n"
     ]
    },
    {
     "name": "stdout",
     "output_type": "stream",
     "text": [
      "Friday\n"
     ]
    }
   ],
   "source": [
    "n = int(input(\"Enter a number(1-7) \"))\n",
    "if n == 1 :\n",
    "    print(\"Monday\")\n",
    "elif n==2:\n",
    "    print(\"Tuesday\")\n",
    "elif n==3 :\n",
    "    print(\"Wednesday\")\n",
    "elif n==4 :\n",
    "    print(\"Thursday\")\n",
    "elif n==5 :\n",
    "    print(\"Friday\")\n",
    "elif n==6 :\n",
    "    print(\"saturday\")\n",
    "elif n==7:\n",
    "    print(\"Sunday\")\n",
    "    \n",
    "else :\n",
    "    print(\"Enter valid week day number\")"
   ]
  },
  {
   "cell_type": "code",
   "execution_count": 98,
   "id": "54a9640a-141e-488d-86bd-ac030d15eb0f",
   "metadata": {},
   "outputs": [],
   "source": [
    "# 13.Develop a program that calculates the factorial of a given number using recusion."
   ]
  },
  {
   "cell_type": "code",
   "execution_count": 99,
   "id": "f0952640-7123-48e9-8516-fcc4335f2d58",
   "metadata": {},
   "outputs": [
    {
     "name": "stdout",
     "output_type": "stream",
     "text": [
      "Factorial is 120\n"
     ]
    }
   ],
   "source": [
    "def fact(n,p=1):\n",
    "    p = p*n\n",
    "    if n==1:\n",
    "        print(f'Factorial is {p}')\n",
    "    else :\n",
    "        fact(n-1, p)\n",
    "        \n",
    "fact(5)  #take number of which you want factorial"
   ]
  },
  {
   "cell_type": "code",
   "execution_count": 101,
   "id": "d277b682-bc1a-4138-a1b9-7b904df750b8",
   "metadata": {},
   "outputs": [],
   "source": [
    "# 14.Write a program to find the largest among three numbers without using the max() function."
   ]
  },
  {
   "cell_type": "code",
   "execution_count": 102,
   "id": "7fa2a1e9-d9b3-4c7f-bd49-fecb237bb521",
   "metadata": {},
   "outputs": [
    {
     "name": "stdin",
     "output_type": "stream",
     "text": [
      "Enter first number : 25\n",
      "Enter second number : 35\n",
      "Enter third number : 65\n"
     ]
    },
    {
     "name": "stdout",
     "output_type": "stream",
     "text": [
      "65 is largest number \n"
     ]
    }
   ],
   "source": [
    "n1 = int(input(\"Enter first number :\"))\n",
    "n2 = int(input(\"Enter second number :\"))\n",
    "n3 =int(input(\"Enter third number :\"))\n",
    "\n",
    "if n1>n2 and n1>n3:\n",
    "    print(f'{n1} is largest number')\n",
    "else :\n",
    "    if n2>n3:\n",
    "        print(f'{n2} is largest number')\n",
    "    else :\n",
    "        print(f'{n3} is largest number ')"
   ]
  },
  {
   "cell_type": "code",
   "execution_count": 103,
   "id": "b773daa4-6248-47df-b8cf-2538e02e799c",
   "metadata": {},
   "outputs": [],
   "source": [
    "# 15.Create a program that simulates a basic ATM transaction meanu."
   ]
  },
  {
   "cell_type": "code",
   "execution_count": 104,
   "id": "fc217896-2afe-400b-b641-ca89010ada0d",
   "metadata": {},
   "outputs": [
    {
     "name": "stdout",
     "output_type": "stream",
     "text": [
      "Welcome to ATM machine\n"
     ]
    },
    {
     "name": "stdin",
     "output_type": "stream",
     "text": [
      "Enter 1 to withdraw, 2 to deposit, 3 to balance check, 4 to exit 2\n",
      "Enter the deposit amount 283300\n"
     ]
    },
    {
     "name": "stdout",
     "output_type": "stream",
     "text": [
      "Transaction successful\n"
     ]
    },
    {
     "name": "stdin",
     "output_type": "stream",
     "text": [
      "Enter 4 to get back to main menu or other number to exit 3\n"
     ]
    }
   ],
   "source": [
    "print('Welcome to ATM machine')\n",
    "c=True\n",
    "bl = 1000\n",
    "while c==True:\n",
    "    cd = int(input('Enter 1 to withdraw, 2 to deposit, 3 to balance check, 4 to exit'))\n",
    "    \n",
    "    if cd==1:\n",
    "        wd = float(input('Enter amount you want to withdraw'))\n",
    "        if wd<=bl:\n",
    "            print(f'Debited with {wd} amount')\n",
    "            bl = bl-wd\n",
    "        else:\n",
    "            print('Insufficient funds')\n",
    "    \n",
    "    elif cd==2:\n",
    "        dp = float(input('Enter the deposit amount'))\n",
    "        bl=bl+dp\n",
    "        print('Transaction successful')\n",
    "    \n",
    "    elif cd==3:\n",
    "        print(f'Balance amount is {bl}')\n",
    "    \n",
    "    elif cd==4:\n",
    "        pass\n",
    "    val=int(input('Enter 4 to get back to main menu or other number to exit'))\n",
    "    if val==4:\n",
    "        c=True\n",
    "    else:\n",
    "        c=False"
   ]
  },
  {
   "cell_type": "code",
   "execution_count": null,
   "id": "59b257f6-64e9-4240-92da-02165c0e2056",
   "metadata": {},
   "outputs": [],
   "source": [
    "# 16.Build a program that checks if a given string is a palindrome or not."
   ]
  },
  {
   "cell_type": "code",
   "execution_count": 105,
   "id": "95fa3226-19eb-4277-9fb4-e1a4e3d02aff",
   "metadata": {},
   "outputs": [
    {
     "name": "stdin",
     "output_type": "stream",
     "text": [
      "Enter a string mom\n"
     ]
    },
    {
     "name": "stdout",
     "output_type": "stream",
     "text": [
      "It is a palindrome string\n"
     ]
    }
   ],
   "source": [
    "s = input(\"Enter a string\")\n",
    "s = s.upper()\n",
    "s_rev = s[::-1]  # reverse a string\n",
    "\n",
    "if s_rev == s:\n",
    "    print(\"It is a palindrome string\")\n",
    "else :\n",
    "    print(\"It is not a palindrome string\")"
   ]
  },
  {
   "cell_type": "code",
   "execution_count": 106,
   "id": "86780ebb-e4a6-44a1-b123-e91e76439aa0",
   "metadata": {},
   "outputs": [],
   "source": [
    "# 17.Write a program that calculates the average of a list of numbers,excluding the smallest and largest values."
   ]
  },
  {
   "cell_type": "code",
   "execution_count": 107,
   "id": "cf9001ab-9988-4f0f-968d-f9013f28e7cf",
   "metadata": {},
   "outputs": [
    {
     "name": "stdout",
     "output_type": "stream",
     "text": [
      "[1, 2, 3, 4, 5, 9]\n",
      "3.5\n"
     ]
    }
   ],
   "source": [
    "l = [1,3,4,2,5,9]\n",
    "s = 0\n",
    "l.sort()\n",
    "print(l)\n",
    "l=l[1:len(l)-1]\n",
    "for i in l:\n",
    "    s= s+i\n",
    "avg = s/len(l)\n",
    "print(avg)"
   ]
  },
  {
   "cell_type": "code",
   "execution_count": 108,
   "id": "f041735b-dc88-431e-8c40-025d3c460bf2",
   "metadata": {},
   "outputs": [],
   "source": [
    "# 18.Develop a program that converts a given temperature from Celsius to Fahrenheit."
   ]
  },
  {
   "cell_type": "code",
   "execution_count": 109,
   "id": "7c45801a-b7ee-43f2-ae70-6ba373a1a1da",
   "metadata": {},
   "outputs": [
    {
     "name": "stdin",
     "output_type": "stream",
     "text": [
      "Enter temperature in celsius : 122\n"
     ]
    },
    {
     "name": "stdout",
     "output_type": "stream",
     "text": [
      "The temperature in fahrenheit is : 251.6\n"
     ]
    }
   ],
   "source": [
    "temp_c = input(\"Enter temperature in celsius :\")      # Ask user to input temperature in celsius\n",
    "temp_c = float(temp_c)                              #Typecast to float datatype\n",
    "temp_f = ((9/5)*temp_c) +32               #convert to fahrenheit using standard formula \n",
    "print(\"The temperature in fahrenheit is :\",temp_f)         #Display result in fahrenheit"
   ]
  },
  {
   "cell_type": "code",
   "execution_count": 110,
   "id": "b5971657-1409-4cee-861e-eb7e0d1d38b2",
   "metadata": {},
   "outputs": [],
   "source": [
    "# 19.Develop a program that simulates a basic calculator for addition, substraction, multiplication, and division."
   ]
  },
  {
   "cell_type": "code",
   "execution_count": 112,
   "id": "bb09ace8-f89c-412b-84d0-e840ae776f92",
   "metadata": {},
   "outputs": [
    {
     "name": "stdout",
     "output_type": "stream",
     "text": [
      "Welcome to calculator\n",
      "1. Addition 2. subtraction 3. Multiplication 4. Division\n"
     ]
    },
    {
     "name": "stdin",
     "output_type": "stream",
     "text": [
      "Enter which operation you want 3\n",
      "Enter 1st number  32\n",
      "Enter 2nd number  326\n"
     ]
    },
    {
     "name": "stdout",
     "output_type": "stream",
     "text": [
      "Multiplication 10432.0\n"
     ]
    },
    {
     "name": "stdin",
     "output_type": "stream",
     "text": [
      "enter 6 to continue to calculator or any other number to exit calculator 9\n"
     ]
    }
   ],
   "source": [
    "print('Welcome to calculator')\n",
    "print(f\"1. Addition 2. subtraction 3. Multiplication 4. Division\")\n",
    "c = True \n",
    "while c == True :\n",
    "    op = int(input(\"Enter which operation you want\"))\n",
    "    n1 = float(input(\"Enter 1st number \"))\n",
    "    n2 = float(input(\"Enter 2nd number \"))\n",
    "    if op == 1 :\n",
    "        print(\"Addition \",n1+n2)\n",
    "    elif op==2:\n",
    "        print(\"Subraction\", n1-n2)\n",
    "    elif op==3:\n",
    "        print(\"Multiplication\", n1*n2)\n",
    "    elif op==4:\n",
    "        print(\"Division\" , n1/n2)\n",
    "    else :\n",
    "        print(\"Enter valid operation\")\n",
    "        \n",
    "    val = int(input(\"enter 6 to continue to calculator or any other number to exit calculator\"))\n",
    "    if val == 6:\n",
    "        c = True\n",
    "    else :\n",
    "        c = False "
   ]
  },
  {
   "cell_type": "code",
   "execution_count": 113,
   "id": "3b38a475-23cf-4042-bea0-15e8c25674b9",
   "metadata": {},
   "outputs": [],
   "source": [
    "# 20.Write a program that determines the roots of a cubic equation using the Cardano formula."
   ]
  },
  {
   "cell_type": "code",
   "execution_count": 114,
   "id": "e64f0957-4747-4bd9-ba32-c1ee02dbfc17",
   "metadata": {},
   "outputs": [
    {
     "name": "stdin",
     "output_type": "stream",
     "text": [
      "Enter coefficient a : 32\n",
      "Enter coefficient b : 3\n",
      "Enter coefficient c : 23\n",
      "Enter coefficient d : 32\n"
     ]
    },
    {
     "name": "stdout",
     "output_type": "stream",
     "text": [
      "Root: x1 = -0.7890404043752992\n"
     ]
    }
   ],
   "source": [
    "def cube_root(x):\n",
    "    if x>= 0:\n",
    "        return x**(1/3)\n",
    "    else :\n",
    "        return -(-x)**(1/3)\n",
    "    \n",
    "# Get the coefficients from the user\n",
    "a = float(input(\"Enter coefficient a :\"))\n",
    "b = float(input(\"Enter coefficient b :\"))\n",
    "c = float(input(\"Enter coefficient c :\"))\n",
    "d = float(input(\"Enter coefficient d :\"))\n",
    "\n",
    "# calculate p and q for the depressed cubic equation \n",
    "p = (3*a*c - b**2) / (3*a**2)\n",
    "q = (2*b**3 -9*a*b*c + 27*a**2*d) / (27*a**3)\n",
    "\n",
    "# calculate discriminant\n",
    "D = (q/2)**2 + (p/3)**3\n",
    "\n",
    "if D < 0 :\n",
    "    print(\"this equation has complex roots, which can't be computed without cmath.\")\n",
    "else :\n",
    "    # cardano formula for depressed cubic equation\n",
    "    t1 = cube_root(-q/2 + D**0.5) + cube_root(-q/2 - D**0.5)\n",
    "    \n",
    "    #Tranform back to original equation\n",
    "    x1 = t1 - b / (3*a)\n",
    "    print(f\"Root: x1 = {x1}\")\n",
    "    \n",
    "    # In cases where D>0 , there are two additional real roots, but those require complex arithmetic.\n",
    "    #since we're not using cmath, they are not computed in this code."
   ]
  },
  {
   "cell_type": "code",
   "execution_count": null,
   "id": "f2298418-7d50-4f1f-8e62-1cbe304cd474",
   "metadata": {},
   "outputs": [],
   "source": [
    "Advanced level:"
   ]
  },
  {
   "cell_type": "code",
   "execution_count": 115,
   "id": "8723049e-7dc7-4344-bb40-c8a696a28a15",
   "metadata": {},
   "outputs": [],
   "source": [
    "# 21.Create a program that calculates the income tax based on the \"user's\" income and tax brackets."
   ]
  },
  {
   "cell_type": "code",
   "execution_count": 116,
   "id": "76d155e6-563f-4128-bcdf-c17701703716",
   "metadata": {},
   "outputs": [
    {
     "name": "stdin",
     "output_type": "stream",
     "text": [
      "Enter your income (in Rs.):  453\n"
     ]
    },
    {
     "name": "stdout",
     "output_type": "stream",
     "text": [
      "Based on an income of Rs. 453.00, your estimated income tax is Rs.  0.00.\n"
     ]
    }
   ],
   "source": [
    "#Get the user's income\n",
    "income = float(input(\"Enter your income (in Rs.): \"))\n",
    "\n",
    "#calculate income tax based on the given tax brackets\n",
    "if income <= 250000:\n",
    "    tax = 0\n",
    "elif income <= 500000:\n",
    "    tax = 0.05 * (income - 250000)\n",
    "elif income <= 1000000:\n",
    "    tax = 12500 + 0.20 * (income - 500000)\n",
    "else :\n",
    "    tax = 112500 - 0.30 * (income - 1000000)\n",
    "    \n",
    "print(f\"Based on an income of Rs.{income : .2f}, your estimated income tax is Rs. {tax : .2f}.\")"
   ]
  },
  {
   "cell_type": "code",
   "execution_count": 117,
   "id": "7b922bfc-7862-43cb-9248-e098330816f4",
   "metadata": {},
   "outputs": [],
   "source": [
    "# 22.Write a program that simulates a rock-paper-scissors game against the computer."
   ]
  },
  {
   "cell_type": "code",
   "execution_count": 118,
   "id": "d9053742-8d0c-4192-bada-15c4beb18cce",
   "metadata": {},
   "outputs": [
    {
     "name": "stdin",
     "output_type": "stream",
     "text": [
      "Enter your move (rock, paper , scissors) or 'exit' to quit : rock\n"
     ]
    },
    {
     "name": "stdout",
     "output_type": "stream",
     "text": [
      "Computer chose : rock\n",
      "It is a draw!\n"
     ]
    },
    {
     "name": "stdin",
     "output_type": "stream",
     "text": [
      "Enter your move (rock, paper , scissors) or 'exit' to quit : quit\n"
     ]
    },
    {
     "name": "stdout",
     "output_type": "stream",
     "text": [
      "invalid choice. Please selct rock, paper, or scissors.\n"
     ]
    },
    {
     "name": "stdin",
     "output_type": "stream",
     "text": [
      "Enter your move (rock, paper , scissors) or 'exit' to quit : exit\n"
     ]
    }
   ],
   "source": [
    "choices = ['rock' ,'paper' , 'scissors']\n",
    "computer_move_index = 0\n",
    "\n",
    "while True:\n",
    "    user_choice = input(\"Enter your move (rock, paper , scissors) or 'exit' to quit :\").lower()\n",
    "    \n",
    "    if user_choice == 'exit' :\n",
    "        break\n",
    "        \n",
    "    if user_choice not in choices :\n",
    "        print(\"invalid choice. Please selct rock, paper, or scissors.\")\n",
    "        continue\n",
    "       \n",
    "    comp_choice = choices[computer_move_index]\n",
    "    computer_move_index = (computer_move_index + 1) % 3\n",
    "    print(f\"Computer chose : {comp_choice}\")\n",
    "    \n",
    "    if user_choice == comp_choice:\n",
    "        print(\"It is a draw!\")\n",
    "    elif (user_choice == 'rock' and comp_choice == 'scissors') or \\\n",
    "         (user_choice == 'scissors' and comp_choice == 'paper') or \\\n",
    "         (user_choice == 'paper' and comp_choice == 'rock'):\n",
    "        print(\"You win!\")\n",
    "        \n",
    "    else:\n",
    "        print(\"Computer wins!\")\n",
    "        "
   ]
  },
  {
   "cell_type": "code",
   "execution_count": 120,
   "id": "223aeb22-459f-4601-94eb-ab68fef0417d",
   "metadata": {},
   "outputs": [],
   "source": [
    "# 23.Develop a program that generates a random password based on user prefernces (length, complexity)."
   ]
  },
  {
   "cell_type": "code",
   "execution_count": 121,
   "id": "e6e224f0-eeef-42e8-9c5a-826c37124ade",
   "metadata": {},
   "outputs": [
    {
     "name": "stdin",
     "output_type": "stream",
     "text": [
      "Enter password length:  8\n",
      "Use digits? (yes/no):  65\n",
      "Use special characters? (yes/no):  *\n",
      "Press ENTER to generate password. Nikhil98486\n"
     ]
    },
    {
     "name": "stdout",
     "output_type": "stream",
     "text": [
      "Generated Password: aVSRSVah\n"
     ]
    }
   ],
   "source": [
    "# Characters for password generation\n",
    "letters = 'abcdefghijklmnopqrstuvwxyz'\n",
    "digits = '0123456789'\n",
    "special_characters = '!@#$%^&*()_+-=[]{}|;:,.<>?'\n",
    "\n",
    "# Asking for user preferences\n",
    "password_length = int(input(\"Enter password length: \"))\n",
    "use_digits = input(\"Use digits? (yes/no): \").lower() == 'yes'\n",
    "use_special_characters = input(\"Use special characters? (yes/no): \").lower() == 'yes'\n",
    "\n",
    "# Building the character set based on user preferences\n",
    "character_set = letters + letters.upper()\n",
    "if use_digits:\n",
    "    character_set += digits\n",
    "if use_special_characters:\n",
    "    character_set += special_characters\n",
    "\n",
    "# Pseudo-random password generation using time\n",
    "password = ''\n",
    "input(\"Press ENTER to generate password.\")\n",
    "for i in range(password_length):\n",
    "    index = (ord(character_set[i % len(character_set)]) * len(password) + i) % len(character_set)\n",
    "    password += character_set[index % len(character_set)]\n",
    "\n",
    "print(f\"Generated Password: {password}\")"
   ]
  },
  {
   "cell_type": "code",
   "execution_count": 122,
   "id": "e1f92cad-f6c1-4dfd-a62b-6287a6e46707",
   "metadata": {},
   "outputs": [],
   "source": [
    "# 24.Create a program that implements a simple text-based adventure game with branching scenariors."
   ]
  },
  {
   "cell_type": "code",
   "execution_count": 123,
   "id": "a556f163-073f-4fb2-b4e1-76d50a7e5ca7",
   "metadata": {},
   "outputs": [
    {
     "name": "stdout",
     "output_type": "stream",
     "text": [
      "Welcome to the Simple Adventure Game!\n",
      "You are standing at the entrance of a dark forest.\n",
      "To enter the forest, type 'forest'.\n"
     ]
    },
    {
     "name": "stdin",
     "output_type": "stream",
     "text": [
      "What will you choose?  Dark forest\n"
     ]
    },
    {
     "name": "stdout",
     "output_type": "stream",
     "text": [
      "\n",
      "Invalid choice. Game Over.\n"
     ]
    }
   ],
   "source": [
    "print(\"Welcome to the Simple Adventure Game!\")\n",
    "print(\"You are standing at the entrance of a dark forest.\")\n",
    "print(\"To enter the forest, type 'forest'.\")\n",
    "\n",
    "choice1 = input(\"What will you choose? \")\n",
    "\n",
    "if choice1 == \"forest\":\n",
    "    print(\"\\nYou bravely enter the dark forest.\")\n",
    "    print(\"After a while, you stumble upon a mysterious old hut. Do you enter the hut or continue walking?\")\n",
    "    print(\"Type 'enter' to go inside the hut or 'continue' to keep walking.\")\n",
    "\n",
    "    choice2 = input(\"Your choice: \")\n",
    "\n",
    "    if choice2 == \"enter\":\n",
    "        print(\"\\nInside the hut, you find a treasure chest filled with gold! Congratulations, you win!\")\n",
    "    elif choice2 == \"continue\":\n",
    "        print(\"\\nYou continue your journey in the forest and eventually find your way out. Adventure completed!\")\n",
    "\n",
    "    else:\n",
    "        print(\"\\nInvalid choice. Game Over.\")\n",
    "else:\n",
    "        print(\"\\nInvalid choice. Game Over.\")"
   ]
  },
  {
   "cell_type": "code",
   "execution_count": 124,
   "id": "0970aad3-55a1-4d9f-a523-53f599db283b",
   "metadata": {},
   "outputs": [],
   "source": [
    "#25.Build a program that solves a linear equation for x, considering different cases.\n"
   ]
  },
  {
   "cell_type": "code",
   "execution_count": 125,
   "id": "5be881d1-2f8a-48d9-8cbe-1d2fcf2b95b9",
   "metadata": {},
   "outputs": [
    {
     "name": "stdout",
     "output_type": "stream",
     "text": [
      "Welcome to the Linear Equation Solver!\n",
      "Given an equation in the form ax + b = c\n"
     ]
    },
    {
     "name": "stdin",
     "output_type": "stream",
     "text": [
      "Enter the value of a:  65\n",
      "Enter the value of b:  353\n",
      "Enter the value of c:  25\n"
     ]
    },
    {
     "name": "stdout",
     "output_type": "stream",
     "text": [
      "The solution for x is: -5.046153846153846\n"
     ]
    }
   ],
   "source": [
    "'''\n",
    "However, there are different cases:\n",
    "1. If \\( a = 0 \\) and \\( b \\neq c \\), then the equation has no solution because it translates to a statement like \"0 = 1\".\n",
    "2. If \\( a = 0 \\) and \\( b = c \\), then any value of \\( x \\) satisfies the equation, meaning it's an identity like \"0 = 0\".\n",
    "3. If \\( a \\neq 0 \\), then \\( x \\) has a unique solution.\n",
    "\n",
    "'''\n",
    "print(\"Welcome to the Linear Equation Solver!\")\n",
    "print(\"Given an equation in the form ax + b = c\")\n",
    "\n",
    "# Input coefficients from the user\n",
    "a = float(input(\"Enter the value of a: \"))\n",
    "b = float(input(\"Enter the value of b: \"))\n",
    "c = float(input(\"Enter the value of c: \"))\n",
    "\n",
    "# Case when a is 0\n",
    "if a == 0:\n",
    "    if b == c:\n",
    "        print(\"The equation is true for all values of x.\")\n",
    "    else:\n",
    "        print(\"The equation has no solution.\")\n",
    "else:\n",
    "    # Calculate the value of x\n",
    "    x = (c - b) / a\n",
    "    print(f\"The solution for x is: {x}\")"
   ]
  },
  {
   "cell_type": "code",
   "execution_count": 126,
   "id": "d29aacee-86d6-44e4-be50-47f5290799bc",
   "metadata": {},
   "outputs": [],
   "source": [
    "#26.Write a program that simulates a basic quiz game with multiple-choice questions and scoring."
   ]
  },
  {
   "cell_type": "code",
   "execution_count": 127,
   "id": "22585d39-cdb8-4ed6-a9e9-3a0904c61587",
   "metadata": {},
   "outputs": [
    {
     "name": "stdout",
     "output_type": "stream",
     "text": [
      "Welcome to the Quiz Game ! \n"
     ]
    },
    {
     "name": "stdin",
     "output_type": "stream",
     "text": [
      "\n",
      "Which plant is known as the red planet? /n 1.ja, 2, dd, 3.Mars   985\n"
     ]
    },
    {
     "name": "stdout",
     "output_type": "stream",
     "text": [
      "incorrect answer, you get 0 point\n"
     ]
    },
    {
     "name": "stdin",
     "output_type": "stream",
     "text": [
      "\n",
      "Which of these is not a programming language?/n 1.ja, 2,dd, 3.HTML  356\n"
     ]
    },
    {
     "name": "stdout",
     "output_type": "stream",
     "text": [
      "incorrect answer, you get 0 point\n"
     ]
    },
    {
     "name": "stdin",
     "output_type": "stream",
     "text": [
      "\n",
      "which animal is known as the king of the jungle? /n 1.ja, 2, dd, 3. Lion  65\n"
     ]
    },
    {
     "name": "stdout",
     "output_type": "stream",
     "text": [
      "incorrect answer, you get 0 point\n",
      "\n",
      "Your final score is : 0/3\n"
     ]
    }
   ],
   "source": [
    "print(\"Welcome to the Quiz Game ! \")\n",
    "\n",
    "questions = {\n",
    "    \"Which plant is known as the red planet? /n 1.ja, 2, dd, 3.Mars \": \"mars\",\n",
    "    \"Which of these is not a programming language?/n 1.ja, 2,dd, 3.HTML\": \"html\",\n",
    "    \"which animal is known as the king of the jungle? /n 1.ja, 2, dd, 3. Lion\": \"lion\"\n",
    "}\n",
    "\n",
    "score = 0\n",
    "\n",
    "for q, a in questions.items():\n",
    "    if input(f\"\\n{q} \") == a :\n",
    "        score +=1\n",
    "        print(f\"correct answer, you get 1 point\")\n",
    "    else :\n",
    "        print(f\"incorrect answer, you get 0 point\")\n",
    "    \n",
    "print(f\"\\nYour final score is : {score}/{len(questions)}\")"
   ]
  },
  {
   "cell_type": "code",
   "execution_count": 128,
   "id": "40e0e483-fcf2-4abd-bb43-908253644604",
   "metadata": {},
   "outputs": [],
   "source": [
    "# 27.Develop a program that determines whether a given year is a prime number or not."
   ]
  },
  {
   "cell_type": "code",
   "execution_count": 129,
   "id": "1c957ed4-12d5-451a-914e-f0dd35a32b29",
   "metadata": {},
   "outputs": [
    {
     "name": "stdin",
     "output_type": "stream",
     "text": [
      "Enter the year : 986\n"
     ]
    },
    {
     "name": "stdout",
     "output_type": "stream",
     "text": [
      "986 is not a prime number.\n"
     ]
    }
   ],
   "source": [
    "year = int(input(\"Enter the year :\"))\n",
    "if year <2 :\n",
    "    print(f\"{year} is not a prime number.\")\n",
    "else :\n",
    "    is_prime = True\n",
    "    for i in range(2, year):\n",
    "        if year%i  == 0:\n",
    "            is_prime = False \n",
    "            break\n",
    "    if is_prime:\n",
    "        print(f\"{year} is a prime number.\")\n",
    "    else :\n",
    "        print(f\"{year} is not a prime number.\")"
   ]
  },
  {
   "cell_type": "code",
   "execution_count": 130,
   "id": "c2fcd539-ec4f-48a8-ad4a-d3f2d720afb1",
   "metadata": {},
   "outputs": [],
   "source": [
    "# 28.Create a program that sorts three numbers in ascending order using conditional statements."
   ]
  },
  {
   "cell_type": "code",
   "execution_count": 131,
   "id": "984a0eab-0d52-4c68-8440-9cebac67468b",
   "metadata": {},
   "outputs": [
    {
     "name": "stdin",
     "output_type": "stream",
     "text": [
      "Enter the first number : 87\n",
      "Enter the second number : 65\n",
      "Enter the third number : 35\n"
     ]
    },
    {
     "name": "stdout",
     "output_type": "stream",
     "text": [
      "The numbers in ascending order are : 35.0, 65.0, 87.0\n"
     ]
    }
   ],
   "source": [
    "a = float(input(\"Enter the first number :\"))\n",
    "b = float(input(\"Enter the second number :\"))\n",
    "c = float(input(\"Enter the third number :\"))\n",
    "\n",
    "if a > b:\n",
    "    a, b = b, a\n",
    "if b > c:\n",
    "    b, c = c, b\n",
    "if a > b:\n",
    "    a, b = b, a\n",
    "    \n",
    "print(f\"The numbers in ascending order are : {a}, {b}, {c}\")"
   ]
  },
  {
   "cell_type": "code",
   "execution_count": 132,
   "id": "bee2abb4-8861-4037-bad8-27202af76df8",
   "metadata": {},
   "outputs": [],
   "source": [
    "# 29.Build a program that determines the roots of a quadtic equation using numerical methods."
   ]
  },
  {
   "cell_type": "code",
   "execution_count": 133,
   "id": "5058e7c3-58d6-495f-87b6-18482bc13c78",
   "metadata": {},
   "outputs": [
    {
     "name": "stdin",
     "output_type": "stream",
     "text": [
      "Enter coefficient a:  45\n",
      "Enter coefficient b:  56\n",
      "Enter coefficient c:  32\n",
      "Enter coefficient d:  62\n",
      "Enter coefficient e:  32\n",
      "Enter initial guess for the root:  3\n"
     ]
    },
    {
     "name": "stdout",
     "output_type": "stream",
     "text": [
      "Found a root after 9 iterations: -0.60123990620492\n"
     ]
    }
   ],
   "source": [
    "# Coefficients for the quartic equation ax^4 + bx^3 + cx^2 + dx + e = 0\n",
    "a = float(input(\"Enter coefficient a: \"))\n",
    "b = float(input(\"Enter coefficient b: \"))\n",
    "c = float(input(\"Enter coefficient c: \"))\n",
    "d = float(input(\"Enter coefficient d: \"))\n",
    "e = float(input(\"Enter coefficient e: \"))\n",
    "\n",
    "# Initial guess\n",
    "x0 = float(input(\"Enter initial guess for the root: \"))\n",
    "tolerance = 1e-6\n",
    "max_iterations = 1000\n",
    "iteration = 0\n",
    "\n",
    "while iteration < max_iterations:\n",
    "    # Evaluate the polynomial at x0\n",
    "    f_x0 = a*(x0**4) + b*(x0**3) + c*(x0**2) + d*x0 + e\n",
    "    \n",
    "    # Evaluate the derivative of the polynomial at x0\n",
    "    df_x0 = 4*a*(x0**3) + 3*b*(x0**2) + 2*c*x0 + d\n",
    "\n",
    "    if abs(df_x0) < tolerance:\n",
    "        print(\"Derivative is too small. Try a different initial guess.\")\n",
    "        break\n",
    "\n",
    "    # Newton-Raphson update\n",
    "    x1 = x0 - f_x0/df_x0\n",
    "    \n",
    "    # Check for convergence\n",
    "    if abs(x1 - x0) < tolerance:\n",
    "        print(f\"Found a root after {iteration} iterations: {x1}\")\n",
    "        break\n",
    "\n",
    "    x0 = x1\n",
    "    iteration += 1\n",
    "else:\n",
    "    print(\"Newton-Raphson method did not converge.\")"
   ]
  },
  {
   "cell_type": "code",
   "execution_count": 134,
   "id": "52b3798d-17d6-424b-9746-5ca2b826f421",
   "metadata": {},
   "outputs": [],
   "source": [
    "# 30.Write a program that calculates the BMI (Body Mass Index) and provides health recommendations based on the \"user's input\"."
   ]
  },
  {
   "cell_type": "code",
   "execution_count": 135,
   "id": "934d33ad-2fa2-40a7-8b02-fac4d57d55f6",
   "metadata": {},
   "outputs": [
    {
     "name": "stdin",
     "output_type": "stream",
     "text": [
      "Enter your weight in kilograms (kg):  35\n",
      "Enter your height in meters (m) : 23\n"
     ]
    },
    {
     "name": "stdout",
     "output_type": "stream",
     "text": [
      "Your BMI is : 0.07\n",
      "You are severely underweight. Please consult a doctor.\n"
     ]
    }
   ],
   "source": [
    "#GEt weight and height from the user\n",
    "weight = float(input(\"Enter your weight in kilograms (kg): \"))\n",
    "height = float(input(\"Enter your height in meters (m) :\" ))\n",
    "\n",
    "#calculate BMI\n",
    "bmi = weight / (height ** 2)\n",
    "\n",
    "#Display the calculated BMI\n",
    "print(f\"Your BMI is : {bmi :.2f}\")\n",
    "\n",
    "#provide health recommendations based on BMI\n",
    "if bmi < 16:\n",
    "    print(\"You are severely underweight. Please consult a doctor.\")\n",
    "elif 16 <= bmi < 16.9:\n",
    "    print(\"You are underweight. consider consulting a healthcare professional for guidance.\")\n",
    "elif 17 <= bmi < 18.4:\n",
    "    print(\"You are mildly underweight. Maintain a balanced diet and regular exercise.\")\n",
    "elif 18.5 <= bmi <= 24.9:\n",
    "    print(\"You have a healthy weight. Continue maintaing a balanced deit and regular exercise.\")\n",
    "elif 25 <= bmi <= 29.9:\n",
    "    print(\"You are overweight. Engage in regular physical activity and monitor your diet.\")\n",
    "elif 30<=bmi<=34.9:\n",
    "    print(\"You are in obesity class I. consider consulting a healthcare professional.\")\n",
    "elif 35<=bmi<=39.9:\n",
    "    print(\"You are in obesity class II. It's important to consult a healthcare professional.\")\n",
    "else:\n",
    "    print(\"You are in obesity class III. Please consult a doctor immediately for guidance.\")"
   ]
  },
  {
   "cell_type": "code",
   "execution_count": null,
   "id": "5da09442-f50e-4bbf-90bf-a8fcf8aaf44f",
   "metadata": {},
   "outputs": [],
   "source": [
    "Challenge level:"
   ]
  },
  {
   "cell_type": "code",
   "execution_count": 136,
   "id": "64414783-33f4-4b7d-a560-2f1282d4786a",
   "metadata": {},
   "outputs": [],
   "source": [
    "# 31.Create a program that validates a password based on complexity rules(length, characters, etc.)."
   ]
  },
  {
   "cell_type": "code",
   "execution_count": 144,
   "id": "788932ab-08de-4241-b273-30f4de6e80ab",
   "metadata": {},
   "outputs": [
    {
     "name": "stdin",
     "output_type": "stream",
     "text": [
      "Enter your password:  nikhil9848*\n"
     ]
    },
    {
     "name": "stdout",
     "output_type": "stream",
     "text": [
      "Password should conatin at least one uppercase letter.\n"
     ]
    }
   ],
   "source": [
    "import string\n",
    "def validate_password(password):\n",
    "    if len(password) <8:\n",
    "        return  \"password should be at least 8 characters long.\"\n",
    "    \n",
    "    if not any(char.isdigit() for char in password):\n",
    "        return \"Password should contain at least one numerical digit.\"\n",
    "    \n",
    "    if not any(char.isupper() for char in password):\n",
    "        return \"Password should conatin at least one uppercase letter.\"\n",
    "    \n",
    "    if not any(char.islower() for char in password):\n",
    "        return \"Password should contain at least one lowercase letter.\"\n",
    "    \n",
    "    special_characters = string.punctuation\n",
    "    if not any(char in special_charcters for char in password):\n",
    "        return \"Password should contain at least one of the special charcters like @, #, $, etc.\"\n",
    "    \n",
    "    return \"Password is valid.\"\n",
    "\n",
    "password = input(\"Enter your password: \")\n",
    "\n",
    "#Validate the password\n",
    "validation_message = validate_password(password)\n",
    "\n",
    "print(validation_message)"
   ]
  },
  {
   "cell_type": "code",
   "execution_count": 145,
   "id": "34ad80be-180d-44d4-9a44-3d44e3abffd9",
   "metadata": {},
   "outputs": [],
   "source": [
    "# 32.Develop a program that performs matrix addition and substraction based on user input."
   ]
  },
  {
   "cell_type": "code",
   "execution_count": 146,
   "id": "53ddb005-36f3-4136-abf6-57d17e1da6cb",
   "metadata": {},
   "outputs": [
    {
     "name": "stdout",
     "output_type": "stream",
     "text": [
      "[[10, 10, 10], [10, 10, 10], [10, 10, 10]] \n",
      "\n",
      "[[8, 6, 4], [2, 0, -2], [-4, -6, -8]] \n",
      "\n"
     ]
    }
   ],
   "source": [
    "l1 = [[1,2,3],\n",
    "      [4,5,6],\n",
    "      [7,8,9]\n",
    "]\n",
    "\n",
    "l2 = [[9,8,7],\n",
    "      [6,5,4],\n",
    "      [3,2,1]\n",
    "]\n",
    "\n",
    "a = [] # to store sum\n",
    "b = [] # to store difference\n",
    "\n",
    "for i in range(3):\n",
    "    for j in range(3):\n",
    "        a.append(l1[i][j]+l2[i][j])\n",
    "        b.append(l2[i][j]-l1[i][j])\n",
    "        \n",
    "addition_matrix = [a[0:3],\n",
    "                   a[3:6],\n",
    "                   a[6:9]\n",
    "                  ]\n",
    "    \n",
    "substration_matrix = [b[0:3],\n",
    "                      b[3:6],\n",
    "                      b[6:9]\n",
    "                     ]\n",
    "print(addition_matrix,'\\n')\n",
    "print(substration_matrix,'\\n')"
   ]
  },
  {
   "cell_type": "code",
   "execution_count": 147,
   "id": "964ef0c3-ecd9-4be3-af7b-82c77fb68ffe",
   "metadata": {},
   "outputs": [],
   "source": [
    "# 33. Write a program that calculates the greatest common divisor (GCD) of two numbers using the Euclidean algorithm."
   ]
  },
  {
   "cell_type": "code",
   "execution_count": 148,
   "id": "7709798d-a7af-493e-acec-0369f4730ce2",
   "metadata": {},
   "outputs": [
    {
     "name": "stdin",
     "output_type": "stream",
     "text": [
      "Enter the first number : 45\n",
      "Enter the second number : 356\n"
     ]
    },
    {
     "name": "stdout",
     "output_type": "stream",
     "text": [
      "The GCD of the numbers is : 1\n"
     ]
    }
   ],
   "source": [
    "#take two numbersas input\n",
    "num1 = int(input(\"Enter the first number :\"))\n",
    "num2 = int(input(\"Enter the second number :\"))\n",
    "\n",
    "#Ensure num1 is the larger number \n",
    "if num2 > num1:\n",
    "    num1, num2 = num2, num1\n",
    "    \n",
    "while num2 != 0:\n",
    "    temp = num2\n",
    "    num2 = num1% num2\n",
    "    num1 = temp\n",
    "    \n",
    "print(f\"The GCD of the numbers is : {num1}\")"
   ]
  },
  {
   "cell_type": "code",
   "execution_count": 149,
   "id": "fbb1c69b-1e75-48ef-b894-72a54337574a",
   "metadata": {},
   "outputs": [],
   "source": [
    "# 4.Build a program that performs matrix multiplication using nested loops and conditional statements."
   ]
  },
  {
   "cell_type": "code",
   "execution_count": 150,
   "id": "7cb5ebc2-f409-4ec7-8c89-a6280949d9c9",
   "metadata": {},
   "outputs": [
    {
     "name": "stdout",
     "output_type": "stream",
     "text": [
      "[114, 160, 60, 27]\n",
      "[0, 0, 0, 0]\n",
      "[0, 0, 0, 0]\n",
      "[114, 160, 60, 27]\n",
      "[74, 97, 73, 14]\n",
      "[0, 0, 0, 0]\n",
      "[114, 160, 60, 27]\n",
      "[74, 97, 73, 14]\n",
      "[119, 157, 112, 23]\n"
     ]
    }
   ],
   "source": [
    "# 3x3 matrix\n",
    "x = [[12,7,3],\n",
    "    [4 ,5,6],\n",
    "    [7 ,8,9]]\n",
    "\n",
    "# 3x4 matrix \n",
    "y = [[5,8,1,2],\n",
    "    [6,7,3,0],\n",
    "    [4,5,9,1]]\n",
    "\n",
    "#result is 3x4\n",
    "result = [[0,0,0,0],\n",
    "         [0,0,0,0],\n",
    "         [0,0,0,0]]\n",
    "\n",
    "#iterate through rows of x\n",
    "for i in range(len(x)):\n",
    "    #iterate through columns of y\n",
    "    for j in range(len(y[0])):\n",
    "        #iterate through rows of y\n",
    "        for k in range(len(y)):\n",
    "            result[i][j] += x[i][k] * y[k][j]\n",
    "    for r in result:\n",
    "        print(r)"
   ]
  },
  {
   "cell_type": "code",
   "execution_count": 151,
   "id": "225737ea-e8f2-49e9-924c-f37c250dbf52",
   "metadata": {},
   "outputs": [],
   "source": [
    "#35.Create a program that simulates a basic text-based tic-tac-toe game against the computer."
   ]
  },
  {
   "cell_type": "code",
   "execution_count": 152,
   "id": "7802b07d-fdea-4901-8b7c-cd5206135667",
   "metadata": {},
   "outputs": [
    {
     "name": "stdout",
     "output_type": "stream",
     "text": [
      "\t\t\t  Tic-Tac-Toe\n",
      "\n",
      "\n",
      "Choose a cell numbered from 1 to 9 as below and play\n",
      "\n",
      "\n",
      "\t\t\t  1 | 2  | 3  \n",
      "\t\t\t--------------\n",
      "\t\t\t  4 | 5  | 6  \n",
      "\t\t\t--------------\n",
      "\t\t\t  7 | 8  | 9  \n",
      "\n",
      "\n",
      "-\t-\t-\t-\t-\t-\t-\t-\t-\t-\n",
      "\n",
      "\n",
      "COMPUTER has put a O in cell 9\n",
      "\n",
      "\n",
      "\n",
      "\t\t\t    |    |    \n",
      "\t\t\t--------------\n",
      "\t\t\t    |    |    \n",
      "\t\t\t--------------\n",
      "\t\t\t    |    | O  \n",
      "\n",
      "\n",
      "HUMAN has put a X in cell 2\n",
      "\n",
      "\n",
      "\n",
      "\t\t\t    | X  |    \n",
      "\t\t\t--------------\n",
      "\t\t\t    |    |    \n",
      "\t\t\t--------------\n",
      "\t\t\t    |    | O  \n",
      "\n",
      "\n",
      "COMPUTER has put a O in cell 7\n",
      "\n",
      "\n",
      "\n",
      "\t\t\t    | X  |    \n",
      "\t\t\t--------------\n",
      "\t\t\t    |    |    \n",
      "\t\t\t--------------\n",
      "\t\t\t  O |    | O  \n",
      "\n",
      "\n",
      "HUMAN has put a X in cell 5\n",
      "\n",
      "\n",
      "\n",
      "\t\t\t    | X  |    \n",
      "\t\t\t--------------\n",
      "\t\t\t    | X  |    \n",
      "\t\t\t--------------\n",
      "\t\t\t  O |    | O  \n",
      "\n",
      "\n",
      "COMPUTER has put a O in cell 1\n",
      "\n",
      "\n",
      "\n",
      "\t\t\t  O | X  |    \n",
      "\t\t\t--------------\n",
      "\t\t\t    | X  |    \n",
      "\t\t\t--------------\n",
      "\t\t\t  O |    | O  \n",
      "\n",
      "\n",
      "HUMAN has put a X in cell 6\n",
      "\n",
      "\n",
      "\n",
      "\t\t\t  O | X  |    \n",
      "\t\t\t--------------\n",
      "\t\t\t    | X  | X  \n",
      "\t\t\t--------------\n",
      "\t\t\t  O |    | O  \n",
      "\n",
      "\n",
      "COMPUTER has put a O in cell 4\n",
      "\n",
      "\n",
      "\n",
      "\t\t\t  O | X  |    \n",
      "\t\t\t--------------\n",
      "\t\t\t  O | X  | X  \n",
      "\t\t\t--------------\n",
      "\t\t\t  O |    | O  \n",
      "\n",
      "\n",
      "COMPUTER has won\n"
     ]
    }
   ],
   "source": [
    "import random\n",
    "import time\n",
    "\n",
    "# Constants for the game\n",
    "COMPUTER = 1\n",
    "HUMAN = 2\n",
    "SIDE = 3\n",
    "COMPUTERMOVE = 'O'\n",
    "HUMANMOVE = 'X'\n",
    "\n",
    "# Function to initialise the game / Tic-Tac-Toe board\n",
    "def initialise():\n",
    "    board = [[' ' for _ in range(SIDE)] for _ in range(SIDE)]\n",
    "    moves = [i for i in range(SIDE*SIDE)]\n",
    "    random.shuffle(moves)\n",
    "    return board, moves\n",
    "\n",
    "# Function to print the Tic-Tac-Toe board\n",
    "def showBoard(board):\n",
    "    print(\"\\n\\n\")\n",
    "    print(\"\\t\\t\\t  {} | {}  | {}  \".format(board[0][0], board[0][1], board[0][2]))\n",
    "    print(\"\\t\\t\\t--------------\")\n",
    "    print(\"\\t\\t\\t  {} | {}  | {}  \".format(board[1][0], board[1][1], board[1][2]))\n",
    "    print(\"\\t\\t\\t--------------\")\n",
    "    print(\"\\t\\t\\t  {} | {}  | {}  \\n\\n\".format(board[2][0], board[2][1], board[2][2]))\n",
    "\n",
    "# Function to show the instructions\n",
    "def showInstructions():\n",
    "    print(\"\\t\\t\\t  Tic-Tac-Toe\\n\\n\")\n",
    "    print(\"Choose a cell numbered from 1 to 9 as below and play\\n\\n\")\n",
    "    print(\"\\t\\t\\t  1 | 2  | 3  \")\n",
    "    print(\"\\t\\t\\t--------------\")\n",
    "    print(\"\\t\\t\\t  4 | 5  | 6  \")\n",
    "    print(\"\\t\\t\\t--------------\")\n",
    "    print(\"\\t\\t\\t  7 | 8  | 9  \\n\\n\")\n",
    "    print(\"-\\t-\\t-\\t-\\t-\\t-\\t-\\t-\\t-\\t-\\n\\n\")\n",
    "\n",
    "# Function to declare the winner of the game\n",
    "def declareWinner(whoseTurn):\n",
    "    if whoseTurn == COMPUTER:\n",
    "        print(\"COMPUTER has won\")\n",
    "    else:\n",
    "        print(\"HUMAN has won\")\n",
    "\n",
    "# Functions to check if any of the rows, columns, or diagonals have been crossed\n",
    "def rowCrossed(board):\n",
    "    for i in range(SIDE):\n",
    "        if board[i][0] == board[i][1] and board[i][1] == board[i][2] and board[i][0] != ' ':\n",
    "            return True\n",
    "    return False\n",
    "\n",
    "def columnCrossed(board):\n",
    "    for i in range(SIDE):\n",
    "        if board[0][i] == board[1][i] and board[1][i] == board[2][i] and board[0][i] != ' ':\n",
    "            return True\n",
    "    return False\n",
    "\n",
    "def diagonalCrossed(board):\n",
    "    if board[0][0] == board[1][1] and board[1][1] == board[2][2] and board[0][0] != ' ':\n",
    "        return True\n",
    "    if board[0][2] == board[1][1] and board[1][1] == board[2][0] and board[0][2] != ' ':\n",
    "        return True\n",
    "    return False\n",
    "\n",
    "# Function to check if the game is over\n",
    "def gameOver(board):\n",
    "    return rowCrossed(board) or columnCrossed(board) or diagonalCrossed(board)\n",
    "\n",
    "# Function to play Tic-Tac-Toe\n",
    "def playTicTacToe(whoseTurn):\n",
    "    board, moves = initialise()\n",
    "    showInstructions()\n",
    "    moveIndex = 0\n",
    "    while not gameOver(board) and moveIndex != SIDE*SIDE:\n",
    "        if whoseTurn == COMPUTER:\n",
    "            x = moves[moveIndex] // SIDE\n",
    "            y = moves[moveIndex] % SIDE\n",
    "            board[x][y] = COMPUTERMOVE\n",
    "            print(\"COMPUTER has put a {} in cell {}\".format(COMPUTERMOVE, moves[moveIndex]+1))\n",
    "            showBoard(board)\n",
    "            moveIndex += 1\n",
    "            whoseTurn = HUMAN\n",
    "        elif whoseTurn == HUMAN:\n",
    "            x = moves[moveIndex] // SIDE\n",
    "            y = moves[moveIndex] % SIDE\n",
    "            board[x][y] = HUMANMOVE\n",
    "            print(\"HUMAN has put a {} in cell {}\".format(HUMANMOVE, moves[moveIndex]+1))\n",
    "            showBoard(board)\n",
    "            moveIndex += 1\n",
    "            whoseTurn = COMPUTER\n",
    "    if not gameOver(board) and moveIndex == SIDE*SIDE:\n",
    "        print(\"It's a draw\")\n",
    "    else:\n",
    "        if whoseTurn == COMPUTER:\n",
    "            whoseTurn = HUMAN\n",
    "        elif whoseTurn == HUMAN:\n",
    "            whoseTurn = COMPUTER\n",
    "        declareWinner(whoseTurn)\n",
    "\n",
    "# Driver function\n",
    "if __name__ == \"__main__\":\n",
    "    # Let us play the game with COMPUTER starting first\n",
    "    playTicTacToe(COMPUTER)\n",
    "    "
   ]
  },
  {
   "cell_type": "code",
   "execution_count": 153,
   "id": "cb0ed495-e8d4-47bf-a6b0-a519920fd59a",
   "metadata": {},
   "outputs": [],
   "source": [
    "# 36.Write a program that generates Fibonacci numbers up to a specified term using iterative methods."
   ]
  },
  {
   "cell_type": "code",
   "execution_count": 156,
   "id": "9ae8669f-78a5-4a2d-a69b-8dbb6504993a",
   "metadata": {},
   "outputs": [
    {
     "name": "stdin",
     "output_type": "stream",
     "text": [
      "Enter a number 15\n"
     ]
    },
    {
     "name": "stdout",
     "output_type": "stream",
     "text": [
      "[0, 1, 1, 2, 3, 5, 8, 13, 21, 34, 55, 89, 144, 233, 377]\n"
     ]
    }
   ],
   "source": [
    "n = int(input(\"Enter a number\"))\n",
    "a = 0\n",
    "b = 1\n",
    "f =[]\n",
    "for i in range(n):\n",
    "    if i == 0 or i == 1:\n",
    "        f.append(i)\n",
    "    else:\n",
    "        s = f[i-2]+f[i-1]\n",
    "        f.append(s)\n",
    "        \n",
    "print(f)"
   ]
  },
  {
   "cell_type": "code",
   "execution_count": 157,
   "id": "4db792d6-879e-4d5c-a52c-74b48c893124",
   "metadata": {},
   "outputs": [],
   "source": [
    "# 37.Develop a program that calculates the nth term of the Fibonacci sequence using memorization."
   ]
  },
  {
   "cell_type": "code",
   "execution_count": 158,
   "id": "35e65ae8-fb8f-4e0d-8000-8f8ae0247ad6",
   "metadata": {},
   "outputs": [
    {
     "name": "stdout",
     "output_type": "stream",
     "text": [
      "1 : 1\n",
      "2 : 1\n",
      "3 : 2\n",
      "4 : 3\n",
      "5 : 5\n",
      "6 : 8\n",
      "7 : 13\n",
      "8 : 21\n",
      "9 : 34\n",
      "10 : 55\n",
      "11 : 89\n",
      "12 : 144\n",
      "13 : 233\n",
      "14 : 377\n",
      "15 : 610\n",
      "16 : 987\n",
      "17 : 1597\n",
      "18 : 2584\n",
      "19 : 4181\n",
      "20 : 6765\n",
      "21 : 10946\n",
      "22 : 17711\n",
      "23 : 28657\n",
      "24 : 46368\n",
      "25 : 75025\n",
      "26 : 121393\n",
      "27 : 196418\n",
      "28 : 317811\n",
      "29 : 514229\n",
      "30 : 832040\n",
      "31 : 1346269\n",
      "32 : 2178309\n",
      "33 : 3524578\n",
      "34 : 5702887\n",
      "35 : 9227465\n",
      "36 : 14930352\n",
      "37 : 24157817\n",
      "38 : 39088169\n",
      "39 : 63245986\n",
      "40 : 102334155\n",
      "41 : 165580141\n",
      "42 : 267914296\n",
      "43 : 433494437\n",
      "44 : 701408733\n",
      "45 : 1134903170\n",
      "46 : 1836311903\n",
      "47 : 2971215073\n",
      "48 : 4807526976\n",
      "49 : 7778742049\n",
      "50 : 12586269025\n"
     ]
    }
   ],
   "source": [
    "#memoization is storing already calculated values in a cache so that they can be used again for faster results\n",
    "\n",
    "fibonacci_cache = {}\n",
    "def fibonacci(n):\n",
    "    if n in fibonacci_cache:\n",
    "        return fibonacci_cache[n]\n",
    "    #compute nth term\n",
    "    if n==1:\n",
    "        value=1\n",
    "    elif n==2:\n",
    "        value=1\n",
    "    elif n>2:\n",
    "        value = fibonacci(n-1) + fibonacci(n-2)\n",
    "        \n",
    "    #cache value in dictionary and then return\n",
    "    fibonacci_cache[n] = value\n",
    "    return value\n",
    "\n",
    "for n in range(1,51):\n",
    "    print(n,':',fibonacci(n))"
   ]
  },
  {
   "cell_type": "code",
   "execution_count": 159,
   "id": "87de1e37-5dab-4476-9224-4b19a429e532",
   "metadata": {},
   "outputs": [],
   "source": [
    "# 38.Create a program that generates a calendar for a given month and year using conditional statements."
   ]
  },
  {
   "cell_type": "code",
   "execution_count": 160,
   "id": "1a9f67e2-c68a-4a4b-ba2d-680d471840f8",
   "metadata": {},
   "outputs": [
    {
     "name": "stdout",
     "output_type": "stream",
     "text": [
      "Calendar for March 2024\n",
      "Mo Tu We Th Fr Sa Su\n",
      "             1  2  3 \n",
      " 4  5  6  7  8  9 10 \n",
      "11 12 13 14 15 16 17 \n",
      "18 19 20 21 22 23 24 \n",
      "25 26 27 28 29 30 31 \n",
      "\n",
      "\n"
     ]
    }
   ],
   "source": [
    "import calendar\n",
    "\n",
    "def generate_calendar(month, year):\n",
    "    # List of month names for display\n",
    "    months = [\n",
    "        \"\", \"January\", \"February\", \"March\", \"April\", \"May\", \"June\",\n",
    "        \"July\", \"August\", \"September\", \"October\", \"November\", \"December\"\n",
    "    ]\n",
    "    \n",
    "    # Days in most months\n",
    "    month_days = [0, 31, 28, 31, 30, 31, 30, 31, 31, 30, 31, 30, 31]\n",
    "\n",
    "    # Check for leap year for February\n",
    "    if month == 2 and (year % 4 == 0 and (year % 100 != 0 or year % 400 == 0)):\n",
    "        month_days[month] = 29\n",
    "\n",
    "    # Start the calendar display\n",
    "    print(f\"Calendar for {months[month]} {year}\")\n",
    "    print(\"Mo Tu We Th Fr Sa Su\")\n",
    "    start_day = calendar.monthrange(year, month)[0]\n",
    "    for _ in range(start_day):\n",
    "        print(\"   \", end='')\n",
    "\n",
    "    # Print the days of the month\n",
    "    for day in range(1, month_days[month] + 1):\n",
    "        print(f\"{day:2} \", end='')\n",
    "        start_day += 1\n",
    "        if start_day == 7:\n",
    "            # Start a new week\n",
    "            print()\n",
    "            start_day = 0\n",
    "    print(\"\\n\")\n",
    "\n",
    "# Test the function\n",
    "generate_calendar(3, 2024)"
   ]
  },
  {
   "cell_type": "code",
   "execution_count": 162,
   "id": "10d87ede-f825-4155-821e-a56835741dba",
   "metadata": {},
   "outputs": [],
   "source": [
    "# 39.Build a program that simulates a basic text-based blackjack game against the computer."
   ]
  },
  {
   "cell_type": "code",
   "execution_count": null,
   "id": "755a5561-0316-489a-8217-867836086dcc",
   "metadata": {},
   "outputs": [
    {
     "name": "stdout",
     "output_type": "stream",
     "text": [
      "Your cards: [9, 10], current score: 19\n",
      "Computer's first card: 10\n"
     ]
    }
   ],
   "source": [
    "import random\n",
    "\n",
    "def deal_card():\n",
    "    \"\"\"Return a randomly chosen card.\"\"\"\n",
    "    cards = [2, 3, 4, 5, 6, 7, 8, 9, 10, 10, 10, 10, 11]  # Values of cards, with 10s for face cards and 11 for Ace\n",
    "    return random.choice(cards)\n",
    "\n",
    "def score(hand):\n",
    "    \"\"\"Return the total score of the hand.\"\"\"\n",
    "    total = sum(hand)\n",
    "    # Adjust for Ace if necessary\n",
    "    if total > 21 and 11 in hand:\n",
    "        hand.remove(11)\n",
    "        hand.append(1)\n",
    "        total = sum(hand)\n",
    "    return total\n",
    "\n",
    "def blackjack():\n",
    "    player_hand = [deal_card(), deal_card()]\n",
    "    computer_hand = [deal_card(), deal_card()]\n",
    "\n",
    "    while True:\n",
    "        player_score = score(player_hand)\n",
    "        computer_score = score(computer_hand)\n",
    "\n",
    "        print(f\"Your cards: {player_hand}, current score: {player_score}\")\n",
    "        print(f\"Computer's first card: {computer_hand[0]}\")\n",
    "\n",
    "        if player_score == 21 or computer_score == 21 or player_score > 21:\n",
    "            break\n",
    "            \n",
    "        should_continue = input(\"Type 'y' to get another card, 'n' to pass: \")\n",
    "\n",
    "        if should_continue == 'y':\n",
    "            player_hand.append(deal_card())\n",
    "        else:\n",
    "            break\n",
    "\n",
    "    while computer_score < 17 and computer_score != 21:\n",
    "        computer_hand.append(deal_card())\n",
    "        computer_score = score(computer_hand)\n",
    "\n",
    "    print(f\"Your final hand: {player_hand}, final score: {player_score}\")\n",
    "    print(f\"Computer's final hand: {computer_hand}, final score: {computer_score}\")\n",
    "\n",
    "    if player_score > 21:\n",
    "        return \"You went over. You lose!\"\n",
    "    elif computer_score > 21:\n",
    "        return \"Computer went over. You win!\"\n",
    "    elif player_score > computer_score:\n",
    "        return \"You win!\"\n",
    "    elif player_score < computer_score:\n",
    "        return \"You lose!\"\n",
    "    else:\n",
    "        return \"It's a draw!\"\n",
    "\n",
    "print(blackjack())"
   ]
  },
  {
   "cell_type": "code",
   "execution_count": null,
   "id": "ead54138-eba5-4486-b42b-d1d3894914db",
   "metadata": {},
   "outputs": [],
   "source": []
  }
 ],
 "metadata": {
  "kernelspec": {
   "display_name": "Python 3 (ipykernel)",
   "language": "python",
   "name": "python3"
  },
  "language_info": {
   "codemirror_mode": {
    "name": "ipython",
    "version": 3
   },
   "file_extension": ".py",
   "mimetype": "text/x-python",
   "name": "python",
   "nbconvert_exporter": "python",
   "pygments_lexer": "ipython3",
   "version": "3.10.8"
  }
 },
 "nbformat": 4,
 "nbformat_minor": 5
}
