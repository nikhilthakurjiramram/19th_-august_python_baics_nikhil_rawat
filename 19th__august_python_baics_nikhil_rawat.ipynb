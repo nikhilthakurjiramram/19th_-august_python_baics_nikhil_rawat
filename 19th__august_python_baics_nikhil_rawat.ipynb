{
  "cells": [
    {
      "cell_type": "code",
      "execution_count": null,
      "id": "f9b15d89-d7b3-4dc8-81d8-8f9fac16a014",
      "metadata": {
        "id": "f9b15d89-d7b3-4dc8-81d8-8f9fac16a014"
      },
      "outputs": [],
      "source": [
        "# 1 Question"
      ]
    },
    {
      "cell_type": "code",
      "execution_count": null,
      "id": "223e3da4-e1a3-43b2-a976-e159cbeb3b80",
      "metadata": {
        "id": "223e3da4-e1a3-43b2-a976-e159cbeb3b80"
      },
      "outputs": [],
      "source": [
        "x = 10"
      ]
    },
    {
      "cell_type": "code",
      "execution_count": null,
      "id": "8ff9fb66-e2ef-43a0-8b24-84ab9ca13e09",
      "metadata": {
        "id": "8ff9fb66-e2ef-43a0-8b24-84ab9ca13e09"
      },
      "outputs": [],
      "source": [
        "y = 5"
      ]
    },
    {
      "cell_type": "code",
      "execution_count": null,
      "id": "34cbe4e5-d8a3-4f62-a543-b415a032bd2e",
      "metadata": {
        "id": "34cbe4e5-d8a3-4f62-a543-b415a032bd2e"
      },
      "outputs": [],
      "source": [
        "#code to swap x and y"
      ]
    },
    {
      "cell_type": "code",
      "execution_count": null,
      "id": "4059c165-69e5-4959-a5da-f6b6a82a1bca",
      "metadata": {
        "id": "4059c165-69e5-4959-a5da-f6b6a82a1bca"
      },
      "outputs": [],
      "source": [
        "x = x+y"
      ]
    },
    {
      "cell_type": "code",
      "execution_count": null,
      "id": "61f7af31-4022-48fa-9b3f-8ca125492e76",
      "metadata": {
        "id": "61f7af31-4022-48fa-9b3f-8ca125492e76"
      },
      "outputs": [],
      "source": [
        "# now x become 15"
      ]
    },
    {
      "cell_type": "code",
      "execution_count": null,
      "id": "b1df07c8-6112-46cf-a16d-178fad670a28",
      "metadata": {
        "id": "b1df07c8-6112-46cf-a16d-178fad670a28"
      },
      "outputs": [],
      "source": [
        "y = x-y"
      ]
    },
    {
      "cell_type": "code",
      "execution_count": null,
      "id": "ad272d53-b9c2-48c3-a767-73a8de2b657e",
      "metadata": {
        "id": "ad272d53-b9c2-48c3-a767-73a8de2b657e"
      },
      "outputs": [],
      "source": [
        "# now y become 10"
      ]
    },
    {
      "cell_type": "code",
      "execution_count": null,
      "id": "b4af4cc5-a200-460f-8120-dd1c730ebbe8",
      "metadata": {
        "id": "b4af4cc5-a200-460f-8120-dd1c730ebbe8"
      },
      "outputs": [],
      "source": [
        "x = x-y"
      ]
    },
    {
      "cell_type": "code",
      "execution_count": null,
      "id": "37919ea5-f674-406e-8ed6-b1d44a344233",
      "metadata": {
        "id": "37919ea5-f674-406e-8ed6-b1d44a344233"
      },
      "outputs": [],
      "source": [
        "# now x become 5"
      ]
    },
    {
      "cell_type": "code",
      "execution_count": null,
      "id": "38f9c4a1-f240-41de-bc9f-eac5c9cc23bb",
      "metadata": {
        "id": "38f9c4a1-f240-41de-bc9f-eac5c9cc23bb",
        "outputId": "18692958-b5d0-44f5-b6c2-8c7cb9ed9396"
      },
      "outputs": [
        {
          "data": {
            "text/plain": [
              "5"
            ]
          },
          "execution_count": 11,
          "metadata": {},
          "output_type": "execute_result"
        }
      ],
      "source": [
        "x"
      ]
    },
    {
      "cell_type": "code",
      "execution_count": null,
      "id": "d6ecf395-a4db-4a7b-b9a5-5e79c8a43148",
      "metadata": {
        "id": "d6ecf395-a4db-4a7b-b9a5-5e79c8a43148",
        "outputId": "5fd15458-4dc7-4c5d-d74e-120c20c6ee95"
      },
      "outputs": [
        {
          "data": {
            "text/plain": [
              "10"
            ]
          },
          "execution_count": 12,
          "metadata": {},
          "output_type": "execute_result"
        }
      ],
      "source": [
        "y"
      ]
    },
    {
      "cell_type": "code",
      "execution_count": null,
      "id": "5664f759-9e82-49a8-b8d4-c30c117e9f6d",
      "metadata": {
        "id": "5664f759-9e82-49a8-b8d4-c30c117e9f6d"
      },
      "outputs": [],
      "source": [
        "# 2 Question"
      ]
    },
    {
      "cell_type": "code",
      "execution_count": null,
      "id": "a0e1f434-cee0-4315-9651-a13cae3abdc5",
      "metadata": {
        "id": "a0e1f434-cee0-4315-9651-a13cae3abdc5"
      },
      "outputs": [],
      "source": [
        "#find  the rectangle area :\"length\" & \"width\""
      ]
    },
    {
      "cell_type": "code",
      "execution_count": null,
      "id": "d089eacb-7eef-44ec-ab0c-c45e561ffd3a",
      "metadata": {
        "id": "d089eacb-7eef-44ec-ab0c-c45e561ffd3a",
        "outputId": "92a985a1-b779-4503-f8e1-d21d39b0c8d3"
      },
      "outputs": [
        {
          "name": "stdin",
          "output_type": "stream",
          "text": [
            "enter the length: 25\n"
          ]
        }
      ],
      "source": [
        "length = float(input('enter the length:'))"
      ]
    },
    {
      "cell_type": "code",
      "execution_count": null,
      "id": "42c1dec6-0316-48ca-85e1-bb5463ac3985",
      "metadata": {
        "id": "42c1dec6-0316-48ca-85e1-bb5463ac3985",
        "outputId": "26ec3a00-ec8a-4ba9-91a4-31c694d6c48f"
      },
      "outputs": [
        {
          "name": "stdin",
          "output_type": "stream",
          "text": [
            "enter he width: 53\n"
          ]
        }
      ],
      "source": [
        "width = float(input('enter he width:'))"
      ]
    },
    {
      "cell_type": "code",
      "execution_count": null,
      "id": "faea48eb-bda1-4df6-9753-b344821e2460",
      "metadata": {
        "id": "faea48eb-bda1-4df6-9753-b344821e2460"
      },
      "outputs": [],
      "source": [
        "area = length * width"
      ]
    },
    {
      "cell_type": "code",
      "execution_count": null,
      "id": "f50b5c96-d526-4800-b9aa-72a869118332",
      "metadata": {
        "id": "f50b5c96-d526-4800-b9aa-72a869118332",
        "outputId": "88089197-2a26-4eb8-b877-66eede8c64e9"
      },
      "outputs": [
        {
          "name": "stdout",
          "output_type": "stream",
          "text": [
            "the area of rectangle= 1325.0\n"
          ]
        }
      ],
      "source": [
        "print(\"the area of rectangle=\",area)"
      ]
    },
    {
      "cell_type": "code",
      "execution_count": null,
      "id": "bb7d35c3-39b4-466a-a971-b89c79074d52",
      "metadata": {
        "id": "bb7d35c3-39b4-466a-a971-b89c79074d52"
      },
      "outputs": [],
      "source": [
        "#Done"
      ]
    },
    {
      "cell_type": "code",
      "execution_count": null,
      "id": "f322c299-98f8-40fc-ae1c-cce56ebb7f3f",
      "metadata": {
        "id": "f322c299-98f8-40fc-ae1c-cce56ebb7f3f"
      },
      "outputs": [],
      "source": [
        "# 3 Question"
      ]
    },
    {
      "cell_type": "code",
      "execution_count": null,
      "id": "d7d5fbfd-4b6b-4064-b0df-f6d248be04a9",
      "metadata": {
        "id": "d7d5fbfd-4b6b-4064-b0df-f6d248be04a9",
        "outputId": "bf037cb3-75ab-42ef-b2de-a1e2196a3547"
      },
      "outputs": [
        {
          "name": "stdin",
          "output_type": "stream",
          "text": [
            "enter the temperature in celsius:\n",
            " 45\n"
          ]
        }
      ],
      "source": [
        "celsius = int(input(\"enter the temperature in celsius:\\n\"))"
      ]
    },
    {
      "cell_type": "code",
      "execution_count": null,
      "id": "1e4a48fb-e1f4-4127-9ee7-399dd24b6072",
      "metadata": {
        "id": "1e4a48fb-e1f4-4127-9ee7-399dd24b6072"
      },
      "outputs": [],
      "source": [
        "fahrenheit = (1.8 * celsius) +32"
      ]
    },
    {
      "cell_type": "code",
      "execution_count": null,
      "id": "75682f71-f56e-494f-808e-24f05e0b85be",
      "metadata": {
        "id": "75682f71-f56e-494f-808e-24f05e0b85be",
        "outputId": "e377b57f-fd5d-4bc1-cf7c-4b58cc30ff43"
      },
      "outputs": [
        {
          "name": "stdout",
          "output_type": "stream",
          "text": [
            "temperaturein fahrenheit : 113.0\n"
          ]
        }
      ],
      "source": [
        "print(\"temperaturein fahrenheit :\",fahrenheit)"
      ]
    },
    {
      "cell_type": "code",
      "execution_count": null,
      "id": "419f9c43-3aa6-4aaf-9f2b-92516256f315",
      "metadata": {
        "id": "419f9c43-3aa6-4aaf-9f2b-92516256f315"
      },
      "outputs": [],
      "source": [
        "# string based Question"
      ]
    },
    {
      "cell_type": "code",
      "execution_count": null,
      "id": "be339427-0d61-4017-9139-6134913d0d02",
      "metadata": {
        "id": "be339427-0d61-4017-9139-6134913d0d02"
      },
      "outputs": [],
      "source": [
        "# 1 Question"
      ]
    },
    {
      "cell_type": "code",
      "execution_count": null,
      "id": "eca31344-131a-4314-aa5c-408bbdf7bcb1",
      "metadata": {
        "id": "eca31344-131a-4314-aa5c-408bbdf7bcb1"
      },
      "outputs": [],
      "source": [
        "s1= 'nikhil   rawat'"
      ]
    },
    {
      "cell_type": "code",
      "execution_count": null,
      "id": "484da27a-a811-4560-b803-2b3d90c99b13",
      "metadata": {
        "id": "484da27a-a811-4560-b803-2b3d90c99b13",
        "outputId": "c7121cb4-dde7-47b7-94e2-2adcb18e31fe"
      },
      "outputs": [
        {
          "name": "stdout",
          "output_type": "stream",
          "text": [
            "14\n"
          ]
        }
      ],
      "source": [
        "print(len(s1))"
      ]
    },
    {
      "cell_type": "code",
      "execution_count": null,
      "id": "9ffe44de-f6e0-4513-b2e7-77d4344ec0f2",
      "metadata": {
        "id": "9ffe44de-f6e0-4513-b2e7-77d4344ec0f2"
      },
      "outputs": [],
      "source": [
        "# 2 Question"
      ]
    },
    {
      "cell_type": "code",
      "execution_count": null,
      "id": "cb284c62-6e38-4af1-b74b-d63ea1cd7ff5",
      "metadata": {
        "colab": {
          "base_uri": "https://localhost:8080/"
        },
        "id": "cb284c62-6e38-4af1-b74b-d63ea1cd7ff5",
        "outputId": "72b01674-02ef-46c3-dd9c-9605f8b84034"
      },
      "outputs": [
        {
          "output_type": "stream",
          "name": "stdout",
          "text": [
            "enter a sentenceNIkhil rawat form delhi\n",
            " Number of vowels in the sentence :7\n"
          ]
        }
      ],
      "source": [
        "def count_vowels(sentence):\n",
        "    vowels = \"aeiouAEIOU\"\n",
        "    count = 0\n",
        "\n",
        "    for char in sentence :\n",
        "        if char in vowels:\n",
        "          count += 1\n",
        "\n",
        "\n",
        "    return count\n",
        "#get input form user\n",
        "user_input = input(\"enter a sentence\")\n",
        "\n",
        "# call the function and display the result\n",
        "result = count_vowels (user_input)\n",
        "print (f\" Number of vowels in the sentence :{result}\")"
      ]
    },
    {
      "cell_type": "code",
      "execution_count": null,
      "id": "d61d45ad-3676-4698-8e3f-d0fb257e2e8e",
      "metadata": {
        "id": "d61d45ad-3676-4698-8e3f-d0fb257e2e8e"
      },
      "outputs": [],
      "source": [
        "# 3 Question"
      ]
    },
    {
      "cell_type": "code",
      "source": [
        "letter =\"ABCDEF\""
      ],
      "metadata": {
        "id": "rmp1xBXeXv7l"
      },
      "id": "rmp1xBXeXv7l",
      "execution_count": null,
      "outputs": []
    },
    {
      "cell_type": "code",
      "source": [
        "letter[::-1]"
      ],
      "metadata": {
        "colab": {
          "base_uri": "https://localhost:8080/",
          "height": 35
        },
        "id": "vRfmLx_GYZBp",
        "outputId": "064bb212-02dd-44df-d6a2-7a7ffd22ac4b"
      },
      "id": "vRfmLx_GYZBp",
      "execution_count": null,
      "outputs": [
        {
          "output_type": "execute_result",
          "data": {
            "text/plain": [
              "'FEDCBA'"
            ],
            "application/vnd.google.colaboratory.intrinsic+json": {
              "type": "string"
            }
          },
          "metadata": {},
          "execution_count": 10
        }
      ]
    },
    {
      "cell_type": "code",
      "source": [
        "# 4 Question"
      ],
      "metadata": {
        "id": "Xhu-6_VyYd-Z"
      },
      "id": "Xhu-6_VyYd-Z",
      "execution_count": null,
      "outputs": []
    },
    {
      "cell_type": "code",
      "source": [
        "def palindrome(s):\n",
        "    if (s==s[::-1]):\n",
        "      return\" the s is a palindrome \"\n",
        "    else:\n",
        "        return\" the s is not palindrome \"\n",
        "#enter user inputs\n",
        "s=input(\"enter s:\")\n",
        "print(palindrome(s))\n",
        "\n"
      ],
      "metadata": {
        "id": "qudg1UgRc8z1",
        "colab": {
          "base_uri": "https://localhost:8080/"
        },
        "outputId": "ca3f4369-8671-476e-94dd-732e3b0abe38"
      },
      "id": "qudg1UgRc8z1",
      "execution_count": null,
      "outputs": [
        {
          "output_type": "stream",
          "name": "stdout",
          "text": [
            "enter s:mom\n",
            " the s is a palindrome \n"
          ]
        }
      ]
    },
    {
      "cell_type": "code",
      "source": [
        "# 5 Question"
      ],
      "metadata": {
        "id": "1dK6hXv-W67s"
      },
      "id": "1dK6hXv-W67s",
      "execution_count": null,
      "outputs": []
    },
    {
      "cell_type": "code",
      "source": [
        "def remove(string):\n",
        "  return string.replace(\" \",\"\")\n",
        "#enter user input\n",
        "string = input(\"enter the string:\" )\n",
        "print(remove(string))"
      ],
      "metadata": {
        "colab": {
          "base_uri": "https://localhost:8080/"
        },
        "id": "WebW97MeZsD0",
        "outputId": "1a7f4e35-0812-4b31-b75f-b5ff64139008"
      },
      "id": "WebW97MeZsD0",
      "execution_count": null,
      "outputs": [
        {
          "output_type": "stream",
          "name": "stdout",
          "text": [
            "enter the string:my name is nikhil rawat \n",
            "mynameisnikhilrawat\n"
          ]
        }
      ]
    },
    {
      "cell_type": "code",
      "source": [],
      "metadata": {
        "id": "ND9Xvzn4bMEp"
      },
      "id": "ND9Xvzn4bMEp",
      "execution_count": null,
      "outputs": []
    }
  ],
  "metadata": {
    "kernelspec": {
      "display_name": "Python 3 (ipykernel)",
      "language": "python",
      "name": "python3"
    },
    "language_info": {
      "codemirror_mode": {
        "name": "ipython",
        "version": 3
      },
      "file_extension": ".py",
      "mimetype": "text/x-python",
      "name": "python",
      "nbconvert_exporter": "python",
      "pygments_lexer": "ipython3",
      "version": "3.10.8"
    },
    "colab": {
      "provenance": []
    }
  },
  "nbformat": 4,
  "nbformat_minor": 5
}