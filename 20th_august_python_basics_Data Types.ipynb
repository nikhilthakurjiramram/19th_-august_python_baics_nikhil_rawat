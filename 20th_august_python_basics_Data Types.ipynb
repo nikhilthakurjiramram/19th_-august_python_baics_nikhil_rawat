{
 "cells": [
  {
   "cell_type": "code",
   "execution_count": 9,
   "id": "27cde30a-be4c-4c03-8533-fb0eb2ebfe7d",
   "metadata": {},
   "outputs": [],
   "source": [
    "# Q1"
   ]
  },
  {
   "cell_type": "code",
   "execution_count": 4,
   "id": "01c3638b-87e0-47c1-8d65-3d7747246b5c",
   "metadata": {},
   "outputs": [
    {
     "name": "stdin",
     "output_type": "stream",
     "text": [
      "enter a string  nikhil\n"
     ]
    },
    {
     "name": "stdout",
     "output_type": "stream",
     "text": [
      "Reversed of string : lihkin\n"
     ]
    }
   ],
   "source": [
    "str= input (\"enter a string \")\n",
    "reverse_string = str[::-1]\n",
    "print (\"Reversed of string :\",reverse_string)"
   ]
  },
  {
   "cell_type": "code",
   "execution_count": 6,
   "id": "81e62f52-841e-45ae-9da4-8a5477433471",
   "metadata": {},
   "outputs": [],
   "source": [
    "# Q2   check if a string is a palindrome "
   ]
  },
  {
   "cell_type": "code",
   "execution_count": 10,
   "id": "1b4db09e-163d-4491-9532-1c6c07410a41",
   "metadata": {},
   "outputs": [
    {
     "name": "stdin",
     "output_type": "stream",
     "text": [
      "enter the string  MOM\n"
     ]
    },
    {
     "name": "stdout",
     "output_type": "stream",
     "text": [
      "a string is palindrome\n"
     ]
    }
   ],
   "source": [
    "s= input (\"enter the string \")\n",
    "d=s.lower()\n",
    "f=s[::-1]\n",
    "if s == f :\n",
    "   print (\"a string is palindrome\")\n",
    "else:\n",
    "   print(\"a string is not palindrome \")"
   ]
  },
  {
   "cell_type": "code",
   "execution_count": 12,
   "id": "79731885-6e28-4bc7-9481-a9478115da37",
   "metadata": {},
   "outputs": [],
   "source": [
    "# Q3  convert a string to uppercase"
   ]
  },
  {
   "cell_type": "code",
   "execution_count": 14,
   "id": "67f35624-74d3-40dd-b1df-003e6bb27cb5",
   "metadata": {},
   "outputs": [
    {
     "name": "stdin",
     "output_type": "stream",
     "text": [
      "enter the string  nikhil\n"
     ]
    },
    {
     "name": "stdout",
     "output_type": "stream",
     "text": [
      "String is converted into uppercase: NIKHIL\n"
     ]
    }
   ],
   "source": [
    "s= input(\"enter the string \")\n",
    "d= s.upper()\n",
    "print (\"String is converted into uppercase:\",d)"
   ]
  },
  {
   "cell_type": "code",
   "execution_count": 15,
   "id": "5186d500-8561-4711-a7ff-daca81663873",
   "metadata": {},
   "outputs": [],
   "source": [
    "# Q4 convert a string to lowercase."
   ]
  },
  {
   "cell_type": "code",
   "execution_count": 16,
   "id": "ad79c27f-10bc-408b-ae6a-863d47f798e7",
   "metadata": {},
   "outputs": [
    {
     "name": "stdout",
     "output_type": "stream",
     "text": [
      "String is converted into lowercase: nikhil rawat\n"
     ]
    }
   ],
   "source": [
    "s= (\"NIKHIl Rawat\")\n",
    "d=s.lower()\n",
    "print (\"String is converted into lowercase:\",d)"
   ]
  },
  {
   "cell_type": "code",
   "execution_count": 17,
   "id": "e5073dbd-918c-416d-92c2-7aead48810a8",
   "metadata": {},
   "outputs": [],
   "source": [
    "# Q5 count number of vowels in a string "
   ]
  },
  {
   "cell_type": "code",
   "execution_count": 19,
   "id": "6ba36615-4e21-496b-a459-b819fe429795",
   "metadata": {},
   "outputs": [
    {
     "name": "stdout",
     "output_type": "stream",
     "text": [
      "A String: mango apple\n",
      "The number of vowels in a string : 4\n"
     ]
    }
   ],
   "source": [
    "s =\"mango apple\"\n",
    "vowel_element = \"aeiouAEIOU\"\n",
    "vowel_count= 0\n",
    "for i in s:\n",
    "    if i in vowel_element:\n",
    "        vowel_count += 1\n",
    "print (\"A String:\",s )\n",
    "print (\"The number of vowels in a string :\",vowel_count)"
   ]
  },
  {
   "cell_type": "code",
   "execution_count": 20,
   "id": "96c31518-f08b-466a-8011-f1a64a4a59d5",
   "metadata": {},
   "outputs": [],
   "source": [
    "# Q6 count the number of consonants in string ."
   ]
  },
  {
   "cell_type": "code",
   "execution_count": 22,
   "id": "e919ed7a-980c-4b4f-b5bb-eaaab4b62f45",
   "metadata": {},
   "outputs": [
    {
     "name": "stdout",
     "output_type": "stream",
     "text": [
      "A String:  nikhil thakur ji pro \n",
      "The number of consonants in string : 11\n"
     ]
    }
   ],
   "source": [
    "s = \"nikhil thakur ji pro \"\n",
    "consonant_element= \"bcdfghjklmnpqrstvwxyzBCDFGHJKLMNPQRSTVWXYZ\"\n",
    "consonant_count = 0\n",
    "for i in s :\n",
    "    if i in consonant_element:\n",
    "       consonant_count +=1\n",
    "print(\"A String: \",s)\n",
    "print (\"The number of consonants in string :\",consonant_count)"
   ]
  },
  {
   "cell_type": "code",
   "execution_count": 23,
   "id": "62745a31-4b5f-4e3d-a4db-a0f0decb5b22",
   "metadata": {},
   "outputs": [],
   "source": [
    "# Q7 Remove all whitespace form a string "
   ]
  },
  {
   "cell_type": "code",
   "execution_count": 26,
   "id": "55e83cb1-d756-4270-a68f-140636f783bc",
   "metadata": {},
   "outputs": [
    {
     "name": "stdout",
     "output_type": "stream",
     "text": [
      "remove space form string : enterthestring\n"
     ]
    }
   ],
   "source": [
    "s= (\"enter the string\")\n",
    "f= s.replace(\" \",\"\")\n",
    "print (\"remove space form string :\",f)"
   ]
  },
  {
   "cell_type": "code",
   "execution_count": 27,
   "id": "976a3ebd-9b84-411e-9ffd-a4f5509978a9",
   "metadata": {},
   "outputs": [],
   "source": [
    "# Q8 find the length of string  without using  the len() function"
   ]
  },
  {
   "cell_type": "code",
   "execution_count": 30,
   "id": "54420ec3-8969-411f-aa91-85d541c35732",
   "metadata": {},
   "outputs": [
    {
     "name": "stdout",
     "output_type": "stream",
     "text": [
      "A String : nikhil is biker lover forn his heart\n",
      "the length if string without using len function : 36\n"
     ]
    }
   ],
   "source": [
    "s=  \"nikhil is biker lover forn his heart\"\n",
    "count_length = 0\n",
    "for i in s :\n",
    "    count_length += 1\n",
    "print (\"A String :\", s)\n",
    "print (\"the length if string without using len function :\",count_length )"
   ]
  },
  {
   "cell_type": "code",
   "execution_count": 31,
   "id": "066bb955-60ca-4548-9700-640d39e459a8",
   "metadata": {},
   "outputs": [],
   "source": [
    "# Q9 check if a string  contains a specific word "
   ]
  },
  {
   "cell_type": "code",
   "execution_count": 33,
   "id": "937cdb8f-22e7-4b5e-885b-9e490d2588ba",
   "metadata": {},
   "outputs": [
    {
     "name": "stdin",
     "output_type": "stream",
     "text": [
      "enter the string  nikhil too smart in his biker group\n",
      "enter a specfic word : too\n"
     ]
    },
    {
     "name": "stdout",
     "output_type": "stream",
     "text": [
      "yes , a string contain a specific word : too\n"
     ]
    }
   ],
   "source": [
    "s= input (\"enter the string \")\n",
    "specific_word =input(\"enter a specfic word :\" )\n",
    "if specific_word in s:\n",
    "    print(\"yes , a string contain a specific word :\",specific_word )\n",
    "else:\n",
    "    print(\"no , a string does't contain a specific word :\",specific_word )"
   ]
  },
  {
   "cell_type": "code",
   "execution_count": 35,
   "id": "61ce2586-b198-4ce4-af33-7c5df3304aae",
   "metadata": {},
   "outputs": [],
   "source": [
    "# Q10 replace a word in string with another word "
   ]
  },
  {
   "cell_type": "code",
   "execution_count": 36,
   "id": "959f4a0d-c07b-4e34-8278-1f7efc005ff2",
   "metadata": {},
   "outputs": [
    {
     "name": "stdin",
     "output_type": "stream",
     "text": [
      "enter the string  nikhil tooo loyals to his frd and family \n",
      "enter the replace word  loyals\n",
      "enter the new word to be replace by old word  smart\n"
     ]
    },
    {
     "name": "stdout",
     "output_type": "stream",
     "text": [
      "final string : nikhil tooo smart to his frd and family \n"
     ]
    }
   ],
   "source": [
    "s=input (\"enter the string \")\n",
    "r= input (\"enter the replace word \")\n",
    "w= input (\"enter the new word to be replace by old word \")\n",
    "d= s.replace(r,w)\n",
    "print (\"final string :\",d)"
   ]
  },
  {
   "cell_type": "code",
   "execution_count": 37,
   "id": "497e457f-ee89-4b1f-8aab-406d6004ecbc",
   "metadata": {},
   "outputs": [],
   "source": [
    "# Q11 count the occurrences of word in string "
   ]
  },
  {
   "cell_type": "code",
   "execution_count": 2,
   "id": "e10d32d9-01b6-498a-8038-1b798e2ed9bf",
   "metadata": {},
   "outputs": [
    {
     "name": "stdout",
     "output_type": "stream",
     "text": [
      "Input String : india is my country.all indians are my family.my country is full of stories and i am pround to i born in this country.\n"
     ]
    },
    {
     "name": "stdin",
     "output_type": "stream",
     "text": [
      "target word  to occur in string : my\n"
     ]
    },
    {
     "name": "stdout",
     "output_type": "stream",
     "text": [
      "count the occurences of word  {'my'} in string: 2 times\n"
     ]
    }
   ],
   "source": [
    "input_string = \"india is my country.all indians are my family.my country is full of stories and i am pround to i born in this country.\"\n",
    "print (\"Input String :\",input_string )\n",
    "target_word  = input (\"target word  to occur in string :\")\n",
    "occu_count = 0\n",
    "word_split= input_string.split()\n",
    "for i in word_split:\n",
    "    if i == target_word :\n",
    "        occu_count +=1\n",
    "print (\"count the occurences of word \",{target_word},\"in string:\",occu_count,\"times\" )        "
   ]
  },
  {
   "cell_type": "code",
   "execution_count": 3,
   "id": "ead5ff5c-5217-49e7-98a7-6d949ef77f79",
   "metadata": {},
   "outputs": [],
   "source": [
    "# Q12 Find the first occurence of word in string "
   ]
  },
  {
   "cell_type": "code",
   "execution_count": 23,
   "id": "c0068160-ab1a-41f4-8359-d7af963d23e1",
   "metadata": {},
   "outputs": [
    {
     "name": "stdout",
     "output_type": "stream",
     "text": [
      "A String:  Full stack data science pro is batch of pwskills.This batch has difference student profile categories\n"
     ]
    },
    {
     "name": "stdin",
     "output_type": "stream",
     "text": [
      "enter word to choose the first occurence in string : data\n"
     ]
    },
    {
     "name": "stdout",
     "output_type": "stream",
     "text": [
      "the first occurence of word'data' in string at index: 11\n"
     ]
    }
   ],
   "source": [
    "input_string = \"Full stack data science pro is batch of pwskills.This batch has difference student profile categories\"\n",
    "print (\"A String: \",input_string )\n",
    "first_occu= input(\"enter word to choose the first occurence in string :\" )\n",
    "index =  input_string.find(first_occu)\n",
    "if index== -1:\n",
    "    print(\"no word is found in string \")\n",
    "else:\n",
    "    print(f\"the first occurence of word'{first_occu}' in string at index:\",index)\n",
    "    "
   ]
  },
  {
   "cell_type": "code",
   "execution_count": 9,
   "id": "63ccde84-eee8-4854-9115-a4ef701e4f7c",
   "metadata": {},
   "outputs": [],
   "source": [
    "# Q13 find the last occurence of a word in string ."
   ]
  },
  {
   "cell_type": "code",
   "execution_count": 18,
   "id": "9cabf7dc-73d0-44ac-8f70-baa651d58d97",
   "metadata": {},
   "outputs": [
    {
     "name": "stdout",
     "output_type": "stream",
     "text": [
      "A String : this is a question regarding  the last occurence. The answer of this question is very easy \n"
     ]
    },
    {
     "name": "stdin",
     "output_type": "stream",
     "text": [
      "enter the word for last occurence question\n"
     ]
    },
    {
     "name": "stdout",
     "output_type": "stream",
     "text": [
      " the last occurenceof word ' question ' in string :  69\n"
     ]
    }
   ],
   "source": [
    "input_string = \"this is a question regarding  the last occurence. The answer of this question is very easy \" \n",
    "print (\"A String :\",input_string)\n",
    "last_occu= input (\"enter the word for last occurence\")\n",
    "index = input_string.rfind(last_occu)\n",
    "if index== -1:\n",
    "    print (\"no word is found in string \")\n",
    "else:\n",
    "    print(f\" the last occurenceof word ' {last_occu} ' in string : \",index)"
   ]
  },
  {
   "cell_type": "code",
   "execution_count": 25,
   "id": "a65cbbaf-0685-4456-b229-28eb63c9fd0e",
   "metadata": {},
   "outputs": [],
   "source": [
    "# Q14 split a string into a list of word "
   ]
  },
  {
   "cell_type": "code",
   "execution_count": 28,
   "id": "004fe2fd-2afa-4477-9264-85a98a9d2432",
   "metadata": {},
   "outputs": [
    {
     "name": "stdout",
     "output_type": "stream",
     "text": [
      "A String: pwskills course\n",
      "split a sting into list of word : ['pwskills', 'course']\n"
     ]
    }
   ],
   "source": [
    "input_string = \"pwskills course\"\n",
    "result  = input_string.split()\n",
    "print (\"A String:\",input_string )\n",
    "print ('split a sting into list of word :', result)"
   ]
  },
  {
   "cell_type": "code",
   "execution_count": 30,
   "id": "fd0d3bc0-2db5-44fd-a479-8db7b05926dc",
   "metadata": {},
   "outputs": [],
   "source": [
    "# Q15 join a list word into a string "
   ]
  },
  {
   "cell_type": "code",
   "execution_count": 4,
   "id": "c6158766-961c-4c3d-88ed-dfe41a8b66a1",
   "metadata": {},
   "outputs": [
    {
     "name": "stdout",
     "output_type": "stream",
     "text": [
      "Input string : ['this', 'is', 'a', 'class']\n",
      "join a list of word into a string: this is a class\n"
     ]
    }
   ],
   "source": [
    "input_string  =['this','is','a','class']\n",
    "print (\"Input string :\",input_string )\n",
    "join_list = \" \".join(input_string)\n",
    "print(\"join a list of word into a string:\",join_list)"
   ]
  },
  {
   "cell_type": "code",
   "execution_count": 5,
   "id": "e8c54ede-3f49-4e51-8fcb-4105c7016f4c",
   "metadata": {},
   "outputs": [],
   "source": [
    "# Q16 Convert a string where words are separated by spaces to one where words are separated by underscores."
   ]
  },
  {
   "cell_type": "code",
   "execution_count": 8,
   "id": "919acdae-390a-495a-a7f7-817021dc884e",
   "metadata": {},
   "outputs": [
    {
     "name": "stdout",
     "output_type": "stream",
     "text": [
      "Input string this is a electornic machine\n",
      "convert space in between string into underscores this_is_a_electornic_machine\n"
     ]
    }
   ],
   "source": [
    "string =\"this is a electornic machine\"\n",
    "print(\"Input string\",string )\n",
    "new_string = string.replace(\" \",\"_\")\n",
    "print (\"convert space in between string into underscores\",new_string )"
   ]
  },
  {
   "cell_type": "code",
   "execution_count": null,
   "id": "793f483e-efbe-47c1-9bb6-c3d34273d58f",
   "metadata": {},
   "outputs": [],
   "source": [
    "# Q17 Check if a string starts with a specific word or phrase."
   ]
  },
  {
   "cell_type": "code",
   "execution_count": 12,
   "id": "1b9507a0-2942-4aa9-8678-e89569372abc",
   "metadata": {},
   "outputs": [
    {
     "name": "stdout",
     "output_type": "stream",
     "text": [
      "A string : this is company\n",
      "A string starts with a specific word or phase : this\n",
      "yes, a string starts with a specific word or phrase\n"
     ]
    }
   ],
   "source": [
    "def specific_word(string,specific):\n",
    "    if specific in string[0::]:\n",
    "        print(\"yes, a string starts with a specific word or phrase\")\n",
    "    else :\n",
    "        print(\"no , a string doesn't start with a specific word or phrase\")\n",
    "\n",
    "input_string = \"this is company\"\n",
    "specific = \"this\"\n",
    "print(\"A string :\",input_string)\n",
    "print(\"A string starts with a specific word or phase :\",specific)\n",
    "specific_word(input_string,specific)"
   ]
  },
  {
   "cell_type": "code",
   "execution_count": 17,
   "id": "fea7f354-d45f-481c-9baa-b34071127029",
   "metadata": {},
   "outputs": [
    {
     "name": "stdout",
     "output_type": "stream",
     "text": [
      "The string starts with the specific word.\n"
     ]
    }
   ],
   "source": [
    "def starts_with_specific_word(string, word):\n",
    "    return string.startswith(word)\n",
    "input_string = \"Hello, world!\"\n",
    "specific_word = \"Hello\"\n",
    "\n",
    "if starts_with_specific_word(input_string, specific_word):\n",
    "    print(\"The string starts with the specific word.\")\n",
    "else:\n",
    "    print(\"The string does not start with the specific word.\")"
   ]
  },
  {
   "cell_type": "code",
   "execution_count": 19,
   "id": "77cacc07-f0d2-475b-bfa3-4470ee7d0119",
   "metadata": {},
   "outputs": [],
   "source": [
    "# Q18.Check if a string ends with a specific word or phrase."
   ]
  },
  {
   "cell_type": "code",
   "execution_count": 20,
   "id": "00303782-5b76-4824-87c1-16fab8d48694",
   "metadata": {},
   "outputs": [
    {
     "name": "stdout",
     "output_type": "stream",
     "text": [
      "A string : this is mnc company\n",
      "A specific end word : company\n",
      "Check if a string ends with specific word or phrase\n",
      "Yes, a string end with a specific word or phrase 'company'\n"
     ]
    }
   ],
   "source": [
    "def specific_word(input_string, specific_end_word):\n",
    "    end = input_string.endswith(specific_end_word)\n",
    "    return end\n",
    "\n",
    "input_string = \"this is mnc company\"\n",
    "specific_end_word = \"company\"\n",
    "print(\"A string :\",input_string)\n",
    "print(\"A specific end word :\",specific_end_word)\n",
    "check_func = specific_word(input_string, specific_end_word)\n",
    "print(\"Check if a string ends with specific word or phrase\")\n",
    "if check_func:\n",
    "    print(f\"Yes, a string end with a specific word or phrase '{specific_end_word}'\")\n",
    "else :\n",
    "    print(f\"No, a string doesn't end with a specific word or phrase '{specific_end_word}'\")"
   ]
  },
  {
   "cell_type": "code",
   "execution_count": 21,
   "id": "617f2449-4fe9-4229-b8fd-6aabcc751297",
   "metadata": {},
   "outputs": [],
   "source": [
    "# Q19.Convert a string to title case(e.g., \"hello world\" to \"Hello World\")."
   ]
  },
  {
   "cell_type": "code",
   "execution_count": 22,
   "id": "a9880853-6821-4cc0-9749-c29e502f5b42",
   "metadata": {},
   "outputs": [
    {
     "name": "stdin",
     "output_type": "stream",
     "text": [
      "enter the string: my name is nikhil rawat\n"
     ]
    },
    {
     "name": "stdout",
     "output_type": "stream",
     "text": [
      "convert a string to title case : My Name Is Nikhil Rawat\n"
     ]
    }
   ],
   "source": [
    "string = input(\"enter the string:\")\n",
    "title_case = string.title()\n",
    "print (\"convert a string to title case :\",title_case)"
   ]
  },
  {
   "cell_type": "code",
   "execution_count": 23,
   "id": "57d9a835-f899-43a3-83ff-640824f7f1f0",
   "metadata": {},
   "outputs": [],
   "source": [
    "# Q20.Find the longest word in a string."
   ]
  },
  {
   "cell_type": "code",
   "execution_count": 1,
   "id": "663d1e32-9b92-4c0d-b4a4-3db91443c3a5",
   "metadata": {},
   "outputs": [
    {
     "name": "stdout",
     "output_type": "stream",
     "text": [
      "Input string : Always positive and confident in every situation\n",
      "The longest word in a string : situation\n"
     ]
    }
   ],
   "source": [
    "from functools import reduce\n",
    "\n",
    "def longest_word_func(input_string):\n",
    "    word_split = input_string.split()\n",
    "    return reduce( lambda x,y : x if len(x) > len(y) else y , word_split)\n",
    "\n",
    "input_string = \"Always positive and confident in every situation\"\n",
    "print(\"Input string :\",input_string)\n",
    "longest = longest_word_func(input_string)\n",
    "if longest :\n",
    "    print(\"The longest word in a string :\",longest)"
   ]
  },
  {
   "cell_type": "code",
   "execution_count": 20,
   "id": "2bc2ced6-0621-4c3c-a017-762d6cebd095",
   "metadata": {},
   "outputs": [],
   "source": [
    "# 21.Find the shortest word in a string."
   ]
  },
  {
   "cell_type": "code",
   "execution_count": 2,
   "id": "33897586-384f-47ff-8df0-62243e5ff37b",
   "metadata": {},
   "outputs": [
    {
     "name": "stdout",
     "output_type": "stream",
     "text": [
      "Input string : Always positive and confident in every situation\n",
      "The shortest word in a string : in\n"
     ]
    }
   ],
   "source": [
    "from functools import reduce \n",
    "\n",
    "def shortest_word_func(input_string):\n",
    "    word_split = input_string.split()\n",
    "    return reduce(lambda x,y : x if len(x) < len(y) else y , word_split)\n",
    "\n",
    "input_string = \"Always positive and confident in every situation\"\n",
    "print(\"Input string :\",input_string)\n",
    "shortest = shortest_word_func(input_string)\n",
    "if shortest :\n",
    "    print(\"The shortest word in a string :\",shortest)"
   ]
  },
  {
   "cell_type": "code",
   "execution_count": 3,
   "id": "d14cbec7-591d-432d-803c-cf3801aac405",
   "metadata": {},
   "outputs": [],
   "source": [
    "# 22.Reverse the order of words in a string."
   ]
  },
  {
   "cell_type": "code",
   "execution_count": 4,
   "id": "11438789-589a-42ab-afff-7ef6e9bd8f17",
   "metadata": {},
   "outputs": [
    {
     "name": "stdout",
     "output_type": "stream",
     "text": [
      "A string : ['machine', 'washing', 'is', 'this']\n",
      "Reverse the order of words in a string : ['this', 'is', 'washing', 'machine']\n"
     ]
    }
   ],
   "source": [
    "def reverse_order(text):\n",
    "    new_text = text[::-1]\n",
    "    return new_text\n",
    "\n",
    "text = [\"machine\",\"washing\",\"is\",\"this\"]\n",
    "reverse_list = reverse_order(text)\n",
    "print(\"A string :\",text)\n",
    "print(\"Reverse the order of words in a string :\",reverse_list)"
   ]
  },
  {
   "cell_type": "code",
   "execution_count": 5,
   "id": "41e30d40-bcdb-4166-8e7c-40de86dd5364",
   "metadata": {},
   "outputs": [],
   "source": [
    "# 23.Check if a string is alphanumeric."
   ]
  },
  {
   "cell_type": "code",
   "execution_count": 6,
   "id": "2639dda7-d39d-42a4-87ae-c2f8f90f4557",
   "metadata": {},
   "outputs": [
    {
     "name": "stdout",
     "output_type": "stream",
     "text": [
      "A string : morning12345\n",
      "Yes, this string is alphanumeric\n"
     ]
    }
   ],
   "source": [
    "def alphanumeric_string(text):\n",
    "    return text.isalnum()   \n",
    "\n",
    "text = \"morning12345\"\n",
    "print(\"A string :\",text)\n",
    "a_string = alphanumeric_string(text)\n",
    "\n",
    "if a_string:\n",
    "    print(\"Yes, this string is alphanumeric\")\n",
    "else :\n",
    "    print(\"no, this string is not alphanumeric\")"
   ]
  },
  {
   "cell_type": "code",
   "execution_count": 7,
   "id": "1f38e3cf-8b50-45d7-908f-46a715297d76",
   "metadata": {},
   "outputs": [],
   "source": [
    "# 24.Extract all digits from a string."
   ]
  },
  {
   "cell_type": "code",
   "execution_count": 8,
   "id": "185f0e1b-6393-4154-a060-1523ca892eeb",
   "metadata": {},
   "outputs": [
    {
     "name": "stdout",
     "output_type": "stream",
     "text": [
      "A string : the456work341is2good\n",
      "Extract all digits from a string : 4563412\n"
     ]
    }
   ],
   "source": [
    "input_string = \"the456work341is2good\"\n",
    "digit_count = \"\"\n",
    "for i in input_string:\n",
    "    if i.isdigit():\n",
    "        digit_count +=i\n",
    "print(\"A string :\",input_string)\n",
    "print(\"Extract all digits from a string :\", digit_count)"
   ]
  },
  {
   "cell_type": "code",
   "execution_count": 9,
   "id": "e36fad2b-77b6-4de9-a132-91fef59b0f05",
   "metadata": {},
   "outputs": [],
   "source": [
    "# 25.Extract all alphabets from a string."
   ]
  },
  {
   "cell_type": "code",
   "execution_count": 10,
   "id": "3c8663bd-3770-4e80-8545-a87a43e0af97",
   "metadata": {},
   "outputs": [
    {
     "name": "stdout",
     "output_type": "stream",
     "text": [
      "this is present alphabet in result python123is245highlevel7language\n",
      "Extract all alphabet from a string : pythonishighlevellanguage\n"
     ]
    }
   ],
   "source": [
    "def extract_alphabet(input_string):\n",
    "    print(\"this is present alphabet in result\",input_string)\n",
    "    alphabet_string = ''.join([char for char in input_string if char.isalpha()])\n",
    "    return alphabet_string\n",
    "\n",
    "\n",
    "input_string = \"python123is245highlevel7language\"\n",
    "output = extract_alphabet(input_string)\n",
    "print(\"Extract all alphabet from a string :\",output)"
   ]
  },
  {
   "cell_type": "code",
   "execution_count": 11,
   "id": "8738617a-8edb-452f-b8b7-de7ea5b90f49",
   "metadata": {},
   "outputs": [],
   "source": [
    "# 26.Count the number of uppercase letters in a string."
   ]
  },
  {
   "cell_type": "code",
   "execution_count": 12,
   "id": "52b912f6-5c69-412f-9254-516ab4d9dcd7",
   "metadata": {},
   "outputs": [
    {
     "name": "stdout",
     "output_type": "stream",
     "text": [
      "input_string : THIS is Uppercase 123 SentEnce\n",
      "count the number of uppercase letters in a string : 7\n"
     ]
    }
   ],
   "source": [
    "def uppercase_letter(input_string):\n",
    "    print(\"input_string :\",input_string)\n",
    "    letter = sum(1 for char in input_string if char.isupper())\n",
    "    return letter\n",
    "\n",
    "input_string = \"THIS is Uppercase 123 SentEnce\"\n",
    "uppercase = uppercase_letter(input_string)\n",
    "print(\"count the number of uppercase letters in a string :\",uppercase)"
   ]
  },
  {
   "cell_type": "code",
   "execution_count": 13,
   "id": "eb90c1b8-da28-4ac7-8d1e-cab51743e325",
   "metadata": {},
   "outputs": [],
   "source": [
    "# 27.Count the numberof lowercase letters in a string."
   ]
  },
  {
   "cell_type": "code",
   "execution_count": 14,
   "id": "8e7c0806-7ab4-4c78-bb80-254a3acf74a8",
   "metadata": {},
   "outputs": [
    {
     "name": "stdout",
     "output_type": "stream",
     "text": [
      "example string : LOwercase APLHAbet\n",
      "Count the number of lowercase letters in a string : 10\n"
     ]
    }
   ],
   "source": [
    "def lowercase_letter(input_string):\n",
    "    print(\"example string :\",input_string)\n",
    "    letter = sum(1 for char in input_string if char.islower())\n",
    "    return letter\n",
    "\n",
    "input_string = \"LOwercase APLHAbet\"\n",
    "lowercase = lowercase_letter(input_string)\n",
    "print(\"Count the number of lowercase letters in a string :\",lowercase)"
   ]
  },
  {
   "cell_type": "code",
   "execution_count": 15,
   "id": "6f3dbfeb-0396-4e26-b1de-da39a3dc8ed5",
   "metadata": {},
   "outputs": [],
   "source": [
    "# 28.Swap the case of each character in a string."
   ]
  },
  {
   "cell_type": "code",
   "execution_count": 16,
   "id": "3c182522-721b-42e3-8e23-e9333d2b6bc1",
   "metadata": {},
   "outputs": [
    {
     "name": "stdout",
     "output_type": "stream",
     "text": [
      "Example string which is to be swapped of each character : PhyTHon cOUrse\n",
      "Swap the case of each character in a string : pHYthON CouRSE\n"
     ]
    }
   ],
   "source": [
    "input_string = \"PhyTHon cOUrse\"\n",
    "swap_case = input_string.swapcase()\n",
    "print(\"Example string which is to be swapped of each character :\",input_string)\n",
    "print(\"Swap the case of each character in a string :\",swap_case)"
   ]
  },
  {
   "cell_type": "code",
   "execution_count": 17,
   "id": "2b8d61b8-be41-48cd-9dd5-7ef75dd6d971",
   "metadata": {},
   "outputs": [],
   "source": [
    "# 29.Remove a specific word from a string."
   ]
  },
  {
   "cell_type": "code",
   "execution_count": 18,
   "id": "84fc4fac-a841-4003-ad9e-5b4022a24782",
   "metadata": {},
   "outputs": [
    {
     "name": "stdout",
     "output_type": "stream",
     "text": [
      "Input string : Python program to remove a specific word from a string\n"
     ]
    },
    {
     "name": "stdin",
     "output_type": "stream",
     "text": [
      "Choose a word to remove : a\n"
     ]
    },
    {
     "name": "stdout",
     "output_type": "stream",
     "text": [
      "Remove a specific word 'a' from a string : Python program to remove specific word from string\n"
     ]
    }
   ],
   "source": [
    "def remove_word_function(input_string, choose_word):\n",
    "    word_split = input_string.split()\n",
    "    filter_word = [word for word in word_split if word != choose_word]\n",
    "    result_string = ' '.join(filter_word)\n",
    "    return result_string\n",
    "\n",
    "\n",
    "input_string = \"Python program to remove a specific word from a string\"\n",
    "print(\"Input string :\",input_string)\n",
    "choose_word = input(\"Choose a word to remove :\")\n",
    "output = remove_word_function(input_string, choose_word)\n",
    "print(f\"Remove a specific word '{choose_word}' from a string :\",output)"
   ]
  },
  {
   "cell_type": "code",
   "execution_count": 19,
   "id": "048555a9-86a8-48b6-ba41-e353fc2aea17",
   "metadata": {},
   "outputs": [],
   "source": [
    "# 30.Check if a string is a valid email address."
   ]
  },
  {
   "cell_type": "code",
   "execution_count": 20,
   "id": "95256fe2-667c-4d26-9d5f-03dd45f7fdbc",
   "metadata": {},
   "outputs": [
    {
     "name": "stdout",
     "output_type": "stream",
     "text": [
      "Email 1 address  : gov@google.com\n",
      "Email 2 address  : invalid-gmail.com\n",
      "Check if a string is a valid email address\n",
      "Email 1 address gov@google.com is True\n",
      "Email 2 address invalid-gmail.com is False\n"
     ]
    }
   ],
   "source": [
    "import re   \n",
    "\n",
    "def check_email_func(email):\n",
    "    pattern_form = r'^[\\w\\.-]+@[\\w\\.-]+\\.\\w+$'               #Regular expression pattern for a basic email validation\n",
    "    if re.match(pattern_form, email) :\n",
    "        return True\n",
    "    else : \n",
    "        return False\n",
    "\n",
    "email_1 = \"gov@google.com\"\n",
    "email_2 = \"invalid-gmail.com\"\n",
    "print(\"Email 1 address  :\",email_1)\n",
    "print(\"Email 2 address  :\",email_2)\n",
    "print(\"Check if a string is a valid email address\")\n",
    "output1 = check_email_func(email_1)\n",
    "output2 = check_email_func(email_2)\n",
    "print(f\"Email 1 address {email_1} is {output1}\")\n",
    "print(f\"Email 2 address {email_2} is {output2}\")"
   ]
  },
  {
   "cell_type": "code",
   "execution_count": 21,
   "id": "649b9ad6-6b5a-4d75-9231-463bb5decff0",
   "metadata": {},
   "outputs": [],
   "source": [
    "# 31.Extract the username from an email address string."
   ]
  },
  {
   "cell_type": "code",
   "execution_count": 22,
   "id": "b26b93b5-e560-44a7-9558-938ef671cb20",
   "metadata": {},
   "outputs": [
    {
     "name": "stdout",
     "output_type": "stream",
     "text": [
      "Example of email address string : sidharth@gmail.com\n",
      "Extract the username from an email address string : sidharth\n"
     ]
    }
   ],
   "source": [
    "input_string = \"sidharth@gmail.com\"\n",
    "print(\"Example of email address string :\",input_string)\n",
    "username = input_string.split('@')[0]\n",
    "print(\"Extract the username from an email address string :\",username)"
   ]
  },
  {
   "cell_type": "code",
   "execution_count": 23,
   "id": "9599ea41-88b0-4918-b9d2-335a13a8ee6b",
   "metadata": {},
   "outputs": [],
   "source": [
    "# 32.Extract the domain name from an email address string."
   ]
  },
  {
   "cell_type": "code",
   "execution_count": 24,
   "id": "5b94d0af-f01d-4a78-bd9b-efc02cca1185",
   "metadata": {},
   "outputs": [
    {
     "name": "stdout",
     "output_type": "stream",
     "text": [
      "Example of email address string : sohan@yahoo.com\n",
      "Extract the domain name from an email address string : yahoo.com\n"
     ]
    }
   ],
   "source": [
    "input_string = \"sohan@yahoo.com\"\n",
    "domain_name = input_string.split('@')[1]\n",
    "print(\"Example of email address string :\",input_string)\n",
    "print(\"Extract the domain name from an email address string :\",domain_name)"
   ]
  },
  {
   "cell_type": "code",
   "execution_count": 25,
   "id": "dcc29512-a826-4124-bf92-c7a2d92593eb",
   "metadata": {},
   "outputs": [],
   "source": [
    "# 33.Replace mulitple spaces in a string with a single space."
   ]
  },
  {
   "cell_type": "code",
   "execution_count": 26,
   "id": "330aa9d5-3641-4d74-acae-992e26e62b3c",
   "metadata": {},
   "outputs": [
    {
     "name": "stdout",
     "output_type": "stream",
     "text": [
      "Example of mulitple spaces in a string : i am   reading   this english    book \n",
      "Replace multiple spaces in a string with a single space : i am reading this english book\n"
     ]
    }
   ],
   "source": [
    "input_string = \"i am   reading   this english    book \"\n",
    "single_space = ' '.join(input_string.split())\n",
    "print(\"Example of mulitple spaces in a string :\",input_string)\n",
    "print(\"Replace multiple spaces in a string with a single space :\",single_space)"
   ]
  },
  {
   "cell_type": "code",
   "execution_count": 27,
   "id": "993e2858-2867-459d-88b5-ab8446d72bbe",
   "metadata": {},
   "outputs": [],
   "source": [
    "# 34.Check if a string is a valid URL."
   ]
  },
  {
   "cell_type": "code",
   "execution_count": 28,
   "id": "f61ffcbc-5235-466a-959d-8820f878a699",
   "metadata": {},
   "outputs": [
    {
     "name": "stdout",
     "output_type": "stream",
     "text": [
      "Example 1 of url1 : http://www.google.com\n",
      "Example 2 of url2 : This is the url of www.invalidurl.com\n",
      "Check if a string is a valid url \n",
      "Yes, This is valid url1 : ['http://www.google.com']\n",
      "No, This is invalid url2 : []\n"
     ]
    }
   ],
   "source": [
    "def valid_url_func(url):\n",
    "    x = url.split()\n",
    "    l = []\n",
    "    for i in x :\n",
    "        if i.find(\"https:\")==0 or i.find(\"http:\")==0 :\n",
    "            l.append(i)\n",
    "    return l\n",
    "\n",
    "url_1 = \"http://www.google.com\"\n",
    "url_2 = \"This is the url of www.invalidurl.com\"\n",
    "print(\"Example 1 of url1 :\",url_1)\n",
    "print(\"Example 2 of url2 :\",url_2)\n",
    "\n",
    "print(\"Check if a string is a valid url \")\n",
    "check_url_1 = valid_url_func(url_1)\n",
    "if check_url_1 :\n",
    "    print(\"Yes, This is valid url1 :\",check_url_1)\n",
    "else :\n",
    "    print(\"No, This is invalid url1 :\",check_url_1)\n",
    "\n",
    "    \n",
    "check_url_2 = valid_url_func(url_2)\n",
    "\n",
    "if check_url_2 :\n",
    "    print(\"Yes, This is valid url2:\",check_url_2)\n",
    "else :\n",
    "    print(\"No, This is invalid url2 :\",check_url_2)"
   ]
  },
  {
   "cell_type": "code",
   "execution_count": 1,
   "id": "085d2fd5-32bc-446d-a6f9-efa9e9cfbb8e",
   "metadata": {},
   "outputs": [],
   "source": [
    "# 35.Extract the protocol (http or https) from a URL string."
   ]
  },
  {
   "cell_type": "code",
   "execution_count": 2,
   "id": "833019c9-f32c-405c-a2c2-b5bf721ad55c",
   "metadata": {},
   "outputs": [
    {
     "name": "stdout",
     "output_type": "stream",
     "text": [
      "1. url 1 string: https://google.com\n",
      "2. url 2 string: https://upsc.gov.in\n",
      "3. url 3 string: ftp://ftp.protocol.com\n",
      "4. url 4 string: https://w3school.in\n",
      "5. url 5 string: smtp://smtp.protocol.com\n",
      "Extract protocol (http ,smtp ,ftp or https etc) from a url string \n",
      "Protocol 1 : https\n",
      "Protocol 2 : https\n",
      "Protocol 3 : ftp\n",
      "Protocol 4 : https\n",
      "Protocol 5 : smtp\n"
     ]
    }
   ],
   "source": [
    "def extract_protocol_func(url):\n",
    "    protocol_end = url.find(\"://\")\n",
    "    if protocol_end != -1:\n",
    "        protocol = url[:protocol_end]\n",
    "        return protocol\n",
    "    else :\n",
    "        return None\n",
    "    \n",
    "url_1 = \"https://google.com\"\n",
    "url_2 = \"https://upsc.gov.in\"\n",
    "url_3 = \"ftp://ftp.protocol.com\"\n",
    "url_4 = \"https://w3school.in\"\n",
    "url_5 = \"smtp://smtp.protocol.com\"\n",
    "\n",
    "print(\"1. url 1 string:\",url_1)\n",
    "print(\"2. url 2 string:\",url_2)\n",
    "print(\"3. url 3 string:\",url_3)\n",
    "print(\"4. url 4 string:\",url_4)\n",
    "print(\"5. url 5 string:\",url_5)\n",
    "print(\"Extract protocol (http ,smtp ,ftp or https etc) from a url string \")\n",
    "protocol_1 = extract_protocol_func(url_1)\n",
    "protocol_2 = extract_protocol_func(url_2)\n",
    "protocol_3 = extract_protocol_func(url_3)\n",
    "protocol_4 = extract_protocol_func(url_4)\n",
    "protocol_5 = extract_protocol_func(url_5)\n",
    "\n",
    "print(\"Protocol 1 :\", protocol_1)\n",
    "print(\"Protocol 2 :\", protocol_2)\n",
    "print(\"Protocol 3 :\", protocol_3)\n",
    "print(\"Protocol 4 :\", protocol_4)\n",
    "print(\"Protocol 5 :\", protocol_5)"
   ]
  },
  {
   "cell_type": "code",
   "execution_count": 3,
   "id": "b031901e-920c-4b61-8e8a-2420b994c47a",
   "metadata": {},
   "outputs": [],
   "source": [
    "# 36.Find the frequency of each character in a string."
   ]
  },
  {
   "cell_type": "code",
   "execution_count": 1,
   "id": "4b3513e2-7532-46e6-b333-3199c6c0c1d5",
   "metadata": {},
   "outputs": [
    {
     "name": "stdout",
     "output_type": "stream",
     "text": [
      "Input string : Nice way to solve \n",
      "The frequency of each character in a string \n",
      "character :'N'  ,  Frequency : 1\n",
      "character :'i'  ,  Frequency : 1\n",
      "character :'c'  ,  Frequency : 1\n",
      "character :'e'  ,  Frequency : 2\n",
      "character :' '  ,  Frequency : 4\n",
      "character :'w'  ,  Frequency : 1\n",
      "character :'a'  ,  Frequency : 1\n",
      "character :'y'  ,  Frequency : 1\n",
      "character :'t'  ,  Frequency : 1\n",
      "character :'o'  ,  Frequency : 2\n",
      "character :'s'  ,  Frequency : 1\n",
      "character :'l'  ,  Frequency : 1\n",
      "character :'v'  ,  Frequency : 1\n"
     ]
    }
   ],
   "source": [
    "def frequency_character_func(input_string):\n",
    "    freq = {}\n",
    "    for char in input_string :\n",
    "        if char in freq :\n",
    "            freq[char] +=1\n",
    "        else :\n",
    "            freq[char] = 1\n",
    "    return freq\n",
    "            \n",
    "input_string =  \"Nice way to solve \"\n",
    "print(\"Input string :\",input_string)\n",
    "print(\"The frequency of each character in a string \")\n",
    "freq_char = frequency_character_func(input_string)\n",
    "for char,freq in freq_char.items():\n",
    "    print(f\"character :'{char}'  ,  Frequency : {freq}\")"
   ]
  },
  {
   "cell_type": "code",
   "execution_count": 2,
   "id": "695d44de-1718-4694-9f8c-2601ea92c3dd",
   "metadata": {},
   "outputs": [],
   "source": [
    "# 37.Remove all punctuation from a string."
   ]
  },
  {
   "cell_type": "code",
   "execution_count": 3,
   "id": "8e9b1a01-3e74-4724-9580-b0ba4b429f9b",
   "metadata": {},
   "outputs": [
    {
     "name": "stdout",
     "output_type": "stream",
     "text": [
      "Input string : Good morning everyone, How are you?\n",
      "Remove all punctuation from a string : Good morning everyone How are you\n"
     ]
    }
   ],
   "source": [
    "import string\n",
    "input_string = \"Good morning everyone, How are you?\"\n",
    "print(\"Input string :\",input_string)\n",
    "translator = str.maketrans(\"\",\"\",string.punctuation)\n",
    "clean_string = input_string.translate(translator)\n",
    "print(\"Remove all punctuation from a string :\",clean_string)"
   ]
  },
  {
   "cell_type": "code",
   "execution_count": 4,
   "id": "9bb4245d-d10d-4de6-aa78-0622a3ec125f",
   "metadata": {},
   "outputs": [],
   "source": [
    "# 38.Check if a string contains only digits."
   ]
  },
  {
   "cell_type": "code",
   "execution_count": 5,
   "id": "5cb67df5-a0c4-41fc-be9d-005444ae6cc6",
   "metadata": {},
   "outputs": [
    {
     "name": "stdout",
     "output_type": "stream",
     "text": [
      "String 1 : 1001\n",
      "String 2 : digit0123456789\n",
      "String 3 : 123.8890\n",
      "String 4 : contain25673DIGIT\n",
      "Check if a string contains only digit \n",
      "1. '1001' contains only digit : True\n",
      "2. 'digit0123456789' contains only digit : False\n",
      "3. '123.8890' conatins only digit : False\n",
      "4. 'contain25673DIGIT' contains only digit : False\n"
     ]
    }
   ],
   "source": [
    "def digit_func(input_string):\n",
    "    return input_string.isdigit()\n",
    "\n",
    "string_1 = \"1001\"\n",
    "string_2 = \"digit0123456789\"\n",
    "string_3 = \"123.8890\"\n",
    "string_4 = \"contain25673DIGIT\"\n",
    "\n",
    "print(\"String 1 :\",string_1)\n",
    "print(\"String 2 :\",string_2)\n",
    "print(\"String 3 :\",string_3)\n",
    "print(\"String 4 :\",string_4)\n",
    "only_digit_1 = digit_func(string_1)\n",
    "only_digit_2 = digit_func(string_2)\n",
    "only_digit_3 = digit_func(string_3)\n",
    "only_digit_4 = digit_func(string_4)\n",
    "\n",
    "print(\"Check if a string contains only digit \")\n",
    "print(f\"1. '{string_1}' contains only digit :\",only_digit_1)\n",
    "print(f\"2. '{string_2}' contains only digit :\",only_digit_2)\n",
    "print(f\"3. '{string_3}' conatins only digit :\",only_digit_3)\n",
    "print(f\"4. '{string_4}' contains only digit :\",only_digit_4)"
   ]
  },
  {
   "cell_type": "code",
   "execution_count": 6,
   "id": "f7f65ffd-49e7-475b-a9e7-117d574c67a8",
   "metadata": {},
   "outputs": [],
   "source": [
    "# 39.Check if a string contains only alphabets."
   ]
  },
  {
   "cell_type": "code",
   "execution_count": 7,
   "id": "9a479cdf-98e6-4e4f-ae4d-cacb7a447e83",
   "metadata": {},
   "outputs": [
    {
     "name": "stdout",
     "output_type": "stream",
     "text": [
      "String 1 : alphabet576\n",
      "String 2 : good\n",
      "String 3 : 464string78789\n",
      "String 4 : 1787.0978\n",
      "Check if a string contains only alphabets\n",
      "1. 'alphabet576' contains only alphabets : False\n",
      "2. 'good' contains only alphabets : True\n",
      "3. '464string78789' contains only alphabets : False\n",
      "4. '1787.0978' contains only alphabets : False\n"
     ]
    }
   ],
   "source": [
    "def alphabet_func(string):\n",
    "    return string.isalpha()\n",
    "\n",
    "str_in_1 = \"alphabet576\"\n",
    "str_in_2 = \"good\"\n",
    "str_in_3 = \"464string78789\"\n",
    "str_in_4 = \"1787.0978\"\n",
    "print(\"String 1 :\",str_in_1)\n",
    "print(\"String 2 :\",str_in_2)\n",
    "print(\"String 3 :\",str_in_3)\n",
    "print(\"String 4 :\",str_in_4)\n",
    "print(\"Check if a string contains only alphabets\")\n",
    "\n",
    "contain_alpha_1 = alphabet_func(str_in_1)\n",
    "contain_alpha_2 = alphabet_func(str_in_2)\n",
    "contain_alpha_3 = alphabet_func(str_in_3)\n",
    "contain_alpha_4 = alphabet_func(str_in_4)\n",
    "print(f\"1. '{str_in_1}' contains only alphabets :\",contain_alpha_1)\n",
    "print(f\"2. '{str_in_2}' contains only alphabets :\",contain_alpha_2)\n",
    "print(f\"3. '{str_in_3}' contains only alphabets :\",contain_alpha_3)\n",
    "print(f\"4. '{str_in_4}' contains only alphabets :\",contain_alpha_4)"
   ]
  },
  {
   "cell_type": "code",
   "execution_count": 8,
   "id": "aa74f447-40cb-4466-99fe-c4738c579f5e",
   "metadata": {},
   "outputs": [],
   "source": [
    "# 40.Convert a string to a list of characters."
   ]
  },
  {
   "cell_type": "code",
   "execution_count": 9,
   "id": "8fb62135-8726-49e1-a5a6-0f8afeb46a34",
   "metadata": {},
   "outputs": [
    {
     "name": "stdout",
     "output_type": "stream",
     "text": [
      "Input string : Nice work\n",
      "Convert a string to a list of characters : ['N', 'i', 'c', 'e', ' ', 'w', 'o', 'r', 'k']\n"
     ]
    }
   ],
   "source": [
    "input_string = \"Nice work\"\n",
    "print(\"Input string :\",input_string)\n",
    "str_list = list(input_string)\n",
    "print(\"Convert a string to a list of characters :\",str_list)"
   ]
  },
  {
   "cell_type": "code",
   "execution_count": 10,
   "id": "047d8648-f93a-43b2-b235-5ac93164a3ee",
   "metadata": {},
   "outputs": [],
   "source": [
    "# 41.Check if two strings are anagrams."
   ]
  },
  {
   "cell_type": "code",
   "execution_count": 11,
   "id": "89a6022c-a9d6-47c5-8000-554f1d3127a0",
   "metadata": {},
   "outputs": [
    {
     "name": "stdout",
     "output_type": "stream",
     "text": [
      "String 1 : abcd\n",
      "String 2 : bcad\n",
      "String 3 : python\n",
      "String 4 : language\n",
      "check if two strings are anagrams\n",
      " Q1 Are 'abcd' and 'bcad' are anagrams?   Answer : True\n",
      " Q2 Are 'python' and 'language' are anagrams?   Answer : False\n"
     ]
    }
   ],
   "source": [
    "def str_func(string1, string2):\n",
    "    str1 = string1.replace(\" \",\"\").lower()\n",
    "    str2 = string2.replace(\" \",\"\").lower()\n",
    "    return sorted(str1) == sorted(str2)\n",
    "\n",
    "str_1 = \"abcd\"\n",
    "str_2 = \"bcad\"\n",
    "str_3 = \"python\"\n",
    "str_4 = \"language\"\n",
    "print(\"String 1 :\",str_1)\n",
    "print(\"String 2 :\",str_2)\n",
    "print(\"String 3 :\",str_3)\n",
    "print(\"String 4 :\",str_4)\n",
    "print(\"check if two strings are anagrams\")\n",
    "check_1 = str_func(str_1, str_2)\n",
    "check_2 = str_func(str_3, str_4)\n",
    "print(f\" Q1 Are '{str_1}' and '{str_2}' are anagrams?  \", \"Answer :\" ,check_1)\n",
    "print(f\" Q2 Are '{str_3}' and '{str_4}' are anagrams?  \", \"Answer :\" ,check_2)"
   ]
  },
  {
   "cell_type": "code",
   "execution_count": 12,
   "id": "d8edbdc2-975a-4c3d-8c9e-b4b74d51c7de",
   "metadata": {},
   "outputs": [],
   "source": [
    "# 42.Encode a string using a caesar cipher."
   ]
  },
  {
   "cell_type": "code",
   "execution_count": 13,
   "id": "d1bb82f7-d2ab-429e-9a38-eabd7da50b86",
   "metadata": {},
   "outputs": [
    {
     "name": "stdout",
     "output_type": "stream",
     "text": [
      "Example of input text : hello, world. 0123456789 is digits in maths.\n",
      "Shift of character at position : 3\n",
      "Encode a casear cipher by using the function \n",
      "Encoded text : khoor, zruog. 0123456789 lv gljlwv lq pdwkv.\n"
     ]
    }
   ],
   "source": [
    "def caesar_cipher_func(text_input, shift):\n",
    "  \"\"\"\n",
    "  Encodes a string using a Caesar cipher.\n",
    "\n",
    "  Args:\n",
    "    text: The string to encode.\n",
    "    shift: The number of positions to shift each letter.\n",
    "\n",
    "  Returns:\n",
    "    The encoded string.\n",
    "  \"\"\"\n",
    "\n",
    "  # Initialize an empty string to store the encoded text.\n",
    "  encoded_text = \"\"\n",
    "\n",
    "  # Iterate through each character in the input text.\n",
    "  for char in text_input:\n",
    "    # Check if the character is alphabetic.\n",
    "    if char.isalpha():\n",
    "      # Calculate the encoded character's Unicode code point value by shifting it by the specified amount.\n",
    "      # Ensure the value wraps around within the lowercase alphabet range (a-z).\n",
    "      encoded_char = chr((ord(char) + shift - ord('a')) % 26 + ord('a'))\n",
    "    else:\n",
    "      # Keep non-alphabetic characters unchanged.\n",
    "      encoded_char = char\n",
    "\n",
    "    # Add the encoded character to the encoded text.\n",
    "    encoded_text += encoded_char\n",
    "\n",
    "  # Return the resulting encoded text.\n",
    "  return encoded_text\n",
    "\n",
    "# Define the input text and the shift value for encoding.\n",
    "text_input = \"hello, world. 0123456789 is digits in maths.\"\n",
    "print(\"Example of input text :\",text_input)\n",
    "shift = 3\n",
    "print(\"Shift of character at position :\",shift)\n",
    "print(\"Encode a casear cipher by using the function \")\n",
    "\n",
    "# Call the caesar_cipher function to encode the text using the specified shift.\n",
    "encoded_text = caesar_cipher_func(text_input, shift)\n",
    "\n",
    "# Print the encoded text.\n",
    "print(\"Encoded text :\", encoded_text)"
   ]
  },
  {
   "cell_type": "code",
   "execution_count": 14,
   "id": "f6f2de1a-a544-4ba8-964f-d42fd1ea1941",
   "metadata": {},
   "outputs": [],
   "source": [
    "# 43.Decode a Caesar cipher encoded string."
   ]
  },
  {
   "cell_type": "code",
   "execution_count": 15,
   "id": "2d20f115-7dc8-44db-ba2f-1d1d10b43dd8",
   "metadata": {},
   "outputs": [
    {
     "name": "stdout",
     "output_type": "stream",
     "text": [
      "Example of input text : khoor, zruog. 0123456789 lv gljlwv lq pdwkv.\n",
      "Shift character at 3 position : 3\n",
      "Decode a caesar cipher by using function \n",
      "Decoded text : hello, world. 0123456789 is digits in maths.\n"
     ]
    }
   ],
   "source": [
    "# Define a function to decode a string using a Caesar cipher\n",
    "def caesar_cipher_decoder_func(example_text, shift):\n",
    "    \"\"\"\n",
    "    Decodes a string using a Caesar cipher.\n",
    "\n",
    "    Args:\n",
    "        text: The string to decode.\n",
    "        shift: The number of positions to shift each letter.\n",
    "\n",
    "    Returns:\n",
    "        The decoded string.\n",
    "    \"\"\"\n",
    "\n",
    "    # Initialize an empty string to store the decoded text\n",
    "    decoded_text = \"\"\n",
    "\n",
    "    # Loop through each character in the input text\n",
    "    for char in example_text:\n",
    "        # Check if the character is an alphabetic character\n",
    "        if char.isalpha():\n",
    "            # Calculate the decoded character using the shift value\n",
    "            decoded_char = chr((ord(char) - shift - ord('a')) % 26 + ord('a'))\n",
    "        else:\n",
    "            # If the character is not alphabetic, keep it unchanged\n",
    "            decoded_char = char\n",
    "\n",
    "        # Add the decoded character to the decoded text\n",
    "        decoded_text += decoded_char\n",
    "\n",
    "    # Return the fully decoded text\n",
    "    return decoded_text\n",
    "\n",
    "# Example input\n",
    "example_text = \"khoor, zruog. 0123456789 lv gljlwv lq pdwkv.\"\n",
    "print(\"Example of input text :\",example_text)\n",
    "shift = 3\n",
    "print(\"Shift character at 3 position :\",shift)\n",
    "print(\"Decode a caesar cipher by using function \")\n",
    "# Call the caesar_cipher_decoder function to decode the input text\n",
    "decoded_text = caesar_cipher_decoder_func(example_text, shift)\n",
    "\n",
    "# Print the decoded text\n",
    "print(\"Decoded text :\", decoded_text)"
   ]
  },
  {
   "cell_type": "code",
   "execution_count": 16,
   "id": "8c20c572-916d-4dd8-bc50-2284758875fc",
   "metadata": {},
   "outputs": [],
   "source": [
    "# 44.Find the most frequent word in a string."
   ]
  },
  {
   "cell_type": "code",
   "execution_count": 17,
   "id": "c7a105ee-19b7-4f05-ac59-e0d2e4cae853",
   "metadata": {},
   "outputs": [
    {
     "name": "stdout",
     "output_type": "stream",
     "text": [
      "String : This is python program. A python is high level language. A python easy to understand.\n",
      "Most frequent word in a string : python\n"
     ]
    }
   ],
   "source": [
    "import re\n",
    "from collections import Counter\n",
    "\n",
    "def most_frequent_word(input_string):\n",
    "   \n",
    "    clean_string = re.sub(r'[^\\w\\s]', '', input_string).lower()\n",
    "    words = clean_string.split()   \n",
    "    word_counter = Counter(words)\n",
    "    most_common_word = word_counter.most_common(1)[0][0]\n",
    "    return most_common_word\n",
    "\n",
    "\n",
    "input_string = \"This is python program. A python is high level language. A python easy to understand.\"\n",
    "print(\"String :\",input_string)\n",
    "print(\"Most frequent word in a string :\",most_frequent_word(input_string))"
   ]
  },
  {
   "cell_type": "code",
   "execution_count": 18,
   "id": "e675c3a8-846f-4e9c-bd37-029925681ad1",
   "metadata": {},
   "outputs": [],
   "source": [
    "# 45.Find all unique words in a string."
   ]
  },
  {
   "cell_type": "code",
   "execution_count": 19,
   "id": "48358d0c-1a33-4acf-9c0a-7aae45307868",
   "metadata": {},
   "outputs": [
    {
     "name": "stdout",
     "output_type": "stream",
     "text": [
      "String : This is python program. A python is high level language. A python easy to understand.\n",
      "All unique words in a string : {'this', 'easy', 'a', 'high', 'is', 'to', 'understand', 'program', 'python', 'language', 'level'}\n"
     ]
    }
   ],
   "source": [
    "import re\n",
    "from collections import Counter\n",
    "\n",
    "def All_unique_word(input_string):\n",
    "   \n",
    "    clean_string = re.sub(r'[^\\w\\s]', '', input_string).lower()\n",
    "    unique_word = set(clean_string.split())   \n",
    "    return unique_word\n",
    "\n",
    "\n",
    "input_string = \"This is python program. A python is high level language. A python easy to understand.\"\n",
    "print(\"String :\",input_string)\n",
    "print(\"All unique words in a string :\",All_unique_word(input_string))"
   ]
  },
  {
   "cell_type": "code",
   "execution_count": 20,
   "id": "e3e8e366-e350-43a9-8dc4-873030b07ef6",
   "metadata": {},
   "outputs": [],
   "source": [
    "# 46.Count the number of syllables in a string."
   ]
  },
  {
   "cell_type": "code",
   "execution_count": 21,
   "id": "1519088d-cc83-4421-81d1-a62114f9aac7",
   "metadata": {},
   "outputs": [
    {
     "name": "stdout",
     "output_type": "stream",
     "text": [
      "String 1 : python\n",
      "String 2 : practice\n",
      "String 3 : daily\n",
      "Count the number of syllables in a string\n",
      "String 1  : 'python' has '2' syllables in a string.\n",
      "String 2  : 'practice' has '3' syllables in a string.\n",
      "String 3  : 'daily' has '2' syllables in a string.\n"
     ]
    }
   ],
   "source": [
    "import re\n",
    "\n",
    "def count_syllable_func(word):\n",
    "    vowel_group = re.findall(r'[aeiouy]+', word, re.IGNORECASE)\n",
    "    return len(vowel_group)\n",
    "\n",
    "string_1 = \"python\"\n",
    "string_2 = \"practice\"\n",
    "string_3 = \"daily\"\n",
    "print(\"String 1 :\",string_1)\n",
    "print(\"String 2 :\",string_2)\n",
    "print(\"String 3 :\",string_3)\n",
    "print(\"Count the number of syllables in a string\")\n",
    "syllables1 = count_syllable_func(string_1)\n",
    "syllables2 = count_syllable_func(string_2)\n",
    "syllables3 = count_syllable_func(string_3)\n",
    "\n",
    "print(f\"String 1  : '{string_1}' has '{syllables1}' syllables in a string.\")\n",
    "print(f\"String 2  : '{string_2}' has '{syllables2}' syllables in a string.\")\n",
    "print(f\"String 3  : '{string_3}' has '{syllables3}' syllables in a string.\")"
   ]
  },
  {
   "cell_type": "code",
   "execution_count": 22,
   "id": "b7a8bbb1-d9d9-42f5-bb7c-39b5392a56a0",
   "metadata": {},
   "outputs": [],
   "source": [
    "# 47.Check if a string contains any special characters."
   ]
  },
  {
   "cell_type": "code",
   "execution_count": 23,
   "id": "2856a9b7-47ed-477d-b722-5c6c89e4bc44",
   "metadata": {},
   "outputs": [
    {
     "name": "stdout",
     "output_type": "stream",
     "text": [
      "String 1 : How are you?\n",
      "String 2 : Python language is easy to understand.\n",
      "String 3 : Special Characters\n",
      "Check if a string contains any special characters.\n",
      "String 1  : 'How are you?' contains special characters: True\n",
      "String 2  : 'Python language is easy to understand.' contains special characters: True\n",
      "String 3  : 'Special Characters' contains special characters: False\n"
     ]
    }
   ],
   "source": [
    "import re\n",
    "\n",
    "def contains_special_characters_func(input_string):\n",
    "    # Define a regular expression pattern to match special characters\n",
    "    pattern = re.compile(r'[!@#$%^&*()_+{}\\[\\]:;<>,.?~\\\\/]')\n",
    "\n",
    "    # Use the search() method to find a match\n",
    "    match = pattern.search(input_string)\n",
    "\n",
    "    # Return True if a match is found, False otherwise\n",
    "    return bool(match)\n",
    "\n",
    "\n",
    "str1 = \"How are you?\"\n",
    "str2 = \"Python language is easy to understand.\"\n",
    "str3 = \"Special Characters\"\n",
    "print(\"String 1 :\",str1)\n",
    "print(\"String 2 :\",str2)\n",
    "print(\"String 3 :\",str3)\n",
    "print(\"Check if a string contains any special characters.\")\n",
    "print(f\"String 1  : '{str1}' contains special characters:\", contains_special_characters_func(str1))\n",
    "print(f\"String 2  : '{str2}' contains special characters:\", contains_special_characters_func(str2))\n",
    "print(f\"String 3  : '{str3}' contains special characters:\", contains_special_characters_func(str3))"
   ]
  },
  {
   "cell_type": "code",
   "execution_count": 24,
   "id": "87c63ccd-a151-4985-823e-bddb081d8eb5",
   "metadata": {},
   "outputs": [],
   "source": [
    "# 48.Remove the nth word from a string."
   ]
  },
  {
   "cell_type": "code",
   "execution_count": 25,
   "id": "de9945e1-94c0-4628-9cc6-45e9612f84c3",
   "metadata": {},
   "outputs": [
    {
     "name": "stdout",
     "output_type": "stream",
     "text": [
      "Example String : This is an example of good person.\n",
      "Removed word from a string : an\n",
      "Modified string : This is example of good person.\n"
     ]
    }
   ],
   "source": [
    "def remove_nth_word(input_string, n):\n",
    "    word = input_string.split()\n",
    "\n",
    "    # Check if n is within a valid range\n",
    "    if n >= 1 and n <= len(word):\n",
    "        # Remove the nth word by excluding it from the words list\n",
    "        removed_word = word.pop(n - 1)\n",
    "\n",
    "        # Join the remaining words to form the modified string\n",
    "        modified_string = ' '.join(word)\n",
    "\n",
    "        return modified_string, removed_word\n",
    "    else:\n",
    "        return None, None\n",
    "\n",
    "# Example string and n value\n",
    "input_string = \"This is an example of good person.\"\n",
    "print(\"Example String :\",input_string)\n",
    "nth_value = 3\n",
    "\n",
    "# Remove the nth word\n",
    "modified_str, removed_word = remove_nth_word(input_string, nth_value)\n",
    "\n",
    "if modified_str is not None:\n",
    "    print(\"Removed word from a string :\", removed_word)\n",
    "    print(\"Modified string :\", modified_str)\n",
    "else:\n",
    "    print(\"Invalid n value.\")"
   ]
  },
  {
   "cell_type": "code",
   "execution_count": 26,
   "id": "926cf31d-a797-4eb8-a7c5-d9ad147d9f51",
   "metadata": {},
   "outputs": [],
   "source": [
    "# 49.Insert a word at the nth position in a string."
   ]
  },
  {
   "cell_type": "code",
   "execution_count": 27,
   "id": "11cd91bb-648f-4c28-9a4d-f7ba6f9410f1",
   "metadata": {},
   "outputs": [
    {
     "name": "stdout",
     "output_type": "stream",
     "text": [
      "Example string : This is a boy.\n",
      "Add element in string at index '3rd' : good\n",
      "word in list : ['This', 'is', 'a', 'boy.']\n",
      "Insert word 'good' at the index '3rd' position in a string : This is a boy.\n"
     ]
    }
   ],
   "source": [
    "def insert_word_func(input_string, add_element, index):\n",
    "    word = list(input_string.split())\n",
    "    print(\"word in list :\",word)\n",
    "    lis = []\n",
    "    for st_idx in range(0, len(word), index):\n",
    "        lis.extend(word[st_idx:st_idx+index])\n",
    "        lis.append(add_element)\n",
    "        lis.pop()  \n",
    "        x=\" \".join(p for p in lis)\n",
    "    return x\n",
    "\n",
    "\n",
    "input_string = \"This is a boy.\"\n",
    "print(\"Example string :\",input_string)\n",
    "add_element = \"good\"\n",
    "index = 3\n",
    "print(f\"Add element in string at index '{index}rd' :\",add_element)\n",
    "\n",
    "function = insert_word_func (input_string,add_element,index)\n",
    "print(f\"Insert word '{add_element}' at the index '{index}rd' position in a string :\",function)"
   ]
  },
  {
   "cell_type": "code",
   "execution_count": 28,
   "id": "ab0c905f-f55f-41b9-ad15-a069e85aab9f",
   "metadata": {},
   "outputs": [],
   "source": [
    "# 50.Convert a CSV string to a list of lists."
   ]
  },
  {
   "cell_type": "code",
   "execution_count": 29,
   "id": "5c009c06-0752-4993-9f9c-fcc87535305e",
   "metadata": {},
   "outputs": [
    {
     "name": "stdout",
     "output_type": "stream",
     "text": [
      "CSV data string :  S.No. Name, Age, Country\n",
      " 1. Komal, 30, India\n",
      " 2. Sonali, 25, USA\n",
      " 3. Hilton, 22, Dubai\n",
      "Convert a CSV string to a list of lists\n",
      "[' S.No. Name', ' Age', ' Country']\n",
      "[' 1. Komal', ' 30', ' India']\n",
      "[' 2. Sonali', ' 25', ' USA']\n",
      "[' 3. Hilton', ' 22', ' Dubai']\n"
     ]
    }
   ],
   "source": [
    "def csv_string_to_list(csv_str):\n",
    "    # Split the CSV string into lines\n",
    "    lines = csv_str.split('\\n')\n",
    "    l = []\n",
    "    for line in lines:\n",
    "        # Split each line into fields using comma as the delimiter\n",
    "        field = line.split(',')\n",
    "        l.append(field)\n",
    "    return l\n",
    "\n",
    "csv_data = \" S.No. Name, Age, Country\\n 1. Komal, 30, India\\n 2. Sonali, 25, USA\\n 3. Hilton, 22, Dubai\"\n",
    "print(\"CSV data string :\",csv_data)\n",
    "print(\"Convert a CSV string to a list of lists\")\n",
    "# Convert CSV string to a list of lists\n",
    "list_of_lists = csv_string_to_list(csv_data)\n",
    "\n",
    "# Print the result\n",
    "for row in list_of_lists:\n",
    "    print(row)"
   ]
  },
  {
   "cell_type": "code",
   "execution_count": null,
   "id": "1f0c02b9-bf92-4894-aa94-3df99e515e23",
   "metadata": {},
   "outputs": [],
   "source": []
  },
  {
   "cell_type": "code",
   "execution_count": 30,
   "id": "1420f436-4b8a-4959-ad87-0c1adf86a7de",
   "metadata": {},
   "outputs": [],
   "source": [
    "# List Based Practice Problem :"
   ]
  },
  {
   "cell_type": "code",
   "execution_count": 31,
   "id": "87fb40ea-2340-4b38-a6c1-dd97bd91ce44",
   "metadata": {},
   "outputs": [],
   "source": [
    "# 1.Create a list with integers from 1 to 10."
   ]
  },
  {
   "cell_type": "code",
   "execution_count": 32,
   "id": "6bd611cd-9b0e-4af1-a530-b127c5d4868e",
   "metadata": {},
   "outputs": [
    {
     "name": "stdout",
     "output_type": "stream",
     "text": [
      "A list with integers from 1 to 10 : [1, 2, 3, 4, 5, 6, 7, 8, 9, 10]\n"
     ]
    }
   ],
   "source": [
    "integers = [i for i in range(1,11)]\n",
    "print(\"A list with integers from 1 to 10 :\",integers)"
   ]
  },
  {
   "cell_type": "code",
   "execution_count": 33,
   "id": "321a56eb-cb04-4fa2-82cb-5849b0826447",
   "metadata": {},
   "outputs": [],
   "source": [
    "# 2.Find the length of a list without using the 'len()' function."
   ]
  },
  {
   "cell_type": "code",
   "execution_count": 34,
   "id": "17f9fa55-630a-457f-83fe-0dc83c1acf93",
   "metadata": {},
   "outputs": [
    {
     "name": "stdout",
     "output_type": "stream",
     "text": [
      "A list : [10, 20, 30, 'p', 40, 50, 60]\n",
      "length of a list without using the len() : 7\n"
     ]
    }
   ],
   "source": [
    "def list_len(input_list):\n",
    "    count = 0\n",
    "    for i in input_list:\n",
    "        count +=1\n",
    "    return count\n",
    "my_list = [10,20,30,\"p\",40,50,60]\n",
    "length = list_len(my_list)\n",
    "print(\"A list :\",my_list)\n",
    "print(\"length of a list without using the len() :\",length)"
   ]
  },
  {
   "cell_type": "code",
   "execution_count": 35,
   "id": "eb644e2f-5835-4b2e-989b-6b923dc212e6",
   "metadata": {},
   "outputs": [],
   "source": [
    " # 3.Append an element to the end of a list."
   ]
  },
  {
   "cell_type": "code",
   "execution_count": 36,
   "id": "7c2b3796-8b7c-4069-8874-44c3a4c93142",
   "metadata": {},
   "outputs": [
    {
     "name": "stdout",
     "output_type": "stream",
     "text": [
      "Example list : [10, 12, 15, 17, 22]\n",
      "New element : 25\n",
      "Append an element to the end of a list : [10, 12, 15, 17, 22, 25]\n"
     ]
    }
   ],
   "source": [
    "example_list = [10,12,15,17,22]\n",
    "new_element = 25\n",
    "print(\"Example list :\",example_list)\n",
    "print(\"New element :\",new_element)\n",
    "example_list.append(new_element)\n",
    "print(\"Append an element to the end of a list :\", example_list)"
   ]
  },
  {
   "cell_type": "code",
   "execution_count": 38,
   "id": "a3d937b4-11f2-4d02-82d9-faef83bdc3e4",
   "metadata": {},
   "outputs": [],
   "source": [
    "# 4.Insert an element at a specific index in a list."
   ]
  },
  {
   "cell_type": "code",
   "execution_count": 37,
   "id": "e8c8fa48-56ac-4d3b-a6e4-2d9cbcb45ffe",
   "metadata": {},
   "outputs": [
    {
     "name": "stdout",
     "output_type": "stream",
     "text": [
      "Example list : [10, 15, 20, 30, 35, 40]\n",
      "New element : 25\n",
      "Insert an element at a index of : 3\n",
      "Insert an element at a specific index in a list : [10, 15, 20, 25, 30, 35, 40]\n"
     ]
    }
   ],
   "source": [
    "example_list = [10,15,20,30,35,40]\n",
    "new_element = 25\n",
    "index_to_insert = 3\n",
    "print(\"Example list :\",example_list)\n",
    "print(\"New element :\",new_element)\n",
    "print(\"Insert an element at a index of :\",index_to_insert)\n",
    "example_list.insert(index_to_insert,new_element)\n",
    "print(\"Insert an element at a specific index in a list :\",example_list)"
   ]
  },
  {
   "cell_type": "code",
   "execution_count": 39,
   "id": "3092ab6e-bc6c-4a53-905f-e9848d174c8c",
   "metadata": {},
   "outputs": [],
   "source": [
    "# 5.Remove an element from a list by its value."
   ]
  },
  {
   "cell_type": "code",
   "execution_count": 40,
   "id": "a27d492d-2e11-4add-967c-e410311dc616",
   "metadata": {},
   "outputs": [
    {
     "name": "stdout",
     "output_type": "stream",
     "text": [
      "Example list : [1, 2, 3, 4, 5, 6, 7]\n",
      "Remove an element in a list : 4\n",
      "Remove an element from a list by its value : [1, 2, 3, 5, 6, 7]\n"
     ]
    }
   ],
   "source": [
    "example_list = [1,2,3,4,5,6,7]\n",
    "remove_element = 4\n",
    "print(\"Example list :\",example_list)\n",
    "print(\"Remove an element in a list :\",remove_element)\n",
    "example_list.remove(remove_element)\n",
    "print(\"Remove an element from a list by its value :\",example_list)"
   ]
  },
  {
   "cell_type": "code",
   "execution_count": 41,
   "id": "a88e6571-5559-4b96-ae16-b6623a894e22",
   "metadata": {},
   "outputs": [],
   "source": [
    "# 6.Remove an element from a list by its index."
   ]
  },
  {
   "cell_type": "code",
   "execution_count": 42,
   "id": "e559fc9d-33f7-43bc-b50b-59e821d459db",
   "metadata": {},
   "outputs": [
    {
     "name": "stdout",
     "output_type": "stream",
     "text": [
      "Example list : [22, 35, 56, 78, 99, 100]\n",
      "Remove an element from index : 2\n",
      "Remove an element from a list by its index : [22, 35, 78, 99, 100]\n",
      "Remove element : 56\n"
     ]
    }
   ],
   "source": [
    "example_list = [22,35,56,78,99,100]\n",
    "remove_from_index = 2\n",
    "print(\"Example list :\",example_list)\n",
    "print(\"Remove an element from index :\",remove_from_index)\n",
    "remove_element = example_list.pop(remove_from_index)\n",
    "print(\"Remove an element from a list by its index :\",example_list)\n",
    "print(\"Remove element :\",remove_element)"
   ]
  },
  {
   "cell_type": "code",
   "execution_count": 43,
   "id": "0cbdb7c7-39b6-4131-a98d-3309b6f58c70",
   "metadata": {},
   "outputs": [],
   "source": [
    "# 7.Check if an element exists in a list."
   ]
  },
  {
   "cell_type": "code",
   "execution_count": 44,
   "id": "8020ca4b-d667-46f7-a513-b057901619d5",
   "metadata": {},
   "outputs": [
    {
     "name": "stdout",
     "output_type": "stream",
     "text": [
      "Example list : [10, 11, 12, 13, 14, 15, 16]\n",
      "Check if an element exist in a list : 14\n",
      "Yes, element exists in a list  in 14\n"
     ]
    }
   ],
   "source": [
    "example_list = [10,11,12,13,14,15,16]\n",
    "element_exist = 14\n",
    "print(\"Example list :\",example_list)\n",
    "print(\"Check if an element exist in a list :\",element_exist)\n",
    "if element_exist in example_list:\n",
    "    print(f\"Yes, element exists in a list  in {element_exist}\")\n",
    "else :\n",
    "    print(f\"No, element is not exist in a list in {element_exist}\")"
   ]
  },
  {
   "cell_type": "code",
   "execution_count": 45,
   "id": "c2a52099-e8bb-44d6-8c98-db4670bc7ef9",
   "metadata": {},
   "outputs": [],
   "source": [
    "# 8.Find the index of the first occurrence of an element in a list."
   ]
  },
  {
   "cell_type": "code",
   "execution_count": 46,
   "id": "c84085ef-d49c-45de-bb9e-e633decd0fe3",
   "metadata": {},
   "outputs": [
    {
     "name": "stdout",
     "output_type": "stream",
     "text": [
      "Example list : [2, 3, 4, 5, 6]\n",
      "First occurrence of an element in a list : 4\n",
      "The index of the first occurence 4 of an element in a list is 2 \n"
     ]
    }
   ],
   "source": [
    "example_list = [2,3,4,5,6]\n",
    "first_occur = 4\n",
    "print(\"Example list :\",example_list)\n",
    "print(\"First occurrence of an element in a list :\",first_occur)\n",
    "list_index = example_list.index(first_occur)\n",
    "print(f\"The index of the first occurence {first_occur} of an element in a list is {list_index} \")"
   ]
  },
  {
   "cell_type": "code",
   "execution_count": 47,
   "id": "04124389-90c8-4111-9062-7bc9d87d9db9",
   "metadata": {},
   "outputs": [],
   "source": [
    "# 9.Count the occurrences of an element in a list."
   ]
  },
  {
   "cell_type": "code",
   "execution_count": 48,
   "id": "80fe9bf1-06ff-4cf6-a580-06245f0246d6",
   "metadata": {},
   "outputs": [
    {
     "name": "stdout",
     "output_type": "stream",
     "text": [
      "Example list : [1, 3, 3, 2, 3, 4, 5, 3]\n",
      "Count the occurence 3 of an element in a list is 4 times \n"
     ]
    }
   ],
   "source": [
    "example_list = [1,3,3,2,3,4,5,3]\n",
    "count_occur = 3\n",
    "print(\"Example list :\",example_list)\n",
    "count_element = example_list.count(count_occur)\n",
    "print(f\"Count the occurence {count_occur} of an element in a list is {count_element} times \") "
   ]
  },
  {
   "cell_type": "code",
   "execution_count": 49,
   "id": "cd1c691a-29ba-45e2-b00a-b18cd1df5743",
   "metadata": {},
   "outputs": [],
   "source": [
    "# 10.Reverse the order of elements in a list."
   ]
  },
  {
   "cell_type": "code",
   "execution_count": 50,
   "id": "3bc47a09-e1e7-455f-a526-48d401666d75",
   "metadata": {},
   "outputs": [
    {
     "name": "stdout",
     "output_type": "stream",
     "text": [
      "Example list : ['important', 'is', 'skills']\n",
      "Reverse the order of elements in a list : ['skills', 'is', 'important']\n"
     ]
    }
   ],
   "source": [
    "input_string = [\"important\",\"is\",\"skills\"]\n",
    "reverse_order = input_string[::-1]\n",
    "print(\"Example list :\",input_string)\n",
    "print(\"Reverse the order of elements in a list :\",reverse_order)"
   ]
  },
  {
   "cell_type": "code",
   "execution_count": 51,
   "id": "f1a8cdf9-3483-4f8f-b7a6-7682323eb8df",
   "metadata": {},
   "outputs": [],
   "source": [
    "# 11.Sort a list in ascending order."
   ]
  },
  {
   "cell_type": "code",
   "execution_count": 52,
   "id": "bf0c99d0-38e0-436a-82b8-e2dfc6bf676f",
   "metadata": {},
   "outputs": [
    {
     "name": "stdout",
     "output_type": "stream",
     "text": [
      "Example list : [31, 23, 56, 78, 21, 70]\n",
      "sort a list in ascending order is  [21, 23, 31, 56, 70, 78]\n"
     ]
    }
   ],
   "source": [
    "example_list = [31,23,56,78,21,70]\n",
    "print(\"Example list :\",example_list)\n",
    "example_list.sort()\n",
    "print(\"sort a list in ascending order is \",example_list)"
   ]
  },
  {
   "cell_type": "code",
   "execution_count": 53,
   "id": "9b37e1ab-d728-4220-ba79-87448182fd53",
   "metadata": {},
   "outputs": [],
   "source": [
    "# 12.Sort a list in descending order."
   ]
  },
  {
   "cell_type": "code",
   "execution_count": 54,
   "id": "34bfb6b7-3c35-4495-aa9c-b2e143ebbdad",
   "metadata": {},
   "outputs": [
    {
     "name": "stdout",
     "output_type": "stream",
     "text": [
      "sort a list in descending order is  [89, 67, 45, 23, 11]\n"
     ]
    }
   ],
   "source": [
    "example_list = [89,23,11,45,67]\n",
    "example_list.sort(reverse = True)\n",
    "print(\"sort a list in descending order is \", example_list)"
   ]
  },
  {
   "cell_type": "code",
   "execution_count": 55,
   "id": "f6b2ab2e-5a55-477c-9132-8bd2b9965514",
   "metadata": {},
   "outputs": [],
   "source": [
    "# 13.Create a list of even numbers from 1 to 20."
   ]
  },
  {
   "cell_type": "code",
   "execution_count": 56,
   "id": "11065ba6-da4c-412f-b9cc-6ae7d4dd65d0",
   "metadata": {},
   "outputs": [
    {
     "name": "stdout",
     "output_type": "stream",
     "text": [
      "A list of even numbers from 1 to 20 : [2, 4, 6, 8, 10, 12, 14, 16, 18, 20]\n"
     ]
    }
   ],
   "source": [
    "even_numbers = [i for i in range(1,21) if i%2 == 0]\n",
    "print(\"A list of even numbers from 1 to 20 :\",even_numbers)"
   ]
  },
  {
   "cell_type": "code",
   "execution_count": 57,
   "id": "5925d86b-a38f-466e-9431-42c469fd67fa",
   "metadata": {},
   "outputs": [],
   "source": [
    "# 14.Create a list of odd numbers from 1 to 20."
   ]
  },
  {
   "cell_type": "code",
   "execution_count": 59,
   "id": "24718a67-f2d9-4794-b495-cf27c899b658",
   "metadata": {},
   "outputs": [
    {
     "name": "stdout",
     "output_type": "stream",
     "text": [
      "A list of odd numbers from 1 to 20 : [1, 3, 5, 7, 9, 11, 13, 15, 17, 19]\n"
     ]
    }
   ],
   "source": [
    "\n",
    "odd_numbers = [i for i in range(1,21) if i%2 !=0]\n",
    "print(\"A list of odd numbers from 1 to 20 :\",odd_numbers)\n"
   ]
  },
  {
   "cell_type": "code",
   "execution_count": 60,
   "id": "2921965b-a09d-4717-8046-61e4da6ecec2",
   "metadata": {},
   "outputs": [],
   "source": [
    "# 15.Find the sum of all elements in a list."
   ]
  },
  {
   "cell_type": "code",
   "execution_count": 61,
   "id": "bfa19dea-6ee0-475b-9ad7-66cfdf34d3a1",
   "metadata": {},
   "outputs": [
    {
     "name": "stdout",
     "output_type": "stream",
     "text": [
      "Example list : [10, 20, 30, 40]\n",
      "The sum of all elements in a list is  100\n"
     ]
    }
   ],
   "source": [
    "example_list = [10,20,30,40]\n",
    "print(\"Example list :\",example_list)\n",
    "sum_all = sum(example_list)\n",
    "print(\"The sum of all elements in a list is \",sum_all)"
   ]
  },
  {
   "cell_type": "code",
   "execution_count": 62,
   "id": "f6ae713c-0262-49ca-9af6-10ca5a8ae25c",
   "metadata": {},
   "outputs": [],
   "source": [
    "# 16.Find the maximum value in a list."
   ]
  },
  {
   "cell_type": "code",
   "execution_count": 63,
   "id": "1a15c8fc-d799-4386-bed9-76fee0bb5343",
   "metadata": {},
   "outputs": [
    {
     "name": "stdout",
     "output_type": "stream",
     "text": [
      "Example list : [10, 23, 11, 56, 99, 2222]\n",
      "The maximum value in a list is  2222\n"
     ]
    }
   ],
   "source": [
    "example_list = [10,23,11,56,99,2222]\n",
    "print(\"Example list :\",example_list)\n",
    "max_value = max(example_list)\n",
    "print(\"The maximum value in a list is \",max_value)"
   ]
  },
  {
   "cell_type": "code",
   "execution_count": 64,
   "id": "5c403c7b-c545-460e-8f1f-242533f5cd89",
   "metadata": {},
   "outputs": [],
   "source": [
    "# 17.Find the minimum value in a list."
   ]
  },
  {
   "cell_type": "code",
   "execution_count": 65,
   "id": "5744a386-1481-4f2b-8175-5a0f2ad67d85",
   "metadata": {},
   "outputs": [
    {
     "name": "stdout",
     "output_type": "stream",
     "text": [
      "Example list : [101, 23, 1, 5, 34, 0]\n",
      "The minimum value in a list is  0\n"
     ]
    }
   ],
   "source": [
    "example_list = [101,23,1,5,34,0]\n",
    "print(\"Example list :\",example_list)\n",
    "min_value = min(example_list)\n",
    "print(\"The minimum value in a list is \",min_value)"
   ]
  },
  {
   "cell_type": "code",
   "execution_count": 66,
   "id": "97ae97e5-d6f4-47e1-9c77-4318481ad2d2",
   "metadata": {},
   "outputs": [],
   "source": [
    "# 18.Create a list of squares of numbers from 1 to 10."
   ]
  },
  {
   "cell_type": "code",
   "execution_count": 67,
   "id": "dfa2cc09-1b85-4d45-b771-f947125e381b",
   "metadata": {},
   "outputs": [
    {
     "name": "stdout",
     "output_type": "stream",
     "text": [
      "A list of numbers of 1 to 10 : [1, 2, 3, 4, 5, 6, 7, 8, 9, 10]\n",
      "A list of of squares of numbers of 1 to 10 : [1, 4, 9, 16, 25, 36, 49, 64, 81, 100]\n"
     ]
    }
   ],
   "source": [
    "square = [i **2 for i in range(1,11)]\n",
    "print(\"A list of numbers of 1 to 10 :\",list(range(1,11)))\n",
    "print(\"A list of of squares of numbers of 1 to 10 :\",square)"
   ]
  },
  {
   "cell_type": "code",
   "execution_count": 68,
   "id": "d32fcc86-6f41-40c2-ac6e-8d8604018372",
   "metadata": {},
   "outputs": [],
   "source": [
    "# 19.Create a list of random numbers."
   ]
  },
  {
   "cell_type": "code",
   "execution_count": 69,
   "id": "8771f979-574a-4081-9925-d26275d05d48",
   "metadata": {},
   "outputs": [
    {
     "name": "stdout",
     "output_type": "stream",
     "text": [
      "A list of random numbers  : [328, 18, 33, 856, 629, 111, 560, 649, 259, 225, 18, 348, 719, 65, 385, 968, 824, 732, 471, 449]\n"
     ]
    }
   ],
   "source": [
    "import random\n",
    "\n",
    "random_list = [random.randint(1,1000) for _ in range(20)]\n",
    "print(\"A list of random numbers  :\",random_list)"
   ]
  },
  {
   "cell_type": "code",
   "execution_count": 70,
   "id": "d60b6cd5-ce04-4a53-8e51-075cd93fcbc4",
   "metadata": {},
   "outputs": [],
   "source": [
    "# 20.Remove duplicates from a list."
   ]
  },
  {
   "cell_type": "code",
   "execution_count": 71,
   "id": "4402cf9c-2528-4503-96cf-c869156b497f",
   "metadata": {},
   "outputs": [
    {
     "name": "stdout",
     "output_type": "stream",
     "text": [
      "Example list : [12, 23, 45, 45, 89, 90, 76, 89]\n",
      "Remove duplicates from a list : [12, 45, 76, 23, 89, 90]\n"
     ]
    }
   ],
   "source": [
    "example_list = [12,23,45,45,89,90,76,89]\n",
    "print(\"Example list :\",example_list)\n",
    "remove_dup = list(set(example_list))\n",
    "print(\"Remove duplicates from a list :\",remove_dup)"
   ]
  },
  {
   "cell_type": "code",
   "execution_count": 72,
   "id": "f63e7931-8e92-4792-8789-69f3d8ec7b00",
   "metadata": {},
   "outputs": [],
   "source": [
    "# 21.Find the common elements between two lists."
   ]
  },
  {
   "cell_type": "code",
   "execution_count": 73,
   "id": "834a4411-efda-4553-b1b2-83e464c4719f",
   "metadata": {},
   "outputs": [
    {
     "name": "stdout",
     "output_type": "stream",
     "text": [
      "List 1 : [1, 2, 3, 4, 5]\n",
      "List 2 : [2, 4, 5, 6, 7]\n",
      "The common elements between two lists : [2, 4, 5]\n"
     ]
    }
   ],
   "source": [
    "l1 = [1,2,3,4,5]\n",
    "l2 = [2,4,5,6,7]\n",
    "print(\"List 1 :\",l1)\n",
    "print(\"List 2 :\",l2)\n",
    "l3 = []\n",
    "for common_element in l1:\n",
    "    if common_element in l2:\n",
    "        l3.append(common_element)\n",
    "print(\"The common elements between two lists :\",l3)"
   ]
  },
  {
   "cell_type": "code",
   "execution_count": 74,
   "id": "66d4dcc1-40bf-43c7-b066-4a687aa22bd3",
   "metadata": {},
   "outputs": [],
   "source": [
    "# 22.Find the difference between two lists."
   ]
  },
  {
   "cell_type": "code",
   "execution_count": 75,
   "id": "0ed3091c-e520-4b4e-9816-0245a3d3dd77",
   "metadata": {},
   "outputs": [
    {
     "name": "stdout",
     "output_type": "stream",
     "text": [
      "List 1 : [11, 22, 33, 44, 55]\n",
      "List 2 : [66, 77, 33, 88, 11, 22]\n",
      "The difference between two lists : [55, 44]\n"
     ]
    }
   ],
   "source": [
    "l1 = [11,22,33,44,55]\n",
    "print(\"List 1 :\",l1)\n",
    "l2 = [66,77,33,88,11,22]\n",
    "print(\"List 2 :\",l2)\n",
    "difference_list = list(set(l1).difference(l2))\n",
    "print(\"The difference between two lists :\",difference_list)"
   ]
  },
  {
   "cell_type": "code",
   "execution_count": 76,
   "id": "08779258-547d-4046-be85-381462b1605a",
   "metadata": {},
   "outputs": [],
   "source": [
    "# 23.Merge two lists."
   ]
  },
  {
   "cell_type": "code",
   "execution_count": 77,
   "id": "27aac173-64a2-48be-9b46-42ba491a057d",
   "metadata": {},
   "outputs": [
    {
     "name": "stdout",
     "output_type": "stream",
     "text": [
      "List 1 : [10, 11, 14, 15]\n",
      "List 2 : [12, 13, 16]\n",
      "Merge two lists  [10, 11, 14, 15, 12, 13, 16]\n"
     ]
    }
   ],
   "source": [
    "\n",
    "l1 = [10,11,14,15]\n",
    "l2 = [12,13,16]\n",
    "print(\"List 1 :\",l1)\n",
    "print(\"List 2 :\",l2)\n",
    "l3 = l1 + l2\n",
    "print(\"Merge two lists \",l3)"
   ]
  },
  {
   "cell_type": "code",
   "execution_count": 78,
   "id": "a2358a03-dc48-4ec9-bdbc-7681b9125407",
   "metadata": {},
   "outputs": [],
   "source": [
    "# 24.Multiply all elements in a list by 2."
   ]
  },
  {
   "cell_type": "code",
   "execution_count": 79,
   "id": "db117f29-b7d5-4623-8397-c9d846a6c104",
   "metadata": {},
   "outputs": [
    {
     "name": "stdout",
     "output_type": "stream",
     "text": [
      "Example list : [4, 5, 6, 7, 8]\n",
      "Multipy all element in a list by 2 : [8, 10, 12, 14, 16]\n"
     ]
    }
   ],
   "source": [
    "example_list = [4,5,6,7,8]\n",
    "print(\"Example list :\",example_list)\n",
    "l =[]\n",
    "for i in example_list:\n",
    "    i =i*2\n",
    "    l.append(i)\n",
    "print(\"Multipy all element in a list by 2 :\",l)"
   ]
  },
  {
   "cell_type": "code",
   "execution_count": 80,
   "id": "42c54775-adb1-4198-b45b-45ee44a0c0a8",
   "metadata": {},
   "outputs": [],
   "source": [
    "# 25.Filter out all even numbers from a list."
   ]
  },
  {
   "cell_type": "code",
   "execution_count": 81,
   "id": "897796ca-9012-4d0a-9b08-48e2ba1bf47f",
   "metadata": {},
   "outputs": [
    {
     "name": "stdout",
     "output_type": "stream",
     "text": [
      "Example list : [11, 20, 24, 43, 67, 80]\n",
      "Filter out all even numbers from a list that is odd numbers : [11, 43, 67]\n"
     ]
    }
   ],
   "source": [
    "example_list = [11,20,24,43,67,80]\n",
    "print(\"Example list :\",example_list)\n",
    "odd_list = []\n",
    "for i in example_list:\n",
    "    if i%2 != 0:\n",
    "        odd_list.append(i)\n",
    "print(\"Filter out all even numbers from a list that is odd numbers :\",odd_list)"
   ]
  },
  {
   "cell_type": "code",
   "execution_count": 82,
   "id": "52a37881-c574-4d74-a0f1-6c02e576f7e1",
   "metadata": {},
   "outputs": [],
   "source": [
    "# 26.Convert a list of strings to a list of integers."
   ]
  },
  {
   "cell_type": "code",
   "execution_count": 83,
   "id": "81e94308-2183-47b6-9a3d-0eec6fb1a070",
   "metadata": {},
   "outputs": [
    {
     "name": "stdout",
     "output_type": "stream",
     "text": [
      "Example of list of strings : ['12', '13', '14', '15', '16']\n",
      "Convert a list of strings to a list of integers : [12, 13, 14, 15, 16]\n"
     ]
    }
   ],
   "source": [
    "example_list = [\"12\",\"13\",\"14\",\"15\",\"16\"]\n",
    "print(\"Example of list of strings :\",example_list)\n",
    "integer = []\n",
    "for i in example_list:\n",
    "    convert_int= int(i)\n",
    "    integer.append(convert_int)\n",
    "print(\"Convert a list of strings to a list of integers :\",integer)"
   ]
  },
  {
   "cell_type": "code",
   "execution_count": 84,
   "id": "eabd9545-082a-42a6-8de5-184f5ad51232",
   "metadata": {},
   "outputs": [],
   "source": [
    "# 27.Convert a list of integers to a list of strings."
   ]
  },
  {
   "cell_type": "code",
   "execution_count": 85,
   "id": "31975684-e729-4841-b3f5-19a7dd5b3f00",
   "metadata": {},
   "outputs": [
    {
     "name": "stdout",
     "output_type": "stream",
     "text": [
      "Example a List of integers : [1, 2, 3, 4, 5]\n",
      "Convert a list of integers to a list of strings : ['1', '2', '3', '4', '5']\n"
     ]
    }
   ],
   "source": [
    "example_list = [1,2,3,4,5]\n",
    "print(\"Example a List of integers :\",example_list)\n",
    "string = []\n",
    "for p in example_list:\n",
    "    convert_string = str(p)\n",
    "    string.append(convert_string)\n",
    "print(\"Convert a list of integers to a list of strings :\",string)"
   ]
  },
  {
   "cell_type": "code",
   "execution_count": 86,
   "id": "fc640386-2ffa-46f4-9419-69399bd42e26",
   "metadata": {},
   "outputs": [],
   "source": [
    "# 28.Flatten a nested list."
   ]
  },
  {
   "cell_type": "code",
   "execution_count": 87,
   "id": "fa816495-27eb-4023-b65f-5409ab447281",
   "metadata": {},
   "outputs": [
    {
     "name": "stdout",
     "output_type": "stream",
     "text": [
      "Example a nested list : [12, 3, [1, 2], [3, 4]]\n",
      "Flatten a nested list :\n"
     ]
    },
    {
     "data": {
      "text/plain": [
       "[12, 3, 1, 2, 3, 4]"
      ]
     },
     "execution_count": 87,
     "metadata": {},
     "output_type": "execute_result"
    }
   ],
   "source": [
    "l = [12,3,[1,2],[3,4]]\n",
    "print(\"Example a nested list :\",l)\n",
    "print(\"Flatten a nested list :\")\n",
    "[j for i in l for j in (i if type(i)== list else [i])]"
   ]
  },
  {
   "cell_type": "code",
   "execution_count": 88,
   "id": "a3c18cc4-879a-4a41-8f65-950f4ba7bc35",
   "metadata": {},
   "outputs": [],
   "source": [
    "# 29.Create a list of the first 10 Fibonacci numbers."
   ]
  },
  {
   "cell_type": "code",
   "execution_count": 89,
   "id": "9648d814-e3b5-4da3-837e-f3590bea1f5a",
   "metadata": {},
   "outputs": [
    {
     "name": "stdout",
     "output_type": "stream",
     "text": [
      "Create a list of first 10 Fibonacci numbers : [0, 1, 1, 2, 3, 5, 8, 13, 21, 34, 55]\n"
     ]
    }
   ],
   "source": [
    "def fibonacci_nums_func(n):\n",
    "    if n <= 0:\n",
    "        return [0]\n",
    "    sequence = [0, 1]\n",
    "    while len(sequence) <= n:\n",
    "        next_value = sequence[len(sequence) - 1] + sequence[len(sequence) - 2]\n",
    "        sequence.append(next_value)\n",
    "    return sequence\n",
    "\n",
    "print(\"Create a list of first 10 Fibonacci numbers :\" ,fibonacci_nums_func(10))"
   ]
  },
  {
   "cell_type": "code",
   "execution_count": 90,
   "id": "95358db8-6dcb-43c0-9670-31edfc50d206",
   "metadata": {},
   "outputs": [],
   "source": [
    "# 30.Check if a list is sorted."
   ]
  },
  {
   "cell_type": "code",
   "execution_count": 91,
   "id": "af101dec-662e-4a14-9087-f72d94974f65",
   "metadata": {},
   "outputs": [
    {
     "name": "stdout",
     "output_type": "stream",
     "text": [
      "Example of Ascending list : [3, 4, 5, 6, 7]\n",
      "The list is sorted in ascending order.\n"
     ]
    }
   ],
   "source": [
    "# Function to check if a list is sorted in ascending order\n",
    "def is_sorted_ascending(lst):\n",
    "    for i in range(1, len(lst)):\n",
    "        if lst[i] < lst[i - 1]:\n",
    "            return False\n",
    "    return True\n",
    "\n",
    "\n",
    "ascending_list = [3,4,5,6,7]\n",
    "print(\"Example of Ascending list :\",ascending_list)\n",
    "\n",
    "# Check if the list is sorted in ascending order\n",
    "if is_sorted_ascending(ascending_list):\n",
    "    print(\"The list is sorted in ascending order.\")\n",
    "else:\n",
    "    print(\"The list is not sorted in ascending order.\")"
   ]
  },
  {
   "cell_type": "code",
   "execution_count": 92,
   "id": "3ae93e7d-2280-44c7-95f4-8bfc369a90a5",
   "metadata": {},
   "outputs": [],
   "source": [
    "# 31.Rotate a list to the left by 'n' positions."
   ]
  },
  {
   "cell_type": "code",
   "execution_count": 93,
   "id": "4b442504-dc51-44ab-8258-0e1405a87735",
   "metadata": {},
   "outputs": [
    {
     "name": "stdout",
     "output_type": "stream",
     "text": [
      "orginal list : [10, 20, 30, 40, 50]\n",
      "Rotate a list to the left by 2 position is [30, 40, 50, 10, 20] \n"
     ]
    }
   ],
   "source": [
    "def rotate_fun(l,n):\n",
    "    return list((l[n:])) + l[:n]\n",
    "\n",
    "example_list = [10,20,30,40,50]\n",
    "print(\"orginal list :\",example_list)\n",
    "\n",
    "rotated_list = rotate_fun(example_list,2)\n",
    "print(f\"Rotate a list to the left by 2 position is {rotated_list} \")"
   ]
  },
  {
   "cell_type": "code",
   "execution_count": 94,
   "id": "f0cbeb43-db23-4e3f-b697-64aaf848d5bc",
   "metadata": {},
   "outputs": [],
   "source": [
    "# 32.Rotate a list to the right by 'n' positions."
   ]
  },
  {
   "cell_type": "code",
   "execution_count": 95,
   "id": "3643b578-57cf-4ef6-96d2-708127a096cc",
   "metadata": {},
   "outputs": [
    {
     "name": "stdout",
     "output_type": "stream",
     "text": [
      "original list : [11, 22, 33, 44, 55, 66]\n",
      "Rotate a list to the right by 3 position is [44, 55, 66, 11, 22, 33] \n"
     ]
    }
   ],
   "source": [
    "def rotate_fun(l,n):\n",
    "    return list((l[-n:])) + l[:-n]\n",
    "\n",
    "example_list = [11,22,33,44,55,66]\n",
    "print(\"original list :\",example_list)\n",
    "\n",
    "rotated_right = rotate_fun(example_list,3)\n",
    "print(f\"Rotate a list to the right by 3 position is {rotated_right} \")"
   ]
  },
  {
   "cell_type": "code",
   "execution_count": 96,
   "id": "97699a63-82d5-497c-b27e-5cdc961a1c82",
   "metadata": {},
   "outputs": [],
   "source": [
    "# 33.Create a list of prime numbers up to 50."
   ]
  },
  {
   "cell_type": "code",
   "execution_count": 98,
   "id": "5338f9b7-5843-481a-b093-d5a691303763",
   "metadata": {},
   "outputs": [
    {
     "name": "stdout",
     "output_type": "stream",
     "text": [
      "Create a list of prime numbers up to 50 : [2, 3, 5, 7, 11, 13, 17, 19, 23, 29, 31, 37, 41, 43, 47]\n"
     ]
    }
   ],
   "source": [
    "# Function to check if a number is prime\n",
    "def is_prime_func(num):\n",
    "    if num <= 1:\n",
    "        return False\n",
    "    for i in range(2, int(num ** 0.5) + 1):\n",
    "        if num % i == 0:\n",
    "            return False\n",
    "    return True\n",
    "\n",
    "# Generate the first 50 prime numbers\n",
    "prime_numbers_list = [num for num in range(2,50) if is_prime_func(num)]\n",
    "\n",
    "# Print the tuple of prime numbers\n",
    "print(\"Create a list of prime numbers up to 50 :\", prime_numbers_list)"
   ]
  },
  {
   "cell_type": "code",
   "execution_count": 99,
   "id": "89389f5f-f5b8-48df-80da-745e98af9699",
   "metadata": {},
   "outputs": [],
   "source": [
    "# 34.Split a list into chunks of size 'n'."
   ]
  },
  {
   "cell_type": "code",
   "execution_count": 100,
   "id": "62ff5e35-a617-4ebe-9fdc-e805f19421ae",
   "metadata": {},
   "outputs": [
    {
     "name": "stdout",
     "output_type": "stream",
     "text": [
      "Example list : [1, 2, 3, 4, 5, 6, 7, 8, 9]\n",
      "Split a list into chunk of size '3' : [1, 2, 3]\n",
      "Split a list into chunk of size '3' : [4, 5, 6]\n",
      "Split a list into chunk of size '3' : [7, 8, 9]\n"
     ]
    }
   ],
   "source": [
    "example_list = [1,2,3,4,5,6,7,8,9]\n",
    "print(\"Example list :\",example_list)\n",
    "n = 3 \n",
    "start = 0\n",
    "end = len(example_list)\n",
    "step = 3\n",
    "for i in range(start,end,step) :\n",
    "    x = i\n",
    "    print(f\"Split a list into chunk of size '{n}' :\",example_list[x:x+step])"
   ]
  },
  {
   "cell_type": "code",
   "execution_count": 101,
   "id": "8eb14d52-aef1-4e05-a1c0-043025b12ce1",
   "metadata": {},
   "outputs": [],
   "source": [
    "# 35.Find the second largest number in a list."
   ]
  },
  {
   "cell_type": "code",
   "execution_count": 102,
   "id": "a3ed75b5-7754-4b6c-9f30-35975534bfe1",
   "metadata": {},
   "outputs": [
    {
     "name": "stdout",
     "output_type": "stream",
     "text": [
      "Example list : [10, 34, 22, 67, 78, 89, 56]\n",
      "The second largest number in a list : 78\n"
     ]
    }
   ],
   "source": [
    "example_list = [10,34,22,67,78,89,56]\n",
    "print(\"Example list :\",example_list)\n",
    "sort_list = list(sorted(example_list))\n",
    "print(\"The second largest number in a list :\",sort_list[-2])"
   ]
  },
  {
   "cell_type": "code",
   "execution_count": 103,
   "id": "63234128-71ad-4d17-96b3-abca9ae4e1af",
   "metadata": {},
   "outputs": [],
   "source": [
    "# 36.Replace every element in a list with its square."
   ]
  },
  {
   "cell_type": "code",
   "execution_count": 104,
   "id": "1fcb717f-1f6a-45b0-9f68-5cee7681335b",
   "metadata": {},
   "outputs": [
    {
     "name": "stdout",
     "output_type": "stream",
     "text": [
      "Example list : [1, 2, 3, 4, 5]\n",
      "Replace every element in a list with its square : [1, 4, 9, 16, 25]\n"
     ]
    }
   ],
   "source": [
    "example_list = [1,2,3,4,5]\n",
    "square = [x ** 2 for x in example_list]\n",
    "print(\"Example list :\",example_list)\n",
    "print(\"Replace every element in a list with its square :\",square)"
   ]
  },
  {
   "cell_type": "code",
   "execution_count": 105,
   "id": "cfde94b4-62f6-4c3f-872b-c864606a551e",
   "metadata": {},
   "outputs": [],
   "source": [
    "# 37.Convert a list to a dictionary where list elements become keys and their indices become values."
   ]
  },
  {
   "cell_type": "code",
   "execution_count": 106,
   "id": "022bddf3-5fbf-44f3-aabf-600cd277f56e",
   "metadata": {},
   "outputs": [
    {
     "name": "stdout",
     "output_type": "stream",
     "text": [
      "Example list : ['python', 'dsa', 'java', 'data science']\n",
      "Convert a list to a dictionary where list elements become keys and their indices become values \n",
      "{'python': 0, 'dsa': 1, 'java': 2, 'data science': 3}\n"
     ]
    }
   ],
   "source": [
    "\n",
    "example_list = ['python','dsa','java','data science']\n",
    "print(\"Example list :\",example_list)\n",
    "dic = {element : index for index,element in enumerate(example_list)}\n",
    "print(\"Convert a list to a dictionary where list elements become keys and their indices become values \")\n",
    "print(dic)"
   ]
  },
  {
   "cell_type": "code",
   "execution_count": 107,
   "id": "d46b1e1e-cdb1-4f08-84d3-1e0f3e42c947",
   "metadata": {},
   "outputs": [],
   "source": [
    "# 38.Shuffle the elements of a list randomly."
   ]
  },
  {
   "cell_type": "code",
   "execution_count": 108,
   "id": "09175c9d-ae6e-438b-b146-73f3dfea3d5e",
   "metadata": {},
   "outputs": [
    {
     "name": "stdout",
     "output_type": "stream",
     "text": [
      "Shuffle the elements of a list randomly [17, 3, 45, 89, 10, 12]\n"
     ]
    }
   ],
   "source": [
    "\n",
    "import random\n",
    "example_list = [10,12,3,45,17,89]\n",
    "random.shuffle(example_list)\n",
    "print(\"Shuffle the elements of a list randomly\",example_list)"
   ]
  },
  {
   "cell_type": "code",
   "execution_count": 109,
   "id": "dc821fd2-9225-47f1-b5c7-e9f0d27e711e",
   "metadata": {},
   "outputs": [],
   "source": [
    "#  39.Create a list of the first 10 factorial numbers."
   ]
  },
  {
   "cell_type": "code",
   "execution_count": 110,
   "id": "2bf5cc3d-92ad-43a6-aa1f-241e2c776ebf",
   "metadata": {},
   "outputs": [
    {
     "name": "stdout",
     "output_type": "stream",
     "text": [
      "A list of the first 10 numbers : [0, 1, 2, 3, 4, 5, 6, 7, 8, 9, 10]\n",
      "A list of the first 10 factorial numbers : [1, 1, 2, 6, 24, 120, 720, 5040, 40320, 362880, 3628800]\n"
     ]
    }
   ],
   "source": [
    "def fact(number):\n",
    "    if number == 0 or number == 1:\n",
    "        return 1\n",
    "    else :\n",
    "        return number*fact(number-1)\n",
    "\n",
    "fact_number = [fact(i) for i in range(0,11)]\n",
    "print(\"A list of the first 10 numbers :\",list(range(0,11)))\n",
    "print(\"A list of the first 10 factorial numbers :\",fact_number)"
   ]
  },
  {
   "cell_type": "code",
   "execution_count": 113,
   "id": "4e402530-b1a9-4207-9048-462cc779b420",
   "metadata": {},
   "outputs": [],
   "source": [
    "# 40.Check if two lists have at least one element in common."
   ]
  },
  {
   "cell_type": "code",
   "execution_count": 114,
   "id": "1a5d0e66-d60d-431d-8992-01265bb6ad93",
   "metadata": {},
   "outputs": [
    {
     "name": "stdout",
     "output_type": "stream",
     "text": [
      "List 1 : [11, 2, 34, 49, 56]\n",
      "List 2 : [4, 56, 2, 7, 8]\n",
      "Yes, list1 have at least one element in common with list2 \n"
     ]
    }
   ],
   "source": [
    "def check_element(l,p):\n",
    "    for item in l:\n",
    "        if item in p:\n",
    "            return True\n",
    "    return False\n",
    "\n",
    "    \n",
    "l = [11,2,34,49,56]\n",
    "p = [4,56,2,7,8]\n",
    "print(\"List 1 :\",l)\n",
    "print(\"List 2 :\",p)\n",
    "if check_element(l,p):\n",
    "    print(\"Yes, list1 have at least one element in common with list2 \")\n",
    "else:\n",
    "    print(\"No, list1 doesn't have at least one element with list2 \") "
   ]
  },
  {
   "cell_type": "code",
   "execution_count": 115,
   "id": "3904a387-961c-496b-98fe-9e0c586dd4d6",
   "metadata": {},
   "outputs": [],
   "source": [
    "# 41.Remove all elements from a list."
   ]
  },
  {
   "cell_type": "code",
   "execution_count": 116,
   "id": "84909d63-9a04-45b0-b50f-489bbc007a21",
   "metadata": {},
   "outputs": [
    {
     "name": "stdout",
     "output_type": "stream",
     "text": [
      "Example list is  [11, 12, 14, 15, 16]\n",
      "Remove all elements from a list is  []\n"
     ]
    }
   ],
   "source": [
    "example_list = [11,12,14,15,16]\n",
    "print(\"Example list is \",example_list)\n",
    "example_list.clear()\n",
    "print(\"Remove all elements from a list is \",example_list)"
   ]
  },
  {
   "cell_type": "code",
   "execution_count": 117,
   "id": "adb52875-8cb3-4ad0-aa65-30e9a8a713e6",
   "metadata": {},
   "outputs": [],
   "source": [
    "# 42.Replace negative numbers in a list with 0."
   ]
  },
  {
   "cell_type": "code",
   "execution_count": 118,
   "id": "be7ba64e-5873-4374-b4f2-a0d5497f63ef",
   "metadata": {},
   "outputs": [
    {
     "name": "stdout",
     "output_type": "stream",
     "text": [
      "Example list : [11, -12, 14, -6, 90, -11]\n",
      "Replace negative numbers in a list with 0 :  [11, 0, 14, 0, 90, 0]\n"
     ]
    }
   ],
   "source": [
    "example_list = [11,-12,14,-6,90,-11]\n",
    "print(\"Example list :\" ,example_list)\n",
    "for i in range(len(example_list)):\n",
    "    if example_list[i]< 0:\n",
    "        example_list[i] = 0\n",
    "print(\"Replace negative numbers in a list with 0 : \",example_list)"
   ]
  },
  {
   "cell_type": "code",
   "execution_count": 119,
   "id": "136f5325-9461-42f4-b90c-885b16ab4b00",
   "metadata": {},
   "outputs": [],
   "source": [
    "# 43.Convert a string into a list of words."
   ]
  },
  {
   "cell_type": "code",
   "execution_count": 120,
   "id": "80339700-ded3-4694-9274-35a1aaf7f7b2",
   "metadata": {},
   "outputs": [
    {
     "name": "stdout",
     "output_type": "stream",
     "text": [
      "Example string : This is beautiful scene\n",
      "Convert a string into a list of words : ['This', 'is', 'beautiful', 'scene']\n"
     ]
    }
   ],
   "source": [
    "example_string = \"This is beautiful scene\"\n",
    "print(\"Example string :\",example_string)\n",
    "list_of_words = example_string.split()\n",
    "print(\"Convert a string into a list of words :\",list_of_words)"
   ]
  },
  {
   "cell_type": "code",
   "execution_count": 121,
   "id": "534cdc37-a654-4d4d-a170-cf3dbcdc146f",
   "metadata": {},
   "outputs": [],
   "source": [
    "# 44.Convert a list of words into a string."
   ]
  },
  {
   "cell_type": "code",
   "execution_count": 122,
   "id": "0d7560f4-dd14-4a10-b5b3-cfc15a3bf51c",
   "metadata": {},
   "outputs": [
    {
     "name": "stdout",
     "output_type": "stream",
     "text": [
      "Example list : ['Today', 'is', 'Teachers', 'day']\n",
      "Convert a list of words into a string : Today is Teachers day\n"
     ]
    }
   ],
   "source": [
    "example_list = ['Today', 'is','Teachers','day']\n",
    "print(\"Example list :\",example_list)\n",
    "convert_string = ' '.join(example_list)\n",
    "print(\"Convert a list of words into a string :\",convert_string)"
   ]
  },
  {
   "cell_type": "code",
   "execution_count": 123,
   "id": "3b5d93b8-4efc-431b-ab11-1d4d52121ea3",
   "metadata": {},
   "outputs": [],
   "source": [
    "# 45.Create a list of the first 'n' powers of 2."
   ]
  },
  {
   "cell_type": "code",
   "execution_count": 4,
   "id": "a445b4e7-1e3e-489c-bbc4-9d90bfad6dd2",
   "metadata": {},
   "outputs": [
    {
     "name": "stdin",
     "output_type": "stream",
     "text": [
      "enter a number : 10\n"
     ]
    },
    {
     "name": "stdout",
     "output_type": "stream",
     "text": [
      "A list of numbers from 1 to 10 : [0, 1, 2, 3, 4, 5, 6, 7, 8, 9, 10]\n",
      "list of the first '10' powers of 2 : [1, 2, 4, 8, 16, 32, 64, 128, 256, 512, 1024]\n"
     ]
    }
   ],
   "source": [
    "n = int(input(\"enter a number :\"))\n",
    "print(\"A list of numbers from 1 to 10 :\",list(range(0,n+1)))\n",
    "pow_2 = [ 2**i for i in range(0,n+1)]\n",
    "print(f\"list of the first '{n}' powers of 2 :\",pow_2)"
   ]
  },
  {
   "cell_type": "code",
   "execution_count": 5,
   "id": "a9ffbe67-7e4b-41b7-b459-ebbcb1c72e75",
   "metadata": {},
   "outputs": [],
   "source": [
    "# 46.Find the longest string in a list of strings."
   ]
  },
  {
   "cell_type": "code",
   "execution_count": 6,
   "id": "928ac852-dc3e-4c24-8828-11dea12d0d98",
   "metadata": {},
   "outputs": [
    {
     "name": "stdout",
     "output_type": "stream",
     "text": [
      "Example list of string : ['Education', 'is', 'necessary', 'for', 'everyone']\n",
      "The longest string in a list of strings : Education\n"
     ]
    }
   ],
   "source": [
    "list_of_string = [\"Education\",\"is\",\"necessary\",\"for\",\"everyone\"]\n",
    "print(\"Example list of string :\",list_of_string)\n",
    "longest_string_is = \" \"\n",
    "for i in list_of_string:\n",
    "    if len(i) > len(longest_string_is):\n",
    "        longest_string_is = i\n",
    "        \n",
    "print(\"The longest string in a list of strings :\",longest_string_is)"
   ]
  },
  {
   "cell_type": "code",
   "execution_count": 7,
   "id": "ceeba484-a0f2-4f20-ad99-b620e472274b",
   "metadata": {},
   "outputs": [],
   "source": [
    "# 47.Find the shortest string in a list of strings."
   ]
  },
  {
   "cell_type": "code",
   "execution_count": 8,
   "id": "1c8f2e42-c7cb-4e7b-b034-3ee96cc4e4f7",
   "metadata": {},
   "outputs": [
    {
     "name": "stdout",
     "output_type": "stream",
     "text": [
      "Example list of string : ['Books', 'give', 'us', 'knowledge']\n",
      "The shortest string in a list of strings : us\n"
     ]
    }
   ],
   "source": [
    "\n",
    "list_of_string = [\"Books\",\"give\",\"us\",\"knowledge\"]\n",
    "print(\"Example list of string :\",list_of_string)\n",
    "shortest_string_is = list_of_string[0]\n",
    "for i in list_of_string:\n",
    "    if len(i) < len(shortest_string_is):\n",
    "        shortest_string_is = i\n",
    "        \n",
    "print(\"The shortest string in a list of strings :\",shortest_string_is)"
   ]
  },
  {
   "cell_type": "code",
   "execution_count": 9,
   "id": "39aeabd1-aced-467e-b1d0-e028047a6f88",
   "metadata": {},
   "outputs": [],
   "source": [
    "# 48.Create a list of the first 'n' Triangular numbers."
   ]
  },
  {
   "cell_type": "code",
   "execution_count": 10,
   "id": "5ecc3a49-cf37-4d40-a206-40b4b0d3ac41",
   "metadata": {},
   "outputs": [
    {
     "name": "stdin",
     "output_type": "stream",
     "text": [
      "enter a number for Triangular numbers : 10\n"
     ]
    },
    {
     "name": "stdout",
     "output_type": "stream",
     "text": [
      "A list of the first 10 Triangular numbers : [1, 3, 6, 10, 15, 21, 28, 36, 45] \n"
     ]
    }
   ],
   "source": [
    "n = int(input(\"enter a number for Triangular numbers :\"))\n",
    "numbers = [ f*(f+1)//2 for f in range(1,n)]\n",
    "print(f\"A list of the first {n} Triangular numbers : {numbers} \")"
   ]
  },
  {
   "cell_type": "code",
   "execution_count": 11,
   "id": "94e425d5-eac0-4c20-b7bc-7be574bea539",
   "metadata": {},
   "outputs": [],
   "source": [
    "# 49.Check if a list contains another list as a subsequence."
   ]
  },
  {
   "cell_type": "code",
   "execution_count": 12,
   "id": "4ecfe282-67b4-4402-bd5e-e27cbf4afb23",
   "metadata": {},
   "outputs": [
    {
     "name": "stdout",
     "output_type": "stream",
     "text": [
      "Main list : [10, 22, 33, 4, 55, 6, 74, 86, 97, 10]\n",
      "Other list : [4, 6]\n",
      "Yes, A main list contains another list as a subsequence\n"
     ]
    }
   ],
   "source": [
    "def sequence_func(main_list, subsequence_list):\n",
    "    sub_index = 0\n",
    "    for element in main_list:\n",
    "        if element == subsequence_list[sub_index]:\n",
    "            sub_index +=1\n",
    "            if sub_index == len(subsequence_list):\n",
    "                return True\n",
    "    return False\n",
    "\n",
    "\n",
    "main_list = [10,22,33,4,55,6,74,86,97,10]\n",
    "subsequence_list = [4,6]\n",
    "\n",
    "print(\"Main list :\",main_list)\n",
    "print(\"Other list :\",subsequence_list)\n",
    "\n",
    "if sequence_func(main_list, subsequence_list):\n",
    "    print(\"Yes, A main list contains another list as a subsequence\")\n",
    "else :\n",
    "    print(\"No, A main list doesn't contain another list as a subsequence\")"
   ]
  },
  {
   "cell_type": "code",
   "execution_count": 13,
   "id": "6cae70c5-c9b5-466d-9c01-691c7539e7ea",
   "metadata": {},
   "outputs": [],
   "source": [
    "# 50.Swap two elements in a list by their indices."
   ]
  },
  {
   "cell_type": "code",
   "execution_count": 14,
   "id": "4eda2fb6-f321-4ac3-a78b-4f0fcaecbde6",
   "metadata": {},
   "outputs": [
    {
     "name": "stdout",
     "output_type": "stream",
     "text": [
      "Example list of elements in a list : [10, 20, 30, 40, 50, 60]\n",
      "Swap two elements in a list by their indices : [10, 20, 30, 60, 50, 40]\n"
     ]
    }
   ],
   "source": [
    "example_list = [10,20,30,40,50,60]\n",
    "print(\"Example list of elements in a list :\",example_list)\n",
    "index1 = 3\n",
    "index2 = 5\n",
    "element = example_list[index1]\n",
    "example_list[index1] = example_list[index2]\n",
    "example_list[index2] = element\n",
    "\n",
    "print(\"Swap two elements in a list by their indices :\",example_list)"
   ]
  },
  {
   "cell_type": "code",
   "execution_count": null,
   "id": "bd75f66b-0cf1-47f9-8461-6f0374d3ed2e",
   "metadata": {},
   "outputs": [],
   "source": []
  },
  {
   "cell_type": "code",
   "execution_count": 15,
   "id": "879c59aa-5317-4fec-a033-e16bc4f2ad2f",
   "metadata": {},
   "outputs": [],
   "source": [
    "# Tuple Based Practice Problem :"
   ]
  },
  {
   "cell_type": "code",
   "execution_count": 16,
   "id": "5519314e-7261-457d-a968-35e2bd6c8e07",
   "metadata": {},
   "outputs": [],
   "source": [
    "# 1.Create a tuple with integers from 1 to 5."
   ]
  },
  {
   "cell_type": "code",
   "execution_count": 17,
   "id": "623e6469-b339-4a22-a83a-5ee2ca2b8ffe",
   "metadata": {},
   "outputs": [
    {
     "name": "stdout",
     "output_type": "stream",
     "text": [
      "A tuple with integers from 1 to 5 : (1, 2, 3, 4, 5)\n"
     ]
    }
   ],
   "source": [
    "y = tuple(range(1,6))\n",
    "\n",
    "print(f\"A tuple with integers from 1 to 5 :\",y)"
   ]
  },
  {
   "cell_type": "code",
   "execution_count": 18,
   "id": "309f7d89-2d52-47ed-a9a5-d8aae486c28a",
   "metadata": {},
   "outputs": [],
   "source": [
    "# 2.Access the third element of a tuple."
   ]
  },
  {
   "cell_type": "code",
   "execution_count": 19,
   "id": "ee97d929-0968-46b9-8bb5-bfa040244e38",
   "metadata": {},
   "outputs": [
    {
     "name": "stdout",
     "output_type": "stream",
     "text": [
      "Example of a tuple : (10, 22, 33, 44, 55)\n",
      "Access the third element of a tuple : 33\n"
     ]
    }
   ],
   "source": [
    "tuple_example = (10,22,33,44,55)\n",
    "print(\"Example of a tuple :\",tuple_example)\n",
    "\n",
    "index_access  = tuple_example[2]\n",
    "print(f\"Access the third element of a tuple :\",index_access)"
   ]
  },
  {
   "cell_type": "code",
   "execution_count": 20,
   "id": "9d7e7779-fbad-4d15-9a45-f2d15ce9cde0",
   "metadata": {},
   "outputs": [],
   "source": [
    "# 3.Find the length of a tuple without using the 'len()' function."
   ]
  },
  {
   "cell_type": "code",
   "execution_count": 21,
   "id": "171eaedd-0b41-401d-9631-e0cca3632e90",
   "metadata": {},
   "outputs": [
    {
     "name": "stdout",
     "output_type": "stream",
     "text": [
      "Example of a tuple : (23, 33, 43, 53, 63, 73, 83, 93)\n",
      "The length of a tuple without using the len() function : 8\n"
     ]
    }
   ],
   "source": [
    "tuple_example = (23,33,43,53,63,73,83,93)\n",
    "print(\"Example of a tuple :\",tuple_example)\n",
    "count_length  = 0\n",
    "for i in tuple_example:\n",
    "    count_length +=1\n",
    "print(\"The length of a tuple without using the len() function :\" ,count_length)"
   ]
  },
  {
   "cell_type": "code",
   "execution_count": 22,
   "id": "12d01c9d-5079-417d-87f8-7f6b554ff9de",
   "metadata": {},
   "outputs": [],
   "source": [
    "# 4.Count the occurrences of an element in a tuple."
   ]
  },
  {
   "cell_type": "code",
   "execution_count": 23,
   "id": "5d293d94-b585-4492-a7c4-3460db6bd62c",
   "metadata": {},
   "outputs": [
    {
     "name": "stdout",
     "output_type": "stream",
     "text": [
      "Example of a tuple : (2, 4, 6, 1, 7, 2, 2, 2)\n",
      "Count the occurrences of an element 2 in a tuple : 4 times\n"
     ]
    }
   ],
   "source": [
    "tuple_example = (2,4,6,1,7,2,2,2)\n",
    "print(\"Example of a tuple :\",tuple_example)\n",
    "count_occur = 0\n",
    "element_to_occur = 2 \n",
    "for element in tuple_example:\n",
    "    if element == element_to_occur:\n",
    "        count_occur +=1\n",
    "print(f\"Count the occurrences of an element {element_to_occur} in a tuple : {count_occur} times\")"
   ]
  },
  {
   "cell_type": "code",
   "execution_count": 24,
   "id": "e8230de1-db33-437e-bba5-c96c9ab80442",
   "metadata": {},
   "outputs": [],
   "source": [
    "# 5.Find the index of the first occurrence of an element in a tuple."
   ]
  },
  {
   "cell_type": "code",
   "execution_count": 25,
   "id": "cf9a3d2f-b6ac-42cb-beac-6c17cb2f05af",
   "metadata": {},
   "outputs": [
    {
     "name": "stdout",
     "output_type": "stream",
     "text": [
      "Example tuple : (1, 2, 4, 20, 6, 7, 20, 5)\n",
      "Element to find in tuple : 20\n",
      "The first occurrence of 20 is at index 3.\n"
     ]
    }
   ],
   "source": [
    "# Step 1: Create a tuple\n",
    "example_tuple = (1,2,4,20,6,7,20,5)\n",
    "print(\"Example tuple :\",example_tuple)\n",
    "\n",
    "# Step 2: Choose the element to find the index of\n",
    "element_to_find = 20\n",
    "print(\"Element to find in tuple :\",element_to_find)\n",
    "\n",
    "# Step 3: Initialize a variable to keep track of the index\n",
    "index = -1  # Initialize with -1 to indicate that the element was not found\n",
    "\n",
    "# Step 4: Iterate through the tuple and find the index of the chosen element\n",
    "for i, item in enumerate(example_tuple):\n",
    "    if item == element_to_find:\n",
    "        index = i\n",
    "        break  # Exit the loop once the first occurrence is found\n",
    "\n",
    "# Step 5: Print the index of the first occurrence\n",
    "if index != -1:\n",
    "    print(f\"The first occurrence of {element_to_find} is at index {index}.\")\n",
    "else:\n",
    "    print(f\"{element_to_find} is not found in the tuple.\")"
   ]
  },
  {
   "cell_type": "code",
   "execution_count": 26,
   "id": "d42b9a20-56fd-4faa-bcf5-a628bd4592e1",
   "metadata": {},
   "outputs": [],
   "source": [
    "# 6.Check if an element exists in a tuple."
   ]
  },
  {
   "cell_type": "code",
   "execution_count": 27,
   "id": "6db1425d-86d1-45ff-8c32-888ae1e2a327",
   "metadata": {},
   "outputs": [
    {
     "name": "stdout",
     "output_type": "stream",
     "text": [
      "Example of a tuple : (9, 18, 27, 36, 45, 54)\n",
      "Yes, an element 18 exist in a tuple .\n"
     ]
    }
   ],
   "source": [
    "tuple_example = (9,18,27,36,45,54)\n",
    "print(\"Example of a tuple :\",tuple_example)\n",
    "element_exits = 18 \n",
    "if element_exits in tuple_example:\n",
    "    print(f\"Yes, an element {element_exits} exist in a tuple .\")\n",
    "else :\n",
    "    print(f\"No, an element {element_exists} exist in a tuple .\")"
   ]
  },
  {
   "cell_type": "code",
   "execution_count": 28,
   "id": "90e69dd9-69cc-4085-b289-7c9276494857",
   "metadata": {},
   "outputs": [],
   "source": [
    "# 7.Convert a tuple to a list."
   ]
  },
  {
   "cell_type": "code",
   "execution_count": 29,
   "id": "5e8d18cb-bb4c-4fc9-8702-c2408d13ffc6",
   "metadata": {},
   "outputs": [
    {
     "name": "stdout",
     "output_type": "stream",
     "text": [
      "Example of a tuple : (2, 4, 5, 6, 9)\n",
      "Convert a tuple to a list : [2, 4, 5, 6, 9]\n"
     ]
    }
   ],
   "source": [
    "tuple_example = (2,4,5,6,9)\n",
    "print(\"Example of a tuple :\",tuple_example)\n",
    "convert_tuple = list(tuple_example)\n",
    "print(\"Convert a tuple to a list :\",convert_tuple)"
   ]
  },
  {
   "cell_type": "code",
   "execution_count": 30,
   "id": "b25c8b8b-0a69-4c72-a77d-212017bd2b31",
   "metadata": {},
   "outputs": [],
   "source": [
    "# 8.Convert a list to a tuple."
   ]
  },
  {
   "cell_type": "code",
   "execution_count": 31,
   "id": "aa01b1ab-2851-4261-b153-3e91291085fe",
   "metadata": {},
   "outputs": [
    {
     "name": "stdout",
     "output_type": "stream",
     "text": [
      "Example list : [23, 45, 67, 89, 11]\n",
      "Convert a list to a tuple : (23, 45, 67, 89, 11)\n"
     ]
    }
   ],
   "source": [
    "example_list = [23,45,67,89,11]\n",
    "print(\"Example list :\",example_list)\n",
    "convert_tuple = tuple(example_list)\n",
    "print(\"Convert a list to a tuple :\",convert_tuple)"
   ]
  },
  {
   "cell_type": "code",
   "execution_count": 32,
   "id": "fa1f56c5-ccd0-457e-bcf1-8169eb1e5a40",
   "metadata": {},
   "outputs": [],
   "source": [
    "# 9.Unpack the elements of a tuple into variables."
   ]
  },
  {
   "cell_type": "code",
   "execution_count": 33,
   "id": "0f507409-d66c-4a60-8062-593405df2535",
   "metadata": {},
   "outputs": [
    {
     "name": "stdout",
     "output_type": "stream",
     "text": [
      "Example of tuple : (11, 23, 45, 67, 88)\n",
      "Unpack the elements of a tuple into variables \n",
      "variable 1 of a tuple : 11\n",
      "variable 2 of a tuple : 23\n",
      "variable 3 of a tuple : 45\n",
      "variable 4 of a tuple : 67\n",
      "variable 5 of a tuple : 88\n"
     ]
    }
   ],
   "source": [
    "example_tuple = (11,23,45,67,88)\n",
    "print(\"Example of tuple :\",example_tuple)\n",
    "\n",
    "v1,v2,v3,v4,v5 = example_tuple\n",
    "print(\"Unpack the elements of a tuple into variables \")\n",
    "print(\"variable 1 of a tuple :\", v1)\n",
    "print(\"variable 2 of a tuple :\", v2)\n",
    "print(\"variable 3 of a tuple :\", v3)\n",
    "print(\"variable 4 of a tuple :\", v4)\n",
    "print(\"variable 5 of a tuple :\", v5)"
   ]
  },
  {
   "cell_type": "code",
   "execution_count": 34,
   "id": "bc3498d3-1b8e-414a-b60d-1f124be51414",
   "metadata": {},
   "outputs": [],
   "source": [
    "# 10.Create a tuple of even numbers from 1 to 10."
   ]
  },
  {
   "cell_type": "code",
   "execution_count": 35,
   "id": "8bf28b8a-1f64-4628-9fd0-70ddf0c554a0",
   "metadata": {},
   "outputs": [
    {
     "name": "stdout",
     "output_type": "stream",
     "text": [
      "A tuple of even numbers from 1 to 10 : (2, 4, 6, 8, 10)\n"
     ]
    }
   ],
   "source": [
    "even_number = [num for num in range(2,11,2)]\n",
    "in_tuple = tuple(even_number)\n",
    "\n",
    "print(\"A tuple of even numbers from 1 to 10 :\",in_tuple)"
   ]
  },
  {
   "cell_type": "code",
   "execution_count": 36,
   "id": "278ddeb0-e10f-411f-b5fa-966512e8fc9e",
   "metadata": {},
   "outputs": [],
   "source": [
    "# 11.Create a tuple of odd numbers from 1 to 10."
   ]
  },
  {
   "cell_type": "code",
   "execution_count": 37,
   "id": "e8f7070b-0c6a-453a-a62c-9de95d2a4f7d",
   "metadata": {},
   "outputs": [
    {
     "name": "stdout",
     "output_type": "stream",
     "text": [
      "A tuple of odd numbers from 1 to 10 : (1, 3, 5, 7, 9)\n"
     ]
    }
   ],
   "source": [
    "odd_number = [odd for odd in range(1,11,2)]\n",
    "in_tuple = tuple(odd_number)\n",
    "print(\"A tuple of odd numbers from 1 to 10 :\",in_tuple)"
   ]
  },
  {
   "cell_type": "code",
   "execution_count": 38,
   "id": "8b16bba0-1a15-4d07-9913-9975c8199ee9",
   "metadata": {},
   "outputs": [],
   "source": [
    "# 12.Concatenate two tuples."
   ]
  },
  {
   "cell_type": "code",
   "execution_count": 39,
   "id": "8492fe9a-8d2c-467c-9f35-eb5ba592760c",
   "metadata": {},
   "outputs": [
    {
     "name": "stdout",
     "output_type": "stream",
     "text": [
      "first tuple : (1, 2, 3, 4, 5)\n",
      "second tuple : (11, 12, 13, 14, 15)\n",
      "concatenate two tuples: (1, 2, 3, 4, 5, 11, 12, 13, 14, 15)\n"
     ]
    }
   ],
   "source": [
    "tuple1 = (1,2,3,4,5)\n",
    "tuple2 = (11,12,13,14,15)\n",
    "concatenate = tuple1 +tuple2\n",
    "print(\"first tuple :\",tuple1)\n",
    "print(\"second tuple :\",tuple2)\n",
    "print(\"concatenate two tuples:\",concatenate)"
   ]
  },
  {
   "cell_type": "code",
   "execution_count": 40,
   "id": "1476566b-73f2-460b-aca1-21ce958cf90a",
   "metadata": {},
   "outputs": [],
   "source": [
    "#  13.Repeat a tuple three times."
   ]
  },
  {
   "cell_type": "code",
   "execution_count": 41,
   "id": "2f8b58f2-0b55-4651-bcdd-a25b1efb5900",
   "metadata": {},
   "outputs": [
    {
     "name": "stdout",
     "output_type": "stream",
     "text": [
      "A tuple : (23, 11, 45, 77)\n",
      "Repeat a tupple three times : (23, 11, 45, 77, 23, 11, 45, 77, 23, 11, 45, 77)\n"
     ]
    }
   ],
   "source": [
    "example_tuple = (23,11,45,77)\n",
    "repeat_tuple = example_tuple*3\n",
    "print(\"A tuple :\",example_tuple)\n",
    "print(\"Repeat a tupple three times :\",repeat_tuple)"
   ]
  },
  {
   "cell_type": "code",
   "execution_count": 42,
   "id": "efd116ed-e6f1-4f77-9dcd-3c37ba06849c",
   "metadata": {},
   "outputs": [],
   "source": [
    "# 14.Check if a tuple is empty."
   ]
  },
  {
   "cell_type": "code",
   "execution_count": 43,
   "id": "f1c770b6-a841-43df-bb72-9b61c55ad043",
   "metadata": {},
   "outputs": [
    {
     "name": "stdout",
     "output_type": "stream",
     "text": [
      "A empty tuple : ()\n",
      "A tuple is empty\n",
      "A example tuple : (1, 2, 3, 4)\n",
      "A example tuple is not empty\n"
     ]
    }
   ],
   "source": [
    "empty_tuple = ()\n",
    "example_tuple = (1,2,3,4)\n",
    "print(\"A empty tuple :\",empty_tuple)\n",
    "if not empty_tuple:\n",
    "    print(\"A tuple is empty\")\n",
    "else:\n",
    "    print(\"A tuple is not empty\")\n",
    "\n",
    "print(\"A example tuple :\",example_tuple)\n",
    "if not example_tuple:\n",
    "    print(\"A emple tuple is empty\")\n",
    "else:\n",
    "    print(\"A example tuple is not empty\")"
   ]
  },
  {
   "cell_type": "code",
   "execution_count": 44,
   "id": "ae88181c-8f07-4e98-a83c-f34aa0c61060",
   "metadata": {},
   "outputs": [],
   "source": [
    "# 15.Create a nested tuple."
   ]
  },
  {
   "cell_type": "code",
   "execution_count": 45,
   "id": "1b45cfeb-48fa-4089-978e-2f4cb8f2062d",
   "metadata": {},
   "outputs": [
    {
     "name": "stdout",
     "output_type": "stream",
     "text": [
      "A nested tuple : (1, (1, 2), (1, 2, 3), (1, 2, 3, 4))\n"
     ]
    }
   ],
   "source": [
    "example_tuple = ((1),(1,2),(1,2,3),(1,2,3,4))\n",
    "print(\"A nested tuple :\",example_tuple)"
   ]
  },
  {
   "cell_type": "code",
   "execution_count": 46,
   "id": "b7e80171-d18b-4e7f-9b2a-eda262ea6a58",
   "metadata": {},
   "outputs": [],
   "source": [
    "# 16.Access the first element of a nested tuple."
   ]
  },
  {
   "cell_type": "code",
   "execution_count": 47,
   "id": "8a1d4e2b-e08f-4eb6-99f0-b3e592910ff1",
   "metadata": {},
   "outputs": [
    {
     "name": "stdout",
     "output_type": "stream",
     "text": [
      "Example of nested tuple : (('True', 'False'), (1, 2, 3), ('list', 'tuple', 'set'))\n",
      "Access the first element of a nested tuple : ('True', 'False')\n"
     ]
    }
   ],
   "source": [
    "example_tuple = (('True','False'),(1,2,3),('list','tuple','set'))\n",
    "first_element = example_tuple[0]\n",
    "print(\"Example of nested tuple :\",example_tuple)\n",
    "print(\"Access the first element of a nested tuple :\",first_element)"
   ]
  },
  {
   "cell_type": "code",
   "execution_count": 48,
   "id": "985b305d-221f-4389-99bc-c8a5bfefc0e1",
   "metadata": {},
   "outputs": [],
   "source": [
    "# 17.Create a tuple with a single element."
   ]
  },
  {
   "cell_type": "code",
   "execution_count": 50,
   "id": "0bdb2302-6fb7-4807-a511-5561e637df21",
   "metadata": {},
   "outputs": [
    {
     "name": "stdout",
     "output_type": "stream",
     "text": [
      "A tuple with a single element : (2,)\n"
     ]
    }
   ],
   "source": [
    "single_element = (2,) # Note the trailing comma\n",
    "print(\"A tuple with a single element :\",single_element)\n",
    "# Note : We create a tuple named single_element_tuple with a single element. The key here is to include a trailing comma after the element, \n",
    "#        which informs Python that you want to create a tuple with one element."
   ]
  },
  {
   "cell_type": "code",
   "execution_count": 51,
   "id": "6f8f00c5-f23e-444a-9b7b-c3cd18c3934c",
   "metadata": {},
   "outputs": [],
   "source": [
    "# 18.Compare two tuples."
   ]
  },
  {
   "cell_type": "code",
   "execution_count": 52,
   "id": "43141845-af51-432c-8940-1163de84a7cc",
   "metadata": {},
   "outputs": [
    {
     "name": "stdout",
     "output_type": "stream",
     "text": [
      "first tuple : (10, 20, 40, 30)\n",
      "second tuple : (10, 50, 20, 70)\n",
      "Compare two tuples\n",
      "check for greater than or equal to ,first tuple >= second tuple : False\n",
      "check for less than or equal to ,first tuple <= second tuple : True\n",
      "check for equality ,first tuple == second tuple : False\n",
      "check for inequality ,first tuple != second tuple : True\n",
      "check for less than ,first tuple < second tuple : True\n",
      "check for greater tha ,first tuple > second tuple : False\n"
     ]
    }
   ],
   "source": [
    "\n",
    "t1 = (10,20,40,30)\n",
    "t2 = (10,50,20,70)\n",
    "print(\"first tuple :\",t1)\n",
    "print(\"second tuple :\",t2)\n",
    "print(\"Compare two tuples\")\n",
    "print(\"check for greater than or equal to ,first tuple >= second tuple :\",t1>=t2)\n",
    "print(\"check for less than or equal to ,first tuple <= second tuple :\",t1<=t2)\n",
    "print(\"check for equality ,first tuple == second tuple :\",t1==t2)\n",
    "print(\"check for inequality ,first tuple != second tuple :\",t1 != t2)\n",
    "print(\"check for less than ,first tuple < second tuple :\",t1<t2)\n",
    "print(\"check for greater tha ,first tuple > second tuple :\",t1>t2)"
   ]
  },
  {
   "cell_type": "code",
   "execution_count": 53,
   "id": "3db25c9b-6605-483b-b8b3-85afb55669ea",
   "metadata": {},
   "outputs": [],
   "source": [
    "# 19.Delete a tuple."
   ]
  },
  {
   "cell_type": "code",
   "execution_count": 54,
   "id": "f658ec3d-1d81-4e7e-aa36-83ad707bb043",
   "metadata": {},
   "outputs": [
    {
     "name": "stdout",
     "output_type": "stream",
     "text": [
      "Example of tuple : ('dsa', 1, 'java', 5)\n"
     ]
    },
    {
     "ename": "NameError",
     "evalue": "name 'a_tuple' is not defined",
     "output_type": "error",
     "traceback": [
      "\u001b[0;31m---------------------------------------------------------------------------\u001b[0m",
      "\u001b[0;31mNameError\u001b[0m                                 Traceback (most recent call last)",
      "Cell \u001b[0;32mIn[54], line 6\u001b[0m\n\u001b[1;32m      3\u001b[0m \u001b[38;5;28;01mdel\u001b[39;00m a_tuple\n\u001b[1;32m      4\u001b[0m \u001b[38;5;66;03m#step :once you delete the tuple by del statement then nameerror shows that you can't access the delete tuple .\u001b[39;00m\n\u001b[1;32m      5\u001b[0m \u001b[38;5;66;03m# delete tuple no longer exists  \u001b[39;00m\n\u001b[0;32m----> 6\u001b[0m \u001b[38;5;28mprint\u001b[39m(\u001b[38;5;124m\"\u001b[39m\u001b[38;5;124mDelete a tuple :\u001b[39m\u001b[38;5;124m\"\u001b[39m,\u001b[43ma_tuple\u001b[49m)\n\u001b[1;32m      8\u001b[0m \u001b[38;5;66;03m# Note : We use the del statement to delete the entire tuple.\u001b[39;00m\n\u001b[1;32m      9\u001b[0m \u001b[38;5;66;03m#        When you try to access the tuple after deleting it, you will get a NameError because the tuple no longer exists.\u001b[39;00m\n",
      "\u001b[0;31mNameError\u001b[0m: name 'a_tuple' is not defined"
     ]
    }
   ],
   "source": [
    "a_tuple = ('dsa',1,'java',5)\n",
    "print(\"Example of tuple :\",a_tuple)\n",
    "del a_tuple\n",
    "#step :once you delete the tuple by del statement then nameerror shows that you can't access the delete tuple .\n",
    "# delete tuple no longer exists  \n",
    "print(\"Delete a tuple :\",a_tuple)\n",
    "\n",
    "# Note : We use the del statement to delete the entire tuple.\n",
    "#        When you try to access the tuple after deleting it, you will get a NameError because the tuple no longer exists."
   ]
  },
  {
   "cell_type": "code",
   "execution_count": 55,
   "id": "0532dbad-7558-42fd-b299-59d88f1addce",
   "metadata": {},
   "outputs": [],
   "source": [
    "# 20.Slice a tuple."
   ]
  },
  {
   "cell_type": "code",
   "execution_count": 56,
   "id": "3a02b897-7938-42cb-a302-ec93aaa9f54b",
   "metadata": {},
   "outputs": [
    {
     "name": "stdout",
     "output_type": "stream",
     "text": [
      "Example tuple : (2, 4, 'True', 'tuple', 'set', 89, 'list', 'string')\n",
      "Slice a tuple : ('True', 'tuple', 'set', 89, 'list', 'string')\n"
     ]
    }
   ],
   "source": [
    "example_tuple = (2,4,'True','tuple','set',89,'list','string')\n",
    "slice_tuple = example_tuple[2:8] #slice syntax[start:end] ,start(inclusive) and end(exclusive)\n",
    "print(\"Example tuple :\",example_tuple)\n",
    "print(\"Slice a tuple :\",slice_tuple)"
   ]
  },
  {
   "cell_type": "code",
   "execution_count": 57,
   "id": "ff305815-80bd-4001-a4a9-3d30f6370239",
   "metadata": {},
   "outputs": [],
   "source": [
    "# 21.Find the maximum value in a tuple."
   ]
  },
  {
   "cell_type": "code",
   "execution_count": 58,
   "id": "eeca84c4-cf86-434b-a301-4ff7b156a2cf",
   "metadata": {},
   "outputs": [
    {
     "name": "stdout",
     "output_type": "stream",
     "text": [
      "Example tuple : (12, 34, 15, 78, 22)\n",
      "The maximum value in a tuple : 78\n"
     ]
    }
   ],
   "source": [
    "example_tuple = (12,34,15,78,22)\n",
    "max_value = max(example_tuple)\n",
    "print(\"Example tuple :\",example_tuple)\n",
    "print(\"The maximum value in a tuple :\",max_value) "
   ]
  },
  {
   "cell_type": "code",
   "execution_count": 59,
   "id": "483235b4-0808-4ab6-9dec-542e4746c025",
   "metadata": {},
   "outputs": [],
   "source": [
    "# 22.Find the minimum value in a tuple."
   ]
  },
  {
   "cell_type": "code",
   "execution_count": 60,
   "id": "4e50b8d2-e2b1-4468-a723-2478b80d834d",
   "metadata": {},
   "outputs": [
    {
     "name": "stdout",
     "output_type": "stream",
     "text": [
      "Example of tuple : (2, 5, 67, 89)\n",
      "The minimum value in a tuple : 2\n"
     ]
    }
   ],
   "source": [
    "example_tuple = (2,5,67,89)\n",
    "min_value = min(example_tuple)\n",
    "print(\"Example of tuple :\",example_tuple)\n",
    "print(\"The minimum value in a tuple :\",min_value)"
   ]
  },
  {
   "cell_type": "code",
   "execution_count": 61,
   "id": "203184d3-90c0-4bf0-b7ab-f7267484a9e3",
   "metadata": {},
   "outputs": [],
   "source": [
    "# 23.Convert a string to a tuple of characters."
   ]
  },
  {
   "cell_type": "code",
   "execution_count": 62,
   "id": "c77f5f46-7f4c-4eed-aa16-db16c4653b5e",
   "metadata": {},
   "outputs": [
    {
     "name": "stdout",
     "output_type": "stream",
     "text": [
      "A string : Internet is powerful\n",
      "Convert a string to a tuple of characters : ('I', 'n', 't', 'e', 'r', 'n', 'e', 't', ' ', 'i', 's', ' ', 'p', 'o', 'w', 'e', 'r', 'f', 'u', 'l')\n"
     ]
    }
   ],
   "source": [
    "string = \"Internet is powerful\"\n",
    "print(\"A string :\",string)\n",
    "tuple_char = tuple(string)\n",
    "print(\"Convert a string to a tuple of characters :\",tuple_char)"
   ]
  },
  {
   "cell_type": "code",
   "execution_count": 63,
   "id": "bf9669f6-accc-4e89-9add-f7754f3a8eea",
   "metadata": {},
   "outputs": [],
   "source": [
    "# 24.Convert a tuple of characters to a string."
   ]
  },
  {
   "cell_type": "code",
   "execution_count": 64,
   "id": "147f69fe-3dcf-4991-8303-577dc54dcccc",
   "metadata": {},
   "outputs": [
    {
     "name": "stdout",
     "output_type": "stream",
     "text": [
      "A tuple of characters : ('N', 'a', 'm', 'a', 's', 't', 'e', 'y', ' ', 'b', 'h', 'a', 'r', 'a', 't')\n",
      "Convert a tuple of characters to a string : Namastey bharat\n"
     ]
    }
   ],
   "source": [
    "tuple_of_char = ('N','a','m','a','s','t','e','y',' ','b','h','a','r','a','t')\n",
    "print(\"A tuple of characters :\",tuple_of_char)\n",
    "tuple_to_str = ''.join(tuple_of_char)\n",
    "print(\"Convert a tuple of characters to a string :\",tuple_to_str)"
   ]
  },
  {
   "cell_type": "code",
   "execution_count": 65,
   "id": "4a378ba2-a1f9-413b-9ec0-dab13e0d06b9",
   "metadata": {},
   "outputs": [],
   "source": [
    "# 25.Create a tuple from multiple data types."
   ]
  },
  {
   "cell_type": "code",
   "execution_count": 66,
   "id": "f5a65c21-612b-4ec6-97f2-c7df7fb4c8c0",
   "metadata": {},
   "outputs": [
    {
     "name": "stdout",
     "output_type": "stream",
     "text": [
      "A tuple from multiple data types : (45, 1, 4, 'True', 89.77, True, 'data types')\n"
     ]
    }
   ],
   "source": [
    "mul_tuple = (45,1,4,'True',89.77,True,'data types') \n",
    "# 'True' is string where True is boolean expression\n",
    "#45,1,4 in integer \n",
    "# 89.77 is floating point number\n",
    "#'data types' is in string \n",
    "print(\"A tuple from multiple data types :\",mul_tuple)"
   ]
  },
  {
   "cell_type": "code",
   "execution_count": 67,
   "id": "4a938dac-6f68-428a-93bd-1fe06f62f909",
   "metadata": {},
   "outputs": [],
   "source": [
    "# 26.Check if two tuples are identical."
   ]
  },
  {
   "cell_type": "code",
   "execution_count": 68,
   "id": "c68ba9d5-134e-4f2b-b185-32baa59f486f",
   "metadata": {},
   "outputs": [
    {
     "name": "stdout",
     "output_type": "stream",
     "text": [
      "Tuple 1 : (2, 4, 6)\n",
      "Tuple 2 : (8, 7, 0)\n",
      "Tuple 3 : (2, 4, 6)\n",
      "Check for Tuple 1 is identical to Tuple 2 : False\n",
      "Check for Tuple 2 is identical to Tuple 3 : False\n",
      "Check for Tuple 3 is identical to Tuple 1 : True\n"
     ]
    }
   ],
   "source": [
    "tuple1 = (2,4,6)\n",
    "tuple2 = (8,7,0)\n",
    "tuple3 = (2,4,6)\n",
    "print(\"Tuple 1 :\",tuple1)\n",
    "print(\"Tuple 2 :\",tuple2)\n",
    "print(\"Tuple 3 :\",tuple3)\n",
    "print(\"Check for Tuple 1 is identical to Tuple 2 :\",tuple1==tuple2)\n",
    "print(\"Check for Tuple 2 is identical to Tuple 3 :\",tuple2==tuple3) \n",
    "print(\"Check for Tuple 3 is identical to Tuple 1 :\",tuple3==tuple1)"
   ]
  },
  {
   "cell_type": "code",
   "execution_count": 69,
   "id": "b9f4a622-17f6-44ce-81d3-a2712620a3fc",
   "metadata": {},
   "outputs": [],
   "source": [
    "# 27.Sort the elements of a tuple."
   ]
  },
  {
   "cell_type": "code",
   "execution_count": 70,
   "id": "d93d798f-f8b6-400c-9924-10f7cb616f97",
   "metadata": {},
   "outputs": [
    {
     "name": "stdout",
     "output_type": "stream",
     "text": [
      "Example of tuple : (23, 56, 12, 79, 10)\n",
      "Sort the elements of a tuple : (10, 12, 23, 56, 79)\n"
     ]
    }
   ],
   "source": [
    "example_tuple = (23,56,12,79,10)\n",
    "print(\"Example of tuple :\",example_tuple)\n",
    "sort_element = tuple(sorted(example_tuple))\n",
    "print(\"Sort the elements of a tuple :\",sort_element)"
   ]
  },
  {
   "cell_type": "code",
   "execution_count": 71,
   "id": "39cf7f14-407f-4e52-895f-c10f347ae92d",
   "metadata": {},
   "outputs": [],
   "source": [
    "#  28.Convert a tuple of integers to a tuple of strings."
   ]
  },
  {
   "cell_type": "code",
   "execution_count": 72,
   "id": "26635af3-1bf1-42ff-8304-389f419c192f",
   "metadata": {},
   "outputs": [
    {
     "name": "stdout",
     "output_type": "stream",
     "text": [
      "Tuple of integers : (10, 20, 30, 40, 50)\n",
      "Convert a tuple of integers to a tuple of strings : ('10', '20', '30', '40', '50')\n"
     ]
    }
   ],
   "source": [
    "tuple_in_integer = (10,20,30,40,50)\n",
    "print(\"Tuple of integers :\",tuple_in_integer)\n",
    "string  = (str(i) for i in tuple_in_integer)\n",
    "tuple_string = tuple(string)\n",
    "print(\"Convert a tuple of integers to a tuple of strings :\",tuple_string)"
   ]
  },
  {
   "cell_type": "code",
   "execution_count": 73,
   "id": "b86cb9e9-2245-46b2-9ef9-9d88302c5b85",
   "metadata": {},
   "outputs": [],
   "source": [
    "# 29.Convert a tuple of strings to a tuple of integers."
   ]
  },
  {
   "cell_type": "code",
   "execution_count": 74,
   "id": "451531e7-5b9c-49e3-8740-e5b3ef5c737e",
   "metadata": {},
   "outputs": [
    {
     "name": "stdout",
     "output_type": "stream",
     "text": [
      "Tuple of strings : ('11', '22', '33', '44', '55', '66')\n",
      "Convert a tuple of strings to a tuple of integers : (11, 22, 33, 44, 55, 66)\n"
     ]
    }
   ],
   "source": [
    "tuple_of_string = ('11','22','33','44','55','66')\n",
    "print(\"Tuple of strings :\",tuple_of_string)\n",
    "tuple_of_integer = tuple(int(p) for p in tuple_of_string)\n",
    "print(\"Convert a tuple of strings to a tuple of integers :\",tuple_of_integer)"
   ]
  },
  {
   "cell_type": "code",
   "execution_count": 75,
   "id": "2cc0e920-c91c-4056-a431-0adc99104af3",
   "metadata": {},
   "outputs": [],
   "source": [
    "# 30.Merge two tuples."
   ]
  },
  {
   "cell_type": "code",
   "execution_count": 76,
   "id": "55f92941-7792-4712-b10b-3f2b19377abd",
   "metadata": {},
   "outputs": [
    {
     "name": "stdout",
     "output_type": "stream",
     "text": [
      "Tuple 1 : (12, 34, 67, 89)\n",
      "Tuple 2 : (23, 45, 78, 11)\n",
      "Merge Tuple1 and Tuple2 : (12, 34, 67, 89, 23, 45, 78, 11)\n"
     ]
    }
   ],
   "source": [
    "tuple1 = (12,34,67,89)\n",
    "tuple2 = (23,45,78,11)\n",
    "print(\"Tuple 1 :\",tuple1)\n",
    "print(\"Tuple 2 :\",tuple2)\n",
    "merge_tuple = tuple1+tuple2\n",
    "print(\"Merge Tuple1 and Tuple2 :\",merge_tuple)"
   ]
  },
  {
   "cell_type": "code",
   "execution_count": 77,
   "id": "6ebb0942-a302-473f-bf54-67d52f5e54ab",
   "metadata": {},
   "outputs": [],
   "source": [
    "# 31.Flatten a nested tuple."
   ]
  },
  {
   "cell_type": "code",
   "execution_count": 78,
   "id": "ddf111c3-f058-43b5-9edf-bf8150b63eb1",
   "metadata": {},
   "outputs": [
    {
     "name": "stdout",
     "output_type": "stream",
     "text": [
      "Example a nested tuple : (12, 3, (4, 2), (3, 4, 7))\n",
      "Flatten a nested list :\n",
      "(12, 3, 4, 2, 3, 4, 7)\n"
     ]
    }
   ],
   "source": [
    "t = (12,3,(4,2),(3,4,7))\n",
    "print(\"Example a nested tuple :\",t)\n",
    "print(\"Flatten a nested list :\")\n",
    "k = tuple(j for i in t for j in (i if type(i)== tuple else [i]))\n",
    "print(k)"
   ]
  },
  {
   "cell_type": "code",
   "execution_count": 79,
   "id": "d7ed5b64-f47f-42da-a573-ca93d4ec5b88",
   "metadata": {},
   "outputs": [],
   "source": [
    "# 32.Create a tuple of the first 5 prime numbers."
   ]
  },
  {
   "cell_type": "code",
   "execution_count": 80,
   "id": "b1bd15eb-c336-4b48-8feb-44b956789480",
   "metadata": {},
   "outputs": [
    {
     "name": "stdout",
     "output_type": "stream",
     "text": [
      "Create a tuple of the first 5 prime numbers : (2, 3, 5, 7, 11)\n"
     ]
    }
   ],
   "source": [
    "# Function to check if a number is prime\n",
    "def is_prime_func(num):\n",
    "    if num <= 1:\n",
    "        return False\n",
    "    for i in range(2, int(num ** 0.5) + 1):\n",
    "        if num % i == 0:\n",
    "            return False\n",
    "    return True\n",
    "\n",
    "# Generate the first 5 prime numbers\n",
    "prime_numbers_list = [num for num in range(2, 15) if is_prime_func(num)][:5]\n",
    "# Convert the list to a tuple\n",
    "prime_numbers_tuple = tuple(prime_numbers_list)\n",
    "\n",
    "# Print the tuple of prime numbers\n",
    "print(\"Create a tuple of the first 5 prime numbers :\", prime_numbers_tuple)"
   ]
  },
  {
   "cell_type": "code",
   "execution_count": 81,
   "id": "1c48f675-8a95-496c-ac4a-92e13321c1e8",
   "metadata": {},
   "outputs": [],
   "source": [
    "# 33.Check if a tuple is a palindrome."
   ]
  },
  {
   "cell_type": "code",
   "execution_count": 82,
   "id": "a07177d0-3673-4ce6-ab34-bc1ef88ce7f1",
   "metadata": {},
   "outputs": [
    {
     "name": "stdout",
     "output_type": "stream",
     "text": [
      "First tuple : (1, 2, 3, 4, 3, 2, 1)\n",
      "Second tuple : (23, 45, 11, 34, 67)\n",
      "A first tuple is a palindrome : True\n",
      "A second tuple is not a palindrome : False\n"
     ]
    }
   ],
   "source": [
    "def tuple_func(palindrome):\n",
    "    return palindrome == palindrome[::-1]\n",
    "    \n",
    "    \n",
    "palin_tuple = (1,2,3,4,3,2,1)\n",
    "unpalin_tuple = (23,45,11,34,67)\n",
    "print(\"First tuple :\",palin_tuple)\n",
    "print(\"Second tuple :\",unpalin_tuple)\n",
    "\n",
    "ispalin = tuple_func(palin_tuple)\n",
    "unpalin = tuple_func(unpalin_tuple)\n",
    "print(\"A first tuple is a palindrome :\",ispalin)\n",
    "print(\"A second tuple is not a palindrome :\",unpalin)"
   ]
  },
  {
   "cell_type": "code",
   "execution_count": 83,
   "id": "2ea4b752-9279-4a50-988f-7ccf14e498ac",
   "metadata": {},
   "outputs": [],
   "source": [
    "# 34.Create a tuple of squares of numbers from 1 to 5."
   ]
  },
  {
   "cell_type": "code",
   "execution_count": 84,
   "id": "cbed0ec0-e702-4a52-8acd-37d728807d1a",
   "metadata": {},
   "outputs": [
    {
     "name": "stdout",
     "output_type": "stream",
     "text": [
      "A tuple of numbers from 1 to 5 : (1, 2, 3, 4, 5)\n",
      "A tuple of squares of numbers from 1 to 5 : (1, 4, 9, 16, 25)\n"
     ]
    }
   ],
   "source": [
    "number = tuple(num for num in range(1,6))\n",
    "print(\"A tuple of numbers from 1 to 5 :\",number)\n",
    "square = tuple(i**2 for i in range(1,6))\n",
    "print(\"A tuple of squares of numbers from 1 to 5 :\",square)"
   ]
  },
  {
   "cell_type": "code",
   "execution_count": 85,
   "id": "19f59168-8b72-4d3e-85d0-f4de560f460c",
   "metadata": {},
   "outputs": [],
   "source": [
    "# 35.filter out all even numbers from a tuple."
   ]
  },
  {
   "cell_type": "code",
   "execution_count": 86,
   "id": "05ce8644-21b4-4966-ae33-d748cc72c240",
   "metadata": {},
   "outputs": [
    {
     "name": "stdout",
     "output_type": "stream",
     "text": [
      "Example of tuple : (12, 23, 45, 11, 67, 88)\n",
      "Filter out all even numbers from a tuple : (12, 88)\n"
     ]
    }
   ],
   "source": [
    "\n",
    "example_tuple = (12,23,45,11,67,88)\n",
    "print(\"Example of tuple :\",example_tuple)\n",
    "even_num = tuple( i for i in example_tuple if i%2==0)\n",
    "print(\"Filter out all even numbers from a tuple :\",even_num)"
   ]
  },
  {
   "cell_type": "code",
   "execution_count": 87,
   "id": "8710f376-34ff-46b6-8481-80f617c44d24",
   "metadata": {},
   "outputs": [],
   "source": [
    "# 36.Multiply all elements in a tuple by 2."
   ]
  },
  {
   "cell_type": "code",
   "execution_count": 88,
   "id": "9f606290-519b-4cf8-a3e5-e1ab025a4628",
   "metadata": {},
   "outputs": [
    {
     "name": "stdout",
     "output_type": "stream",
     "text": [
      "Example of tuple : (7, 14, 21)\n",
      "Multiply all elements in a tuple by 2 : (14, 28, 42)\n"
     ]
    }
   ],
   "source": [
    "example_tuple = (7,14,21)\n",
    "print(\"Example of tuple :\",example_tuple)\n",
    "mul_element = tuple(i*2 for i in example_tuple)\n",
    "print(\"Multiply all elements in a tuple by 2 :\",mul_element)"
   ]
  },
  {
   "cell_type": "code",
   "execution_count": 89,
   "id": "c0a84ef4-e990-42ea-8cfa-f8eaa9fd1ae9",
   "metadata": {},
   "outputs": [],
   "source": [
    "# 37.Create a tuple of random numbers."
   ]
  },
  {
   "cell_type": "code",
   "execution_count": 90,
   "id": "2ef21483-4fdf-4d3b-a9a2-9753d2746f10",
   "metadata": {},
   "outputs": [
    {
     "name": "stdout",
     "output_type": "stream",
     "text": [
      "A tuple of random numbers : (961, 451, 302, 824, 59, 663, 999, 743, 687, 262, 583, 733, 755, 415, 758, 112, 528, 887, 324, 282)\n"
     ]
    }
   ],
   "source": [
    "import random\n",
    "random_num = tuple(random.randint(1,1000) for i in range(20))\n",
    "print(\"A tuple of random numbers :\",random_num)"
   ]
  },
  {
   "cell_type": "code",
   "execution_count": 91,
   "id": "df245ec7-63fe-4656-b8b6-e6b2704d50a3",
   "metadata": {},
   "outputs": [],
   "source": [
    "# 38.Check if a tuple is sorted."
   ]
  },
  {
   "cell_type": "code",
   "execution_count": 92,
   "id": "8b4208ee-1c9e-4f49-b726-b1733f0bfc69",
   "metadata": {},
   "outputs": [
    {
     "name": "stdout",
     "output_type": "stream",
     "text": [
      "Sorted tuple : (6, 7, 8, 9, 10)\n",
      "Unsorted tuple : (9, 6, 7, 10, 8)\n",
      "Check if a tuple is sorted\n",
      "Sorted_tuple is sorted : True\n",
      "Unsorted_tuple is sorted : False\n"
     ]
    }
   ],
   "source": [
    "# Function to check if a tuple is sorted\n",
    "def is_sorted_func(tup):\n",
    "    for i in range(len(tup) - 1):\n",
    "        if tup[i] > tup[i + 1]:\n",
    "            return False\n",
    "    return True\n",
    "\n",
    "# Create tuples for testing\n",
    "sorted_tuple = (6,7,8,9,10)\n",
    "unsorted_tuple = (9,6,7,10,8)\n",
    "print(\"Sorted tuple :\",sorted_tuple)\n",
    "print(\"Unsorted tuple :\",unsorted_tuple)\n",
    "\n",
    "# Check if the tuples are sorted\n",
    "sorted_1 = is_sorted_func(sorted_tuple)\n",
    "sorted_2 = is_sorted_func(unsorted_tuple)\n",
    "\n",
    "print(\"Check if a tuple is sorted\")\n",
    "print(\"Sorted_tuple is sorted :\", sorted_1)\n",
    "print(\"Unsorted_tuple is sorted :\", sorted_2)"
   ]
  },
  {
   "cell_type": "code",
   "execution_count": 93,
   "id": "cae68857-ea1d-4b53-af98-e69c620c01b8",
   "metadata": {},
   "outputs": [],
   "source": [
    "# 39.Rotate a tuple to the left by 'n' positions."
   ]
  },
  {
   "cell_type": "code",
   "execution_count": 94,
   "id": "5e7d70b8-6251-466f-b29c-ed00bdfca78c",
   "metadata": {},
   "outputs": [
    {
     "name": "stdout",
     "output_type": "stream",
     "text": [
      "Example tuple : (10, 20, 30, 40, 50)\n",
      "Rotate a list to the left by 2 position is (30, 40, 50, 10, 20) \n"
     ]
    }
   ],
   "source": [
    "def rotate_fun(l,n):\n",
    "    return tuple((l[n:])) + l[:n]\n",
    "\n",
    "example_tuple = (10,20,30,40,50)\n",
    "print(\"Example tuple :\",example_tuple)\n",
    "\n",
    "rotated_tuple = tuple(rotate_fun(example_tuple,2))\n",
    "print(f\"Rotate a list to the left by 2 position is {rotated_tuple} \")"
   ]
  },
  {
   "cell_type": "code",
   "execution_count": 95,
   "id": "11464432-3491-4511-b97f-4c0d8f0e7676",
   "metadata": {},
   "outputs": [],
   "source": [
    "# 40.Rotate a tuple to the right by 'n' poisitions."
   ]
  },
  {
   "cell_type": "code",
   "execution_count": 96,
   "id": "260f0a48-3fec-4f29-82c6-17d14638498c",
   "metadata": {},
   "outputs": [
    {
     "name": "stdout",
     "output_type": "stream",
     "text": [
      "Example tuple : (10, 20, 30, 40, 50)\n",
      "Rotate a list to the Right by 2 position is (40, 50, 10, 20, 30) \n"
     ]
    }
   ],
   "source": [
    "\n",
    "def rotate_fun(l,n):\n",
    "    return tuple((l[-n:])) + l[:-n]\n",
    "\n",
    "example_tuple = (10,20,30,40,50)\n",
    "print(\"Example tuple :\",example_tuple)\n",
    "\n",
    "rotated_tuple = tuple(rotate_fun(example_tuple,2))\n",
    "print(f\"Rotate a list to the Right by 2 position is {rotated_tuple} \")"
   ]
  },
  {
   "cell_type": "code",
   "execution_count": 97,
   "id": "292d1691-32a7-4db0-bc7e-2efddb9305b0",
   "metadata": {},
   "outputs": [],
   "source": [
    "# 41.Create a tuple of the first 5 fibnonacci numbers."
   ]
  },
  {
   "cell_type": "code",
   "execution_count": 98,
   "id": "6f2144c8-1b10-4d1a-9a67-b93255dde6b0",
   "metadata": {},
   "outputs": [
    {
     "name": "stdout",
     "output_type": "stream",
     "text": [
      "A tuple of the first 5 fibnonacci numbers : (0, 1, 1, 2, 3)\n"
     ]
    }
   ],
   "source": [
    "# Define a function to generate the first n Fibonacci numbers\n",
    "def generate_fibonacci_func(n):\n",
    "    fibonacci = [0, 1]           # Initialize the list with the first two Fibonacci numbers\n",
    "    while len(fibonacci) < n:           # Continue generating Fibonacci numbers until the list has n elements\n",
    "        next_number = fibonacci[-1] + fibonacci[-2]        # Calculate the next Fibonacci number\n",
    "        fibonacci.append(next_number)         # Add the next Fibonacci number to the list\n",
    "    return tuple(fibonacci)             # Convert the list to a tuple and return it\n",
    "\n",
    "# Call the generate_fibonacci function to create a tuple of the first 5 Fibonacci numbers\n",
    "fibonacci_tuple = generate_fibonacci_func(5)\n",
    "\n",
    "# Print the resulting tuple\n",
    "print(\"A tuple of the first 5 fibnonacci numbers :\",fibonacci_tuple)"
   ]
  },
  {
   "cell_type": "code",
   "execution_count": 99,
   "id": "f2b8587f-ed8d-44dd-baaa-61963ea99216",
   "metadata": {},
   "outputs": [],
   "source": [
    "# 42.Create a tuple from user input."
   ]
  },
  {
   "cell_type": "code",
   "execution_count": 103,
   "id": "de0b4ae2-ed96-4d5d-8d61-dfaa1789b1d8",
   "metadata": {},
   "outputs": [
    {
     "name": "stdin",
     "output_type": "stream",
     "text": [
      "enter a user input 12 45\n"
     ]
    },
    {
     "name": "stdout",
     "output_type": "stream",
     "text": [
      "A tuple from user input  ('1', '2', ' ', '4', '5')\n"
     ]
    }
   ],
   "source": [
    "user_input = tuple(input(\"enter a user input\"))\n",
    "print(\"A tuple from user input \",user_input)"
   ]
  },
  {
   "cell_type": "code",
   "execution_count": 105,
   "id": "801a6bd1-e436-4303-821d-597d86eaa289",
   "metadata": {},
   "outputs": [],
   "source": [
    "# 43.Swap two elements in a tuple."
   ]
  },
  {
   "cell_type": "code",
   "execution_count": 106,
   "id": "2a8445a3-f8f7-4be5-9e25-aa8433fa237e",
   "metadata": {},
   "outputs": [
    {
     "name": "stdout",
     "output_type": "stream",
     "text": [
      "Example tuple : (1, 2, 3, 4, 5)\n",
      "Swap two elements in a tuple \n",
      "Swapped elements in a tuple : (1, 4, 3, 2, 5)\n"
     ]
    }
   ],
   "source": [
    "_tuple = (1,2,3,4,5)\n",
    "print(\"Example tuple :\",_tuple)\n",
    "index1 = 1\n",
    "index2 = 3\n",
    "\n",
    "print(\"Swap two elements in a tuple \")\n",
    "\n",
    "swap_element = tuple(\n",
    "    _tuple[i] if i not in (index1,index2) else\n",
    "    _tuple[index2] if i == index1 else \n",
    "    _tuple[index1]\n",
    "    for i in range(len(_tuple))\n",
    ")\n",
    "print(\"Swapped elements in a tuple :\",swap_element)"
   ]
  },
  {
   "cell_type": "code",
   "execution_count": 107,
   "id": "f13a7af2-73d6-48b8-8933-ebe6f8f201bb",
   "metadata": {},
   "outputs": [],
   "source": [
    "# 44.Reverse the elements of a tuple."
   ]
  },
  {
   "cell_type": "code",
   "execution_count": 108,
   "id": "b2b0a151-4620-412d-837d-d40403908838",
   "metadata": {},
   "outputs": [
    {
     "name": "stdout",
     "output_type": "stream",
     "text": [
      "Example of tuple : (15, 30, 45, 60, 75, 90, 105, 120)\n",
      "Reverse the elements of a tuple : (120, 105, 90, 75, 60, 45, 30, 15)\n"
     ]
    }
   ],
   "source": [
    "example_tuple = (15,30,45,60,75,90,105,120)\n",
    "print(\"Example of tuple :\",example_tuple)\n",
    "reverse_element = tuple(example_tuple[::-1])\n",
    "print(\"Reverse the elements of a tuple :\",reverse_element)"
   ]
  },
  {
   "cell_type": "code",
   "execution_count": 109,
   "id": "d45aaf4c-2708-4480-aa29-1ef87873ed4d",
   "metadata": {},
   "outputs": [],
   "source": [
    "# 45.Create a tuple of the first 'n' powers of 2."
   ]
  },
  {
   "cell_type": "code",
   "execution_count": 110,
   "id": "a04f4119-b94f-41b6-a92d-fd13a2404ac5",
   "metadata": {},
   "outputs": [
    {
     "name": "stdout",
     "output_type": "stream",
     "text": [
      "A tuple of first 10 number : (1, 2, 3, 4, 5, 6, 7, 8, 9, 10)\n",
      "Created a tuple of the first '10' power of 2 : (2, 4, 8, 16, 32, 64, 128, 256, 512, 1024)\n"
     ]
    }
   ],
   "source": [
    "num = 10\n",
    "print(f\"A tuple of first {num} number :\",tuple(range(1,num+1)))\n",
    "tuple_power = tuple(2**i for i in range(1,num+1))\n",
    "print(f\"Created a tuple of the first '{num}' power of 2 :\",tuple_power)"
   ]
  },
  {
   "cell_type": "code",
   "execution_count": 111,
   "id": "386e5780-a96b-4f8a-8e53-2198555c6274",
   "metadata": {},
   "outputs": [],
   "source": [
    "# 46.Find the longest string in a tuple of strings."
   ]
  },
  {
   "cell_type": "code",
   "execution_count": 112,
   "id": "fed84b0d-4c3a-4104-b835-ed173a97f606",
   "metadata": {},
   "outputs": [
    {
     "name": "stdout",
     "output_type": "stream",
     "text": [
      "Tuple of strings : ('carrom board', 'chess', 'ludo')\n",
      "The longest string in a tuple of string : carrom board\n"
     ]
    }
   ],
   "source": [
    "tuple_of_string = (\"carrom board\",\"chess\",\"ludo\")\n",
    "print(\"Tuple of strings :\",tuple_of_string)\n",
    "longest_string = max(tuple_of_string, key = len)\n",
    "print(\"The longest string in a tuple of string :\",longest_string)"
   ]
  },
  {
   "cell_type": "code",
   "execution_count": 113,
   "id": "833a5a5e-b94f-4c86-af66-7480d5023629",
   "metadata": {},
   "outputs": [],
   "source": [
    "# 47.Find the shortest string in a tuple of strings."
   ]
  },
  {
   "cell_type": "code",
   "execution_count": 114,
   "id": "1d4c2d4c-9ef5-4f13-850d-3435ace7d115",
   "metadata": {},
   "outputs": [
    {
     "name": "stdout",
     "output_type": "stream",
     "text": [
      "Tuple of string : ('chess', 'carrom board', 'ludo')\n",
      "The shortest string in a tuple of strings : ludo\n"
     ]
    }
   ],
   "source": [
    "tuple_of_string = (\"chess\",\"carrom board\",\"ludo\")\n",
    "print(\"Tuple of string :\",tuple_of_string)\n",
    "shortest_string = min(tuple_of_string,key = len)\n",
    "print(\"The shortest string in a tuple of strings :\",shortest_string)"
   ]
  },
  {
   "cell_type": "code",
   "execution_count": 115,
   "id": "51d26b43-2d3a-4f31-9c43-b9da360c094b",
   "metadata": {},
   "outputs": [],
   "source": [
    "# 48.Create a tuple of the first 'n' triangular numbers."
   ]
  },
  {
   "cell_type": "code",
   "execution_count": 116,
   "id": "fb230315-ffff-44f0-977d-8d083d1f4a63",
   "metadata": {},
   "outputs": [
    {
     "name": "stdout",
     "output_type": "stream",
     "text": [
      "A number : 5\n",
      "Create a tuple of first 5 triangular numbers : (1, 3, 6, 10, 15)\n"
     ]
    }
   ],
   "source": [
    "n = 5\n",
    "print(\"A number :\",n)\n",
    "triangular_number_tuple = tuple(( i * (i+1)//2) for i in range(1, n+1))\n",
    "print(f\"Create a tuple of first {n} triangular numbers :\",triangular_number_tuple)  "
   ]
  },
  {
   "cell_type": "code",
   "execution_count": 117,
   "id": "73c3be93-7476-435a-97e8-0fc5c2e8ae2b",
   "metadata": {},
   "outputs": [],
   "source": [
    "# 49.Check if a tuple contains another tuples as a subsequence.49.Check if a tuple contains another tuples as a subsequence."
   ]
  },
  {
   "cell_type": "code",
   "execution_count": 118,
   "id": "bcf4952c-9af1-42dd-95a3-0b658f0ebc88",
   "metadata": {},
   "outputs": [
    {
     "name": "stdout",
     "output_type": "stream",
     "text": [
      "Tuple 1 : (1, 2, 3, 4, 5, 6)\n",
      "Tuple 2 : (3, 4, 5)\n",
      "Check if tuple contains another tuples as a subsequence \n",
      "Yes, Tuple1 contains tuple2 as a subsequence\n"
     ]
    }
   ],
   "source": [
    "def sub_tuple_func(tuple1, tuple2):\n",
    "    sub_length = len(tuple2)\n",
    "    for i in range(len(tuple1) - sub_length  + 1) :\n",
    "        if tuple1[ i : i + sub_length ]== tuple2 :\n",
    "            return True\n",
    "    return False\n",
    "\n",
    "\n",
    "\n",
    "\n",
    "tuple1 = (1,2,3,4,5,6)\n",
    "tuple2 = (3,4,5)\n",
    "\n",
    "print(\"Tuple 1 :\",tuple1)\n",
    "print(\"Tuple 2 :\",tuple2)\n",
    "print(\"Check if tuple contains another tuples as a subsequence \")\n",
    "check_subseq = sub_tuple_func(tuple1, tuple2)\n",
    "if check_subseq :\n",
    "    print(\"Yes, Tuple1 contains tuple2 as a subsequence\")\n",
    "else :\n",
    "    print(\"No, Tuple1 doesn't contain tuple2 as a subsequence\")"
   ]
  },
  {
   "cell_type": "code",
   "execution_count": 119,
   "id": "5996cdba-4233-40d6-8fdc-b74708effd41",
   "metadata": {},
   "outputs": [],
   "source": [
    "# 50.Create a tuple of alternating 1s and 0s of length 'n'."
   ]
  },
  {
   "cell_type": "code",
   "execution_count": 120,
   "id": "f47aed12-f8d6-45bc-9ff7-16f415e83f04",
   "metadata": {},
   "outputs": [
    {
     "name": "stdout",
     "output_type": "stream",
     "text": [
      "Length of 1s and 0s : (0, 1, 2, 3, 4, 5, 6, 7, 8, 9, 10)\n",
      "Creates a tuple of alternating 1s and 0s of length 10 : (0, 1, 0, 1, 0, 1, 0, 1, 0, 1, 0)\n"
     ]
    }
   ],
   "source": [
    "n = 10\n",
    "print(\"Length of 1s and 0s :\",tuple(range(0,n+1)))\n",
    "alternate_tuple = tuple( i%2 for i in range(n+1))\n",
    "print(f\"Creates a tuple of alternating 1s and 0s of length {n} :\",alternate_tuple)"
   ]
  },
  {
   "cell_type": "code",
   "execution_count": 121,
   "id": "f9fe3d7c-6f01-436e-849e-752ab909bd8a",
   "metadata": {},
   "outputs": [],
   "source": [
    "# Set Based Practice Problem :"
   ]
  },
  {
   "cell_type": "code",
   "execution_count": 122,
   "id": "d9754391-bd75-40fc-b925-b4703120dd6a",
   "metadata": {},
   "outputs": [],
   "source": [
    "# 1.Create a set with integers from 1 to 5."
   ]
  },
  {
   "cell_type": "code",
   "execution_count": 123,
   "id": "08ad450f-b874-4f27-95bd-ca319a826b8d",
   "metadata": {},
   "outputs": [
    {
     "name": "stdout",
     "output_type": "stream",
     "text": [
      "A set with integers from 1 to 5 : {1, 2, 3, 4, 5}\n"
     ]
    }
   ],
   "source": [
    "s = set(range(1,6))\n",
    "print(\"A set with integers from 1 to 5 :\",s)"
   ]
  },
  {
   "cell_type": "code",
   "execution_count": 124,
   "id": "224e95d4-53f8-47e1-ab3a-eb3f7856a5ce",
   "metadata": {},
   "outputs": [],
   "source": [
    "# 2.Adda an element to a set."
   ]
  },
  {
   "cell_type": "code",
   "execution_count": 125,
   "id": "ac5a830a-aebc-462a-bd0e-8c4ceac2d7be",
   "metadata": {},
   "outputs": [
    {
     "name": "stdout",
     "output_type": "stream",
     "text": [
      "A set : {16, 11, 19, 13}\n",
      "Add an element : 23\n",
      "Add an element to a set : {11, 13, 16, 19, 23}\n"
     ]
    }
   ],
   "source": [
    "example_of_set = {11,13,16,19}\n",
    "print(\"A set :\",example_of_set)\n",
    "add_element =23\n",
    "print(\"Add an element :\",add_element)\n",
    "example_of_set.add(add_element)\n",
    "print(\"Add an element to a set :\",example_of_set)"
   ]
  },
  {
   "cell_type": "code",
   "execution_count": 126,
   "id": "e210ba0b-217e-42f2-b214-3e16a2694e9b",
   "metadata": {},
   "outputs": [],
   "source": [
    "# 3.Remove an element from a set."
   ]
  },
  {
   "cell_type": "code",
   "execution_count": 127,
   "id": "6e8113dc-df46-437a-afd7-28c7f3423233",
   "metadata": {},
   "outputs": [
    {
     "name": "stdout",
     "output_type": "stream",
     "text": [
      "Example of set : {1, 2, 3, 4, 5, 6, 7, 8, 9}\n",
      "Remove element from set : 6\n",
      "Remove an element from a set : {1, 2, 3, 4, 5, 7, 8, 9}\n"
     ]
    }
   ],
   "source": [
    "example_of_set = {1,2,3,4,5,6,7,8,9}\n",
    "print(\"Example of set :\",example_of_set)\n",
    "remove_element = 6\n",
    "print(\"Remove element from set :\",remove_element)\n",
    "example_of_set.remove(remove_element)\n",
    "print(\"Remove an element from a set :\",example_of_set)"
   ]
  },
  {
   "cell_type": "code",
   "execution_count": 128,
   "id": "db77e63d-80db-4dc3-84a6-658495f794be",
   "metadata": {},
   "outputs": [],
   "source": [
    "# 4.Check if an element exists in a set."
   ]
  },
  {
   "cell_type": "code",
   "execution_count": 129,
   "id": "74e9aabd-5785-4877-a5ac-b55447c803f6",
   "metadata": {},
   "outputs": [
    {
     "name": "stdout",
     "output_type": "stream",
     "text": [
      "Example set : {1, 3, 5, 6, 7, 9, 12, 78, 20, 90}\n"
     ]
    },
    {
     "name": "stdin",
     "output_type": "stream",
     "text": [
      "Enter the element to check:  12\n"
     ]
    },
    {
     "name": "stdout",
     "output_type": "stream",
     "text": [
      "12 exists in the set.\n"
     ]
    }
   ],
   "source": [
    "# Step 1: Create a set with some elements\n",
    "example_set = {1,90,20,6,12,78,3,5,7,9}\n",
    "print(\"Example set :\",example_set)\n",
    "# Step 2: Ask the user for the element they want to check\n",
    "element_to_check = int(input(\"Enter the element to check: \"))\n",
    "\n",
    "# Step 3: Use the \"in\" keyword to check if the element exists in the set\n",
    "if element_to_check in example_set:\n",
    "    # Step 4: If the element exists in the set, print a message\n",
    "    print(f\"{element_to_check} exists in the set.\")\n",
    "else:\n",
    "    # Step 5: If the element does not exist in the set, print a message\n",
    "    print(f\"{element_to_check} does not exist in the set.\")"
   ]
  },
  {
   "cell_type": "code",
   "execution_count": 130,
   "id": "c5b84a9c-266b-4f26-87b9-d251aa4ef4bf",
   "metadata": {},
   "outputs": [],
   "source": [
    "# 5.Find the length of a set without using the 'len()' function."
   ]
  },
  {
   "cell_type": "code",
   "execution_count": 131,
   "id": "53859471-a77b-4f1e-aab6-f692e8a167c8",
   "metadata": {},
   "outputs": [
    {
     "name": "stdout",
     "output_type": "stream",
     "text": [
      "A example of set : {1, 2, 3, 4, 5, 7}\n",
      "The length of a set without using the len() function : 6\n"
     ]
    }
   ],
   "source": [
    "example_of_set = {1,2,3,4,5,7}\n",
    "print(\"A example of set :\",example_of_set)\n",
    "length = 0\n",
    "for i in example_of_set:\n",
    "    length +=1\n",
    "print(\"The length of a set without using the len() function :\",length)"
   ]
  },
  {
   "cell_type": "code",
   "execution_count": 132,
   "id": "3c369ff3-fefa-4dfd-bb0c-c1b574039029",
   "metadata": {},
   "outputs": [],
   "source": [
    "# 6.Clear all elements from a set."
   ]
  },
  {
   "cell_type": "code",
   "execution_count": 133,
   "id": "17c48715-6d7f-4282-a859-b3c4afd7927b",
   "metadata": {},
   "outputs": [
    {
     "name": "stdout",
     "output_type": "stream",
     "text": [
      "Example of set : {50, 20, 40, 10, 30}\n",
      "Clear all element from an example of set : set()\n"
     ]
    }
   ],
   "source": [
    "example_of_set = {10,20,30,40,50}\n",
    "print(\"Example of set :\",example_of_set)\n",
    "example_of_set.clear()\n",
    "print(\"Clear all element from an example of set :\",example_of_set)"
   ]
  },
  {
   "cell_type": "code",
   "execution_count": 134,
   "id": "95a00292-84e0-453a-bc9a-14a7cff9e1a1",
   "metadata": {},
   "outputs": [],
   "source": [
    "# 7.Create a set of even numbers from 1 to 10."
   ]
  },
  {
   "cell_type": "code",
   "execution_count": 135,
   "id": "de5dcfdd-f34a-4099-b589-8e5405136805",
   "metadata": {},
   "outputs": [
    {
     "name": "stdout",
     "output_type": "stream",
     "text": [
      "A set of even numbers from 1 to 10 : {2, 4, 6, 8, 10}\n"
     ]
    }
   ],
   "source": [
    "even_number_set = set(i for i in range(1,11) if i%2 == 0 )\n",
    "print(\"A set of even numbers from 1 to 10 :\",even_number_set)"
   ]
  },
  {
   "cell_type": "code",
   "execution_count": 136,
   "id": "eed8208e-0d0e-4fdf-92ff-b8a6eac03391",
   "metadata": {},
   "outputs": [],
   "source": [
    "# 8.Create a set of odd numbers from 1 to 10."
   ]
  },
  {
   "cell_type": "code",
   "execution_count": 137,
   "id": "9a04e9e6-214b-4c72-aa8d-5ae1b77a08de",
   "metadata": {},
   "outputs": [
    {
     "name": "stdout",
     "output_type": "stream",
     "text": [
      "A set of odd numbers from 1 to 10 : {1, 3, 5, 7, 9}\n"
     ]
    }
   ],
   "source": [
    "odd_number_set = set(i for i in range(1,11) if i%2 !=0)\n",
    "print(\"A set of odd numbers from 1 to 10 :\",odd_number_set)"
   ]
  },
  {
   "cell_type": "code",
   "execution_count": 138,
   "id": "f09b4f41-f73a-470b-a12a-ef6f2d3a2eaa",
   "metadata": {},
   "outputs": [],
   "source": [
    "# 9.Find the union of two sets."
   ]
  },
  {
   "cell_type": "code",
   "execution_count": 139,
   "id": "da79149c-555c-441c-a9f2-5faac963561c",
   "metadata": {},
   "outputs": [
    {
     "name": "stdout",
     "output_type": "stream",
     "text": [
      "First set : {1, 2, 3, 4, 5}\n",
      "Second set : {6, 7, 8, 9, 10}\n",
      "The union of two sets : {1, 2, 3, 4, 5, 6, 7, 8, 9, 10}\n"
     ]
    }
   ],
   "source": [
    "s1 = {1,2,3,4,5}\n",
    "s2 = {6,7,8,9,10}\n",
    "print(\"First set :\",s1)\n",
    "print(\"Second set :\",s2)\n",
    "union_set = s1.union(s2)\n",
    "print(\"The union of two sets :\",union_set)"
   ]
  },
  {
   "cell_type": "code",
   "execution_count": 140,
   "id": "23fe6584-d5dd-4184-93ae-f788684bbc5b",
   "metadata": {},
   "outputs": [],
   "source": [
    "# 10.Find the intersection of two sets."
   ]
  },
  {
   "cell_type": "code",
   "execution_count": 141,
   "id": "e5f9a96b-f116-4b56-9508-3eeb22494fd7",
   "metadata": {},
   "outputs": [
    {
     "name": "stdout",
     "output_type": "stream",
     "text": [
      "First set : {1, 2, 3, 4}\n",
      "Second set : {2, 3, 4, 5, 6}\n",
      "The intersection of two sets : {2, 3, 4}\n"
     ]
    }
   ],
   "source": [
    "s1 = {1,2,3,4}\n",
    "s2 ={2,3,4,5,6}\n",
    "print(\"First set :\",s1)\n",
    "print(\"Second set :\",s2)\n",
    "intersection_set = s1.intersection(s2)\n",
    "print(\"The intersection of two sets :\",intersection_set)"
   ]
  },
  {
   "cell_type": "code",
   "execution_count": 142,
   "id": "8e63852a-dde7-49c1-957c-a87aaa5305ca",
   "metadata": {},
   "outputs": [],
   "source": [
    "# 11.Find the difference between two sets."
   ]
  },
  {
   "cell_type": "code",
   "execution_count": 143,
   "id": "eb2cd658-dfdd-4a75-be5c-62263d960b29",
   "metadata": {},
   "outputs": [
    {
     "name": "stdout",
     "output_type": "stream",
     "text": [
      "First set : {1, 2, 3, 4, 5, 6, 7, 8}\n",
      "Second set : {4, 5, 6, 7, 8, 9, 10, 12}\n",
      "The difference between two sets : {1, 2, 3}\n"
     ]
    }
   ],
   "source": [
    "s1 = {1,2,3,4,5,6,7,8}\n",
    "s2 = {4,5,6,7,8,9,10,12}\n",
    "print(\"First set :\",s1)\n",
    "print(\"Second set :\",s2)\n",
    "difference_set = s1.difference(s2)\n",
    "print(\"The difference between two sets :\",difference_set)"
   ]
  },
  {
   "cell_type": "code",
   "execution_count": 144,
   "id": "1c251915-1e6b-440f-842f-67765cf4b9c8",
   "metadata": {},
   "outputs": [],
   "source": [
    "# 12.Check if a set is a subset of another set."
   ]
  },
  {
   "cell_type": "code",
   "execution_count": 145,
   "id": "612f3856-94ee-4051-80a1-7983d2a687bc",
   "metadata": {},
   "outputs": [
    {
     "name": "stdout",
     "output_type": "stream",
     "text": [
      "First set : {5, 6, 7, 8, 9}\n",
      "Second set : {5, 6, 7, 8, 9, 10, 11, 12}\n",
      "Yes, a set s1 {5, 6, 7, 8, 9} is a subset of s2 {5, 6, 7, 8, 9, 10, 11, 12} \n"
     ]
    }
   ],
   "source": [
    "s1 = {5,6,7,8,9}\n",
    "s2 = {5,6,7,8,9,10,11,12}\n",
    "print(\"First set :\",s1)\n",
    "print(\"Second set :\",s2)\n",
    "subset = s1.issubset(s2)\n",
    "if subset :\n",
    "    print(f\"Yes, a set s1 {s1} is a subset of s2 {s2} \")\n",
    "else :\n",
    "    print(f\"No, a set s1 {s1} is not a subset of s2{s2}\")"
   ]
  },
  {
   "cell_type": "code",
   "execution_count": 146,
   "id": "00877a0e-9b31-4ab0-b499-0acbb2eee273",
   "metadata": {},
   "outputs": [],
   "source": [
    "# 13.Check if a set is a superset of another set."
   ]
  },
  {
   "cell_type": "code",
   "execution_count": 147,
   "id": "b99a02ea-94d3-4a12-b476-28dcf7cb438c",
   "metadata": {},
   "outputs": [
    {
     "name": "stdout",
     "output_type": "stream",
     "text": [
      "First set : {1, 2, 3, 4, 5, 6}\n",
      "Second set : {2, 3, 4}\n",
      "Yes, a set s1 {1, 2, 3, 4, 5, 6} is a superset of s2 {2, 3, 4} \n"
     ]
    }
   ],
   "source": [
    "s1 = {1,2,3,4,5,6}\n",
    "s2 = {2,3,4}\n",
    "print(\"First set :\",s1)\n",
    "print(\"Second set :\",s2)\n",
    "superset = s1.issuperset(s2)\n",
    "if superset:\n",
    "    print(f\"Yes, a set s1 {s1} is a superset of s2 {s2} \")\n",
    "else :\n",
    "    print(f\"No, a set s1 {s1} is not a superset of s2 {s2} \")"
   ]
  },
  {
   "cell_type": "code",
   "execution_count": 148,
   "id": "313785df-551e-47ad-b6dc-e585961d1db2",
   "metadata": {},
   "outputs": [],
   "source": [
    "# 14.Create a set from a list."
   ]
  },
  {
   "cell_type": "code",
   "execution_count": 149,
   "id": "be6dff51-f007-478b-8324-d5ec737cb2ed",
   "metadata": {},
   "outputs": [
    {
     "name": "stdout",
     "output_type": "stream",
     "text": [
      "An Example list : [2, 3, 4, 5, 9]\n",
      "Created a set from a list : {2, 3, 4, 5, 9}\n"
     ]
    }
   ],
   "source": [
    "example_list = [2,3,4,5,9]\n",
    "print(\"An Example list :\",example_list)\n",
    "a_set = set(example_list)\n",
    "print(\"Created a set from a list :\",a_set)"
   ]
  },
  {
   "cell_type": "code",
   "execution_count": 150,
   "id": "8c6fce35-9cd6-470b-97d6-b5946d69402d",
   "metadata": {},
   "outputs": [],
   "source": [
    "# 15.Convert a set to a list."
   ]
  },
  {
   "cell_type": "code",
   "execution_count": 151,
   "id": "3d1d8336-6cd6-4f77-bf16-521edc2a3882",
   "metadata": {},
   "outputs": [
    {
     "name": "stdout",
     "output_type": "stream",
     "text": [
      "A set : {1, 2, 4, 5, 7, 8, 9}\n",
      "Convert a set to a list : [1, 2, 4, 5, 7, 8, 9]\n"
     ]
    }
   ],
   "source": [
    "a_set = {1,2,4,5,7,8,9}\n",
    "print(\"A set :\",a_set)\n",
    "set_to_list = list(a_set)\n",
    "print(\"Convert a set to a list :\",set_to_list)"
   ]
  },
  {
   "cell_type": "code",
   "execution_count": 152,
   "id": "e72b04fc-65e0-49aa-9858-4a2b85354239",
   "metadata": {},
   "outputs": [],
   "source": [
    "# 16.Remove a random element from a set."
   ]
  },
  {
   "cell_type": "code",
   "execution_count": 153,
   "id": "9ef51c25-f26b-4e61-91a9-7c673fcb3ee9",
   "metadata": {},
   "outputs": [
    {
     "name": "stdout",
     "output_type": "stream",
     "text": [
      "Set1  {1, 2, 3, 4, 5, 6, 7, 8}\n",
      "A random element from a set to converted to list : 1\n",
      "Remove a random element from a set\n",
      "Updated set : {2, 3, 4, 5, 6, 7, 8}\n"
     ]
    }
   ],
   "source": [
    "import random\n",
    "set1 = {1,2,3,4,5,6,7,8}\n",
    "print(\"Set1 \",set1)\n",
    "random_element = random.choice(list(set1))\n",
    "print(\"A random element from a set to converted to list :\",random_element)\n",
    "set1.remove(random_element)\n",
    "print(\"Remove a random element from a set\" )\n",
    "print(\"Updated set :\",set1)"
   ]
  },
  {
   "cell_type": "code",
   "execution_count": 154,
   "id": "34ecb9ef-28b4-46e5-8687-3a649b1beaea",
   "metadata": {},
   "outputs": [],
   "source": [
    "# 17.Pop an element from a set."
   ]
  },
  {
   "cell_type": "code",
   "execution_count": 155,
   "id": "7429f4c7-8f41-48b1-9079-5f02848398e4",
   "metadata": {},
   "outputs": [
    {
     "name": "stdout",
     "output_type": "stream",
     "text": [
      "A set : {1, 2, 3, 4, 6, 7}\n",
      "Pop an element from a set : 1\n",
      "After pop set is : {2, 3, 4, 6, 7}\n"
     ]
    }
   ],
   "source": [
    "set1 = {1,2,3,4,6,7}\n",
    "print(\"A set :\",set1)\n",
    "new = set1.pop()\n",
    "print(\"Pop an element from a set :\",new)\n",
    "print(\"After pop set is :\",set1)"
   ]
  },
  {
   "cell_type": "code",
   "execution_count": 156,
   "id": "2fb46500-5712-4595-a648-91f634a98858",
   "metadata": {},
   "outputs": [],
   "source": [
    "# 18.Check if two sets have no elements in common."
   ]
  },
  {
   "cell_type": "code",
   "execution_count": 157,
   "id": "7710bdb3-1b58-4e97-bb5c-e7e4494b6867",
   "metadata": {},
   "outputs": [
    {
     "name": "stdout",
     "output_type": "stream",
     "text": [
      "Set 1 : {1, 2, 3, 4}\n",
      "Set 2 : {5, 6, 7, 8, 9}\n",
      "set1 {1, 2, 3, 4} has no element in common in set2 {5, 6, 7, 8, 9}\n"
     ]
    }
   ],
   "source": [
    "\n",
    "s1 = {1,2,3,4}\n",
    "s2 = {5,6,7,8,9}\n",
    "print(\"Set 1 :\",s1)\n",
    "print(\"Set 2 :\",s2)\n",
    "common = s1.intersection(s2)\n",
    "if not common:\n",
    "    print(f\"set1 {s1} has no element in common in set2 {s2}\")\n",
    "else:\n",
    "    print(f\"set1 {s1} has common element in set2 {s2} \")"
   ]
  },
  {
   "cell_type": "code",
   "execution_count": 158,
   "id": "6064d777-5a35-48a8-b653-2248c140561a",
   "metadata": {},
   "outputs": [],
   "source": [
    "# 19.Find the symmetric difference between two sets."
   ]
  },
  {
   "cell_type": "code",
   "execution_count": 159,
   "id": "858c8b73-e4c4-41e2-bcff-1b3116ac4109",
   "metadata": {},
   "outputs": [
    {
     "name": "stdout",
     "output_type": "stream",
     "text": [
      "Set 1 : {1, 2, 3, 4, 5, 6, 7, 8, 9}\n",
      "Set 2 : {5, 6, 7, 8, 9, 10, 11, 12}\n",
      "The symmetric difference between s1 and s2 : {1, 2, 3, 4, 10, 11, 12}\n"
     ]
    }
   ],
   "source": [
    "s1 = {1,2,3,4,5,6,7,8,9}\n",
    "s2 = {5,6,7,8,9,10,11,12}\n",
    "print(\"Set 1 :\",s1)\n",
    "print(\"Set 2 :\",s2)\n",
    "symmetric_diff = s1^s2\n",
    "print(\"The symmetric difference between s1 and s2 :\",symmetric_diff)"
   ]
  },
  {
   "cell_type": "code",
   "execution_count": 160,
   "id": "dd31fcc6-ad29-43a5-b8f8-02320be4e82a",
   "metadata": {},
   "outputs": [],
   "source": [
    "# 20.Update a set with elements from another set."
   ]
  },
  {
   "cell_type": "code",
   "execution_count": 161,
   "id": "89f03c74-4fd9-48e3-80ac-2505b200eedd",
   "metadata": {},
   "outputs": [
    {
     "name": "stdout",
     "output_type": "stream",
     "text": [
      "Set 1 : {1, 2, 3, 4, 5, 6}\n",
      "Set 2 : {4, 5, 6, 7, 8, 9}\n",
      "Update a s1 with elements from s2 : {1, 2, 3, 4, 5, 6, 7, 8, 9}\n"
     ]
    }
   ],
   "source": [
    "s1 = {1,2,3,4,5,6}\n",
    "s2 = {4,5,6,7,8,9}\n",
    "print(\"Set 1 :\",s1)\n",
    "print(\"Set 2 :\",s2)\n",
    "s1.update(s2)\n",
    "print(\"Update a s1 with elements from s2 :\",s1)"
   ]
  },
  {
   "cell_type": "code",
   "execution_count": 162,
   "id": "eb0ae8c8-f98b-4861-8af0-0786b893ad72",
   "metadata": {},
   "outputs": [],
   "source": [
    "# 21.Create a set of the first 5 prime numbers."
   ]
  },
  {
   "cell_type": "code",
   "execution_count": 163,
   "id": "7b8e117c-5d3f-4691-b998-2fd4d263ed0e",
   "metadata": {},
   "outputs": [
    {
     "name": "stdout",
     "output_type": "stream",
     "text": [
      "Set of the first 5 prime numbers : {2, 3, 5, 7, 11}\n"
     ]
    }
   ],
   "source": [
    "# Function to check if a number is prime\n",
    "def is_prime_func(num):\n",
    "    if num <= 1:\n",
    "        return False\n",
    "    for i in range(2, int(num ** 0.5) + 1):\n",
    "        if num % i == 0:\n",
    "            return False\n",
    "    return True\n",
    "\n",
    "# Create an empty set to store the prime numbers\n",
    "prime_number_set = set()\n",
    "\n",
    "# Initialize the number to start checking for primes\n",
    "num = 2\n",
    "\n",
    "# Loop until we have found the first 5 prime numbers\n",
    "while len(prime_number_set) < 5:\n",
    "    # Check if the current number is prime using the is_prime function\n",
    "    if is_prime_func(num):\n",
    "        # If the number is prime, add it to the prime_set\n",
    "        prime_number_set.add(num)\n",
    "\n",
    "    # Move on to the next number for the next iteration\n",
    "    num += 1\n",
    "\n",
    "\n",
    "print(\"Set of the first 5 prime numbers :\", prime_number_set)"
   ]
  },
  {
   "cell_type": "code",
   "execution_count": 164,
   "id": "ccf9de6a-9c89-42c9-80d0-96dcc40d7f11",
   "metadata": {},
   "outputs": [],
   "source": [
    "# 22.Check if two sets are identical."
   ]
  },
  {
   "cell_type": "code",
   "execution_count": 165,
   "id": "8c7c0db1-cf69-46b4-885e-8ac62678d266",
   "metadata": {},
   "outputs": [
    {
     "name": "stdout",
     "output_type": "stream",
     "text": [
      "Set 1 : {1, 2, 3, 4, 5, 6}\n",
      "Set 2 : {1, 2, 3, 4, 5, 6}\n",
      "Check if two sets are identical \n",
      "Yes, s1 {1, 2, 3, 4, 5, 6} is identical to s2 {1, 2, 3, 4, 5, 6} \n"
     ]
    }
   ],
   "source": [
    "s1 = {1,2,3,4,5,6}\n",
    "s2 = {4,5,1,2,3,6} # order doesn't matter in the case of identical \n",
    "print(\"Set 1 :\",s1)\n",
    "print(\"Set 2 :\",s2)\n",
    "print(\"Check if two sets are identical \")\n",
    "if s1 == s2 :\n",
    "    print(f\"Yes, s1 {s1} is identical to s2 {s2} \")\n",
    "else :\n",
    "    print(f\"No, s1 {s1} is not identical to s2 {s2} \")"
   ]
  },
  {
   "cell_type": "code",
   "execution_count": 166,
   "id": "df03e618-6431-4d27-baad-8e25204c5a12",
   "metadata": {},
   "outputs": [],
   "source": [
    "# 23.Create a frozen set."
   ]
  },
  {
   "cell_type": "code",
   "execution_count": 167,
   "id": "fec8ef68-5e1f-4629-a81c-2f6e7ffc897f",
   "metadata": {},
   "outputs": [
    {
     "name": "stdout",
     "output_type": "stream",
     "text": [
      "A list : [1, 2, 3, 4, 5, 6, 7, 8, 9]\n",
      "Created a frozen set : frozenset({1, 2, 3, 4, 5, 6, 7, 8, 9})\n"
     ]
    }
   ],
   "source": [
    "example_list = [1,2,3,4,5,6,7,8,9]\n",
    "print(\"A list :\",example_list)\n",
    "frozen_set = frozenset(example_list)\n",
    "print(\"Created a frozen set :\",frozen_set)"
   ]
  },
  {
   "cell_type": "code",
   "execution_count": 168,
   "id": "62fb8144-701c-4cd8-87fe-660af01b81a7",
   "metadata": {},
   "outputs": [],
   "source": [
    "# 24.Check if a set is disjoint with another set."
   ]
  },
  {
   "cell_type": "code",
   "execution_count": 169,
   "id": "789deb60-4028-4ced-abba-1f22ea115d52",
   "metadata": {},
   "outputs": [
    {
     "name": "stdout",
     "output_type": "stream",
     "text": [
      "Set 1 : {2, 3, 4, 6, 7}\n",
      "Set 2 : {8, 9, 10, 11}\n",
      "Check if set1 is disjoint with set2 .\n",
      "True, set1 {2, 3, 4, 6, 7} is disjoint with set2 {8, 9, 10, 11}\n"
     ]
    }
   ],
   "source": [
    "Set1 = {1,2,3,4,5}\n",
    "set2 = {8,9,10,11}\n",
    "print(\"Set 1 :\",set1)\n",
    "print(\"Set 2 :\",set2)\n",
    "check_disjoint = set1.isdisjoint(set2)\n",
    "print(\"Check if set1 is disjoint with set2 .\")\n",
    "if check_disjoint :\n",
    "    print(f\"True, set1 {set1} is disjoint with set2 {set2}\")\n",
    "else :\n",
    "    print(f\"alse, set1 {set1} isjoint with set2 {set2}\")"
   ]
  },
  {
   "cell_type": "code",
   "execution_count": 170,
   "id": "266a47e8-2ca4-414c-8334-1832662c755d",
   "metadata": {},
   "outputs": [],
   "source": [
    "# 25.Create a set of squares of numbers from 1 to 5."
   ]
  },
  {
   "cell_type": "code",
   "execution_count": 171,
   "id": "fff40e64-2b90-44df-ab96-d94f91a78f65",
   "metadata": {},
   "outputs": [
    {
     "name": "stdout",
     "output_type": "stream",
     "text": [
      "A set of numbers from 1 to 5 : {1, 2, 3, 4, 5}\n",
      "A set of squares of numbers from 1 to 5 : {1, 4, 9, 16, 25}\n"
     ]
    }
   ],
   "source": [
    "print(\"A set of numbers from 1 to 5 :\",set(range(1,6))) \n",
    "square = set(i*i for i in range(1,6))\n",
    "print(\"A set of squares of numbers from 1 to 5 :\",square)"
   ]
  },
  {
   "cell_type": "code",
   "execution_count": 172,
   "id": "acefd9b8-13a0-4955-b2e3-e1fda2df56ba",
   "metadata": {},
   "outputs": [],
   "source": [
    "# 26.Filter out all even nmbers from a set."
   ]
  },
  {
   "cell_type": "code",
   "execution_count": 173,
   "id": "92edaf39-e438-45db-b8f2-9651b17b5eb2",
   "metadata": {},
   "outputs": [
    {
     "name": "stdout",
     "output_type": "stream",
     "text": [
      "Example set : {1, 2, 3, 4, 5, 6, 7, 8, 9, 10, 11, 12, 13, 14, 15}\n",
      "Filter out all even numbers from a set : {2, 4, 6, 8, 10, 12, 14}\n"
     ]
    }
   ],
   "source": [
    "example_set = {1,2,3,4,5,6,7,8,9,10,11,12,13,14,15}\n",
    "print(\"Example set :\",example_set)\n",
    "even_number = set(i for i in example_set if i%2 == 0)\n",
    "print(\"Filter out all even numbers from a set :\" ,even_number)"
   ]
  },
  {
   "cell_type": "code",
   "execution_count": 174,
   "id": "874f3444-58e5-42be-99c9-e98c81e57f7d",
   "metadata": {},
   "outputs": [],
   "source": [
    "# 27.Multiply all elements in a set by 2."
   ]
  },
  {
   "cell_type": "code",
   "execution_count": 175,
   "id": "a72f9932-9855-449e-885f-762499e9d2ad",
   "metadata": {},
   "outputs": [
    {
     "name": "stdout",
     "output_type": "stream",
     "text": [
      "Example set : {1, 2, 3, 4, 5}\n",
      "Multiply all elements in a set by 2 : {2, 4, 6, 8, 10}\n"
     ]
    }
   ],
   "source": [
    "\n",
    "example_set = {1,2,3,4,5}\n",
    "print(\"Example set :\",example_set)\n",
    "multiple = set(i*2 for i in example_set)\n",
    "print(\"Multiply all elements in a set by 2 :\",multiple)"
   ]
  },
  {
   "cell_type": "code",
   "execution_count": 176,
   "id": "2f9c02ce-96db-4b50-a834-2c30a145aadd",
   "metadata": {},
   "outputs": [],
   "source": [
    "# 28.Create a set of random numbers."
   ]
  },
  {
   "cell_type": "code",
   "execution_count": 177,
   "id": "d7dd64bc-240d-4416-81c5-089e3d96c6d2",
   "metadata": {},
   "outputs": [
    {
     "name": "stdout",
     "output_type": "stream",
     "text": [
      "Create a set of random numbers : {518, 523, 274, 287, 417, 805, 42, 562, 819, 691, 702, 703, 78, 721, 84, 988, 226, 879, 630}\n"
     ]
    }
   ],
   "source": [
    "import random\n",
    "random_number = set(random.randint(1,1000) for i in range(20))\n",
    "print(\"Create a set of random numbers :\",random_number)"
   ]
  },
  {
   "cell_type": "code",
   "execution_count": 178,
   "id": "a245fc3d-4203-46ff-8002-0df1451dc794",
   "metadata": {},
   "outputs": [],
   "source": [
    "# 29.Check if a set is empty."
   ]
  },
  {
   "cell_type": "code",
   "execution_count": 179,
   "id": "3593e222-60d9-4704-b2e0-17124c6576e8",
   "metadata": {},
   "outputs": [
    {
     "name": "stdout",
     "output_type": "stream",
     "text": [
      "Empty set : {}\n",
      "This set is empty.\n",
      "Example set : {1, 2, 3, 4}\n",
      "Example set has elements.\n"
     ]
    }
   ],
   "source": [
    "Empty_set = {}\n",
    "example_set = {1,2,3,4}\n",
    "print(\"Empty set :\",Empty_set)\n",
    "\n",
    "if not Empty_set :\n",
    "    print(\"This set is empty.\")\n",
    "else :\n",
    "    print(\"This set is not empty.\")\n",
    "    \n",
    "print(\"Example set :\",example_set)    \n",
    "if example_set :\n",
    "    print(\"Example set has elements.\")\n",
    "else :\n",
    "    print(\"Example set has no elements.\")"
   ]
  },
  {
   "cell_type": "code",
   "execution_count": 180,
   "id": "19e9c7fc-fd49-4936-8e97-70640d40a6cd",
   "metadata": {},
   "outputs": [],
   "source": [
    "# 30.Create a nested set (hint: use frozenset)."
   ]
  },
  {
   "cell_type": "code",
   "execution_count": 181,
   "id": "cc0dad72-9ab5-4c2f-a0f0-dab05995584d",
   "metadata": {},
   "outputs": [
    {
     "name": "stdout",
     "output_type": "stream",
     "text": [
      "Set 1 : {1, 2, 3, 4, 5}\n",
      "Set 2 : {8, 9, 6, 7}\n",
      "A nested set : (frozenset({1, 2, 3, 4, 5}), frozenset({8, 9, 6, 7}))\n"
     ]
    }
   ],
   "source": [
    "s1 = {1,2,3,4,5}\n",
    "s2 = {6,7,8,9}\n",
    "print(\"Set 1 :\",s1)\n",
    "print(\"Set 2 :\",s2)\n",
    "frozen_s1 = frozenset(s1)\n",
    "frozen_s2 = frozenset(s2)\n",
    "Nested_set = (frozen_s1,frozen_s2)\n",
    "print(\"A nested set :\",Nested_set)"
   ]
  },
  {
   "cell_type": "code",
   "execution_count": 182,
   "id": "f2448758-be8b-44ca-ac55-eb0b88f38eb0",
   "metadata": {},
   "outputs": [],
   "source": [
    "# 31.Remove an element from a set using the discard method."
   ]
  },
  {
   "cell_type": "code",
   "execution_count": 183,
   "id": "c98ea580-2628-45d3-b244-ab5b10894f90",
   "metadata": {},
   "outputs": [
    {
     "name": "stdout",
     "output_type": "stream",
     "text": [
      "Example set : {1, 2, 3, 4, 5, 6, 7, 8, 9}\n",
      "Remove an element from a set using the discard method .\n",
      "Remove element 6 from a set : {1, 2, 3, 4, 5, 7, 8, 9}\n"
     ]
    }
   ],
   "source": [
    "example_set = {1,2,3,4,5,6,7,8,9}\n",
    "element_remove = 6\n",
    "print(\"Example set :\",example_set)\n",
    "example_set.discard(element_remove)\n",
    "print(\"Remove an element from a set using the discard method .\")\n",
    "print(f\"Remove element {element_remove} from a set :\",example_set)"
   ]
  },
  {
   "cell_type": "code",
   "execution_count": 184,
   "id": "09c075d0-020d-411e-96b7-61ddc71c663e",
   "metadata": {},
   "outputs": [],
   "source": [
    "# 32.compare two sets."
   ]
  },
  {
   "cell_type": "code",
   "execution_count": 185,
   "id": "3c51c614-a12a-4297-9ab6-6c6e135a3866",
   "metadata": {},
   "outputs": [
    {
     "name": "stdout",
     "output_type": "stream",
     "text": [
      "Set 1 : {1, 2, 3, 4, 5}\n",
      "Set 2 : {3, 4, 5, 6, 7, 8}\n",
      "Use set operations to compare the sets.\n",
      "1. Union : {1, 2, 3, 4, 5, 6, 7, 8}\n",
      "2. Intersection of set : {3, 4, 5}\n",
      "3. Is set1 subset of set2 ? False\n",
      "4. Is set1 superset of set2 ? False\n",
      "5. Elements of set1 but not in set2 : {1, 2}\n",
      "6. Elements of set2 but not in set1 : {8, 6, 7}\n"
     ]
    }
   ],
   "source": [
    "s1 = {1,2,3,4,5}\n",
    "s2 = {3,4,5,6,7,8}\n",
    "print(\"Set 1 :\",s1)\n",
    "print(\"Set 2 :\",s2)\n",
    "print(\"Use set operations to compare the sets.\")\n",
    "union = s1.union(s2)\n",
    "intersection = s1.intersection(s2)\n",
    "subset = s1.issubset(s2)\n",
    "superset = s1.issuperset(s2)\n",
    "difference1 = s1.difference(s2)\n",
    "difference2 = s2.difference(s1)\n",
    "\n",
    "\n",
    "print(\"1. Union :\",union)\n",
    "print(\"2. Intersection of set :\",intersection)\n",
    "print(\"3. Is set1 subset of set2 ?\",subset)\n",
    "print(\"4. Is set1 superset of set2 ?\",superset)\n",
    "print(\"5. Elements of set1 but not in set2 :\",difference1)\n",
    "print(\"6. Elements of set2 but not in set1 :\",difference2)"
   ]
  },
  {
   "cell_type": "code",
   "execution_count": 186,
   "id": "5da5816a-03d0-4ea1-bcbf-699ea2594c3e",
   "metadata": {},
   "outputs": [],
   "source": [
    "# 33.Create a set from a string."
   ]
  },
  {
   "cell_type": "code",
   "execution_count": 187,
   "id": "2953910f-784c-4587-a7a7-5ac874ac18d1",
   "metadata": {},
   "outputs": [
    {
     "name": "stdout",
     "output_type": "stream",
     "text": [
      "string : country\n",
      "Created a set from a string : {'c', 'r', 'n', 'u', 'y', 'o', 't'}\n"
     ]
    }
   ],
   "source": [
    "\n",
    "string = \"country\"\n",
    "print(\"string :\",string)\n",
    "create_set = set(string)\n",
    "print(\"Created a set from a string :\",create_set)"
   ]
  },
  {
   "cell_type": "code",
   "execution_count": 188,
   "id": "49887c20-5fcc-4b54-82df-63f6e0efb7ea",
   "metadata": {},
   "outputs": [],
   "source": [
    "# 34.Convert a set of strings to a set of integers."
   ]
  },
  {
   "cell_type": "code",
   "execution_count": 189,
   "id": "b8592692-aa01-48dd-ab5e-20347463ff1d",
   "metadata": {},
   "outputs": [
    {
     "name": "stdout",
     "output_type": "stream",
     "text": [
      "Set of string : {'361', '324', '289', '400'}\n",
      "Convert a set of strings to a set of integers : {400, 361, 324, 289}\n"
     ]
    }
   ],
   "source": [
    "set_of_string = {'289','324','361','400'}\n",
    "print(\"Set of string :\",set_of_string)\n",
    "set_integer = set(int(i) for i in set_of_string)\n",
    "\n",
    "print(\"Convert a set of strings to a set of integers :\",set_integer)"
   ]
  },
  {
   "cell_type": "code",
   "execution_count": 190,
   "id": "79f8446d-79e3-4188-b16d-7afc7527918b",
   "metadata": {},
   "outputs": [],
   "source": [
    "# 35.Convert a set of integers to a set of strings."
   ]
  },
  {
   "cell_type": "code",
   "execution_count": 191,
   "id": "ec139e7e-9390-4563-afd3-b4d95c2c22d1",
   "metadata": {},
   "outputs": [
    {
     "name": "stdout",
     "output_type": "stream",
     "text": [
      "Set of integers : {144, 169, 196, 225}\n",
      "Convert a set of integers to a set of strings : {'169', '196', '225', '144'}\n"
     ]
    }
   ],
   "source": [
    "set_integer = {144,169,196,225}\n",
    "print(\"Set of integers :\",set_integer)\n",
    "of_string = (str(i) for i in set_integer)\n",
    "set_of_string = set(of_string)\n",
    "print(\"Convert a set of integers to a set of strings :\",set_of_string)"
   ]
  },
  {
   "cell_type": "code",
   "execution_count": 192,
   "id": "67b15a87-4d8c-4e7e-abad-8661a52af3f6",
   "metadata": {},
   "outputs": [],
   "source": [
    "# 36.Create a set from a tuple."
   ]
  },
  {
   "cell_type": "code",
   "execution_count": 193,
   "id": "25b704f4-941a-491c-acc0-017e6b259edd",
   "metadata": {},
   "outputs": [
    {
     "name": "stdout",
     "output_type": "stream",
     "text": [
      "Example tuple : (1, 2, 3, 4, 5, 6)\n",
      "Created set from a tuple : {1, 2, 3, 4, 5, 6}\n"
     ]
    }
   ],
   "source": [
    "example_tuple = (1,2,3,4,5,6)\n",
    "print(\"Example tuple :\",example_tuple)\n",
    "create_set = set(example_tuple)\n",
    "print(\"Created set from a tuple :\",create_set)"
   ]
  },
  {
   "cell_type": "code",
   "execution_count": 194,
   "id": "81dac3b9-1506-40c1-ac47-ffeef282da47",
   "metadata": {},
   "outputs": [],
   "source": [
    "# 37.Convert a set to a tuple."
   ]
  },
  {
   "cell_type": "code",
   "execution_count": 195,
   "id": "22c9c1b5-6c80-44cd-bc84-5f569cc7d3dd",
   "metadata": {},
   "outputs": [
    {
     "name": "stdout",
     "output_type": "stream",
     "text": [
      "Example set : {1, 2, 3, 4, 5, 6, 7, 8, 9, 10, 11, 12}\n",
      "Convert a set to a tuple : (1, 2, 3, 4, 5, 6, 7, 8, 9, 10, 11, 12)\n"
     ]
    }
   ],
   "source": [
    "example_set = {1,2,3,4,5,6,7,8,9,10,11,12}\n",
    "print(\"Example set :\",example_set)\n",
    "create_tuple = tuple(example_set)\n",
    "print(\"Convert a set to a tuple :\",create_tuple)"
   ]
  },
  {
   "cell_type": "code",
   "execution_count": 196,
   "id": "95fb3607-8201-4100-be20-6a5584e8d82e",
   "metadata": {},
   "outputs": [],
   "source": [
    "# 38.Find the maximum value in a set."
   ]
  },
  {
   "cell_type": "code",
   "execution_count": 197,
   "id": "e54d4404-d533-4ed9-a7eb-9a2f4ec2ca40",
   "metadata": {},
   "outputs": [
    {
     "name": "stdout",
     "output_type": "stream",
     "text": [
      "Example set : {0, 1, 256, 52, 23, 11}\n",
      "The maximum value in a set : 256\n"
     ]
    }
   ],
   "source": [
    "example_set = {0,1,23,52,11,256}\n",
    "print(\"Example set :\",example_set)\n",
    "max_value = max(example_set)\n",
    "print(\"The maximum value in a set :\",max_value)"
   ]
  },
  {
   "cell_type": "code",
   "execution_count": 198,
   "id": "74d22c8b-0227-42f9-b167-7080f93e39f6",
   "metadata": {},
   "outputs": [],
   "source": [
    "# 39.Find the minimum value in a set."
   ]
  },
  {
   "cell_type": "code",
   "execution_count": 199,
   "id": "6474ddbb-92a0-498c-b10c-058938074db6",
   "metadata": {},
   "outputs": [
    {
     "name": "stdout",
     "output_type": "stream",
     "text": [
      "Example set : {2, 3, 4, 5, 6}\n",
      "The minimum value in a set : 2\n"
     ]
    }
   ],
   "source": [
    "example_set = {2,3,4,5,6}\n",
    "print(\"Example set :\",example_set)\n",
    "min_value = min(example_set)\n",
    "print(\"The minimum value in a set :\",min_value)"
   ]
  },
  {
   "cell_type": "code",
   "execution_count": 200,
   "id": "aa1bab8e-981a-4b42-8798-8c0fe9867386",
   "metadata": {},
   "outputs": [],
   "source": [
    "# 40.Create a set from user input."
   ]
  },
  {
   "cell_type": "code",
   "execution_count": 203,
   "id": "c2e3bb54-1215-4b6b-9827-7d7868b24664",
   "metadata": {},
   "outputs": [
    {
     "name": "stdout",
     "output_type": "stream",
     "text": [
      "Enter elements for the set (type 'its done' to finish  :\n"
     ]
    },
    {
     "name": "stdin",
     "output_type": "stream",
     "text": [
      "enter input :  is india my country\n",
      "enter input :  its done\n"
     ]
    },
    {
     "name": "stdout",
     "output_type": "stream",
     "text": [
      "Created a set from user input : {'is india my country'}\n"
     ]
    }
   ],
   "source": [
    "user_set = set()\n",
    "print(\"Enter elements for the set (type 'its done' to finish  :\")\n",
    "\n",
    "while True:\n",
    "    user_input = input(\"enter input : \") \n",
    "\n",
    "    if user_input.lower() == 'its done':\n",
    "        break  \n",
    "\n",
    "    \n",
    "    user_set.add(user_input)\n",
    "\n",
    "\n",
    "print(\"Created a set from user input :\", user_set)"
   ]
  },
  {
   "cell_type": "code",
   "execution_count": 204,
   "id": "040906bf-8eec-4467-9831-0fc52ce793b5",
   "metadata": {},
   "outputs": [],
   "source": [
    "# 41.Check if the intersection of two sets is empty."
   ]
  },
  {
   "cell_type": "code",
   "execution_count": 205,
   "id": "b9b9123b-44cf-4010-b910-0d9012132ab9",
   "metadata": {},
   "outputs": [
    {
     "name": "stdout",
     "output_type": "stream",
     "text": [
      "Set 1 : {1, 2, 3, 4, 5}\n",
      "Set 2 : {3, 5, 7, 8, 9}\n",
      "Check if the intersections of two sets (s1 and s2) is empty \n",
      "Yes, the intersection of two sets is possible :  {3, 5}\n"
     ]
    }
   ],
   "source": [
    "s1 = {1,2,3,4,5}\n",
    "s2 = {3,7,8,5,9}\n",
    "print(\"Set 1 :\",s1)\n",
    "print(\"Set 2 :\",s2)\n",
    "check_intersection = s1.intersection(s2)\n",
    "print(\"Check if the intersections of two sets (s1 and s2) is empty \")\n",
    "\n",
    "if check_intersection:\n",
    "    print(\"Yes, the intersection of two sets is possible : \",check_intersection)\n",
    "else :\n",
    "    print(\"No, the intersection of two sets is not possible : \",check_intersection)"
   ]
  },
  {
   "cell_type": "code",
   "execution_count": 206,
   "id": "163c78c8-f2e3-4822-9277-0854f1e2b440",
   "metadata": {},
   "outputs": [],
   "source": [
    "# 42.Create a set of the first 5 Fibonacci numbers."
   ]
  },
  {
   "cell_type": "code",
   "execution_count": 207,
   "id": "fd6a5474-bbfe-44f6-9f01-4ed58b362f58",
   "metadata": {},
   "outputs": [
    {
     "name": "stdout",
     "output_type": "stream",
     "text": [
      "Create a set of first 5 Fibonacci numbers : {0, 1, 2, 3, 5}\n"
     ]
    }
   ],
   "source": [
    "def fibonacci_nums_func(n):\n",
    "    if n <= 0:\n",
    "        return [0]\n",
    "    sequence = [0, 1]\n",
    "    while len(sequence) <= n:\n",
    "        next_value = sequence[len(sequence) - 1] + sequence[len(sequence) - 2]\n",
    "        sequence.append(next_value)\n",
    "    return set(sequence)\n",
    "\n",
    "print(\"Create a set of first 5 Fibonacci numbers :\" ,fibonacci_nums_func(5))"
   ]
  },
  {
   "cell_type": "code",
   "execution_count": 208,
   "id": "8e21e285-7fa6-4861-999f-694fd8a3463a",
   "metadata": {},
   "outputs": [],
   "source": [
    "# 43.Remove duplicates from a list using sets."
   ]
  },
  {
   "cell_type": "code",
   "execution_count": 209,
   "id": "660c94b1-1ea0-4e21-b56c-a97d217bc0d3",
   "metadata": {},
   "outputs": [
    {
     "name": "stdout",
     "output_type": "stream",
     "text": [
      "Example list : [1, 2, 3, 3, 1, 6, 3, 8, 7, 7, 9]\n",
      "Remove duplucates from a list using sets : {1, 2, 3, 6, 7, 8, 9}\n"
     ]
    }
   ],
   "source": [
    "example_list = [1,2,3,3,1,6,3,8,7,7,9]\n",
    "print(\"Example list :\",example_list)\n",
    "unique_set = set(example_list)\n",
    "print(\"Remove duplucates from a list using sets :\",unique_set)"
   ]
  },
  {
   "cell_type": "code",
   "execution_count": 210,
   "id": "5e10633c-51c7-42aa-8c7d-2651854e377d",
   "metadata": {},
   "outputs": [],
   "source": [
    "# 44.Check if two sets have the same elements, regardless of their count."
   ]
  },
  {
   "cell_type": "code",
   "execution_count": 211,
   "id": "bee62e4b-7cc0-4e46-bfb5-d8844863d0ef",
   "metadata": {},
   "outputs": [
    {
     "name": "stdout",
     "output_type": "stream",
     "text": [
      "Set 1 : {1, 2, 3, 4}\n",
      "set 2 : {1, 2, 3, 4}\n",
      "Check if set1 have the same elements of set 2, regardless of their count.\n",
      "The set1 have same elements of set2 \n"
     ]
    }
   ],
   "source": [
    "def same_element(s1,s2):\n",
    "    sort_s1 = sorted(list(s1))\n",
    "    sort_s2 = sorted(list(s2))\n",
    "    return sort_s1 == sort_s2\n",
    "\n",
    "\n",
    "\n",
    "s1 = {2,3,4,2,1,3}\n",
    "s2 = {3,4,1,2}\n",
    "print(\"Set 1 :\",s1)\n",
    "print(\"set 2 :\",s2)\n",
    "print(\"Check if set1 have the same elements of set 2, regardless of their count.\")\n",
    "check_element = same_element(s1,s2)\n",
    "if check_element :\n",
    "    print(\"The set1 have same elements of set2 \")\n",
    "else :\n",
    "    print(\"The set1 have not same elements of set2\")"
   ]
  },
  {
   "cell_type": "code",
   "execution_count": 212,
   "id": "551e2655-3cc8-46d8-b099-45f2b002c925",
   "metadata": {},
   "outputs": [],
   "source": [
    "# 45.Create a set of the first 'n' powers of 2."
   ]
  },
  {
   "cell_type": "code",
   "execution_count": 213,
   "id": "e01dcde8-f389-466f-90c2-548b11a72cd1",
   "metadata": {},
   "outputs": [
    {
     "name": "stdout",
     "output_type": "stream",
     "text": [
      "A number : 5\n",
      "A set of numbers from 0 to 5 : {0, 1, 2, 3, 4}\n",
      "Create a set of the first '5' powers of 2 : {1, 2, 4, 8, 16}\n"
     ]
    }
   ],
   "source": [
    "n = 5\n",
    "print(\"A number :\", n)\n",
    "print(f\"A set of numbers from 0 to {n} :\",set(range(0,n))) \n",
    "set_number = set(2**i for i in range(0,n))\n",
    "print(f\"Create a set of the first '{n}' powers of 2 :\",set_number)"
   ]
  },
  {
   "cell_type": "code",
   "execution_count": 214,
   "id": "c93669bc-93af-4331-a85e-777df91e9d2b",
   "metadata": {},
   "outputs": [],
   "source": [
    "# 46.Find the common elements between a set and a list."
   ]
  },
  {
   "cell_type": "code",
   "execution_count": 215,
   "id": "e3c401f3-85df-42fb-87fd-b437f4baddb0",
   "metadata": {},
   "outputs": [
    {
     "name": "stdout",
     "output_type": "stream",
     "text": [
      "Example set : {1, 2, 3, 4, 5}\n",
      "Example list : [4, 5, 7, 10, 2]\n",
      "converted list to set : {2, 4, 5, 7, 10}\n",
      "The common elements between Example_set and example_list : [2, 4, 5]\n"
     ]
    }
   ],
   "source": [
    "example_set = {1,2,3,4,5}\n",
    "example_list = [4,5,7,10,2]\n",
    "print(\"Example set :\",example_set)\n",
    "print(\"Example list :\",example_list)\n",
    "convert_list_to_set = set(example_list)\n",
    "print(\"converted list to set :\",convert_list_to_set)\n",
    "common_element = []\n",
    "for element in example_set :\n",
    "    if element in convert_list_to_set :\n",
    "        common_element.append(element)\n",
    "        \n",
    "print(\"The common elements between Example_set and example_list :\",common_element)"
   ]
  },
  {
   "cell_type": "code",
   "execution_count": 216,
   "id": "ca05de6e-bc57-4381-b274-d09d14592847",
   "metadata": {},
   "outputs": [],
   "source": [
    "# 47.Create a set of the first 'n' triangular numbers."
   ]
  },
  {
   "cell_type": "code",
   "execution_count": 217,
   "id": "112bc5c6-6265-478f-b46f-3deceda02cfe",
   "metadata": {},
   "outputs": [
    {
     "name": "stdin",
     "output_type": "stream",
     "text": [
      "enter a number for Triangular numbers : 10\n"
     ]
    },
    {
     "name": "stdout",
     "output_type": "stream",
     "text": [
      "A set of the first 10 Triangular numbers : {1, 3, 36, 6, 10, 45, 15, 21, 55, 28} \n"
     ]
    }
   ],
   "source": [
    "n = int(input(\"enter a number for Triangular numbers :\"))\n",
    "numbers = set( f*(f+1)//2 for f in range(1,n+1))\n",
    "print(f\"A set of the first {n} Triangular numbers : {numbers} \")"
   ]
  },
  {
   "cell_type": "code",
   "execution_count": 218,
   "id": "7f60c844-04d8-4725-9727-f79bce9931e9",
   "metadata": {},
   "outputs": [],
   "source": [
    "# 48.Check if a set contains another set as a subset."
   ]
  },
  {
   "cell_type": "code",
   "execution_count": 219,
   "id": "d55b9dcd-2cea-4eb0-9547-73d313f6964e",
   "metadata": {},
   "outputs": [
    {
     "name": "stdout",
     "output_type": "stream",
     "text": [
      "Example set 1 : {1, 2, 3, 4, 5, 6}\n",
      "Example of another set2 : {4, 5}\n",
      "Check if a set contains another set as a subset \n",
      "Yes, set2 is a subset of set1 \n"
     ]
    }
   ],
   "source": [
    "set1 = {1,2,3,4,5,6}\n",
    "print(\"Example set 1 :\",set1)\n",
    "set2 = {4,5}\n",
    "print(\"Example of another set2 :\",set2)\n",
    "is_subset = set2.issubset(set1)\n",
    "print(\"Check if a set contains another set as a subset \")\n",
    "if is_subset :\n",
    "    print(\"Yes, set2 is a subset of set1 \")\n",
    "else :\n",
    "    print(\"No, set2 is not a subset of set1 \")"
   ]
  },
  {
   "cell_type": "code",
   "execution_count": 220,
   "id": "12f6b44e-756a-4346-a1b1-f9dcc4945df0",
   "metadata": {},
   "outputs": [],
   "source": [
    "# 49.Create a set of alternating 1s and 0s of length 'n'."
   ]
  },
  {
   "cell_type": "code",
   "execution_count": null,
   "id": "8f72139d-e450-4fa0-9292-ee8c22c87876",
   "metadata": {},
   "outputs": [],
   "source": []
  }
 ],
 "metadata": {
  "kernelspec": {
   "display_name": "Python 3 (ipykernel)",
   "language": "python",
   "name": "python3"
  },
  "language_info": {
   "codemirror_mode": {
    "name": "ipython",
    "version": 3
   },
   "file_extension": ".py",
   "mimetype": "text/x-python",
   "name": "python",
   "nbconvert_exporter": "python",
   "pygments_lexer": "ipython3",
   "version": "3.10.8"
  }
 },
 "nbformat": 4,
 "nbformat_minor": 5
}
