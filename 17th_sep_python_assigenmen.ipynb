{
 "cells": [
  {
   "cell_type": "code",
   "execution_count": 1,
   "id": "bb594219-04d4-41d8-8d25-45bff2858cd2",
   "metadata": {},
   "outputs": [],
   "source": [
    "#1.Write a Python program to prints numbers from 1 to 10 using a for loop."
   ]
  },
  {
   "cell_type": "code",
   "execution_count": 2,
   "id": "7fd3f376-1bf4-434c-967b-6d5c66e4916d",
   "metadata": {},
   "outputs": [
    {
     "name": "stdout",
     "output_type": "stream",
     "text": [
      "1\n",
      "2\n",
      "3\n",
      "4\n",
      "5\n",
      "6\n",
      "7\n",
      "8\n",
      "9\n",
      "10\n"
     ]
    }
   ],
   "source": [
    "for i in range(1,11):\n",
    "    print(i)"
   ]
  },
  {
   "cell_type": "code",
   "execution_count": 3,
   "id": "570f5997-b349-4629-832e-2bbe5ebbe3d8",
   "metadata": {},
   "outputs": [],
   "source": [
    "#2.Explain the difference between a for loop and a while loop in Python."
   ]
  },
  {
   "cell_type": "code",
   "execution_count": null,
   "id": "405def6a-0f96-40f2-bd36-4fce4877ea8b",
   "metadata": {},
   "outputs": [],
   "source": [
    "'''\n",
    "1. For loop, iterate over the iterables and check the condition and perform the statements inside the loop.\n",
    "2. while loop, first it check the condition and executes the statements inside the statement inside.\n",
    "'''"
   ]
  },
  {
   "cell_type": "code",
   "execution_count": 5,
   "id": "c9b3d5b9-ef88-40e7-ae14-f53740e59dfb",
   "metadata": {},
   "outputs": [],
   "source": [
    "# 3.Write a Python program to calculate the sum of all numbers from 1 to 1000 using a for loop."
   ]
  },
  {
   "cell_type": "code",
   "execution_count": 6,
   "id": "402c97b7-4363-4606-8720-9af40e18dadd",
   "metadata": {},
   "outputs": [
    {
     "name": "stdout",
     "output_type": "stream",
     "text": [
      "Sum of all numbers from 1 to 100 : 5050\n"
     ]
    }
   ],
   "source": [
    "sum_of_all_numbers = 0\n",
    "for i in range(1, 101):\n",
    "    sum_of_all_numbers += i\n",
    "    \n",
    "print(f\"Sum of all numbers from 1 to 100 : {sum_of_all_numbers}\")"
   ]
  },
  {
   "cell_type": "code",
   "execution_count": 7,
   "id": "45eed809-82c8-48f7-b18f-ab8ffe3f5272",
   "metadata": {},
   "outputs": [],
   "source": [
    "# 4.How do you iterate through a list using a loop in python?"
   ]
  },
  {
   "cell_type": "code",
   "execution_count": null,
   "id": "5b8f9adc-3874-4d9a-b1ea-9a37b0645973",
   "metadata": {},
   "outputs": [],
   "source": [
    "'''1. in - in operator used to iterate over the list. for each iteration it takes each value in the list.'''"
   ]
  },
  {
   "cell_type": "code",
   "execution_count": 8,
   "id": "a0c44452-7a95-4ab5-9b10-58b6f4dc4626",
   "metadata": {},
   "outputs": [],
   "source": [
    "# 5. Write a Python program to find the product of all elemnts in a list using a for loop."
   ]
  },
  {
   "cell_type": "code",
   "execution_count": 9,
   "id": "cdf8896b-8d29-464d-b605-050bbd28a99e",
   "metadata": {},
   "outputs": [
    {
     "name": "stdout",
     "output_type": "stream",
     "text": [
      "The product of all elements in a list : 60\n"
     ]
    }
   ],
   "source": [
    "list_p = [1, 3, 4, 5]\n",
    "ele_p = 1\n",
    "for i in list_p :\n",
    "    ele_p *= i \n",
    "    \n",
    "print(f\"The product of all elements in a list : {ele_p}\")"
   ]
  },
  {
   "cell_type": "code",
   "execution_count": 10,
   "id": "b5ccbbbf-ce61-4364-9e20-34ca6ea77732",
   "metadata": {},
   "outputs": [],
   "source": [
    "#6.Create a Python program that prints all even numbers from 1 to 20 using a for loop."
   ]
  },
  {
   "cell_type": "code",
   "execution_count": 11,
   "id": "69e1588e-1db6-4c13-8911-3ac43a19e267",
   "metadata": {},
   "outputs": [
    {
     "name": "stdout",
     "output_type": "stream",
     "text": [
      "All even numbers from 1 to 20:\n",
      "2\n",
      "4\n",
      "6\n",
      "8\n",
      "10\n",
      "12\n",
      "14\n",
      "16\n",
      "18\n",
      "20\n"
     ]
    }
   ],
   "source": [
    "print(f\"All even numbers from 1 to 20:\")\n",
    "for i in range(1, 21):\n",
    "    if i%2 == 0:\n",
    "        print(i)"
   ]
  },
  {
   "cell_type": "code",
   "execution_count": 12,
   "id": "1956a6d3-56f9-4763-b3d1-035476f81e3d",
   "metadata": {},
   "outputs": [],
   "source": [
    "#7.Write a Python program that calculates the factorial of a number using a for loop."
   ]
  },
  {
   "cell_type": "code",
   "execution_count": 13,
   "id": "b84d6f4e-3b08-4b7c-92ad-c8afed0d0fc1",
   "metadata": {},
   "outputs": [
    {
     "name": "stdin",
     "output_type": "stream",
     "text": [
      "Enter n value: 4\n"
     ]
    },
    {
     "name": "stdout",
     "output_type": "stream",
     "text": [
      "Factorial of a 4 is : 24\n"
     ]
    }
   ],
   "source": [
    "fact = 1\n",
    "n = int(input(\"Enter n value:\"))\n",
    "for i in range(1, n+1):\n",
    "    if n == 0 or n == 1 :\n",
    "        break\n",
    "    else:\n",
    "        fact *= i\n",
    "\n",
    "print(f\"Factorial of a {n} is : {fact}\")"
   ]
  },
  {
   "cell_type": "code",
   "execution_count": 14,
   "id": "4ce586a5-51aa-44a4-b55d-ad12b7350fb5",
   "metadata": {},
   "outputs": [],
   "source": [
    "#8.How can you iterate through the characters of a string using a for loop in Python?"
   ]
  },
  {
   "cell_type": "code",
   "execution_count": 15,
   "id": "3c32ef2b-ba54-450b-8954-eac1f28940d3",
   "metadata": {},
   "outputs": [
    {
     "name": "stdout",
     "output_type": "stream",
     "text": [
      "K\n",
      "o\n",
      "m\n",
      "a\n",
      "l\n"
     ]
    },
    {
     "data": {
      "text/plain": [
       "\"Explanation : Initially, i takes character 'K' from string 'Komal' and print it. Then i will be incremented and i becomes next character which is 'o'. This process is repeated till last character of the string.\\n\""
      ]
     },
     "execution_count": 15,
     "metadata": {},
     "output_type": "execute_result"
    }
   ],
   "source": [
    "'''1. we can iterate through the string using 'in' operator. If we use in operator in for loop, it takes each character for each iteration.\n",
    "'''\n",
    "string = \"Komal\"\n",
    "for i in string:\n",
    "    print(i)\n",
    "    \n",
    "    \n",
    "'''Explanation : Initially, i takes character 'K' from string 'Komal' and print it. Then i will be incremented and i becomes next character which is 'o'. This process is repeated till last character of the string.\n",
    "'''"
   ]
  },
  {
   "cell_type": "code",
   "execution_count": 16,
   "id": "1d70da8b-bf59-48f2-a1d2-b5fb0d3b4498",
   "metadata": {},
   "outputs": [],
   "source": [
    "#9.Write a Python program to find the largest number in a list using a for loop."
   ]
  },
  {
   "cell_type": "code",
   "execution_count": 17,
   "id": "cf4b28d2-3626-46fe-a37f-dc173bb6ebb2",
   "metadata": {},
   "outputs": [
    {
     "name": "stdout",
     "output_type": "stream",
     "text": [
      "largest element in a list : 120\n"
     ]
    }
   ],
   "source": [
    "list_9 = [10, 20, 2, 34, 120]\n",
    "large = list_9[0]\n",
    "for ele in list_9:\n",
    "    if ele > large:\n",
    "        large = ele \n",
    "        \n",
    "print(f\"largest element in a list : {large}\")\n"
   ]
  },
  {
   "cell_type": "code",
   "execution_count": 18,
   "id": "085bd8b8-ed13-48bd-93bc-d66891f18e75",
   "metadata": {},
   "outputs": [],
   "source": [
    "#10.Create a Python program that prints the Fibonacci sequence up to a specified limit using a for loop."
   ]
  },
  {
   "cell_type": "code",
   "execution_count": 19,
   "id": "d3323633-6202-441a-88d3-cbf4175db826",
   "metadata": {},
   "outputs": [
    {
     "data": {
      "text/plain": [
       "[0, 1, 1, 2, 3, 5, 8, 13, 21, 34]"
      ]
     },
     "execution_count": 19,
     "metadata": {},
     "output_type": "execute_result"
    }
   ],
   "source": [
    "def fibonacci_Series(n : int) -> list:\n",
    "    l = []\n",
    "    if n <= 0:\n",
    "        return -1\n",
    "    if n == 1:\n",
    "        l.append(0)\n",
    "        return l\n",
    "    else:\n",
    "        l.extend([0, 1])\n",
    "        for i in range(1, n-1):\n",
    "            l.append(l[i] + l[i-1])\n",
    "    return l\n",
    "\n",
    "fibonacci_Series(10)"
   ]
  },
  {
   "cell_type": "code",
   "execution_count": 20,
   "id": "63196a91-cd5c-4c78-977c-aff332077239",
   "metadata": {},
   "outputs": [],
   "source": [
    "#11.Write a Python prgram to count the number of vowels in a given string using a for loop."
   ]
  },
  {
   "cell_type": "code",
   "execution_count": 21,
   "id": "f85e7735-21a4-4346-b4fa-bb3438e9cb52",
   "metadata": {},
   "outputs": [
    {
     "name": "stdout",
     "output_type": "stream",
     "text": [
      "Number of vowels in 'PythOn AssignMent is compeleted' : 9\n"
     ]
    }
   ],
   "source": [
    "vowel_count = 0\n",
    "string = \"PythOn AssignMent is compeleted\"\n",
    "\n",
    "for char in string :\n",
    "    if char in 'AEIOUaeiou' :\n",
    "        vowel_count += 1\n",
    "\n",
    "print(f\"Number of vowels in '{string}' : {vowel_count}\")"
   ]
  },
  {
   "cell_type": "code",
   "execution_count": 22,
   "id": "b30d08da-4583-4f7c-b92f-098691b0cb67",
   "metadata": {},
   "outputs": [],
   "source": [
    "#12.Create a Python program that generates a multiplication table for a given number using a for loop."
   ]
  },
  {
   "cell_type": "code",
   "execution_count": 23,
   "id": "dcb16a31-6948-4523-9ef1-f7d6d2df0455",
   "metadata": {},
   "outputs": [
    {
     "name": "stdin",
     "output_type": "stream",
     "text": [
      "Enter digit of the table : 8\n"
     ]
    },
    {
     "name": "stdout",
     "output_type": "stream",
     "text": [
      "8 * 1 = 8\n",
      "8 * 2 = 16\n",
      "8 * 3 = 24\n",
      "8 * 4 = 32\n",
      "8 * 5 = 40\n",
      "8 * 6 = 48\n",
      "8 * 7 = 56\n",
      "8 * 8 = 64\n",
      "8 * 9 = 72\n",
      "8 * 10 = 80\n"
     ]
    }
   ],
   "source": [
    "n = int(input(\"Enter digit of the table :\"))\n",
    "\n",
    "for i in range(1, 11):\n",
    "    print(f\"{n} * {i} = {n*i}\")"
   ]
  },
  {
   "cell_type": "code",
   "execution_count": 25,
   "id": "2d10fcdb-b6cf-46ce-b02c-b53625766718",
   "metadata": {},
   "outputs": [],
   "source": [
    "#13. Write a Python program to reverse a list using a for loop."
   ]
  },
  {
   "cell_type": "code",
   "execution_count": 26,
   "id": "7456d361-a149-45d4-8cec-f55ac80397bb",
   "metadata": {},
   "outputs": [
    {
     "name": "stdout",
     "output_type": "stream",
     "text": [
      "Reverse  a list : [True, 'reverse', 20.7, 10, 'using']\n"
     ]
    }
   ],
   "source": [
    "list_13 = ['using' , 10 , 20.7 , 'reverse' ,True ]\n",
    "for i in range(len(list_13) // 2):\n",
    "    list_13[i] , list_13[len(list_13) - i - 1] = list_13[len(list_13) - i - 1] , list_13[i]\n",
    "    \n",
    "print(f\"Reverse  a list : {list_13}\")"
   ]
  },
  {
   "cell_type": "code",
   "execution_count": 27,
   "id": "7ec380db-8810-40b8-9152-9699fc585807",
   "metadata": {},
   "outputs": [],
   "source": [
    "#14.Write a Python program to find the common elements between two lists using a for loop."
   ]
  },
  {
   "cell_type": "code",
   "execution_count": 32,
   "id": "8661e1cf-5607-4353-bade-188344542e8f",
   "metadata": {},
   "outputs": [
    {
     "name": "stdout",
     "output_type": "stream",
     "text": [
      "Common elements between two lists : ['komal']\n"
     ]
    }
   ],
   "source": [
    "list_a = ['komal']\n",
    "list_b = ['pw', 'skills', 'komal']\n",
    "\n",
    "list_common = []\n",
    "\n",
    "if len(list_b) < len(list_a):\n",
    "    for ele in list_b :\n",
    "        if ele in list_a :\n",
    "            list_common.append(ele)\n",
    "            \n",
    "else:\n",
    "    for ele in list_a:\n",
    "        if ele in list_b:\n",
    "            list_common.append(ele)\n",
    "            \n",
    "print(f\"Common elements between two lists : {list_common}\")"
   ]
  },
  {
   "cell_type": "code",
   "execution_count": 33,
   "id": "4bb3cd6f-be8d-41a6-af33-b314a5e8e3b3",
   "metadata": {},
   "outputs": [],
   "source": [
    "#15.Explain how to use a for loop to iterate through the keys and values of a dictionary in Python."
   ]
  },
  {
   "cell_type": "code",
   "execution_count": 35,
   "id": "86c215ed-1762-4a67-b170-a50ff92a3434",
   "metadata": {},
   "outputs": [
    {
     "name": "stdout",
     "output_type": "stream",
     "text": [
      "name = komal\n",
      "age = 28\n",
      "school = kvs\n",
      "Occupation = student\n"
     ]
    }
   ],
   "source": [
    "'''\n",
    "Dictonary has mainly three method:\n",
    " 1. keys() - it gives the all the keys in dictionary\n",
    " 2. values() - it gives the all the values in dictionary\n",
    " 3. items() - it gives the all items in the dictionary\n",
    "\n",
    "we can iterate the dictionary using keys, values and items also.\n",
    "iterate using items()\n",
    "'''\n",
    "\n",
    "d = {'name' : 'komal', 'age' : 28 , 'school' : 'kvs' , 'Occupation' : 'student'}\n",
    "\n",
    "for k , v  in d.items():\n",
    "    print(f\"{k} = {v}\")\n",
    "    "
   ]
  },
  {
   "cell_type": "code",
   "execution_count": 36,
   "id": "1af88bd6-3843-4c0d-9b7c-f4ef622980a3",
   "metadata": {},
   "outputs": [],
   "source": [
    "#16.Write a Python program to find the GCD(Greatest common Divisor) of two numbers using a for loop."
   ]
  },
  {
   "cell_type": "code",
   "execution_count": 37,
   "id": "681e3dc9-b193-4fc9-bdab-624870507bc7",
   "metadata": {},
   "outputs": [
    {
     "data": {
      "text/plain": [
       "16"
      ]
     },
     "execution_count": 37,
     "metadata": {},
     "output_type": "execute_result"
    }
   ],
   "source": [
    "def gcd(a : int, b : int) -> int :\n",
    "    while b != 0:\n",
    "        a, b = b, a%b\n",
    "        \n",
    "    return a\n",
    "\n",
    "def gcd_2(a : int , b : int):\n",
    "    if a < b:\n",
    "        for i in range(1, a+1):\n",
    "            if a % i == 0 and b % i  == 0 :\n",
    "                gcd = i\n",
    "                \n",
    "    return gcd\n",
    "\n",
    "gcd(16, 48)"
   ]
  },
  {
   "cell_type": "code",
   "execution_count": 38,
   "id": "888973dc-fcd0-4683-90fa-4697abe05caa",
   "metadata": {},
   "outputs": [],
   "source": [
    "#17.Create a Python program that checks if a string is a palindrome using a for loop."
   ]
  },
  {
   "cell_type": "code",
   "execution_count": 41,
   "id": "6225a404-0ec7-41c9-b457-af0282a20c81",
   "metadata": {},
   "outputs": [
    {
     "name": "stdin",
     "output_type": "stream",
     "text": [
      "enter a string: is\n"
     ]
    },
    {
     "name": "stdout",
     "output_type": "stream",
     "text": [
      "string is not palindrome\n"
     ]
    }
   ],
   "source": [
    "str17 = input(\"enter a string:\")\n",
    "str17_lower = (str17.replace(\" \", \"\")).lower()\n",
    "reverse_str = ''\n",
    "for i in range(len(str17_lower)-1 , -1, -1):\n",
    "    if str17_lower[i].isalnum():\n",
    "        reverse_str += str17_lower[i]\n",
    "        \n",
    "if reverse_str == str17_lower:\n",
    "    print(f\"string is palindrome\")\n",
    "else :\n",
    "    print(f\"string is not palindrome\")"
   ]
  },
  {
   "cell_type": "code",
   "execution_count": 42,
   "id": "02a3793b-8ee8-475e-b23e-4daca8b73b1c",
   "metadata": {},
   "outputs": [],
   "source": [
    "#18.Write a Python program to remove duplicates from a list using a for loop."
   ]
  },
  {
   "cell_type": "code",
   "execution_count": 43,
   "id": "ae313ab8-3fc5-42d0-b020-ef3b329f4253",
   "metadata": {},
   "outputs": [
    {
     "name": "stdout",
     "output_type": "stream",
     "text": [
      "list after without duplicates : ['pw', 'python', 20, True]\n"
     ]
    }
   ],
   "source": [
    "list18 = ['pw' , 'python' , 20, 'pw', True]\n",
    "list_without_duplicates = []\n",
    "\n",
    "for element in list18:\n",
    "    if element not in list_without_duplicates:\n",
    "        list_without_duplicates.append(element)\n",
    "print(f\"list after without duplicates : {list_without_duplicates}\")"
   ]
  },
  {
   "cell_type": "code",
   "execution_count": 44,
   "id": "192c174a-8453-4012-bfe7-765a4b88e722",
   "metadata": {},
   "outputs": [],
   "source": [
    "#19.Create a Python program that counts the number of words in a sentence using a for loop."
   ]
  },
  {
   "cell_type": "code",
   "execution_count": 45,
   "id": "a4b87163-88c8-4a6e-bfa1-40ccbf7ce97b",
   "metadata": {},
   "outputs": [
    {
     "name": "stdout",
     "output_type": "stream",
     "text": [
      "Number of words on sentence : 4\n"
     ]
    }
   ],
   "source": [
    "sentence = \"I love my india\"\n",
    "\n",
    "list_words = sentence.split()\n",
    "words_count = 0\n",
    "for word in list_words:\n",
    "    words_count +=1 \n",
    "    \n",
    "print(f\"Number of words on sentence : {words_count}\")"
   ]
  },
  {
   "cell_type": "code",
   "execution_count": 46,
   "id": "1f1c293a-53ee-47d1-9009-4f865f735d75",
   "metadata": {},
   "outputs": [],
   "source": [
    "#20.Write a Python program to find the sum of all odd numbers from 1 to 50 using a for loop."
   ]
  },
  {
   "cell_type": "code",
   "execution_count": 47,
   "id": "1f20a2dc-bcc2-4adc-9f64-5b75357836c0",
   "metadata": {},
   "outputs": [
    {
     "name": "stdout",
     "output_type": "stream",
     "text": [
      "Sum of odd numbers from 1 to 50 : 625\n"
     ]
    }
   ],
   "source": [
    "odd_sum = 0\n",
    "for i in range(1, 51):\n",
    "    if i % 2 != 0:\n",
    "        odd_sum += i \n",
    "        \n",
    "print(f\"Sum of odd numbers from 1 to 50 : {odd_sum}\")"
   ]
  },
  {
   "cell_type": "code",
   "execution_count": 48,
   "id": "a9f37108-f4b2-4ba6-bcbb-e78b33f5b500",
   "metadata": {},
   "outputs": [],
   "source": [
    "# 21.Write a Python program that checks if a given year is a leap year using a for loop."
   ]
  },
  {
   "cell_type": "code",
   "execution_count": 49,
   "id": "f72682f6-c093-4c18-99cc-4c7efd4ecf9f",
   "metadata": {},
   "outputs": [
    {
     "name": "stdout",
     "output_type": "stream",
     "text": [
      "leap year list : [2000, 2004, 2400, 1200]\n"
     ]
    }
   ],
   "source": [
    "def check_leap(years : list) -> bool:\n",
    "    leap_year = []\n",
    "    for year in years :\n",
    "        if year % 4 == 0 and year % 100 != 0 or year % 400 == 0:\n",
    "            leap_year .append(year)\n",
    "            \n",
    "    return leap_year\n",
    "\n",
    "leap_year_list = check_leap([2000, 2010, 2004, 2400, 1200])\n",
    "print(f\"leap year list : {leap_year_list}\")"
   ]
  },
  {
   "cell_type": "code",
   "execution_count": 50,
   "id": "4465f3a8-7179-4485-ada2-7ade6da8ebcb",
   "metadata": {},
   "outputs": [],
   "source": [
    "#22. Create a Python program that calculates the square root of a number using a for loop."
   ]
  },
  {
   "cell_type": "code",
   "execution_count": 51,
   "id": "d665ad9e-b312-4cb4-af15-6423cde73ab7",
   "metadata": {},
   "outputs": [
    {
     "data": {
      "text/plain": [
       "5.0"
      ]
     },
     "execution_count": 51,
     "metadata": {},
     "output_type": "execute_result"
    }
   ],
   "source": [
    "def sq_root(num , iteration):\n",
    "    near_root = num / 2.0\n",
    "    for _ in range(iteration):\n",
    "        near_root = 0.5 * (near_root + (num/near_root))\n",
    "    return near_root\n",
    "\n",
    "sq_root(num = 25 , iteration = 100)"
   ]
  },
  {
   "cell_type": "code",
   "execution_count": 52,
   "id": "0bb45dd3-70c8-4153-ba94-721caf11593c",
   "metadata": {},
   "outputs": [],
   "source": [
    "#23.Write a Python program to find the LCM (Least Common Multiple) of two numbers using a for loop."
   ]
  },
  {
   "cell_type": "code",
   "execution_count": 53,
   "id": "a4b76d47-4ef8-49a4-abc6-4caf780a949a",
   "metadata": {},
   "outputs": [
    {
     "name": "stdin",
     "output_type": "stream",
     "text": [
      "Enter first number : 12\n",
      "Enter second number : 10\n"
     ]
    },
    {
     "name": "stdout",
     "output_type": "stream",
     "text": [
      "LCM of 12 and 10 is 60\n"
     ]
    }
   ],
   "source": [
    "# LCM  - range of maximum and product of numbers \n",
    "\n",
    "first_number = int(input(\"Enter first number :\"))\n",
    "second_number = int(input(\"Enter second number :\"))\n",
    "\n",
    "max_of_two = max(first_number, second_number)\n",
    "\n",
    "def lcm(a , b):\n",
    "    for i in range(max_of_two, a*b+1):\n",
    "        if i % a == 0 and i % b == 0 :\n",
    "            return i \n",
    "        \n",
    "least_com_factor  = lcm(first_number , second_number)\n",
    "\n",
    "print(f\"LCM of {first_number} and {second_number} is {least_com_factor}\")"
   ]
  },
  {
   "cell_type": "code",
   "execution_count": null,
   "id": "41c68e00-a098-4d23-b23e-46edc2cd2c9e",
   "metadata": {},
   "outputs": [],
   "source": [
    "If else:"
   ]
  },
  {
   "cell_type": "code",
   "execution_count": 54,
   "id": "a42b8ff2-9938-4ff3-9528-64ddfffa5268",
   "metadata": {},
   "outputs": [],
   "source": [
    "#1.Write a Python program to check if a number is positive, negative, or zero using an if-else statement."
   ]
  },
  {
   "cell_type": "code",
   "execution_count": 55,
   "id": "94d1b561-2879-4a5f-b752-9cf8b64638cf",
   "metadata": {},
   "outputs": [
    {
     "name": "stdin",
     "output_type": "stream",
     "text": [
      "Enter a number : -59\n"
     ]
    },
    {
     "name": "stdout",
     "output_type": "stream",
     "text": [
      "Number is negative\n"
     ]
    }
   ],
   "source": [
    "n = int(input(\"Enter a number :\"))\n",
    "\n",
    "if n>0:\n",
    "    print(\"Number is positive\")\n",
    "    \n",
    "elif n==0:\n",
    "    print(\"Number is zero\")\n",
    "\n",
    "else :\n",
    "    print(\"Number is negative\")\n",
    "    "
   ]
  },
  {
   "cell_type": "code",
   "execution_count": 56,
   "id": "87dcd894-4105-415f-bbf8-3087c48e6017",
   "metadata": {},
   "outputs": [],
   "source": [
    "#2.Create a Python program that checks if a given number is even or odd using an if-else statement."
   ]
  },
  {
   "cell_type": "code",
   "execution_count": 57,
   "id": "19c48cf1-14c3-4e78-b5bd-b0e49e2e6851",
   "metadata": {},
   "outputs": [
    {
     "name": "stdin",
     "output_type": "stream",
     "text": [
      "Enter a number 6\n"
     ]
    },
    {
     "name": "stdout",
     "output_type": "stream",
     "text": [
      "Number is even\n"
     ]
    }
   ],
   "source": [
    "n = int(input(\"Enter a number\"))\n",
    "\n",
    "if n%2 == 0:\n",
    "    print(\"Number is even\")\n",
    "    \n",
    "else:\n",
    "    print(\"Number is odd\")"
   ]
  },
  {
   "cell_type": "code",
   "execution_count": 58,
   "id": "e98d0308-216a-4d99-abe3-cd105a4ede1e",
   "metadata": {},
   "outputs": [],
   "source": [
    "#3.How can you nested if-else statements in python, and provide an example?"
   ]
  },
  {
   "cell_type": "code",
   "execution_count": 60,
   "id": "569f15fe-c073-4301-bfa4-ec1461cc285f",
   "metadata": {},
   "outputs": [
    {
     "name": "stdout",
     "output_type": "stream",
     "text": [
      "number is positive\n"
     ]
    }
   ],
   "source": [
    "number = 29\n",
    "if number >= 0:\n",
    "    print(\"number is positive\")\n",
    "    if number == 0:\n",
    "        print(\"Number is greater but its zero\")\n",
    "else:\n",
    "    print(\"number is negative\")"
   ]
  },
  {
   "cell_type": "code",
   "execution_count": 62,
   "id": "1830a0dd-76bd-49d5-9204-6fde7c26b353",
   "metadata": {},
   "outputs": [],
   "source": [
    "#4.Write a Python program to determine the largest of three numbers using if-else."
   ]
  },
  {
   "cell_type": "code",
   "execution_count": 63,
   "id": "28c90931-51bb-41dd-905d-c3155ab4cdf4",
   "metadata": {},
   "outputs": [
    {
     "name": "stdin",
     "output_type": "stream",
     "text": [
      "Enter the first number : 28.0\n",
      "Enter the second number : 45\n",
      "Enter the third number : 96\n"
     ]
    },
    {
     "name": "stdout",
     "output_type": "stream",
     "text": [
      "The largest number is 96.0\n"
     ]
    }
   ],
   "source": [
    "num1 = float(input(\"Enter the first number :\"))\n",
    "num2 = float(input(\"Enter the second number :\"))\n",
    "num3 = float(input(\"Enter the third number :\"))\n",
    "if num1 >= num2 and num1 >= num3 :\n",
    "    largest = num1\n",
    "elif num2 >= num1 and num2 >= num3 :\n",
    "    largest = num2\n",
    "else :\n",
    "    largest = num3\n",
    "    \n",
    "print(f\"The largest number is {largest}\")"
   ]
  },
  {
   "cell_type": "code",
   "execution_count": 64,
   "id": "d7513b30-6ae3-4466-a755-fe45ebb81db7",
   "metadata": {},
   "outputs": [],
   "source": [
    "#5.Write a python program that calculates the absolute value of a number using if-else."
   ]
  },
  {
   "cell_type": "code",
   "execution_count": 66,
   "id": "76d0799c-08b8-4c7a-9d32-3f7bf077e9ae",
   "metadata": {},
   "outputs": [
    {
     "name": "stdin",
     "output_type": "stream",
     "text": [
      "Enter a number : -12.11\n"
     ]
    },
    {
     "name": "stdout",
     "output_type": "stream",
     "text": [
      "The absolute value of -12.11 is 12.11\n"
     ]
    }
   ],
   "source": [
    "number = float(input(\"Enter a number :\"))\n",
    "if number < 0:\n",
    "    absolute_value = -number\n",
    "else :\n",
    "    absolute_value = number\n",
    "print(f\"The absolute value of {number} is {absolute_value}\")"
   ]
  },
  {
   "cell_type": "code",
   "execution_count": 67,
   "id": "51c81965-1254-4bd1-9ca2-a2caefa06ecb",
   "metadata": {},
   "outputs": [],
   "source": [
    "#6.Create a Python program that checks if a given character is a vowel or consonant using if-else."
   ]
  },
  {
   "cell_type": "code",
   "execution_count": 69,
   "id": "4cf40897-dc72-491b-ae43-83e2afd85eb1",
   "metadata": {},
   "outputs": [
    {
     "name": "stdin",
     "output_type": "stream",
     "text": [
      "Enter a single character  a\n"
     ]
    },
    {
     "name": "stdout",
     "output_type": "stream",
     "text": [
      "a  is a vowel\n"
     ]
    }
   ],
   "source": [
    "char = input(\"Enter a single character \")\n",
    "if char in \"AEIOUaeiou\":\n",
    "    print(char, \" is a vowel\")\n",
    "else :\n",
    "    print(char, \" is a consonant\")"
   ]
  },
  {
   "cell_type": "code",
   "execution_count": 70,
   "id": "18f1012e-871d-4b6a-acca-569d39d02d7e",
   "metadata": {},
   "outputs": [],
   "source": [
    "#7.Write a Python program to determine if a user is eligible to vote based on their age using if-else."
   ]
  },
  {
   "cell_type": "code",
   "execution_count": 71,
   "id": "f7f5d535-0250-4f8d-bc5d-c6a4d7377219",
   "metadata": {},
   "outputs": [
    {
     "name": "stdin",
     "output_type": "stream",
     "text": [
      "Enter your age : 18\n"
     ]
    },
    {
     "name": "stdout",
     "output_type": "stream",
     "text": [
      "you are eligible to vote\n"
     ]
    }
   ],
   "source": [
    "age = int(input(\"Enter your age :\"))\n",
    "\n",
    "if age >= 18:\n",
    "    print(f\"you are eligible to vote\")\n",
    "else :\n",
    "    print(f\"you are not eligible to vote\")"
   ]
  },
  {
   "cell_type": "code",
   "execution_count": 72,
   "id": "76e5c13d-cf31-430b-be25-2f379132a695",
   "metadata": {},
   "outputs": [],
   "source": [
    "#8.Create a Python program that calculates the discount amount based on the purchase amount using if-else."
   ]
  },
  {
   "cell_type": "code",
   "execution_count": 73,
   "id": "a6b818a1-c52f-4cc8-a6df-b798d58f695a",
   "metadata": {},
   "outputs": [
    {
     "name": "stdin",
     "output_type": "stream",
     "text": [
      "Enter the purchase amount : 250\n"
     ]
    },
    {
     "name": "stdout",
     "output_type": "stream",
     "text": [
      " You get a 5% discount of $(discount : .2f)! \n",
      " Your final price after discount is 237.5\n"
     ]
    }
   ],
   "source": [
    "amount = float(input(\"Enter the purchase amount :\"))\n",
    "if amount > 1000:\n",
    "    discount = amount * 0.20\n",
    "    print(f\" You get a 20% discount of $(discount : .2f)!\")\n",
    "elif amount > 500 :\n",
    "    discount = amount * 0.10 \n",
    "    print(f\" You get a 10% discount of $(discount : .2f)!\")\n",
    "elif amount > 100 :\n",
    "    discount = amount * 0.05\n",
    "    print(f\" You get a 5% discount of $(discount : .2f)! \")\n",
    "else :\n",
    "    discount = 0 \n",
    "    print(f\" No discount for purchase below $100.\")\n",
    "\n",
    "final_price = amount - discount\n",
    "print(f\" Your final price after discount is {final_price}\")"
   ]
  },
  {
   "cell_type": "code",
   "execution_count": 74,
   "id": "c5d9907a-82cb-41a1-9409-01e23f66fcf0",
   "metadata": {},
   "outputs": [],
   "source": [
    "#9.Write a Python program to check if a number is within a specified range using if-else."
   ]
  },
  {
   "cell_type": "code",
   "execution_count": 76,
   "id": "c6b25e26-c948-4c97-9d8f-8bcf9d990739",
   "metadata": {},
   "outputs": [
    {
     "name": "stdin",
     "output_type": "stream",
     "text": [
      "Enter a number : 22\n",
      "Enter the lower limit of the range : 10\n",
      "Enter the upper limit of the range : 100\n"
     ]
    },
    {
     "name": "stdout",
     "output_type": "stream",
     "text": [
      "The number 22.0 is within the range 10.0 to 100.0\n"
     ]
    }
   ],
   "source": [
    "# Get the number from the user\n",
    "number = float(input(\"Enter a number :\"))\n",
    "\n",
    "# Specify the range \n",
    "lower_limit = float(input(\"Enter the lower limit of the range :\"))\n",
    "upper_limit = float(input(\"Enter the upper limit of the range :\"))\n",
    "\n",
    "# Check if the number is within the range \n",
    "if lower_limit <= number <= upper_limit :\n",
    "    print(f\"The number {number} is within the range {lower_limit} to {upper_limit}\")\n",
    "else :\n",
    "    print(f\" The number {number} is not within the range {lower_limit} to {upper_limit}\")"
   ]
  },
  {
   "cell_type": "code",
   "execution_count": 77,
   "id": "871165dc-ae38-4188-ae25-031b6d68d305",
   "metadata": {},
   "outputs": [],
   "source": [
    "#10.Create a Python program that determines the grade of a student based on their score using if-else."
   ]
  },
  {
   "cell_type": "code",
   "execution_count": 80,
   "id": "c8804ffb-d9bf-41d1-ab7f-2f458653bd0a",
   "metadata": {},
   "outputs": [
    {
     "name": "stdin",
     "output_type": "stream",
     "text": [
      "Enter the student's score (0-100) : 85\n"
     ]
    },
    {
     "name": "stdout",
     "output_type": "stream",
     "text": [
      "The student's grade is : B\n"
     ]
    }
   ],
   "source": [
    "score = float(input(\"Enter the student's score (0-100) :\"))\n",
    "if score >= 90 :\n",
    "    grade = 'A'\n",
    "elif score >= 80:\n",
    "    grade = 'B'\n",
    "elif score >= 70:\n",
    "    grade = 'C'\n",
    "elif score >= 60:\n",
    "    grade = 'D'\n",
    "elif score >=50:\n",
    "    grade = 'E'\n",
    "else :\n",
    "    grade = 'F'\n",
    "print(f\"The student's grade is : {grade}\")    "
   ]
  },
  {
   "cell_type": "code",
   "execution_count": 81,
   "id": "be1b2b71-409a-4a22-945f-45ea5de78a37",
   "metadata": {},
   "outputs": [],
   "source": [
    "#11.Write a Python program to check if a string is empty or not using if-else."
   ]
  },
  {
   "cell_type": "code",
   "execution_count": 82,
   "id": "4b1c33e5-d33f-43a7-b4a4-12edee921732",
   "metadata": {},
   "outputs": [
    {
     "name": "stdin",
     "output_type": "stream",
     "text": [
      "Enter a string : \n"
     ]
    },
    {
     "name": "stdout",
     "output_type": "stream",
     "text": [
      "The string is empty\n"
     ]
    }
   ],
   "source": [
    "#Get the string from the user\n",
    "user_string = input(\"Enter a string :\")\n",
    "\n",
    "#Check if the string is empty based on its length\n",
    "if len(user_string) == 0:\n",
    "    print(\"The string is empty\")\n",
    "else :\n",
    "    print(\"The string is not empty\")"
   ]
  },
  {
   "cell_type": "code",
   "execution_count": 83,
   "id": "1771dc86-3bec-46dd-b4a0-34a4aa51db9f",
   "metadata": {},
   "outputs": [],
   "source": [
    "#12.Create a Python that identifies the type of a triangle (e.g., equilateral, isosceles, or scalene) based on input values using if-else."
   ]
  },
  {
   "cell_type": "code",
   "execution_count": 84,
   "id": "cbca1a61-de1d-47ce-b7eb-1709a12ed277",
   "metadata": {},
   "outputs": [
    {
     "name": "stdout",
     "output_type": "stream",
     "text": [
      "isosceles\n"
     ]
    }
   ],
   "source": [
    "ang1 , ang2 , ang3 = 90, 45, 45\n",
    "if ang1 + ang2 + ang3  == 180:\n",
    "    if ang1 == ang2 and ang2 == ang3 :\n",
    "        print(f\"Equilateral\")\n",
    "    elif ang1 == ang2  or ang2 == ang3:\n",
    "        print(f\"isosceles\")\n",
    "    else :\n",
    "        print(f\"scalene\")\n",
    "else :\n",
    "    print(f\"sum of angles is < 180. so, it can't form a triangle\")"
   ]
  },
  {
   "cell_type": "code",
   "execution_count": 85,
   "id": "ae508074-6369-4d7c-a753-98120a955d7c",
   "metadata": {},
   "outputs": [],
   "source": [
    "#13.Write a Python program to determine the day of the week based on a user-provided number using if-else."
   ]
  },
  {
   "cell_type": "code",
   "execution_count": 86,
   "id": "4c906516-016b-4cf7-9ba4-325532b7f488",
   "metadata": {},
   "outputs": [
    {
     "name": "stdin",
     "output_type": "stream",
     "text": [
      "Enter day number : 2\n"
     ]
    },
    {
     "name": "stdout",
     "output_type": "stream",
     "text": [
      "Tuesday\n"
     ]
    }
   ],
   "source": [
    "day_num = int(input(\"Enter day number :\"))\n",
    "if day_num == 1 :\n",
    "    print(f\"Monday\")\n",
    "elif day_num == 2 :\n",
    "    print(f\"Tuesday\")\n",
    "elif day_num == 3 :\n",
    "    print(f\"Wednesday\")\n",
    "elif day_num == 4 :\n",
    "    print(f\"Thursday\")\n",
    "elif day_num == 5 :\n",
    "    print(f\"Friday\")\n",
    "elif day_num == 6:\n",
    "    print(f\"Saturday\")\n",
    "else :\n",
    "    print(f\"Sunday\")"
   ]
  },
  {
   "cell_type": "code",
   "execution_count": 87,
   "id": "34d61e03-737a-416a-9142-7c5d41d99a6c",
   "metadata": {},
   "outputs": [],
   "source": [
    "#14.Create a Python program that checks if a given year is a leap year using both if-else and a function."
   ]
  },
  {
   "cell_type": "code",
   "execution_count": 88,
   "id": "0a77f2a2-54df-4d4e-8dd5-5e7647831204",
   "metadata": {},
   "outputs": [
    {
     "name": "stdin",
     "output_type": "stream",
     "text": [
      "Enter a year to check leap year : 2018\n"
     ]
    },
    {
     "name": "stdout",
     "output_type": "stream",
     "text": [
      "2018 is not leap year \n"
     ]
    }
   ],
   "source": [
    "year = int(input(\"Enter a year to check leap year :\"))\n",
    "\n",
    "if (year%4 == 0 and year%100 != 0 ) or (year%400 == 0):\n",
    "    print(f\"{year} is leap year \")\n",
    "else :\n",
    "    print(f\"{year} is not leap year \")"
   ]
  },
  {
   "cell_type": "code",
   "execution_count": 89,
   "id": "7f3ccffa-99e7-4a55-b70d-36a1f79aac1d",
   "metadata": {},
   "outputs": [],
   "source": [
    "#15.How do you use the \"assert\" statement in Python to add debugging checks within if-else blocks?"
   ]
  },
  {
   "cell_type": "code",
   "execution_count": 90,
   "id": "a69bb1d3-4913-4f89-810d-aa85ef888eb8",
   "metadata": {},
   "outputs": [
    {
     "name": "stdin",
     "output_type": "stream",
     "text": [
      "Enter a number between 1 to 10 : 5\n"
     ]
    },
    {
     "name": "stdout",
     "output_type": "stream",
     "text": [
      "The number is 5 or less \n"
     ]
    }
   ],
   "source": [
    "'''assert keyword os used for debugging purpose.\n",
    "This will validate condition and if false it raise an exception AssertionError\n",
    "'''\n",
    "\n",
    "x = int(input(\"Enter a number between 1 to 10 :\"))\n",
    "\n",
    "if x > 5 :\n",
    "    # Check that the number is indeed greater than 5\n",
    "    assert x > 5 , \"Number is not greater than 5 \"\n",
    "    print(\"The number is greater than 5 \")\n",
    "    \n",
    "else :\n",
    "    # Check that the number is 5 or less\n",
    "    assert x <= 5 , \"Number is greater than 5 \"\n",
    "    print(\"The number is 5 or less \")"
   ]
  },
  {
   "cell_type": "code",
   "execution_count": 91,
   "id": "a09153ec-0a0c-4aea-b8af-7e9b756f8912",
   "metadata": {},
   "outputs": [],
   "source": [
    "#16.Create a Python program that determines the eligibility of a person for a senior citizen discount based on age using if-else."
   ]
  },
  {
   "cell_type": "code",
   "execution_count": 92,
   "id": "caa9a7ca-551e-4c2b-b7b4-54e52e098625",
   "metadata": {},
   "outputs": [
    {
     "name": "stdin",
     "output_type": "stream",
     "text": [
      "Enter your age : 25\n"
     ]
    },
    {
     "name": "stdout",
     "output_type": "stream",
     "text": [
      "You are not eligible for senior citizen discount\n"
     ]
    }
   ],
   "source": [
    "age = int(input(\"Enter your age :\"))\n",
    "senior_citizen = 60\n",
    "if age >= senior_citizen:\n",
    "    print(f\"You are eligible for senior citizen discount\")\n",
    "else :\n",
    "    print(f\"You are not eligible for senior citizen discount\")"
   ]
  },
  {
   "cell_type": "code",
   "execution_count": 93,
   "id": "81458acd-a87b-400b-b838-a7260f4eeb09",
   "metadata": {},
   "outputs": [],
   "source": [
    "#17.Write a Python program to categorize a given character as uppercase, lowercase, or neither using if-else."
   ]
  },
  {
   "cell_type": "code",
   "execution_count": 94,
   "id": "a0dab6fc-421f-4604-b34e-0082d57c6eaa",
   "metadata": {},
   "outputs": [
    {
     "name": "stdin",
     "output_type": "stream",
     "text": [
      "Enter a single character : s\n"
     ]
    },
    {
     "name": "stdout",
     "output_type": "stream",
     "text": [
      "The character 's' is a lowercase letter\n"
     ]
    }
   ],
   "source": [
    "char = input(\"Enter a single character :\")\n",
    "if char.isupper():\n",
    "    print(f\"The character '{char}' is an uppercase letter\")\n",
    "elif char.islower():\n",
    "    print(f\"The character '{char}' is a lowercase letter\")\n",
    "else :\n",
    "    print(f\"The character '{char}' is a neither.\")\n",
    "    "
   ]
  },
  {
   "cell_type": "code",
   "execution_count": 95,
   "id": "a340e9fa-2b89-4a16-bae5-f82266aea85f",
   "metadata": {},
   "outputs": [],
   "source": [
    "#18.Write a Python program to determine the roots of a quadratic equation using if-else."
   ]
  },
  {
   "cell_type": "code",
   "execution_count": 96,
   "id": "e5190981-f53b-431b-96ec-baf01ef58a77",
   "metadata": {},
   "outputs": [
    {
     "name": "stdin",
     "output_type": "stream",
     "text": [
      "Enter the coefficient of a : 8746\n",
      "Enter the coefficient of b : 6884\n",
      "Enter the coefficient of c : 354\n"
     ]
    },
    {
     "name": "stdout",
     "output_type": "stream",
     "text": [
      "Two distinct real roots : root1 : -4230822.897611069 and root2 : -55976641.10238893\n"
     ]
    }
   ],
   "source": [
    "# ax^2 + bx + c = 0\n",
    "from math import sqrt\n",
    "a = float(input(\"Enter the coefficient of a :\"))\n",
    "b = float(input(\"Enter the coefficient of b :\"))\n",
    "c = float(input(\"Enter the coefficient of c :\"))\n",
    "\n",
    "discriminant = b**2 - 4*a*c\n",
    "\n",
    "#Determine the nature of roots and calculate them \n",
    "if discriminant > 0:\n",
    "    d = sqrt(discriminant)\n",
    "    root1, root2 = (-b + d) / 2*a , (-b - d) / 2*a\n",
    "    print(f\"Two distinct real roots : root1 : {root1} and root2 : {root2}\")\n",
    "\n",
    "elif discriminant == 0:\n",
    "    root = -b / (2*a)\n",
    "    print(f\"One real root : {root}\")\n",
    "    \n",
    "else :\n",
    "    print(\"The roots are complex (not real)\")\n",
    "    "
   ]
  },
  {
   "cell_type": "code",
   "execution_count": 97,
   "id": "fe8d0738-4f7b-4e7a-8c3c-967a90205275",
   "metadata": {},
   "outputs": [],
   "source": [
    "#19.Create a python program that checks if a given year is a century year or not using if-else."
   ]
  },
  {
   "cell_type": "code",
   "execution_count": 98,
   "id": "ad49e0c3-4947-43bf-aca3-8ba5111fd379",
   "metadata": {},
   "outputs": [
    {
     "name": "stdin",
     "output_type": "stream",
     "text": [
      "Enter a year : 2000\n"
     ]
    },
    {
     "name": "stdout",
     "output_type": "stream",
     "text": [
      "2000 is a century year\n"
     ]
    }
   ],
   "source": [
    "year = int(input(\"Enter a year :\"))\n",
    "if year % 100  == 0 :\n",
    "    print(f\"{year} is a century year\")\n",
    "else :\n",
    "    print(f\"{year} is not a century year\")"
   ]
  },
  {
   "cell_type": "code",
   "execution_count": 99,
   "id": "03cfeaf1-ab6c-4b5d-a45c-6de6d3055cb4",
   "metadata": {},
   "outputs": [],
   "source": [
    "#20.Write a Python program to determine if a given number is a perfect square using if-else."
   ]
  },
  {
   "cell_type": "code",
   "execution_count": 100,
   "id": "1710e572-7d9e-4c39-8409-3ae8cfdd77b5",
   "metadata": {},
   "outputs": [
    {
     "name": "stdin",
     "output_type": "stream",
     "text": [
      "Enter a number : 42\n"
     ]
    },
    {
     "name": "stdout",
     "output_type": "stream",
     "text": [
      "42 is not a perfect square\n"
     ]
    }
   ],
   "source": [
    "num = int(input(\"Enter a number :\"))\n",
    "sqrt = num**0.5\n",
    "if round(sqrt)**2  == num :\n",
    "    print(f\"{num} is a perfect square\")\n",
    "else :\n",
    "    print(f\"{num} is not a perfect square\")"
   ]
  },
  {
   "cell_type": "code",
   "execution_count": 101,
   "id": "f2eea0f9-3701-4843-980b-f52798f0aa81",
   "metadata": {},
   "outputs": [],
   "source": [
    "#21.Explain the purpose of the \"continue\" and \"break\" statements within if-else loops."
   ]
  },
  {
   "cell_type": "code",
   "execution_count": 102,
   "id": "baacee25-63a9-4a5b-a49b-cfe6289ca78c",
   "metadata": {},
   "outputs": [
    {
     "name": "stdout",
     "output_type": "stream",
     "text": [
      "0\n",
      "1\n",
      "2\n",
      "\n",
      "\n",
      "0\n",
      "1\n",
      "2\n",
      "4\n"
     ]
    }
   ],
   "source": [
    "'''\n",
    "break  is used to exit a loop completely.\n",
    "continue is used to skip the current iteration and proceed to the next one.\\\n",
    "when a break statement is encountered inside a loop,\n",
    "the loop terminates immmediately, and program control proceeds to the next statement following the loop.\n",
    "'''\n",
    "\n",
    "for i in range(5):\n",
    "    if i == 3:\n",
    "        break\n",
    "    print(i) # In the above code, the breaks when i equals 3, so numbers after 2 are not printed.\n",
    "    \n",
    "\n",
    "'''\n",
    "when a continue statement is encountered inside a loop,\n",
    "the currrent iteration of the loop is terminated immediately, and the loop's next iteration begins.\n",
    "'''\n",
    "print(\"\\n\")\n",
    "for i in range(5):\n",
    "    if i == 3:\n",
    "        continue\n",
    "    print(i) # In the above code, when i equals 3, the print(i) statement is skipped due to the continue statement, but the loop continues with the next iteration."
   ]
  },
  {
   "cell_type": "code",
   "execution_count": 103,
   "id": "d84c0374-3822-4e22-ac57-3a8e02541056",
   "metadata": {},
   "outputs": [],
   "source": [
    "#22.Create a Python program that calculates the BMI (Body Mass Index)of a person based on their weight and height using if-else."
   ]
  },
  {
   "cell_type": "code",
   "execution_count": 104,
   "id": "3128e9c1-b1cc-4948-a787-cad7277dce3c",
   "metadata": {},
   "outputs": [
    {
     "name": "stdin",
     "output_type": "stream",
     "text": [
      "Enter your weight in kilograms : 47.81\n",
      "Enter your height in meters : 165\n"
     ]
    },
    {
     "name": "stdout",
     "output_type": "stream",
     "text": [
      "Your BMI is  0.00. You are classified as underweight.\n"
     ]
    }
   ],
   "source": [
    "weight = float(input(\"Enter your weight in kilograms :\"))\n",
    "height = float(input(\"Enter your height in meters :\"))\n",
    "bmi = weight / (height**2)\n",
    "\n",
    "if bmi < 18.5 :\n",
    "    print(f\"Your BMI is {bmi : .2f}. You are classified as underweight.\")\n",
    "elif 18.5 <= bmi < 25 :\n",
    "    print(f\"Your BMI is {bmi : .2f}. You are classified as Normal weight.\")\n",
    "elif 25 <= bmi < 30 :\n",
    "    print(f\"Your BMI is {bmi : .2f}. You are classified as overweight.\")\n",
    "else :\n",
    "    print(f\"Your BMI is {bmi : .2f}. You are classified as obesity.\")"
   ]
  },
  {
   "cell_type": "code",
   "execution_count": 105,
   "id": "4852a826-ae97-4a16-84d3-7f8f0785534e",
   "metadata": {},
   "outputs": [],
   "source": [
    "#23.How can you use the \"filter()\" function with if-else statements to filter elements from a list?"
   ]
  },
  {
   "cell_type": "code",
   "execution_count": 106,
   "id": "4335f254-992b-4eb3-8200-509bfc9e20c6",
   "metadata": {},
   "outputs": [
    {
     "data": {
      "text/plain": [
       "[0, 18, 50, 100]"
      ]
     },
     "execution_count": 106,
     "metadata": {},
     "output_type": "execute_result"
    }
   ],
   "source": [
    "'''\n",
    "filter() is inbuilt function, which used to filter the data by passing function with data.\n",
    "When the function condition is true it will filter the data.\n",
    "\n",
    "General systax : filter(function, data)\n",
    "\n",
    "Example:\n",
    "'''\n",
    "def check_even(num : list):\n",
    "    if num % 2 == 0:\n",
    "        return True\n",
    "    \n",
    "data = [0, 23, 11 ,18 , 50, 100]\n",
    "list(filter(check_even, data))"
   ]
  },
  {
   "cell_type": "code",
   "execution_count": 107,
   "id": "bd1ec924-c638-481a-bc58-8160ef6ec2f6",
   "metadata": {},
   "outputs": [],
   "source": [
    "#24.Write a Python program to determine if a given number is prime or not using if-else."
   ]
  },
  {
   "cell_type": "code",
   "execution_count": 108,
   "id": "66a0f8fc-57cc-4ac3-9765-3ada97e803f8",
   "metadata": {},
   "outputs": [
    {
     "name": "stdin",
     "output_type": "stream",
     "text": [
      "Enter the number : 12\n"
     ]
    },
    {
     "name": "stdout",
     "output_type": "stream",
     "text": [
      "12 is not a prime number\n"
     ]
    }
   ],
   "source": [
    "num = int(input(\"Enter the number :\"))\n",
    "if num < 2 :\n",
    "    print(f\"{num} is not a prime number\")\n",
    "else :\n",
    "    is_prime = True \n",
    "    for i in range(2, num):\n",
    "        if num % i == 0:\n",
    "            is_prime = False \n",
    "            break\n",
    "    if is_prime:\n",
    "        print(f\"{num} is a prime number\")\n",
    "    else :\n",
    "        print(f\"{num} is not a prime number\")"
   ]
  },
  {
   "cell_type": "code",
   "execution_count": null,
   "id": "3d3b5d4b-f131-42af-967c-c83ebc11e146",
   "metadata": {},
   "outputs": [],
   "source": [
    "Map :-"
   ]
  },
  {
   "cell_type": "code",
   "execution_count": 109,
   "id": "a65ba130-fc0d-499a-990c-a1e3f58d8d39",
   "metadata": {},
   "outputs": [],
   "source": [
    "#1.Explain the purpose of the 'map()' function in Python and provide an example of how it can be used to apply a function to each element of an iterable."
   ]
  },
  {
   "cell_type": "code",
   "execution_count": 110,
   "id": "31bc7b20-ff69-43dd-ad49-66523e773742",
   "metadata": {},
   "outputs": [
    {
     "data": {
      "text/plain": [
       "[5, 6, 7, 8, 9, 10]"
      ]
     },
     "execution_count": 110,
     "metadata": {},
     "output_type": "execute_result"
    }
   ],
   "source": [
    "l = [0, 1, 2, 3, 4, 5]\n",
    "k = 5\n",
    "list(map(lambda x : x+k , l))"
   ]
  },
  {
   "cell_type": "code",
   "execution_count": 112,
   "id": "df611d84-28c4-4b58-a7b9-902da1121add",
   "metadata": {},
   "outputs": [],
   "source": [
    "#2.Write a Python program that uses the 'map()' function to square each element of a list of numbers."
   ]
  },
  {
   "cell_type": "code",
   "execution_count": 113,
   "id": "83315d1f-39b8-48ca-b6ad-c9ddd7a603d3",
   "metadata": {},
   "outputs": [
    {
     "name": "stdout",
     "output_type": "stream",
     "text": [
      "Square of list of elements : [0, 1, 4, 9, 16, 25]\n"
     ]
    }
   ],
   "source": [
    "def square(x):\n",
    "    return x**2 \n",
    "    \n",
    "number_list = [0,1,2,3,4,5]\n",
    "square_list = list(map(square, number_list))\n",
    "\n",
    "print(f\"Square of list of elements : {square_list}\")"
   ]
  },
  {
   "cell_type": "code",
   "execution_count": 114,
   "id": "ce5105d7-2a87-4439-9420-19765e671447",
   "metadata": {},
   "outputs": [],
   "source": [
    "#3.How does the 'map()' function differ from a list comprehension in Python, and when would you choose one over the other?"
   ]
  },
  {
   "cell_type": "code",
   "execution_count": 115,
   "id": "3e425046-ed22-46ec-9656-b1399cbbec95",
   "metadata": {},
   "outputs": [
    {
     "name": "stdout",
     "output_type": "stream",
     "text": [
      "Using map() to print square of even numbers:\n",
      "[4, 16, 36]\n",
      "\n",
      "Using list comprehension to print square of even numbers:\n",
      "[4, 16, 36]\n"
     ]
    }
   ],
   "source": [
    "'''\n",
    "The map() function and list comprehension are both tools in python for generating lists through some form of transformation or filtering.\n",
    "However, they have different syntactical and functional characteristics.\n",
    "'''\n",
    "\n",
    "#Certainly! Let's consider a simple example where we want to square all even numbers from a given list.\n",
    "\n",
    "#Using map():\n",
    "numbers = [1,2,3,4,5,6,7]\n",
    "squared_evens_map = map(lambda x : x**2 , filter(lambda x : x%2 == 0, numbers))\n",
    "print(f\"Using map() to print square of even numbers:\")\n",
    "print(list(squared_evens_map))\n",
    "\n",
    "#Using list comprehension \n",
    "squared_even_list_comp = [x**2 for x in numbers if x%2 == 0]\n",
    "print(\"\\nUsing list comprehension to print square of even numbers:\")\n",
    "print(squared_even_list_comp)  #output: [4, 16, 36]"
   ]
  },
  {
   "cell_type": "code",
   "execution_count": 116,
   "id": "3becb318-effa-45d9-ab3f-032ea43370c1",
   "metadata": {},
   "outputs": [],
   "source": [
    "#4.Create a Python program that uses the 'map()' function to convert a list of names to uppercase."
   ]
  },
  {
   "cell_type": "code",
   "execution_count": 117,
   "id": "05dc028f-96ca-4803-8901-7561fdf2078f",
   "metadata": {},
   "outputs": [
    {
     "name": "stdout",
     "output_type": "stream",
     "text": [
      "list of names to uppercase : ['PYTHON', 'LANGUAGE']\n"
     ]
    }
   ],
   "source": [
    "names_list = ['python', 'language']\n",
    "names_upper = list(map(lambda x : x.upper() , names_list))\n",
    "print(f\"list of names to uppercase : {names_upper}\")"
   ]
  },
  {
   "cell_type": "code",
   "execution_count": 118,
   "id": "102111a3-dacb-4893-a301-fcaf989809ac",
   "metadata": {},
   "outputs": [],
   "source": [
    "#5.Write a Python program that uses the 'map()' function to calculate the length of each word in a list of strings."
   ]
  },
  {
   "cell_type": "code",
   "execution_count": 119,
   "id": "254fc157-060d-400a-ad2b-bf84c6a84dc4",
   "metadata": {},
   "outputs": [
    {
     "name": "stdout",
     "output_type": "stream",
     "text": [
      "list of strings length : [2, 7, 2, 4]\n"
     ]
    }
   ],
   "source": [
    "strings_list = ['pw', 'program', 'is' ,'Good']\n",
    "strings_length = list(map(lambda l : len(l), strings_list))\n",
    "print(f\"list of strings length : {strings_length}\")"
   ]
  },
  {
   "cell_type": "code",
   "execution_count": 120,
   "id": "8a24d151-0707-4e7a-aad8-25c78e14afbd",
   "metadata": {},
   "outputs": [],
   "source": [
    "#6.How can you use the 'map()' function to apply a custom to elements of multiple lists simulataneously in Python?"
   ]
  },
  {
   "cell_type": "code",
   "execution_count": 121,
   "id": "b2c605ab-7170-4095-8aeb-99c61dd6dfd8",
   "metadata": {},
   "outputs": [
    {
     "name": "stdout",
     "output_type": "stream",
     "text": [
      "Resultant list : [5, 7, 10]\n"
     ]
    }
   ],
   "source": [
    "'''\n",
    "map(func, list1 , list2)\n",
    "If see above syntax, there is custom function func which can be applied to the different lists(list1 , list2). maps the functions to the \n",
    "corresponding values of the each list.\n",
    "\n",
    "Example :\n",
    "'''\n",
    "def add_func(list1, list2):\n",
    "    return list1 + list2\n",
    "\n",
    "list1 = [1,2,4]\n",
    "list2 = [4,5,6]\n",
    "result_list = list(map(add_func, list1, list2))\n",
    "print(f\"Resultant list : {result_list}\")"
   ]
  },
  {
   "cell_type": "code",
   "execution_count": 122,
   "id": "8a046abf-2e05-4bbc-89c2-7858f1ed377f",
   "metadata": {},
   "outputs": [],
   "source": [
    "#7.Create a Python program that uses 'map()' to convert a list of temperatures from Celsius to Fahrenheit."
   ]
  },
  {
   "cell_type": "code",
   "execution_count": 123,
   "id": "8825a7fb-b3e8-4b61-aaef-fb3011b0a524",
   "metadata": {},
   "outputs": [
    {
     "name": "stdout",
     "output_type": "stream",
     "text": [
      "Temperature in fareheneit : [50.0, 68.0, 32.0, 122.0]\n"
     ]
    }
   ],
   "source": [
    "def cel_farenheit(celsius):\n",
    "    farenheit = (celsius * (9/5)) + 32\n",
    "    return farenheit\n",
    "\n",
    "c_temp = [10, 20, 0, 50]\n",
    "f_temp = list(map(cel_farenheit, c_temp))\n",
    "print(f\"Temperature in fareheneit : {f_temp}\")"
   ]
  },
  {
   "cell_type": "code",
   "execution_count": 124,
   "id": "9d8bd3fb-b095-433a-870c-502175efdc1b",
   "metadata": {},
   "outputs": [],
   "source": [
    "#8.Write a Python program that uses the 'map()' function to round each element of a list of floating-point numbers to the nearest integers."
   ]
  },
  {
   "cell_type": "code",
   "execution_count": 125,
   "id": "0a77d8fd-046b-437b-9cbf-aeac58ef1d7b",
   "metadata": {},
   "outputs": [
    {
     "name": "stdout",
     "output_type": "stream",
     "text": [
      "Old list : [2.3, 4.6, 9.8, 5.5]\n",
      "New list : [2, 5, 10, 6]\n"
     ]
    }
   ],
   "source": [
    "float_numbers = [2.3, 4.6, 9.8, 5.5]\n",
    "rounded_number = map(round , float_numbers)\n",
    "print(f\"Old list : {float_numbers}\")\n",
    "print(f\"New list : {list(rounded_number)}\")"
   ]
  },
  {
   "cell_type": "code",
   "execution_count": null,
   "id": "06ff7b5f-3ed0-4e15-9172-d342c88b4da4",
   "metadata": {},
   "outputs": [],
   "source": [
    "Reduce :-"
   ]
  },
  {
   "cell_type": "code",
   "execution_count": 127,
   "id": "1117f29f-8f73-4365-811c-4eafd76189e1",
   "metadata": {},
   "outputs": [],
   "source": [
    "#1.What is the 'reduce()' function in python, and what module should you import to use it? Provide an example of its basic usage.\n"
   ]
  },
  {
   "cell_type": "code",
   "execution_count": 128,
   "id": "d19da413-e935-41eb-9f6d-62e9e06b8bf8",
   "metadata": {},
   "outputs": [
    {
     "name": "stdout",
     "output_type": "stream",
     "text": [
      "Reduced the result : 120\n"
     ]
    }
   ],
   "source": [
    "'''\n",
    "The reduce() function is a part of python's functools module.\n",
    "It's used to apply a particular function passed in its argument to all the list elements mentioned in the sequence passed along.\n",
    "Essentially, it continually applies a function to the elements of a sequence, reducing the sequence to a single value.\n",
    "'''\n",
    "from functools import reduce\n",
    "numbers = [1,2,3,4,5]\n",
    "result = reduce((lambda x, y : x*y) , numbers)\n",
    "print(f\"Reduced the result : {result}\")"
   ]
  },
  {
   "cell_type": "code",
   "execution_count": 129,
   "id": "e81c30df-312d-4120-8362-dad27ff70087",
   "metadata": {},
   "outputs": [],
   "source": [
    "#2.Write a Python program that uses the 'reduce()' function to find the product of all elements in a list."
   ]
  },
  {
   "cell_type": "code",
   "execution_count": 130,
   "id": "5515a4f4-6fa2-4c83-baf0-c34909b91794",
   "metadata": {},
   "outputs": [
    {
     "name": "stdout",
     "output_type": "stream",
     "text": [
      "Product of all elements in a list : 120\n"
     ]
    }
   ],
   "source": [
    "l = [2,3,4,5]\n",
    "product_list = reduce((lambda x , y : x*y), l)\n",
    "print(f\"Product of all elements in a list : {product_list}\")"
   ]
  },
  {
   "cell_type": "code",
   "execution_count": 131,
   "id": "b43c72d0-3242-4370-92ba-10c7bb840834",
   "metadata": {},
   "outputs": [],
   "source": [
    "#3.Create a Python program that uses 'reduce()' to find the maximum element in a list of numbers."
   ]
  },
  {
   "cell_type": "code",
   "execution_count": 132,
   "id": "fd96fd8d-6173-4c51-b360-d8cb3bc55c83",
   "metadata": {},
   "outputs": [
    {
     "name": "stdout",
     "output_type": "stream",
     "text": [
      "Maximum element in a list of numbers : 28\n"
     ]
    }
   ],
   "source": [
    "list_number = [23, 6, 13, 0, 28, 11]\n",
    "max_element = reduce((lambda a, b : a if a>b else b), list_number)\n",
    "print(f\"Maximum element in a list of numbers : {max_element}\")"
   ]
  },
  {
   "cell_type": "code",
   "execution_count": 133,
   "id": "66b18056-2dd9-4f2d-99a5-5cde7378254a",
   "metadata": {},
   "outputs": [],
   "source": [
    "#4.How can you use the 'reduce()' function to concatenate a list of strings into a singe string?"
   ]
  },
  {
   "cell_type": "code",
   "execution_count": 134,
   "id": "7df106df-5c8a-428b-9460-b02af9a0f97d",
   "metadata": {},
   "outputs": [
    {
     "name": "stdout",
     "output_type": "stream",
     "text": [
      "Single string : Komal is good girl.\n"
     ]
    }
   ],
   "source": [
    "from functools import reduce\n",
    "l4 = ['Komal' , 'is' , 'good' , 'girl.']\n",
    "single_string = reduce(lambda a , b : a+ \" \" +b, l4)\n",
    "print(f\"Single string : {single_string}\")"
   ]
  },
  {
   "cell_type": "code",
   "execution_count": 135,
   "id": "63aa330f-3edf-4c0a-a7f4-ef3311456970",
   "metadata": {},
   "outputs": [],
   "source": [
    "#5.Write a Python program that calculates the factorial of a number using the 'reduce()' function."
   ]
  },
  {
   "cell_type": "code",
   "execution_count": 136,
   "id": "1eeec45b-e2c4-4aae-8e0d-ac7dca6c6c25",
   "metadata": {},
   "outputs": [
    {
     "name": "stdout",
     "output_type": "stream",
     "text": [
      "Factorial of 6 is : 720\n"
     ]
    }
   ],
   "source": [
    "n = 6\n",
    "fact = reduce(lambda x, y : x*y , range(1, n+1))\n",
    "print(f\"Factorial of {n} is : {fact}\")"
   ]
  },
  {
   "cell_type": "code",
   "execution_count": 137,
   "id": "f9e68311-8beb-401e-8f7b-d579e7626286",
   "metadata": {},
   "outputs": [],
   "source": [
    "#6.Create a Python program that uses 'reduce()' to find the GCD (Greatest Common Divisor) of a list of numbers."
   ]
  },
  {
   "cell_type": "code",
   "execution_count": 138,
   "id": "e9f38709-97ec-44cb-a744-7736a564c42b",
   "metadata": {},
   "outputs": [
    {
     "name": "stdout",
     "output_type": "stream",
     "text": [
      "GCD of a list of numbers : 3\n"
     ]
    }
   ],
   "source": [
    "from functools import reduce\n",
    "import math\n",
    "number = [24, 60, 15]\n",
    "result = reduce(math.gcd, number)\n",
    "print(f\"GCD of a list of numbers : {result}\")"
   ]
  },
  {
   "cell_type": "code",
   "execution_count": 139,
   "id": "bbf5dc76-bf94-4b6d-900a-7fee9c41bafa",
   "metadata": {},
   "outputs": [],
   "source": [
    "#7.Write a Python program that uses the 'reduce()' function to find the sum of the digits of a given number."
   ]
  },
  {
   "cell_type": "code",
   "execution_count": 140,
   "id": "cb6ac51c-838e-4d51-b203-276a96ade951",
   "metadata": {},
   "outputs": [
    {
     "name": "stdout",
     "output_type": "stream",
     "text": [
      "Sum of the digits of a given number : 19\n"
     ]
    }
   ],
   "source": [
    "from functools import reduce\n",
    "num = 23545\n",
    "digits = [int(digit) for digit in str(num)]\n",
    "sum_of_digit  = reduce(lambda x , y : x+y ,digits)\n",
    "print(f\"Sum of the digits of a given number : {sum_of_digit}\")"
   ]
  },
  {
   "cell_type": "code",
   "execution_count": null,
   "id": "0a465b4c-c83b-4e3b-8337-61d1d52c6166",
   "metadata": {},
   "outputs": [],
   "source": [
    "Filter :-"
   ]
  },
  {
   "cell_type": "code",
   "execution_count": 141,
   "id": "8af689bc-dec2-4a25-82fa-1cb5abf22427",
   "metadata": {},
   "outputs": [],
   "source": [
    "#1.Explain the purpose of the 'filter()' function in Python and provide an example of how it can be used to filter elements from an iterable."
   ]
  },
  {
   "cell_type": "code",
   "execution_count": 142,
   "id": "32763267-6cd9-4df6-889f-77d1cf1bbf5b",
   "metadata": {},
   "outputs": [
    {
     "name": "stdout",
     "output_type": "stream",
     "text": [
      "Filter even number from list : [2, 4]\n"
     ]
    }
   ],
   "source": [
    "'''\n",
    "The filter() function in python is used to filter the elements of an iterable based on a function that tests each element in the iterable\n",
    "to be true or not. The function returns an iterator from the elements of the iterable for which the function returns true.\n",
    "\n",
    "In simpler terms, filter(function, iterable) will return all items from the iterable for which the function returns true.\n",
    "\n",
    "Example :\n",
    "\n",
    "let's say you have a list of numbers and you want to filter out only the even numbers.\n",
    "'''\n",
    "number = [1,2,3,4,5]\n",
    "def even_num(n):\n",
    "    return n % 2 == 0\n",
    "\n",
    "even_number = filter(even_num ,number)\n",
    "print(f\"Filter even number from list : {list(even_number)}\")"
   ]
  },
  {
   "cell_type": "code",
   "execution_count": 143,
   "id": "d4b3ac42-1d59-4a8a-9e31-07e9b6392529",
   "metadata": {},
   "outputs": [],
   "source": [
    "#2.Write a Python program that uses the 'filter()' function to select even numbers from a list of integers."
   ]
  },
  {
   "cell_type": "code",
   "execution_count": 144,
   "id": "9e180773-9449-485d-8742-27a827f2a968",
   "metadata": {},
   "outputs": [
    {
     "name": "stdout",
     "output_type": "stream",
     "text": [
      "Using filter() to select even numbers from a list of integers : [2, 4, 56]\n"
     ]
    }
   ],
   "source": [
    "n = [1,2,3,4,5,56,73]\n",
    "even_number = filter(lambda x : x % 2 == 0 , n)\n",
    "print(f\"Using filter() to select even numbers from a list of integers : {list(even_number)}\")"
   ]
  },
  {
   "cell_type": "code",
   "execution_count": 145,
   "id": "85d19abe-65bf-43f9-b660-10ed6b6dff42",
   "metadata": {},
   "outputs": [],
   "source": [
    "#3.Create a Python program that uses the 'filter()' function to select names that start with a specific letter from a list of strings."
   ]
  },
  {
   "cell_type": "code",
   "execution_count": 146,
   "id": "d9c77ce7-647f-45d0-9473-572bcbda5582",
   "metadata": {},
   "outputs": [
    {
     "name": "stdout",
     "output_type": "stream",
     "text": [
      "['add', 'all', 'at']\n"
     ]
    }
   ],
   "source": [
    "list_3 = ['add' , 'all', 'python' , 'select' , 'at']\n",
    "select_name = filter(lambda x : x[0] == 'a' , list_3)\n",
    "print(list(select_name))"
   ]
  },
  {
   "cell_type": "code",
   "execution_count": 147,
   "id": "c5724924-65c6-4805-9545-08101cde5d57",
   "metadata": {},
   "outputs": [],
   "source": [
    "#4.Write a Python program that uses the 'filter()' function to select prime numbers from a list of integers."
   ]
  },
  {
   "cell_type": "code",
   "execution_count": 148,
   "id": "23b2385f-7b77-4e16-a9ef-838e4eec7b93",
   "metadata": {},
   "outputs": [
    {
     "name": "stdout",
     "output_type": "stream",
     "text": [
      "[2, 3, 5, 11]\n"
     ]
    }
   ],
   "source": [
    "list_4 = [1,2,4,3,5,6,65,11,88]\n",
    "prime_numbers  = filter(lambda n : n>1 and all(n % i != 0 for i in range(2, int(n**0.5) + 1)), list_4)\n",
    "print(list(prime_numbers))"
   ]
  },
  {
   "cell_type": "code",
   "execution_count": 149,
   "id": "55426ad4-7092-461b-b81e-49f6fc35efef",
   "metadata": {},
   "outputs": [],
   "source": [
    "#5.How can you use the 'filter()' function to remove None values from a list in Python?"
   ]
  },
  {
   "cell_type": "code",
   "execution_count": 150,
   "id": "cc6ef1fd-45a2-40a5-829d-99c2991b153f",
   "metadata": {},
   "outputs": [
    {
     "name": "stdout",
     "output_type": "stream",
     "text": [
      "List without none values : [1, 2, 4, 6, 76, 'str']\n"
     ]
    }
   ],
   "source": [
    "list_5 = [1, None, 2,4,6,76,'str']\n",
    "remove_none_value = list(filter(lambda x : x != None , list_5))\n",
    "print(f\"List without none values : {remove_none_value}\")"
   ]
  },
  {
   "cell_type": "code",
   "execution_count": 151,
   "id": "45a4b288-832a-4bdc-971b-74d7c61f98cd",
   "metadata": {},
   "outputs": [],
   "source": [
    "#6.Create a Python program that uses 'filter()' to select words longer than a certain length from a list of strings."
   ]
  },
  {
   "cell_type": "code",
   "execution_count": 152,
   "id": "75b8fc6d-9cba-4f4c-b30b-598787ffd357",
   "metadata": {},
   "outputs": [
    {
     "name": "stdout",
     "output_type": "stream",
     "text": [
      "['filter', 'function', 'python']\n"
     ]
    }
   ],
   "source": [
    "list_6 = ['that', 'use', 'filter','function', 'in' ,'python']\n",
    "select_word_len = list(filter(lambda x : len(x)>5 , list_6))\n",
    "print(select_word_len)"
   ]
  },
  {
   "cell_type": "code",
   "execution_count": 153,
   "id": "8de57baf-55cb-49df-af6a-b56be3fb4234",
   "metadata": {},
   "outputs": [],
   "source": [
    "#7.Write a Python program that uses the 'filter()' function to select elements greater than a specified threshold from a list of values."
   ]
  },
  {
   "cell_type": "code",
   "execution_count": 154,
   "id": "dfd1bd76-39b4-481e-97ed-af1cb09b42b1",
   "metadata": {},
   "outputs": [
    {
     "name": "stdout",
     "output_type": "stream",
     "text": [
      "[50, 34]\n"
     ]
    }
   ],
   "source": [
    "list_7 = [10, 23 ,20, 50, 12 , 34]\n",
    "threshold = 23\n",
    "greater_value = list(filter(lambda x : x>threshold , list_7))\n",
    "print(greater_value)"
   ]
  },
  {
   "cell_type": "code",
   "execution_count": null,
   "id": "a9371661-83ef-4f1f-b9ee-76a1a100bf3b",
   "metadata": {},
   "outputs": [],
   "source": [
    "Recursion :-"
   ]
  },
  {
   "cell_type": "code",
   "execution_count": 155,
   "id": "f932c037-92e2-45e0-add0-775dd0f9e52b",
   "metadata": {},
   "outputs": [],
   "source": [
    "#1.Explain the concept of recursion in Python. How does it differ from iteration?"
   ]
  },
  {
   "cell_type": "code",
   "execution_count": 156,
   "id": "1fd06c5a-e8c5-4b50-b66d-dcbd921254c1",
   "metadata": {},
   "outputs": [
    {
     "name": "stdout",
     "output_type": "stream",
     "text": [
      "5040\n"
     ]
    }
   ],
   "source": [
    "'''\n",
    "recursion is a programming technique where a function calls itself, either directly or indirectly, in order to solve a larger problem by \n",
    "breaking it down into smaller, more manageable sub-problems.\n",
    "It's often used for tasks that can be defined in terms of similar, simpler sub-tasks, like the classic examples of computing\n",
    "factorials  or Fibonacci numbers.\n",
    "'''\n",
    "def fact_recursive(n):\n",
    "    if n == 0:\n",
    "        return 1 \n",
    "    else :\n",
    "        return n * fact_recursive( n - 1)\n",
    "print(fact_recursive(7))"
   ]
  },
  {
   "cell_type": "code",
   "execution_count": 157,
   "id": "a231003a-9ed0-47de-b7a0-a71af2d3f273",
   "metadata": {},
   "outputs": [],
   "source": [
    "#2.Write a Python program to calculate the factorial of a number using recursion."
   ]
  },
  {
   "cell_type": "code",
   "execution_count": 158,
   "id": "d26859df-8975-4529-8f6d-c2e7a13b0a81",
   "metadata": {},
   "outputs": [
    {
     "name": "stdout",
     "output_type": "stream",
     "text": [
      "120\n"
     ]
    }
   ],
   "source": [
    "def fact_recursive(n):\n",
    "    if n == 0 :\n",
    "        return 1 \n",
    "    else :\n",
    "        return n * fact_recursive( n - 1)\n",
    "    \n",
    "print(fact_recursive(5))"
   ]
  },
  {
   "cell_type": "code",
   "execution_count": 160,
   "id": "d7945579-a973-4b04-9484-d346d4c9b847",
   "metadata": {},
   "outputs": [],
   "source": [
    "#3.Create a recursive Python function to find the nth Fibonacci number."
   ]
  },
  {
   "cell_type": "code",
   "execution_count": 161,
   "id": "6b352c47-97ef-4569-9b1c-a09e332a90e4",
   "metadata": {},
   "outputs": [
    {
     "data": {
      "text/plain": [
       "13"
      ]
     },
     "execution_count": 161,
     "metadata": {},
     "output_type": "execute_result"
    }
   ],
   "source": [
    "def fib(n):\n",
    "    if n <= 0:\n",
    "        return 0\n",
    "    elif n == 1 :\n",
    "        return 1\n",
    "    else :\n",
    "        return fib(n-2) + fib(n-1)\n",
    "    \n",
    "fib(7)"
   ]
  },
  {
   "cell_type": "code",
   "execution_count": 162,
   "id": "5ef9a88d-f96b-483b-aab3-908579f79359",
   "metadata": {},
   "outputs": [],
   "source": [
    "#4.Write a recursive Python Function to calculate the sum of all elements in a list."
   ]
  },
  {
   "cell_type": "code",
   "execution_count": 163,
   "id": "0b0b59c9-03ce-46f2-9223-8f041e3611ad",
   "metadata": {},
   "outputs": [
    {
     "name": "stdout",
     "output_type": "stream",
     "text": [
      "Sum of the list : 28\n"
     ]
    }
   ],
   "source": [
    "def recursive_sum(l):\n",
    "    if not l :\n",
    "        return 0 \n",
    "    return l[0] + recursive_sum(l[1:])\n",
    "\n",
    "# Test the function \n",
    "numbers = [1,2,3,4,5,6,7]\n",
    "print(f\"Sum of the list : {recursive_sum(numbers)}\")"
   ]
  },
  {
   "cell_type": "code",
   "execution_count": 164,
   "id": "8fae236a-6ca0-4a83-b84b-857f9fd0be8c",
   "metadata": {},
   "outputs": [],
   "source": [
    "#5. How can you prevent a recursive function from running indefinitely, causing a stack overflow error?"
   ]
  },
  {
   "cell_type": "code",
   "execution_count": 165,
   "id": "96861716-876b-44df-acde-8b9e19209360",
   "metadata": {},
   "outputs": [
    {
     "data": {
      "text/plain": [
       "13"
      ]
     },
     "execution_count": 165,
     "metadata": {},
     "output_type": "execute_result"
    }
   ],
   "source": [
    "'''\n",
    "Its important to write the base form for the recursion, otherwise there will be chance that recursion running forever.\n",
    "'''\n",
    "def fibonacci(n):\n",
    "    if n <= 1 :\n",
    "        return n \n",
    "    return fibonacci(n-2) + fibonacci(n-1)\n",
    "\n",
    "fibonacci(7) \n",
    "# For fibonacci(7), this function would make multiple redundant calls, which makes it highly inefficient for larger n."
   ]
  },
  {
   "cell_type": "code",
   "execution_count": 166,
   "id": "caf09b06-244a-449e-98e0-72071dd7b234",
   "metadata": {},
   "outputs": [],
   "source": [
    "#6.Create a recursive Python function to find the greatest common divisor (GCD) of two numbers using the Euclidean algorithm."
   ]
  },
  {
   "cell_type": "code",
   "execution_count": 167,
   "id": "3be072c7-ba92-413c-b08e-cdbde838272d",
   "metadata": {},
   "outputs": [
    {
     "name": "stdout",
     "output_type": "stream",
     "text": [
      "GCD of 12 and 48 is : 12 \n"
     ]
    }
   ],
   "source": [
    "def gcd(n1 , n2):\n",
    "    if n2 == 0:\n",
    "        return n1\n",
    "    return gcd(n2, n1%n2)\n",
    "\n",
    "a = 12\n",
    "b = 48\n",
    "print(f\"GCD of {a} and {b} is : {gcd(a, b)} \")"
   ]
  },
  {
   "cell_type": "code",
   "execution_count": 168,
   "id": "1116deab-1666-4b15-a63e-777ebe9db3c1",
   "metadata": {},
   "outputs": [],
   "source": [
    "#7.Write a recursive Python function to reverse a string."
   ]
  },
  {
   "cell_type": "code",
   "execution_count": 169,
   "id": "ece981ac-0800-4e8c-a4ac-d329bc5cc985",
   "metadata": {},
   "outputs": [
    {
     "name": "stdout",
     "output_type": "stream",
     "text": [
      "Original string : Write a program\n",
      "Reversed string : margorp a etirW\n"
     ]
    }
   ],
   "source": [
    "def reverse_string(str):\n",
    "    if str == '':\n",
    "        return ''\n",
    "    else :\n",
    "        return reverse_string(str[1:]) + str[0]\n",
    "\n",
    "string = \"Write a program\"\n",
    "print(f\"Original string : {string}\")\n",
    "print(f\"Reversed string : {reverse_string(string)}\")"
   ]
  },
  {
   "cell_type": "code",
   "execution_count": 170,
   "id": "f7a6398e-81d5-4405-b667-ad8692c9e25c",
   "metadata": {},
   "outputs": [],
   "source": [
    "#8.Create a recursive Python function to calculate the power of a number(x^n)."
   ]
  },
  {
   "cell_type": "code",
   "execution_count": 171,
   "id": "7a2c49a1-80fe-4825-b2c8-c78b853963d4",
   "metadata": {},
   "outputs": [
    {
     "name": "stdout",
     "output_type": "stream",
     "text": [
      "3 raised to the power 5 is : 243\n"
     ]
    }
   ],
   "source": [
    "def power(x, n):\n",
    "    if n == 0 :\n",
    "        return 1 \n",
    "    else :\n",
    "        return x*power(x, n-1)\n",
    "a = 3\n",
    "b = 5\n",
    "value = power(a, b)\n",
    "print(f\"{a} raised to the power {b} is : {value}\")"
   ]
  },
  {
   "cell_type": "code",
   "execution_count": 172,
   "id": "9d5f6e3d-0aaf-4dfa-9174-1fb3b4e4a52c",
   "metadata": {},
   "outputs": [],
   "source": [
    "#9.Write a recursive Python function to find all permutations of a given string."
   ]
  },
  {
   "cell_type": "code",
   "execution_count": 173,
   "id": "829b8724-54d6-494b-a555-521644c0912c",
   "metadata": {},
   "outputs": [
    {
     "name": "stdout",
     "output_type": "stream",
     "text": [
      "Permutations of abc are :\n",
      "['abc', 'acb', 'bac', 'bca', 'cab', 'cba']\n"
     ]
    }
   ],
   "source": [
    "def get_permutations(s):\n",
    "    if len(s) <= 1:\n",
    "        return [s]\n",
    "    permutations = []\n",
    "    for i in range(len(s)):\n",
    "        current_char = s[i]\n",
    "        remaining_chars = s[:i] + s[i+1:]\n",
    "        for p in get_permutations(remaining_chars):\n",
    "            permutations.append(current_char + p)\n",
    "            \n",
    "    return permutations\n",
    "\n",
    "string = \"abc\"\n",
    "print(f\"Permutations of {string} are :\")\n",
    "print(get_permutations(string))"
   ]
  },
  {
   "cell_type": "code",
   "execution_count": 174,
   "id": "a6ae1232-298d-44d6-83d2-764a6ab93e09",
   "metadata": {},
   "outputs": [],
   "source": [
    "#10.Write a recursive Python function to check if a string is a palindrome."
   ]
  },
  {
   "cell_type": "code",
   "execution_count": 175,
   "id": "c36e4829-4ede-44de-977d-94ccbe1281a9",
   "metadata": {},
   "outputs": [
    {
     "name": "stdout",
     "output_type": "stream",
     "text": [
      " 'radar' is a palindrome\n"
     ]
    }
   ],
   "source": [
    "def is_palindrome(s):\n",
    "    if len(s) <= 1 :\n",
    "        return True\n",
    "    if s[0] != s[-1] :\n",
    "        return False\n",
    "    return is_palindrome(s[1:-1])\n",
    "test_string = \"radar\"\n",
    "if is_palindrome(test_string):\n",
    "    print(f\" '{test_string}' is a palindrome\")"
   ]
  },
  {
   "cell_type": "code",
   "execution_count": 176,
   "id": "b26171d9-41ea-4672-a5f2-92f525469825",
   "metadata": {},
   "outputs": [],
   "source": [
    "#11.Create a recursive Python function to generate all possible combinations of a list of elements."
   ]
  },
  {
   "cell_type": "code",
   "execution_count": 177,
   "id": "b3342284-c7cc-4cde-a730-461d8c67f8b6",
   "metadata": {},
   "outputs": [
    {
     "name": "stdout",
     "output_type": "stream",
     "text": [
      "Combinations of [1, 2, 3] are:\n",
      "[[], [3], [2], [3, 2], [1], [3, 1], [2, 1], [3, 2, 1]]\n"
     ]
    }
   ],
   "source": [
    "def combinations(lst):\n",
    "    if not lst:\n",
    "        return [[]]\n",
    "    first_elem = lst[0]\n",
    "    sub_combinations = combinations(lst[1:])\n",
    "    next_combinations = [comb + [first_elem] for comb in sub_combinations]\n",
    "    \n",
    "    return sub_combinations + next_combinations\n",
    "elements = [1, 2, 3]\n",
    "print(f\"Combinations of {elements} are:\")\n",
    "print(combinations(elements))"
   ]
  },
  {
   "cell_type": "code",
   "execution_count": null,
   "id": "346c1497-1b07-4d35-ae7c-6f89d5842fb9",
   "metadata": {},
   "outputs": [],
   "source": [
    "Basics of Functions :-"
   ]
  },
  {
   "cell_type": "code",
   "execution_count": 180,
   "id": "3ab376f8-99ea-4390-ae0f-10bf7de3a75d",
   "metadata": {},
   "outputs": [],
   "source": [
    "#1.What iis a function in Python, and why is it used?"
   ]
  },
  {
   "cell_type": "code",
   "execution_count": null,
   "id": "b1f4c290-d886-458f-8271-4b4309015445",
   "metadata": {},
   "outputs": [],
   "source": [
    "'''\n",
    "A function in python is a block of organized, reusable code that \n",
    "performs a specific task or set of tasks.\n",
    "Functions help in breaking down larger programs into smaller,\n",
    "modular chunks, making them easier to manage, debug, and understand.\n",
    "'''"
   ]
  },
  {
   "cell_type": "code",
   "execution_count": 181,
   "id": "6c550576-52fb-4a1c-b3f1-efad01973a16",
   "metadata": {},
   "outputs": [],
   "source": [
    "#2.How do you define a function in Python? Provide an example."
   ]
  },
  {
   "cell_type": "code",
   "execution_count": 182,
   "id": "b5f3b03f-8c98-4b71-9888-077cd619ebf9",
   "metadata": {},
   "outputs": [
    {
     "name": "stdout",
     "output_type": "stream",
     "text": [
      "function in python!\n"
     ]
    }
   ],
   "source": [
    "'''\n",
    "function is always defined with 'def' keyword followed by the name \n",
    "of the function along with list of arguments in the parenthesis.\n",
    "arguments is optional we can pass based on our requirement.\n",
    "\n",
    "General syntax : def name_if_function(arguments):\n",
    "'''\n",
    "def greet():\n",
    "    print(\"function in python!\")\n",
    "    \n",
    "greet()"
   ]
  },
  {
   "cell_type": "code",
   "execution_count": 183,
   "id": "8cc38911-8a30-4831-a449-893af8dd109b",
   "metadata": {},
   "outputs": [],
   "source": [
    "#3.Explain the difference between a function definition and a function call."
   ]
  },
  {
   "cell_type": "code",
   "execution_count": 184,
   "id": "e72c6973-10d2-4986-8db8-929fbf110a59",
   "metadata": {},
   "outputs": [
    {
     "name": "stdout",
     "output_type": "stream",
     "text": [
      "8\n"
     ]
    }
   ],
   "source": [
    "'''\n",
    "function definition : used to write the block of the code.\n",
    "function call: used to execute the block of the code which is defined in function definition.\n",
    "'''\n",
    "def add(a, b):\n",
    "    return a+b\n",
    "\n",
    "sum_result = add(2,6)\n",
    "print(sum_result)  #output : 8"
   ]
  },
  {
   "cell_type": "code",
   "execution_count": 185,
   "id": "cf1e9557-736d-4b09-93a9-6b37a39359ae",
   "metadata": {},
   "outputs": [],
   "source": [
    "#4.Write a Python program that defines a function to calculate the sum of two numbers and then calls the function."
   ]
  },
  {
   "cell_type": "code",
   "execution_count": 186,
   "id": "f131b1f0-8778-4b7a-bbb9-1d71ec713c3c",
   "metadata": {},
   "outputs": [
    {
     "name": "stdout",
     "output_type": "stream",
     "text": [
      "The sum of two numbers : 22\n"
     ]
    }
   ],
   "source": [
    "def add_num(a, b):\n",
    "    return a+b\n",
    "\n",
    "sum_of_two_num = add_num(12,10)\n",
    "print(f\"The sum of two numbers : {sum_of_two_num}\")"
   ]
  },
  {
   "cell_type": "code",
   "execution_count": 187,
   "id": "9e9318d4-0656-4fb0-b65a-d43442eaaffd",
   "metadata": {},
   "outputs": [],
   "source": [
    "#5.What is a function signature, and what information does it typically include?"
   ]
  },
  {
   "cell_type": "code",
   "execution_count": 188,
   "id": "075efbc0-86af-4ca2-8aae-e49f6ad5903e",
   "metadata": {},
   "outputs": [
    {
     "data": {
      "text/plain": [
       "3"
      ]
     },
     "execution_count": 188,
     "metadata": {},
     "output_type": "execute_result"
    }
   ],
   "source": [
    "'''\n",
    "A function signature defines the interface through which a function can be called.\n",
    "It provides essential details about the function, \n",
    "allowing users (and tools like type checkers or IDEs) to understand how to invoke the function correctly.\n",
    "\n",
    "A function signature typically includes :\n",
    "Function Name, Parameters (or arguments), Return type, Modifiers\n",
    "'''\n",
    "def add_func(a : int , b : int = 5) -> int :\n",
    "    return a + b\n",
    "\n",
    "add_func(2,1)"
   ]
  },
  {
   "cell_type": "code",
   "execution_count": 189,
   "id": "9e801216-72bd-46a5-ba38-0061a078afa4",
   "metadata": {},
   "outputs": [],
   "source": [
    "#6.Create a Python function that takes two arguments and returns their product."
   ]
  },
  {
   "cell_type": "code",
   "execution_count": 190,
   "id": "e5c82574-4edf-44ab-a70a-39acb7b4442e",
   "metadata": {},
   "outputs": [
    {
     "name": "stdout",
     "output_type": "stream",
     "text": [
      "Product of 6 and 3 : 18\n"
     ]
    }
   ],
   "source": [
    "def product_func(a,b):\n",
    "    return a*b\n",
    "\n",
    "result = product_func(6,3)\n",
    "print(f\"Product of {6} and {3} : {result}\")"
   ]
  },
  {
   "cell_type": "code",
   "execution_count": null,
   "id": "2149077e-aaa6-4dab-b4d9-688db4ca1536",
   "metadata": {},
   "outputs": [],
   "source": [
    "Function Parameters and Arguments :-"
   ]
  },
  {
   "cell_type": "code",
   "execution_count": 191,
   "id": "995a2677-aa57-4c4f-96a4-15f74f3e77d0",
   "metadata": {},
   "outputs": [],
   "source": [
    "#1.Explain the concepts of formal parameters and actual arguments in Python functions."
   ]
  },
  {
   "cell_type": "code",
   "execution_count": 192,
   "id": "b8acf6e6-1cc1-4fb2-92d3-c841185eaf54",
   "metadata": {},
   "outputs": [
    {
     "name": "stdout",
     "output_type": "stream",
     "text": [
      "hello Durga, you are 29 years old.\n"
     ]
    }
   ],
   "source": [
    "'''\n",
    "formal parameters : variables or placeholders defined in the function definition.\n",
    "formal parameters, often simply called \"parameters\" , are the variables that are defined  in a function's declaration.\n",
    "actual parameters : variables which are passed during function call.\n",
    "'''\n",
    "def greet(name, age):\n",
    "    #here, name and age are formal parameters.\n",
    "    print(f\"hello {name}, you are {age} years old.\")\n",
    "    \n",
    "# Actual arguments, often just called \"arguments,\" are the specific values or references that are passed to a function when it is called. \n",
    "#These values are then matched with the function's formal parameters, and the function is executed with these values.\n",
    "\n",
    "greet(\"Durga\", 29) # here, \"Durga\" and 29 are actual arguments."
   ]
  },
  {
   "cell_type": "code",
   "execution_count": 193,
   "id": "1ee9ae69-e4c1-48ff-a61d-131db51f8de0",
   "metadata": {},
   "outputs": [],
   "source": [
    "#2.Write a Python program that defines a function with default argument values."
   ]
  },
  {
   "cell_type": "code",
   "execution_count": 194,
   "id": "68563222-57ca-4a31-b56d-da16bc6c6232",
   "metadata": {},
   "outputs": [
    {
     "name": "stdout",
     "output_type": "stream",
     "text": [
      "Hello, User!\n",
      "Hello, Alice!\n",
      "Welcome, Bob!\n",
      "Hi, User!\n"
     ]
    }
   ],
   "source": [
    "def greet(name=\"User\", message=\"Hello\"):\n",
    "    print(f\"{message}, {name}!\")\n",
    "\n",
    "# Test the function with different scenarios:\n",
    "\n",
    "# Use both default values\n",
    "greet()  # Output: Hello, User!\n",
    "\n",
    "# Provide only the name argument, use default message\n",
    "greet(\"Alice\")  # Output: Hello, Alice!\n",
    "\n",
    "# Provide both arguments, overriding defaults\n",
    "greet(\"Bob\", \"Welcome\")  # Output: Welcome, Bob!\n",
    "\n",
    "# Provide only the message argument, use default name\n",
    "greet(message=\"Hi\")  # Output: Hi, User!"
   ]
  },
  {
   "cell_type": "code",
   "execution_count": 195,
   "id": "497291e2-e7c0-479b-ac4e-e7d8a82104c2",
   "metadata": {},
   "outputs": [],
   "source": [
    "#3.How do you use keyword arguments in Python function calls? Provide an example."
   ]
  },
  {
   "cell_type": "code",
   "execution_count": 196,
   "id": "5f394d4d-31eb-4219-b89f-904646d1dc38",
   "metadata": {},
   "outputs": [
    {
     "name": "stdout",
     "output_type": "stream",
     "text": [
      "{'City': 'USA', 'age': 24, 'message': 'gm'}\n"
     ]
    }
   ],
   "source": [
    "'''\n",
    "use**symbol followed by name of the parameter in function definition.\n",
    "\n",
    "Example :\n",
    "'''\n",
    "def key_fun(**elements):\n",
    "    print(elements)\n",
    "    \n",
    "key_fun(City = 'USA', age = 24, message = 'gm')"
   ]
  },
  {
   "cell_type": "code",
   "execution_count": 197,
   "id": "dcf0ac21-bc94-4d89-8a60-3b9ef3ccf9ea",
   "metadata": {},
   "outputs": [],
   "source": [
    "#4.Create a Python Function that accepts a variable number of arguments and calculates their sum."
   ]
  },
  {
   "cell_type": "code",
   "execution_count": 198,
   "id": "56b65f88-1100-41d8-bd1d-ce9445b0be82",
   "metadata": {},
   "outputs": [
    {
     "name": "stdout",
     "output_type": "stream",
     "text": [
      "Sum of elements is : 13\n"
     ]
    }
   ],
   "source": [
    "def sum_var(*elements):\n",
    "    return sum(elements)\n",
    "\n",
    "n = sum_var(1,3,4,1,4)\n",
    "print(f\"Sum of elements is : {n}\")"
   ]
  },
  {
   "cell_type": "code",
   "execution_count": 199,
   "id": "fe50117c-c45a-4e8c-805c-6e91224f202b",
   "metadata": {},
   "outputs": [],
   "source": [
    "#5.What is the purpose of the '*args' and '**kwargs' syntax in function parameter lists?"
   ]
  },
  {
   "cell_type": "code",
   "execution_count": 200,
   "id": "8cf7eb26-3d2d-4e12-9517-971097b8ec53",
   "metadata": {},
   "outputs": [
    {
     "name": "stdout",
     "output_type": "stream",
     "text": [
      "(1, 2, 3)\n",
      "{'a': 4, 'b': 5}\n"
     ]
    }
   ],
   "source": [
    "'''\n",
    "'*args' : used to pass the variable number of arguments. if we use *args in function definition, we are\n",
    "allowed to pass variable arguments in function call.\n",
    "'**kwargs' : used to pass the keyword argument(key-value pairs) in functions.\n",
    "\n",
    "*args syntax allows a function to accept a variable number of positional arguments, \n",
    "while **kwargs allows a function to accept a variable number of keyword (named).\n",
    "'''\n",
    "def example_function(*args, **kwargs):\n",
    "    print(args)  # tuple of positional arguments\n",
    "    print(kwargs)  # dictionary of keyword arguments\n",
    "\n",
    "example_function(1, 2, 3, a=4, b=5)  # Outputs: (1, 2, 3)  {'a': 4, 'b': 5}"
   ]
  },
  {
   "cell_type": "code",
   "execution_count": null,
   "id": "8c39397c-16bb-4509-90ca-e39c1a6fdf01",
   "metadata": {},
   "outputs": [],
   "source": [
    "Return Values and Scoping :-"
   ]
  },
  {
   "cell_type": "code",
   "execution_count": 201,
   "id": "7198fd6e-9f48-4182-9034-068e0bde6b34",
   "metadata": {},
   "outputs": [],
   "source": [
    "#1.Describe the role of the 'return' statement in Python functions and provide examples."
   ]
  },
  {
   "cell_type": "code",
   "execution_count": 202,
   "id": "225429de-7ce3-4491-826d-8139a1630603",
   "metadata": {},
   "outputs": [
    {
     "name": "stdout",
     "output_type": "stream",
     "text": [
      "Addition of two number : 7\n"
     ]
    }
   ],
   "source": [
    "'''\n",
    "return : used to provide the output of the functions and it will be processed further in the program.\n",
    "The return statement in python functions is used to send a result back to the caller and terminate the function's execution.\n",
    "\n",
    "Example :\n",
    "'''\n",
    "def add(a, b):\n",
    "    return a+b\n",
    "\n",
    "result = add(2,5) # result will be assigned the value 7\n",
    "print(f\"Addition of two number : {result}\")  "
   ]
  },
  {
   "cell_type": "code",
   "execution_count": 203,
   "id": "eb6a8e81-00aa-45f0-9739-d387097f4383",
   "metadata": {},
   "outputs": [],
   "source": [
    "#2.Explain the concept of variable scope in Python, including local and global variables."
   ]
  },
  {
   "cell_type": "code",
   "execution_count": 204,
   "id": "cb9914cc-aa68-43fd-9be2-5dcd8ad2f810",
   "metadata": {},
   "outputs": [
    {
     "name": "stdout",
     "output_type": "stream",
     "text": [
      "4\n",
      "10\n"
     ]
    }
   ],
   "source": [
    "'''\n",
    "In python, the 'variable scope' defines the accessibility of the variables with in the program.\n",
    "\n",
    "'local' variables are defined within a function and only accessible inside it.\n",
    "example, variables defined in the functions.\n",
    "\n",
    "while 'global' variables are defined outside any function and are accessible throughout the module.\n",
    "'''\n",
    "a = 10   # global variable \n",
    "\n",
    "def example_func():\n",
    "    b = 4     # local variable\n",
    "    print(b)\n",
    "    \n",
    "example_func()  # output : 4\n",
    "print(a)    # output : 10"
   ]
  },
  {
   "cell_type": "code",
   "execution_count": 205,
   "id": "2bbf810c-5697-4018-a990-1ebedd7eff9f",
   "metadata": {},
   "outputs": [],
   "source": [
    "#3.Write a Python program that demonstrates the use of global variables within functions."
   ]
  },
  {
   "cell_type": "code",
   "execution_count": 206,
   "id": "861898d3-ed45-4b6e-9c7c-6e9ccffb23e1",
   "metadata": {},
   "outputs": [
    {
     "name": "stdout",
     "output_type": "stream",
     "text": [
      "value inside the function : 3\n",
      "value of global_a outside function : 5\n"
     ]
    }
   ],
   "source": [
    "global_a  = 5 # global variable \n",
    "\n",
    "def func():\n",
    "    global_a = 3 # Declare 'global_a' as a global variable to modify it\n",
    "    print(f\"value inside the function : {global_a}\")\n",
    "    \n",
    "func()\n",
    "print(f\"value of global_a outside function : {global_a}\")"
   ]
  },
  {
   "cell_type": "code",
   "execution_count": 207,
   "id": "201c4317-1f7f-4ac8-b95b-a7e53dd0e03e",
   "metadata": {},
   "outputs": [],
   "source": [
    "#4.Create a Python function that calculates the factorial of a number and returns it."
   ]
  },
  {
   "cell_type": "code",
   "execution_count": 208,
   "id": "7cbf457e-73cb-4071-a8ca-d39930e1adc6",
   "metadata": {},
   "outputs": [
    {
     "name": "stdout",
     "output_type": "stream",
     "text": [
      "Factorial of 7 is : 5040\n"
     ]
    }
   ],
   "source": [
    "def fact(n):\n",
    "    fact = 1\n",
    "    if n <= 1:\n",
    "        return 1\n",
    "    for i in range(1, n+1):\n",
    "        fact = fact * i \n",
    "    \n",
    "    return fact\n",
    "\n",
    "number = 7\n",
    "print(f\"Factorial of {number} is : {fact(number)}\")"
   ]
  },
  {
   "cell_type": "code",
   "execution_count": 209,
   "id": "4cbe4e14-afc9-4064-bc39-c5411320a19d",
   "metadata": {},
   "outputs": [],
   "source": [
    "#5.How can you access variables defined outside a function from within the function?"
   ]
  },
  {
   "cell_type": "code",
   "execution_count": 210,
   "id": "6df450d2-d674-4e54-bdbd-b77f13392524",
   "metadata": {},
   "outputs": [
    {
     "name": "stdout",
     "output_type": "stream",
     "text": [
      "I'm a global variable\n",
      "Modified global variable\n"
     ]
    }
   ],
   "source": [
    "# Global variable\n",
    "var = \"I'm a global variable\"\n",
    "\n",
    "def display_var():\n",
    "    # Directly referencing the global variable to read its value\n",
    "    print(var)\n",
    "\n",
    "def modify_var():\n",
    "    global var  # Declare 'var' as global to modify it\n",
    "    var = \"Modified global variable\"\n",
    "\n",
    "display_var()  # Outputs: I'm a global variable\n",
    "modify_var()\n",
    "display_var()  # Outputs: Modified global variable"
   ]
  },
  {
   "cell_type": "code",
   "execution_count": null,
   "id": "ad468e4f-1de6-47af-b683-44789e085098",
   "metadata": {},
   "outputs": [],
   "source": [
    "Lambda Functions and Higher-Order Functions :-"
   ]
  },
  {
   "cell_type": "code",
   "execution_count": 212,
   "id": "42d32524-7e4b-4191-b1de-d891928aba1c",
   "metadata": {},
   "outputs": [],
   "source": [
    "#1.What are lambda functions in Python, and when are they typically used?"
   ]
  },
  {
   "cell_type": "code",
   "execution_count": 213,
   "id": "a1c20f1b-658a-4c5d-a43d-2ff31dba1181",
   "metadata": {},
   "outputs": [
    {
     "name": "stdout",
     "output_type": "stream",
     "text": [
      "25\n"
     ]
    }
   ],
   "source": [
    "'''\n",
    "Lambda functions in Python are small, anonymous, one-liner functions defined using the lambda keyword, typically used for short, simple \n",
    "operations on any iterables and no need to define function seperately.\n",
    "'''\n",
    "square = lambda x: x ** 2\n",
    "print(square(5)) "
   ]
  },
  {
   "cell_type": "code",
   "execution_count": 214,
   "id": "71d32765-5ca8-4166-a763-236e7ae80f29",
   "metadata": {},
   "outputs": [],
   "source": [
    "#2.Write a Python program that uses lambda functions to sort a list of tuples based on the second element."
   ]
  },
  {
   "cell_type": "code",
   "execution_count": 215,
   "id": "c7c09769-da1c-4bf7-b170-635fa81104f8",
   "metadata": {},
   "outputs": [
    {
     "name": "stdout",
     "output_type": "stream",
     "text": [
      "Original list : [(1, 2), (3, 4), (5, 1), (3, 10)]\n",
      "Sorted list : [(5, 1), (1, 2), (3, 4), (3, 10)]\n"
     ]
    }
   ],
   "source": [
    "tuples_list = [(1,2) , (3,4) , (5,1) , (3, 10)]\n",
    "sorted_list = sorted(tuples_list , key = lambda x : x[1])\n",
    "print(f\"Original list : {tuples_list}\")\n",
    "print(f\"Sorted list : {sorted_list}\")"
   ]
  },
  {
   "cell_type": "code",
   "execution_count": 216,
   "id": "5759e206-405c-4085-9fe3-cc74c7de5969",
   "metadata": {},
   "outputs": [],
   "source": [
    "#3.Explain the concept of higher-order functions in Python, and provide an example."
   ]
  },
  {
   "cell_type": "code",
   "execution_count": 217,
   "id": "2c0f7bd6-577d-4568-9c17-7732453e7ea7",
   "metadata": {},
   "outputs": [
    {
     "data": {
      "text/plain": [
       "4"
      ]
     },
     "execution_count": 217,
     "metadata": {},
     "output_type": "execute_result"
    }
   ],
   "source": [
    "'''\n",
    "function which can accepts other functions as arguments and can return result as function is called higher-order functions.\n",
    "\n",
    "Example :\n",
    "'''\n",
    "def multiply(sum_n, x):\n",
    "    return sum_n(x)\n",
    "\n",
    "def sum_num(l):\n",
    "    return max(l)\n",
    "\n",
    "multiply(sum_num, [2,4,1])"
   ]
  },
  {
   "cell_type": "code",
   "execution_count": 219,
   "id": "d5e273bd-be7c-4e76-b19a-72fe9467bb96",
   "metadata": {},
   "outputs": [],
   "source": [
    "#4.Create a Python function that takes a list of numbers and a function as arguments, applying the function to each element in the list."
   ]
  },
  {
   "cell_type": "code",
   "execution_count": 220,
   "id": "4ac24e7b-3d3b-4631-ac06-a34209305254",
   "metadata": {},
   "outputs": [
    {
     "data": {
      "text/plain": [
       "[28, 88]"
      ]
     },
     "execution_count": 220,
     "metadata": {},
     "output_type": "execute_result"
    }
   ],
   "source": [
    "l = [ 28, 11, 23, 11, 88]\n",
    "\n",
    "def even_number(l):\n",
    "    list_element = []\n",
    "    for i  in l :\n",
    "        if i%2 == 0:\n",
    "            list_element.append(i)\n",
    "    return list_element\n",
    "\n",
    "a = lambda x : even_number(x)\n",
    "a(l)"
   ]
  },
  {
   "cell_type": "code",
   "execution_count": null,
   "id": "8b5cd107-1f57-4e14-959a-5f3d0ee459a4",
   "metadata": {},
   "outputs": [],
   "source": [
    "Built-in Functions :-"
   ]
  },
  {
   "cell_type": "code",
   "execution_count": 221,
   "id": "339d913c-8095-4f8d-a8a4-c24ff80fe5b5",
   "metadata": {},
   "outputs": [],
   "source": [
    "#1.Describe the role of built-in functions like 'len()','max()' and 'min()' in Python."
   ]
  },
  {
   "cell_type": "code",
   "execution_count": 222,
   "id": "9b04294c-81f8-43b2-8110-bc1227970353",
   "metadata": {},
   "outputs": [
    {
     "name": "stdout",
     "output_type": "stream",
     "text": [
      "List: [4, 15, 9, 1, 12]\n",
      "Length of the list: 5\n",
      "Largest number: 15\n",
      "Smallest number: 1\n"
     ]
    }
   ],
   "source": [
    "'''In Python, len() returns the number of items in an object,\n",
    "while max() and min() return the largest and smallest values \n",
    "from an iterable or set of arguments, respectively.\n",
    "'''\n",
    "\n",
    "numbers = [4, 15, 9, 1, 12]\n",
    "length = len(numbers)  # Get the number of items in the list\n",
    "largest = max(numbers)  # Get the largest number in the list\n",
    "smallest = min(numbers)  # Get the smallest number in the list\n",
    "\n",
    "print(f\"List: {numbers}\")\n",
    "print(f\"Length of the list: {length}\")\n",
    "print(f\"Largest number: {largest}\")\n",
    "print(f\"Smallest number: {smallest}\")"
   ]
  },
  {
   "cell_type": "code",
   "execution_count": 224,
   "id": "db706d65-f0f8-400f-a3ec-8e36f55aece4",
   "metadata": {},
   "outputs": [],
   "source": [
    "#2.Write a Python program that uses the 'map()' function to apply a function to each element of a list."
   ]
  },
  {
   "cell_type": "code",
   "execution_count": 225,
   "id": "f30c114f-0f78-4108-949b-fc48a56751d5",
   "metadata": {},
   "outputs": [
    {
     "name": "stdout",
     "output_type": "stream",
     "text": [
      "old list : [1, 2, 3, 4, 5, 6]\n",
      "list of squares : [1, 4, 9, 16, 25, 36]\n"
     ]
    }
   ],
   "source": [
    "l = [1, 2, 3, 4, 5, 6]\n",
    "print(f\"old list : {l}\")\n",
    "\n",
    "def square_func(x):\n",
    "    return x**2\n",
    "\n",
    "list_sq = list(map(square_func, l))\n",
    "print(f\"list of squares : {list_sq}\")"
   ]
  },
  {
   "cell_type": "code",
   "execution_count": null,
   "id": "a9ddee1b-de25-41ba-8fb9-8c3bd91a7a52",
   "metadata": {},
   "outputs": [],
   "source": [
    "\n",
    "3.How does the 'filter()' function work in Python, and when would you use it?"
   ]
  }
 ],
 "metadata": {
  "kernelspec": {
   "display_name": "Python 3 (ipykernel)",
   "language": "python",
   "name": "python3"
  },
  "language_info": {
   "codemirror_mode": {
    "name": "ipython",
    "version": 3
   },
   "file_extension": ".py",
   "mimetype": "text/x-python",
   "name": "python",
   "nbconvert_exporter": "python",
   "pygments_lexer": "ipython3",
   "version": "3.10.8"
  }
 },
 "nbformat": 4,
 "nbformat_minor": 5
}
